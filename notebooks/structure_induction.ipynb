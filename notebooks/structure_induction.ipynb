{
 "cells": [
  {
   "cell_type": "code",
   "execution_count": 1,
   "metadata": {},
   "outputs": [],
   "source": [
    "import os\n",
    "os.chdir('..')"
   ]
  },
  {
   "cell_type": "code",
   "execution_count": 2,
   "metadata": {},
   "outputs": [
    {
     "name": "stderr",
     "output_type": "stream",
     "text": [
      "/usr/lib64/python3.6/importlib/_bootstrap.py:205: RuntimeWarning: compiletime version 3.5 of module 'tensorflow.python.framework.fast_tensor_util' does not match runtime version 3.6\n",
      "  return f(*args, **kwds)\n"
     ]
    },
    {
     "data": {},
     "metadata": {},
     "output_type": "display_data"
    },
    {
     "data": {
      "text/html": [
       "\n",
       "<script src=\"https://code.jquery.com/ui/1.10.4/jquery-ui.min.js\" type=\"text/javascript\"></script>\n",
       "<script type=\"text/javascript\">function HoloViewsWidget(){\n",
       "}\n",
       "\n",
       "HoloViewsWidget.comms = {};\n",
       "HoloViewsWidget.comm_state = {};\n",
       "\n",
       "HoloViewsWidget.prototype.init_slider = function(init_val){\n",
       "  if(this.load_json) {\n",
       "    this.from_json()\n",
       "  } else {\n",
       "    this.update_cache();\n",
       "  }\n",
       "}\n",
       "\n",
       "HoloViewsWidget.prototype.populate_cache = function(idx){\n",
       "  this.cache[idx].html(this.frames[idx]);\n",
       "  if (this.embed) {\n",
       "    delete this.frames[idx];\n",
       "  }\n",
       "}\n",
       "\n",
       "HoloViewsWidget.prototype.process_error = function(msg){\n",
       "\n",
       "}\n",
       "\n",
       "HoloViewsWidget.prototype.from_json = function() {\n",
       "  var data_url = this.json_path + this.id + '.json';\n",
       "  $.getJSON(data_url, $.proxy(function(json_data) {\n",
       "    this.frames = json_data;\n",
       "    this.update_cache();\n",
       "    this.update(0);\n",
       "  }, this));\n",
       "}\n",
       "\n",
       "HoloViewsWidget.prototype.dynamic_update = function(current){\n",
       "  if (current === undefined) {\n",
       "    return\n",
       "  }\n",
       "  if(this.dynamic) {\n",
       "    current = JSON.stringify(current);\n",
       "  }\n",
       "  function callback(initialized, msg){\n",
       "    /* This callback receives data from Python as a string\n",
       "       in order to parse it correctly quotes are sliced off*/\n",
       "    if (msg.content.ename != undefined) {\n",
       "      this.process_error(msg);\n",
       "    }\n",
       "    if (msg.msg_type != \"execute_result\") {\n",
       "      console.log(\"Warning: HoloViews callback returned unexpected data for key: (\", current, \") with the following content:\", msg.content)\n",
       "    } else {\n",
       "      if (msg.content.data['text/plain'].includes('Complete')) {\n",
       "        if (this.queue.length > 0) {\n",
       "          this.time = Date.now();\n",
       "          this.dynamic_update(this.queue[this.queue.length-1]);\n",
       "          this.queue = [];\n",
       "        } else {\n",
       "          this.wait = false;\n",
       "        }\n",
       "        return\n",
       "      }\n",
       "    }\n",
       "  }\n",
       "  this.current = current;\n",
       "  if ((window.Jupyter !== undefined) && (Jupyter.notebook.kernel != null)) {\n",
       "    var kernel = Jupyter.notebook.kernel;\n",
       "    callbacks = {iopub: {output: $.proxy(callback, this, this.initialized)}};\n",
       "    var cmd = \"holoviews.plotting.widgets.NdWidget.widgets['\" + this.id + \"'].update(\" + current + \")\";\n",
       "    kernel.execute(\"import holoviews;\" + cmd, callbacks, {silent : false});\n",
       "  }\n",
       "}\n",
       "\n",
       "HoloViewsWidget.prototype.update_cache = function(force){\n",
       "  var frame_len = Object.keys(this.frames).length;\n",
       "  for (var i=0; i<frame_len; i++) {\n",
       "    if(!this.load_json || this.dynamic)  {\n",
       "      frame = Object.keys(this.frames)[i];\n",
       "    } else {\n",
       "      frame = i;\n",
       "    }\n",
       "    if(!(frame in this.cache) || force) {\n",
       "      if ((frame in this.cache) && force) { this.cache[frame].remove() }\n",
       "      this.cache[frame] = $('<div />').appendTo(\"#\"+\"_anim_img\"+this.id).hide();\n",
       "      var cache_id = \"_anim_img\"+this.id+\"_\"+frame;\n",
       "      this.cache[frame].attr(\"id\", cache_id);\n",
       "      this.populate_cache(frame);\n",
       "    }\n",
       "  }\n",
       "}\n",
       "\n",
       "HoloViewsWidget.prototype.update = function(current){\n",
       "  if(current in this.cache) {\n",
       "    $.each(this.cache, function(index, value) {\n",
       "      value.hide();\n",
       "    });\n",
       "    this.cache[current].show();\n",
       "    this.wait = false;\n",
       "  }\n",
       "}\n",
       "\n",
       "HoloViewsWidget.prototype.init_comms = function() {\n",
       "  if ((window.Jupyter !== undefined) && (Jupyter.notebook.kernel !== undefined)) {\n",
       "    var widget = this;\n",
       "    comm_manager = Jupyter.notebook.kernel.comm_manager;\n",
       "    comm_manager.register_target(this.id, function (comm) {\n",
       "      comm.on_msg(function (msg) { widget.process_msg(msg) });\n",
       "    });\n",
       "  }\n",
       "}\n",
       "\n",
       "HoloViewsWidget.prototype.process_msg = function(msg) {\n",
       "}\n",
       "\n",
       "function SelectionWidget(frames, id, slider_ids, keyMap, dim_vals, notFound, load_json, mode, cached, json_path, dynamic){\n",
       "  this.frames = frames;\n",
       "  this.id = id;\n",
       "  this.slider_ids = slider_ids;\n",
       "  this.keyMap = keyMap\n",
       "  this.current_frame = 0;\n",
       "  this.current_vals = dim_vals;\n",
       "  this.load_json = load_json;\n",
       "  this.mode = mode;\n",
       "  this.notFound = notFound;\n",
       "  this.cached = cached;\n",
       "  this.dynamic = dynamic;\n",
       "  this.cache = {};\n",
       "  this.json_path = json_path;\n",
       "  this.init_slider(this.current_vals[0]);\n",
       "  this.queue = [];\n",
       "  this.wait = false;\n",
       "  if (!this.cached || this.dynamic) {\n",
       "    this.init_comms()\n",
       "  }\n",
       "}\n",
       "\n",
       "SelectionWidget.prototype = new HoloViewsWidget;\n",
       "\n",
       "\n",
       "SelectionWidget.prototype.get_key = function(current_vals) {\n",
       "  var key = \"(\";\n",
       "  for (var i=0; i<this.slider_ids.length; i++)\n",
       "  {\n",
       "    val = this.current_vals[i];\n",
       "    if (!(typeof val === 'string')) {\n",
       "      if (val % 1 === 0) { val = val.toFixed(1); }\n",
       "      else { val = val.toFixed(10); val = val.slice(0, val.length-1);}\n",
       "    }\n",
       "    key += \"'\" + val + \"'\";\n",
       "    if(i != this.slider_ids.length-1) { key += ', ';}\n",
       "    else if(this.slider_ids.length == 1) { key += ',';}\n",
       "  }\n",
       "  key += \")\";\n",
       "  return this.keyMap[key];\n",
       "}\n",
       "\n",
       "SelectionWidget.prototype.set_frame = function(dim_val, dim_idx){\n",
       "  this.current_vals[dim_idx] = dim_val;\n",
       "  var key = this.current_vals;\n",
       "  if (!this.dynamic) {\n",
       "    key = this.get_key(key)\n",
       "  }\n",
       "  if (this.dynamic || !this.cached) {\n",
       "    if ((this.time !== undefined) && ((this.wait) && ((this.time + 10000) > Date.now()))) {\n",
       "      this.queue.push(key);\n",
       "      return\n",
       "    }\n",
       "    this.queue = [];\n",
       "    this.time = Date.now();\n",
       "    this.current_frame = key;\n",
       "    this.wait = true;\n",
       "    this.dynamic_update(key)\n",
       "  } else if (key !== undefined) {\n",
       "    this.update(key)\n",
       "  }\n",
       "}\n",
       "\n",
       "\n",
       "/* Define the ScrubberWidget class */\n",
       "function ScrubberWidget(frames, num_frames, id, interval, load_json, mode, cached, json_path, dynamic){\n",
       "  this.slider_id = \"_anim_slider\" + id;\n",
       "  this.loop_select_id = \"_anim_loop_select\" + id;\n",
       "  this.id = id;\n",
       "  this.interval = interval;\n",
       "  this.current_frame = 0;\n",
       "  this.direction = 0;\n",
       "  this.dynamic = dynamic;\n",
       "  this.timer = null;\n",
       "  this.load_json = load_json;\n",
       "  this.mode = mode;\n",
       "  this.cached = cached;\n",
       "  this.frames = frames;\n",
       "  this.cache = {};\n",
       "  this.length = num_frames;\n",
       "  this.json_path = json_path;\n",
       "  document.getElementById(this.slider_id).max = this.length - 1;\n",
       "  this.init_slider(0);\n",
       "  this.wait = false;\n",
       "  this.queue = [];\n",
       "  if (!this.cached || this.dynamic) {\n",
       "    this.init_comms()\n",
       "  }\n",
       "}\n",
       "\n",
       "ScrubberWidget.prototype = new HoloViewsWidget;\n",
       "\n",
       "ScrubberWidget.prototype.set_frame = function(frame){\n",
       "  this.current_frame = frame;\n",
       "  widget = document.getElementById(this.slider_id);\n",
       "  if (widget === null) {\n",
       "    this.pause_animation();\n",
       "    return\n",
       "  }\n",
       "  widget.value = this.current_frame;\n",
       "  if(this.cached) {\n",
       "    this.update(frame)\n",
       "  } else {\n",
       "    this.dynamic_update(frame)\n",
       "  }\n",
       "}\n",
       "\n",
       "\n",
       "ScrubberWidget.prototype.get_loop_state = function(){\n",
       "  var button_group = document[this.loop_select_id].state;\n",
       "  for (var i = 0; i < button_group.length; i++) {\n",
       "    var button = button_group[i];\n",
       "    if (button.checked) {\n",
       "      return button.value;\n",
       "    }\n",
       "  }\n",
       "  return undefined;\n",
       "}\n",
       "\n",
       "\n",
       "ScrubberWidget.prototype.next_frame = function() {\n",
       "  this.set_frame(Math.min(this.length - 1, this.current_frame + 1));\n",
       "}\n",
       "\n",
       "ScrubberWidget.prototype.previous_frame = function() {\n",
       "  this.set_frame(Math.max(0, this.current_frame - 1));\n",
       "}\n",
       "\n",
       "ScrubberWidget.prototype.first_frame = function() {\n",
       "  this.set_frame(0);\n",
       "}\n",
       "\n",
       "ScrubberWidget.prototype.last_frame = function() {\n",
       "  this.set_frame(this.length - 1);\n",
       "}\n",
       "\n",
       "ScrubberWidget.prototype.slower = function() {\n",
       "  this.interval /= 0.7;\n",
       "  if(this.direction > 0){this.play_animation();}\n",
       "  else if(this.direction < 0){this.reverse_animation();}\n",
       "}\n",
       "\n",
       "ScrubberWidget.prototype.faster = function() {\n",
       "  this.interval *= 0.7;\n",
       "  if(this.direction > 0){this.play_animation();}\n",
       "  else if(this.direction < 0){this.reverse_animation();}\n",
       "}\n",
       "\n",
       "ScrubberWidget.prototype.anim_step_forward = function() {\n",
       "  if(this.current_frame < this.length - 1){\n",
       "    this.next_frame();\n",
       "  }else{\n",
       "    var loop_state = this.get_loop_state();\n",
       "    if(loop_state == \"loop\"){\n",
       "      this.first_frame();\n",
       "    }else if(loop_state == \"reflect\"){\n",
       "      this.last_frame();\n",
       "      this.reverse_animation();\n",
       "    }else{\n",
       "      this.pause_animation();\n",
       "      this.last_frame();\n",
       "    }\n",
       "  }\n",
       "}\n",
       "\n",
       "ScrubberWidget.prototype.anim_step_reverse = function() {\n",
       "  if(this.current_frame > 0){\n",
       "    this.previous_frame();\n",
       "  } else {\n",
       "    var loop_state = this.get_loop_state();\n",
       "    if(loop_state == \"loop\"){\n",
       "      this.last_frame();\n",
       "    }else if(loop_state == \"reflect\"){\n",
       "      this.first_frame();\n",
       "      this.play_animation();\n",
       "    }else{\n",
       "      this.pause_animation();\n",
       "      this.first_frame();\n",
       "    }\n",
       "  }\n",
       "}\n",
       "\n",
       "ScrubberWidget.prototype.pause_animation = function() {\n",
       "  this.direction = 0;\n",
       "  if (this.timer){\n",
       "    clearInterval(this.timer);\n",
       "    this.timer = null;\n",
       "  }\n",
       "}\n",
       "\n",
       "ScrubberWidget.prototype.play_animation = function() {\n",
       "  this.pause_animation();\n",
       "  this.direction = 1;\n",
       "  var t = this;\n",
       "  if (!this.timer) this.timer = setInterval(function(){t.anim_step_forward();}, this.interval);\n",
       "}\n",
       "\n",
       "ScrubberWidget.prototype.reverse_animation = function() {\n",
       "  this.pause_animation();\n",
       "  this.direction = -1;\n",
       "  var t = this;\n",
       "  if (!this.timer) this.timer = setInterval(function(){t.anim_step_reverse();}, this.interval);\n",
       "}\n",
       "\n",
       "function extend(destination, source) {\n",
       "  for (var k in source) {\n",
       "    if (source.hasOwnProperty(k)) {\n",
       "      destination[k] = source[k];\n",
       "    }\n",
       "  }\n",
       "  return destination;\n",
       "}\n",
       "\n",
       "function update_widget(widget, values) {\n",
       "  if (widget.hasClass(\"ui-slider\")) {\n",
       "    widget.slider('option', {\n",
       "      min: 0,\n",
       "      max: values.length-1,\n",
       "      dim_vals: values,\n",
       "      value: 0,\n",
       "      dim_labels: values\n",
       "\t})\n",
       "    widget.slider('option', 'slide').call(widget, event, {value: 0})\n",
       "  } else {\n",
       "    widget.empty();\n",
       "    for (var i=0; i<values.length; i++){\n",
       "      widget.append($(\"<option>\", {\n",
       "        value: i,\n",
       "        text: values[i]\n",
       "      }))\n",
       "    };\n",
       "    widget.data('values', values);\n",
       "    widget.data('value', 0);\n",
       "    widget.trigger(\"change\");\n",
       "  };\n",
       "}\n",
       "\n",
       "// Define Bokeh specific subclasses\n",
       "function BokehSelectionWidget() {\n",
       "\tSelectionWidget.apply(this, arguments);\n",
       "}\n",
       "\n",
       "function BokehScrubberWidget() {\n",
       "\tScrubberWidget.apply(this, arguments);\n",
       "}\n",
       "\n",
       "// Let them inherit from the baseclasses\n",
       "BokehSelectionWidget.prototype = Object.create(SelectionWidget.prototype);\n",
       "BokehScrubberWidget.prototype = Object.create(ScrubberWidget.prototype);\n",
       "\n",
       "// Define methods to override on widgets\n",
       "var BokehMethods = {\n",
       "\tupdate_cache : function(){\n",
       "\t\t$.each(this.frames, $.proxy(function(index, frame) {\n",
       "\t\t\tthis.frames[index] = JSON.parse(frame);\n",
       "\t\t}, this));\n",
       "\t},\n",
       "\tupdate : function(current){\n",
       "\t\tif (current === undefined) {\n",
       "\t\t\tvar data = undefined;\n",
       "\t\t} else {\n",
       "\t\t\tvar data = this.frames[current];\n",
       "\t\t}\n",
       "\t\tif (data !== undefined) {\n",
       "\t\t\tvar doc = Bokeh.index[data.root].model.document;\n",
       "\t\t\tdoc.apply_json_patch(data.content);\n",
       "\t\t}\n",
       "\t},\n",
       "\tinit_comms : function() {\n",
       "\t}\n",
       "}\n",
       "\n",
       "// Extend Bokeh widgets with backend specific methods\n",
       "extend(BokehSelectionWidget.prototype, BokehMethods);\n",
       "extend(BokehScrubberWidget.prototype, BokehMethods);\n",
       "</script>\n",
       "\n",
       "\n",
       "<link rel=\"stylesheet\" href=\"https://code.jquery.com/ui/1.10.4/themes/smoothness/jquery-ui.css\">\n",
       "<style>div.hololayout {\n",
       "    display: flex;\n",
       "    align-items: center;\n",
       "    margin: 0;\n",
       "}\n",
       "\n",
       "div.holoframe {\n",
       "\twidth: 75%;\n",
       "}\n",
       "\n",
       "div.holowell {\n",
       "    display: flex;\n",
       "    align-items: center;\n",
       "    margin: 0;\n",
       "}\n",
       "\n",
       "form.holoform {\n",
       "    background-color: #fafafa;\n",
       "    border-radius: 5px;\n",
       "    overflow: hidden;\n",
       "\tpadding-left: 0.8em;\n",
       "    padding-right: 0.8em;\n",
       "    padding-top: 0.4em;\n",
       "    padding-bottom: 0.4em;\n",
       "}\n",
       "\n",
       "div.holowidgets {\n",
       "    padding-right: 0;\n",
       "\twidth: 25%;\n",
       "}\n",
       "\n",
       "div.holoslider {\n",
       "    min-height: 0 !important;\n",
       "    height: 0.8em;\n",
       "    width: 60%;\n",
       "}\n",
       "\n",
       "div.holoformgroup {\n",
       "    padding-top: 0.5em;\n",
       "    margin-bottom: 0.5em;\n",
       "}\n",
       "\n",
       "div.hologroup {\n",
       "    padding-left: 0;\n",
       "    padding-right: 0.8em;\n",
       "    width: 50%;\n",
       "}\n",
       "\n",
       ".holoselect {\n",
       "    width: 92%;\n",
       "    margin-left: 0;\n",
       "    margin-right: 0;\n",
       "}\n",
       "\n",
       ".holotext {\n",
       "    width: 100%;\n",
       "    padding-left:  0.5em;\n",
       "    padding-right: 0;\n",
       "}\n",
       "\n",
       ".holowidgets .ui-resizable-se {\n",
       "\tvisibility: hidden\n",
       "}\n",
       "\n",
       ".holoframe > .ui-resizable-se {\n",
       "\tvisibility: hidden\n",
       "}\n",
       "\n",
       ".holowidgets .ui-resizable-s {\n",
       "\tvisibility: hidden\n",
       "}\n",
       "\n",
       "div.bk-hbox {\n",
       "    display: flex;\n",
       "    justify-content: center;\n",
       "}\n",
       "\n",
       "div.bk-hbox div.bk-plot {\n",
       "    padding: 8px;\n",
       "}\n",
       "\n",
       "div.bk-hbox div.bk-data-table {\n",
       "    padding: 20px;\n",
       "}\n",
       "</style>\n",
       "\n",
       "\n",
       "<div class=\"logo-block\">\n",
       "<img src='data:image/png;base64,iVBORw0KGgoAAAANSUhEUgAAAEAAAABACAYAAACqaXHeAAAABHNCSVQICAgIfAhkiAAAAAlwSFlz\n",
       "AAAB+wAAAfsBxc2miwAAABl0RVh0U29mdHdhcmUAd3d3Lmlua3NjYXBlLm9yZ5vuPBoAAA6zSURB\n",
       "VHic7ZtpeFRVmsf/5966taWqUlUJ2UioBBJiIBAwCZtog9IOgjqACsogKtqirT2ttt069nQ/zDzt\n",
       "tI4+CrJIREFaFgWhBXpUNhHZQoKBkIUASchWla1S+3ar7r1nPkDaCAnZKoQP/D7mnPOe9/xy76n3\n",
       "nFSAW9ziFoPFNED2LLK5wcyBDObkb8ZkxuaoSYlI6ZcOKq1eWFdedqNzGHQBk9RMEwFAASkk0Xw3\n",
       "ETacDNi2vtvc7L0ROdw0AjoSotQVkKSvHQz/wRO1lScGModBFbDMaNRN1A4tUBCS3lk7BWhQkgpD\n",
       "lG4852/+7DWr1R3uHAZVQDsbh6ZPN7CyxUrCzJMRouusj0ipRwD2uKm0Zn5d2dFwzX1TCGhnmdGo\n",
       "G62Nna+isiUqhkzuKrkQaJlPEv5mFl2fvGg2t/VnzkEV8F5ioioOEWkLG86fvbpthynjdhXYZziQ\n",
       "x1hC9J2NFyi8vCTt91Fh04KGip0AaG9zuCk2wQCVyoNU3Hjezee9bq92duzzTmxsRJoy+jEZZZYo\n",
       "GTKJ6SJngdJqAfRzpze0+jHreUtPc7gpBLQnIYK6BYp/uGhw9YK688eu7v95ysgshcg9qSLMo3JC\n",
       "4jqLKQFBgdKDPoQ+Pltb8dUyQLpeDjeVgI6EgLIQFT5tEl3rn2losHVsexbZ3EyT9wE1uGdkIPcy\n",
       "BGxn8QUq1QrA5nqW5i2tLqvrrM9NK6AdkVIvL9E9bZL/oyfMVd/jqvc8LylzRBKDJSzIExwhQzuL\n",
       "QYGQj4rHfFTc8mUdu3E7yoLtbTe9gI4EqVgVkug2i5+uXGo919ixbRog+3fTbQ8qJe4ZOYNfMoTI\n",
       "OoshUNosgO60AisX15aeI2PSIp5KiFLI9ubb1vV3Qb2ltwLakUCDAkWX7/nHKRmmGIl9VgYsUhJm\n",
       "2NXjKYADtM1ygne9QQDIXlk49FBstMKx66D1v4+XuQr7vqTe0VcBHQlRWiOCbmmSYe2SqtL6q5rJ\n",
       "zsTb7lKx3FKOYC4DoqyS/B5bvLPxvD9Qtf6saxYLQGJErmDOdOMr/zo96km1nElr8bmPOBwI9COv\n",
       "HnFPRIwmkSOv9kcAS4heRsidOkpeWBgZM+UBrTFAXNYL5Vf2ii9c1trNzpYdaoVil3WIc+wdk+gQ\n",
       "noie3ecCcxt9ITcLAPWt/laGEO/9U6PmzZkenTtsSMQ8uYywJVW+grCstAvCIaAdArAsIWkRDDs/\n",
       "KzLm2YcjY1Lv0UdW73HabE9n6V66cxSzfEmuJssTpKGVp+0vHq73FwL46eOjpMpbRAnNmJFrGJNu\n",
       "Ukf9Yrz+3rghiumCKNXXWPhLYcjxGsIpoCMsIRoFITkW8AuyM8jC1+/QLx4bozCEJIq38+1rtpR6\n",
       "V/yzb8eBlRb3fo5l783N0CWolAzJHaVNzkrTzlEp2bQ2q3TC5gn6wpnoQAmwSiGh2GitnTmVMc5O\n",
       "UyfKWUKCIsU7+fZDKwqdT6DDpvkzAX4/+AMFjk0tDp5GRXLpQ2MUmhgDp5gxQT8+Y7hyPsMi8uxF\n",
       "71H0oebujHALECjFKaW9Lm68n18wXp2kVzIcABytD5iXFzg+WVXkegpAsOOYziqo0OkK76GyquC3\n",
       "ltZAzMhhqlSNmmWTE5T6e3IN05ITFLM4GdN0vtZ3ob8Jh1NAKXFbm5PtLU/eqTSlGjkNAJjdgn/N\n",
       "aedXa0tdi7+t9G0FIF49rtMSEgAs1kDLkTPO7ebm4IUWeyh1bKomXqlgMG6kJmHcSM0clYLJ8XtR\n",
       "1GTnbV3F6I5wCGikAb402npp1h1s7LQUZZSMIfALFOuL3UUrfnS8+rez7v9qcold5tilgHbO1fjK\n",
       "9ubb17u9oshxzMiUBKXWqJNxd+fqb0tLVs4lILFnK71H0Ind7uiPgACVcFJlrb0tV6DzxqqTIhUM\n",
       "CwDf1/rrVhTa33/3pGPxJYdQ2l2cbgVcQSosdx8uqnDtbGjh9SlDVSMNWhlnilfqZk42Th2ZpLpf\n",
       "xrHec5e815zrr0dfBZSwzkZfqsv+1FS1KUknUwPARVvItfKUY+cn57yP7qv07UE3p8B2uhUwLk09\n",
       "e0SCOrK+hbdYHYLjRIl71wWzv9jpEoeOHhGRrJAzyEyNiJuUqX0g2sBN5kGK6y2Blp5M3lsB9Qh4\n",
       "y2Ja6x6+i0ucmKgwMATwhSjdUu49tKrQ/pvN5d53ml2CGwCmJipmKjgmyuaXzNeL2a0AkQ01Th5j\n",
       "2DktO3Jyk8f9vcOBQHV94OK+fPumJmvQHxJoWkaKWq9Vs+yUsbq0zGT1I4RgeH2b5wef7+c7bl8F\n",
       "eKgoHVVZa8ZPEORzR6sT1BzDUAD/d9F78e2Tzv99v8D+fLVTqAKAsbGamKey1Mt9Ann4eH3gTXTz\n",
       "idWtAJ8PQWOk7NzSeQn/OTHDuEikVF1R4z8BQCy+6D1aWRfY0tTGG2OM8rRoPaeIj5ZHzJxszElN\n",
       "VM8K8JS5WOfv8mzRnQAKoEhmt8gyPM4lU9SmBK1MCQBnW4KONT86v1hZ1PbwSXPw4JWussVjtH9Y\n",
       "NCoiL9UoH/6PSu8jFrfY2t36erQHXLIEakMi1SydmzB31h3GGXFDFNPaK8Rme9B79Ixrd0WN+1ij\n",
       "NRQ/doRmuFLBkHSTOm5GruG+pFjFdAmorG4IXH1Qua6ASniclfFtDYt+oUjKipPrCQB7QBQ2lrgP\n",
       "fFzm+9XWUtcqJ3/5vDLDpJ79XHZk3u8nGZ42qlj1+ydtbxysCezrydp6ugmipNJ7WBPB5tydY0jP\n",
       "HaVNzs3QzeE4ZpTbI+ZbnSFPbVOw9vsfnVvqWnirPyCNGD08IlqtYkh2hjZ5dErEQzoNm+6ykyOt\n",
       "Lt5/PQEuSRRKo22VkydK+vvS1XEKlhCJAnsqvcVvH7f/ZU2R67eXbMEGAMiIV5oWZWiWvz5Fv2xG\n",
       "sjqNJQRvn3Rs2lji/lNP19VjAQDgD7FHhujZB9OGqYxRkZxixgRDVlqS6uEOFaJUVu0rPFzctrnF\n",
       "JqijImVp8dEKVWyUXDk92zAuMZ6bFwpBU1HrOw6AdhQgUooChb0+ItMbWJitSo5Ws3IAOGEOtL53\n",
       "0vHZih9sC4vtofZ7Qu6523V/fmGcds1TY3V36pUsBwAbSlxnVh2xLfAD/IAIMDf7XYIkNmXfpp2l\n",
       "18rkAJAy9HKFaIr/qULkeQQKy9zf1JgDB2uaeFNGijo5QsUyacNUUTOnGO42xSnv4oOwpDi1zYkc\n",
       "efUc3I5Gk6PhyTuVKaOGyLUAYPGIoY9Pu/atL/L92+4q9wbflRJ2Trpm/jPjdBtfnqB/dIThcl8A\n",
       "KG7hbRuKnb8qsQsVvVlTrwQAQMUlf3kwJI24Z4JhPMtcfng5GcH49GsrxJpGvvHIaeem2ma+KSjQ\n",
       "lIwUdYyCY8j4dE1KzijNnIP2llF2wcXNnsoapw9XxsgYAl6k+KzUXbi2yP3KR2ecf6z3BFsBICdW\n",
       "nvnIaG3eHybqX7vbpEqUMT+9OL4Qpe8VON7dXuFd39v19FoAABRVePbGGuXTszO0P7tu6lghUonE\n",
       "llRdrhArLvmKdh9u29jcFiRRkfLUxBiFNiqSU9icoZQHo5mYBI1MBgBH6wMNb+U7Pnw337H4gi1Y\n",
       "ciWs+uks3Z9fztUvfzxTm9Ne8XXkvQLHNytOOZeiD4e0PgkAIAYCYknKUNUDSXEKzdWNpnil7r4p\n",
       "xqkjTarZMtk/K8TQ6Qve78qqvXurGwIJqcOUKfUWHsm8KGvxSP68YudXq4pcj39X49uOK2X142O0\n",
       "Tz5/u/7TVybqH0rSya6ZBwD21/gubbrgWdDgEOx9WUhfBaC2ibcEBYm7a7x+ukrBMNcEZggyR0TE\n",
       "T8zUPjikQ4VosQZbTpS4vqizBKvqmvjsqnpfzaZyx9JPiz1/bfGKdgD45XB1zoIMzYbfTdS/NClB\n",
       "Gct0USiY3YL/g0LHy/uq/Ef6uo5+n0R/vyhp17Klpge763f8rMu6YU/zrn2nml+2WtH+Z+5IAAFc\n",
       "2bUTdTDOSNa9+cQY7YLsOIXhevEkCvzph7a8laecz/Un/z4/Ae04XeL3UQb57IwU9ZDr9UuKVajv\n",
       "nxp1+1UVIo/LjztZkKH59fO3G/JemqCfmaCRqbqbd90ZZ8FfjtkfAyD0J/9+C2h1hDwsSxvGjNDc\n",
       "b4zk5NfrSwiQblLHzZhg+Jf4aPlUwpDqkQqa9nimbt1/TDH8OitGMaQnj+RJS6B1fbF7SY1TqO5v\n",
       "/v0WAADl1f7zokgS7s7VT2DZ7pegUjBM7mjtiDZbcN4j0YrHH0rXpCtY0qPX0cVL0rv5jv/ZXend\n",
       "0u/EESYBAFBU4T4Qa5TflZOhTe7pmKpaP8kCVUVw1+yhXfJWvn1P3hnXi33JsTN6PnP3hHZ8Z3/h\n",
       "aLHzmkNPuPj7Bc/F/Q38CwjTpSwQXgE4Vmwry9tpfq/ZFgqFMy4AVDtCvi8rvMvOmv0N4YwbVgEA\n",
       "sPM72/KVnzfspmH7HQGCRLG2yL1+z8XwvPcdCbsAANh+xPzstgMtxeGKt+6MK3/tacfvwhWvIwMi\n",
       "oKEBtm0H7W+UVfkc/Y1V0BhoPlDr/w1w/eu1vjIgAgDg22OtX6/eYfnEz/focrZTHAFR+PSs56/7\n",
       "q32nwpjazxgwAQCwcU/T62t3WL7r6/jVRa6/byp1rei+Z98ZUAEAhEPHPc8fKnTU9nbgtnOe8h0l\n",
       "9hcGIqmODLQAHCy2Xti6v/XNRivf43f4fFvIteu854+VHnR7q9tfBlwAAGz+pnndB9vM26UebAe8\n",
       "SLHujPOTPVW+rwY+sxskAAC2HrA8t2Vvc7ffP1r9o+vwR2dcr92InIAbKKC1FZ5tB1tf+/G8p8sv\n",
       "N/9Q5zd/XR34LYCwV5JdccMEAMDBk45DH243r/X4xGvqxFa/GNpS7n6rwOwNWwHVE26oAADYurf1\n",
       "zx/utOzt+DMKYM0p17YtZZ5VNzqfsB2HewG1WXE8PoZ7gOclbTIvynZf9JV+fqZtfgs/8F/Nu5rB\n",
       "EIBmJ+8QRMmpU7EzGRsf2FzuePqYRbzh/zE26EwdrT10f6r6o8HOYzCJB9Dpff8tbnGLG8L/A/WE\n",
       "roTBs2RqAAAAAElFTkSuQmCC'\n",
       "     style='height:25px; border-radius:12px; display: inline-block; float: left; vertical-align: middle'></img>\n",
       "\n",
       "\n",
       "  <img src='data:image/png;base64,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'\n",
       "       style='height:15px; border-radius:12px; display: inline-block; float: left'></img>\n",
       "  \n",
       "\n",
       "\n",
       "\n",
       "\n",
       "</div>\n"
      ],
      "text/plain": [
       "<IPython.core.display.HTML object>"
      ]
     },
     "metadata": {},
     "output_type": "execute_result"
    }
   ],
   "source": [
    "from jack.readers.implementations import reader_from_file\n",
    "from jack.io.load import *\n",
    "import tensorflow as tf\n",
    "import holoviews as hv\n",
    "hv.extension('bokeh')"
   ]
  },
  {
   "cell_type": "code",
   "execution_count": 3,
   "metadata": {},
   "outputs": [],
   "source": [
    "ds = load_squad('data/SQuAD/dev-v1.1.json')\n",
    "#ds = load_jack('../jtr/data/triviaqa/wiki-dev.json')"
   ]
  },
  {
   "cell_type": "code",
   "execution_count": 12,
   "metadata": {},
   "outputs": [
    {
     "name": "stdout",
     "output_type": "stream",
     "text": [
      "INFO:tensorflow:Restoring parameters from /home/diwe01/fusessh/jtr/squad/noninteractive/multi_rep/segm/model_module\n"
     ]
    },
    {
     "name": "stderr",
     "output_type": "stream",
     "text": [
      "INFO:tensorflow:Restoring parameters from /home/diwe01/fusessh/jtr/squad/noninteractive/multi_rep/segm/model_module\n"
     ]
    }
   ],
   "source": [
    "tf.reset_default_graph()\n",
    "fn = '/home/diwe01/fusessh/jtr/squad/noninteractive/multi_rep/segm'\n",
    "r = reader_from_file(fn)"
   ]
  },
  {
   "cell_type": "code",
   "execution_count": 56,
   "metadata": {},
   "outputs": [
    {
     "name": "stdout",
     "output_type": "stream",
     "text": [
      "INFO:tensorflow:Restoring parameters from /home/diwe01/fusessh/jtr/squad/noninteractive/multi_rep/experimental/assoc10_stopgrad_presegm/model_module\n"
     ]
    },
    {
     "name": "stderr",
     "output_type": "stream",
     "text": [
      "INFO:tensorflow:Restoring parameters from /home/diwe01/fusessh/jtr/squad/noninteractive/multi_rep/experimental/assoc10_stopgrad_presegm/model_module\n"
     ]
    }
   ],
   "source": [
    "#fn = '/home/diwe01/fusessh/jtr/squad/noninteractive/multi_rep/assoc10_unsup003/'\n",
    "r.load(fn)"
   ]
  },
  {
   "cell_type": "code",
   "execution_count": 27,
   "metadata": {},
   "outputs": [],
   "source": [
    "g = tf.get_default_graph()\n",
    "address_probs = [op.outputs[0] for op in g.get_operations() if op.name.endswith('assoc_probs')][0]\n",
    "frame_boundary = [op.outputs[0] for op in g.get_operations() if op.name.endswith('frame_probs')][0]\n",
    "segm_probs = [op.outputs[0] for op in g.get_operations() if op.name.endswith('segm_probs')][0]\n",
    "address_probs_q = [op.outputs[0] for op in g.get_operations() if op.name.endswith('assoc_probs')][1]\n",
    "frame_boundary_q = [op.outputs[0] for op in g.get_operations() if op.name.endswith('frame_probs')][1]\n",
    "segm_probs_q = [op.outputs[0] for op in g.get_operations() if op.name.endswith('segm_probs')][1]\n",
    "attention_probs = [op.outputs[0] for op in g.get_operations() if op.name.endswith('question_attention_weights')][0]\n",
    "\n",
    "start_word_score = [op.outputs[0] for op in g.get_operations() if op.name.endswith('end_word_score')][0]\n",
    "start_ngram_score = [op.outputs[0] for op in g.get_operations() if op.name.endswith('end_ngram_score')][0]\n",
    "start_segm_score = [op.outputs[0] for op in g.get_operations() if op.name.endswith('end_segm_score')][0]\n",
    "frames_score = [op.outputs[0] for op in g.get_operations() if op.name.endswith('frames_score')][0]\n",
    "\n",
    "num_roles = r.shared_resources.config['num_slots']\n",
    "assoc_scores = [[op.outputs[0] for op in g.get_operations() if op.name.endswith('assoc_' + str(i))][0] for i in range(num_roles)]\n",
    "\n",
    "\n",
    "all_scores = [start_word_score, start_ngram_score, start_segm_score, frames_score]\n",
    "all_structure = [address_probs, frame_boundary, segm_probs, address_probs_q, frame_boundary_q, segm_probs_q, attention_probs]"
   ]
  },
  {
   "cell_type": "code",
   "execution_count": 28,
   "metadata": {},
   "outputs": [],
   "source": [
    "from jack.core.tensorport import Ports\n",
    "from jack.readers.extractive_qa.shared import XQAPorts\n",
    "\n",
    "answer_span_tensor = r.model_module.tensors[XQAPorts.span_prediction]\n",
    "\n",
    "\n",
    "def process(index):\n",
    "    ex = ds[index]\n",
    "    batch = r.input_module([ex[0]])\n",
    "    words = [batch['__rev_vocab'][w] for w in batch[Ports.Input.support_words][0]]\n",
    "    question = [batch['__rev_vocab'][w] for w in batch[Ports.Input.question_words][0]]\n",
    "    tensors = r.session.run(all_scores + all_structure + [answer_span_tensor] + assoc_scores, feed_dict=r.model_module.convert_to_feed_dict(batch))\n",
    "    ws, ns, ss, fs, ap, fp, wp, apq, fpq, wpq, attnq, answer_span = tensors[:12]\n",
    "    \n",
    "    doc_idx = answer_span[0, 0]\n",
    "\n",
    "    return {\n",
    "        'question_ws': [batch['__rev_vocab'][w] for w in batch[Ports.Input.question_words][0]],\n",
    "        'support_ws': [batch['__rev_vocab'][w] for w in batch[Ports.Input.support_words][doc_idx]],\n",
    "        's_word': ws[doc_idx], \n",
    "        's_ngram': ns[doc_idx],\n",
    "        's_segm': ss[doc_idx], \n",
    "        's_frame': fs[doc_idx],\n",
    "        's_assoc': sum(tensors[12:])[doc_idx] / num_roles,\n",
    "        'p_slot': ap[doc_idx], \n",
    "        'p_frame': fp[doc_idx], \n",
    "        'p_segm': wp[doc_idx],\n",
    "        'p_slot_q': apq[0], \n",
    "        'p_frame_q': fpq[0], \n",
    "        'p_segm_q': wpq[0],\n",
    "        'p_attn_q': attnq[0],\n",
    "        'question': ex[0].question,\n",
    "        'answers': ex[1],\n",
    "        'predicted_span': answer_span[0,1:],\n",
    "    }\n",
    "        \n",
    "    \n",
    "def idxstrseq(l):\n",
    "    return [w + '   ' + str(i) for i, w in enumerate(l)]"
   ]
  },
  {
   "cell_type": "code",
   "execution_count": 57,
   "metadata": {},
   "outputs": [
    {
     "name": "stdout",
     "output_type": "stream",
     "text": [
      "In what venue did Super Bowl XIX take place?\n",
      "Stanford Stadium [73 74]\n",
      "{'Stanford Stadium'}\n"
     ]
    }
   ],
   "source": [
    "import random\n",
    "\n",
    "index = random.randint(0, len(ds) - 1)\n",
    "#index = 7716  # good score example\n",
    "#index=7716\n",
    "\n",
    "data = process(index)\n",
    "print(data['question'])\n",
    "print(' '.join(data['support_ws'][i] for i in range(data['predicted_span'][0], data['predicted_span'][1] + 1)), data['predicted_span'])\n",
    "correct_answers = set([a.text for a in data['answers']])\n",
    "print(correct_answers)"
   ]
  },
  {
   "cell_type": "code",
   "execution_count": 58,
   "metadata": {
    "scrolled": false
   },
   "outputs": [
    {
     "name": "stdout",
     "output_type": "stream",
     "text": [
      "In what venue did Super Bowl XIX take place?\n",
      "Stanford Stadium [73 74]\n",
      "{'Stanford Stadium'}\n"
     ]
    },
    {
     "name": "stderr",
     "output_type": "stream",
     "text": [
      "/usr/lib/python3.6/site-packages/bokeh/core/json_encoder.py:80: FutureWarning: Conversion of the second argument of issubdtype from `float` to `np.floating` is deprecated. In future, it will be treated as `np.float64 == np.dtype(float).type`.\n",
      "  elif np.issubdtype(type(obj), np.float):\n"
     ]
    },
    {
     "data": {
      "text/html": [
       "<div style='display: table; margin: 0 auto;'>\n",
       "\n",
       "<div class=\"bk-root\">\n",
       "    <div class=\"bk-plotdiv\" id=\"dc6cd2c9-e720-4a0a-b455-2aa461990c3d\"></div>\n",
       "</div>\n",
       "<script type=\"text/javascript\">\n",
       "  (function(root) {\n",
       "  function embed_document(root) {\n",
       "    \n",
       "  var docs_json = {\"1aeeb40e-14b1-45de-a72c-5646d46c1005\":{\"roots\":{\"references\":[{\"attributes\":{\"callback\":null,\"factors\":[\"0\",\"1\",\"2\"]},\"id\":\"7b494699-63c4-48bc-9277-d1c442c93616\",\"type\":\"FactorRange\"},{\"attributes\":{\"bottom_units\":\"screen\",\"fill_alpha\":{\"value\":0.5},\"fill_color\":{\"value\":\"lightgrey\"},\"left_units\":\"screen\",\"level\":\"overlay\",\"line_alpha\":{\"value\":1.0},\"line_color\":{\"value\":\"black\"},\"line_dash\":[4,4],\"line_width\":{\"value\":2},\"plot\":null,\"render_mode\":\"css\",\"right_units\":\"screen\",\"top_units\":\"screen\"},\"id\":\"1bbc55f2-94e3-4c7c-87ea-5856958c474b\",\"type\":\"BoxAnnotation\"},{\"attributes\":{\"callback\":null,\"factors\":[\"0\",\"1\",\"2\",\"3\",\"4\",\"5\",\"6\",\"7\",\"8\",\"9\"]},\"id\":\"dfd54836-c381-4f75-9595-a10d057c7e79\",\"type\":\"FactorRange\"},{\"attributes\":{\"fill_alpha\":{\"value\":0.1},\"fill_color\":{\"field\":\"zvalues\",\"transform\":{\"id\":\"2b33f274-7319-4521-aa30-de1d58fe7d73\",\"type\":\"LinearColorMapper\"}},\"height\":{\"units\":\"data\",\"value\":1},\"line_alpha\":{\"value\":0},\"line_color\":{\"value\":\"#1f77b4\"},\"width\":{\"units\":\"data\",\"value\":1},\"x\":{\"field\":\"Tokens\"},\"y\":{\"field\":\"Scores\"}},\"id\":\"2f6e1757-7ce3-46e1-aeef-f8b05ac50055\",\"type\":\"Rect\"},{\"attributes\":{},\"id\":\"ed5dd9c1-e1cb-4e86-b49b-fb0d40719d25\",\"type\":\"CategoricalTickFormatter\"},{\"attributes\":{\"data_source\":{\"id\":\"327f2b0e-2adb-47e1-a68d-bd90d74cb6e1\",\"type\":\"ColumnDataSource\"},\"glyph\":{\"id\":\"46988817-22c3-4151-b610-782aa30dba85\",\"type\":\"Rect\"},\"hover_glyph\":null,\"muted_glyph\":null,\"nonselection_glyph\":{\"id\":\"2f6e1757-7ce3-46e1-aeef-f8b05ac50055\",\"type\":\"Rect\"},\"selection_glyph\":null,\"view\":{\"id\":\"cb335a84-1381-4859-aa74-e1bd3e4ed769\",\"type\":\"CDSView\"}},\"id\":\"59aa784f-f0d4-4290-ab9b-4a2e76d6e585\",\"type\":\"GlyphRenderer\"},{\"attributes\":{\"source\":{\"id\":\"327f2b0e-2adb-47e1-a68d-bd90d74cb6e1\",\"type\":\"ColumnDataSource\"}},\"id\":\"cb335a84-1381-4859-aa74-e1bd3e4ed769\",\"type\":\"CDSView\"},{\"attributes\":{},\"id\":\"c2b8946a-0f18-467d-a474-0d6f0f1ccfbf\",\"type\":\"CategoricalTickFormatter\"},{\"attributes\":{\"plot\":null,\"text\":\"\",\"text_color\":{\"value\":\"black\"},\"text_font_size\":{\"value\":\"12pt\"}},\"id\":\"cadf3e93-1eb8-44ed-a9db-96f123f6e64f\",\"type\":\"Title\"},{\"attributes\":{\"callback\":null,\"renderers\":[{\"id\":\"df319c58-4c91-4f1f-b045-ace78ba47cd3\",\"type\":\"GlyphRenderer\"}],\"tooltips\":[[\"Tokens\",\"@{Tokens}\"],[\"Probs\",\"@{Probs}\"],[\"z\",\"@{z}\"]]},\"id\":\"56e5f789-aa97-434b-b194-a24ecb79fb53\",\"type\":\"HoverTool\"},{\"attributes\":{\"below\":[{\"id\":\"b56a864b-a1f4-4e58-8934-ae2388268f2a\",\"type\":\"CategoricalAxis\"}],\"left\":[{\"id\":\"72229d7a-ea02-4ef7-a511-73268909d933\",\"type\":\"CategoricalAxis\"}],\"min_border_bottom\":10,\"min_border_left\":10,\"min_border_right\":10,\"min_border_top\":10,\"plot_height\":200,\"plot_width\":200,\"renderers\":[{\"id\":\"b56a864b-a1f4-4e58-8934-ae2388268f2a\",\"type\":\"CategoricalAxis\"},{\"id\":\"db303008-498f-4b17-9081-5d82b5b90f94\",\"type\":\"Grid\"},{\"id\":\"72229d7a-ea02-4ef7-a511-73268909d933\",\"type\":\"CategoricalAxis\"},{\"id\":\"89e3abbe-1c2d-4319-a585-746f3076ad73\",\"type\":\"Grid\"},{\"id\":\"ea89430d-6e20-483f-a47a-c28896a9dd92\",\"type\":\"BoxAnnotation\"},{\"id\":\"df319c58-4c91-4f1f-b045-ace78ba47cd3\",\"type\":\"GlyphRenderer\"}],\"title\":{\"id\":\"cadf3e93-1eb8-44ed-a9db-96f123f6e64f\",\"type\":\"Title\"},\"toolbar\":{\"id\":\"1eed56a3-02d9-4bd7-9a29-44cc687b5ca3\",\"type\":\"Toolbar\"},\"toolbar_location\":null,\"x_range\":{\"id\":\"316e6206-f8f8-4fcd-ae2c-79ec628ff0c6\",\"type\":\"FactorRange\"},\"x_scale\":{\"id\":\"9752faf3-a2f8-4fca-8a51-ad2f537e5612\",\"type\":\"CategoricalScale\"},\"y_range\":{\"id\":\"7b494699-63c4-48bc-9277-d1c442c93616\",\"type\":\"FactorRange\"},\"y_scale\":{\"id\":\"d0d143a2-6ca2-49a1-9f86-5338f127629f\",\"type\":\"CategoricalScale\"}},\"id\":\"7464bcbe-684d-4f71-b4ac-591fb6d85ed1\",\"subtype\":\"Figure\",\"type\":\"Plot\"},{\"attributes\":{\"high\":0.9999934434890747,\"low\":4.8141694429338904e-29,\"nan_color\":\"white\",\"palette\":[\"#fff5f0\",\"#fef4ef\",\"#fef3ee\",\"#fef3ed\",\"#fef2ec\",\"#fef1eb\",\"#fef1ea\",\"#fef0e9\",\"#feefe8\",\"#feefe7\",\"#feeee6\",\"#feede5\",\"#feede4\",\"#feece3\",\"#feebe2\",\"#feebe1\",\"#feeae0\",\"#fee9e0\",\"#fee9df\",\"#fee8de\",\"#fee7dd\",\"#fee7dc\",\"#fee6db\",\"#fee5da\",\"#fee5d9\",\"#fee4d8\",\"#fee3d7\",\"#fee3d6\",\"#fee2d5\",\"#fee1d4\",\"#fee1d3\",\"#fee0d2\",\"#fddfd1\",\"#fdded0\",\"#fdddce\",\"#fddccd\",\"#fddbcb\",\"#fddaca\",\"#fdd8c8\",\"#fdd7c7\",\"#fdd6c5\",\"#fdd5c3\",\"#fdd4c2\",\"#fdd3c0\",\"#fdd1bf\",\"#fdd0bd\",\"#fdcfbc\",\"#fdceba\",\"#fccdb9\",\"#fcccb7\",\"#fccab6\",\"#fcc9b4\",\"#fcc8b3\",\"#fcc7b1\",\"#fcc6af\",\"#fcc5ae\",\"#fcc3ac\",\"#fcc2ab\",\"#fcc1a9\",\"#fcc0a8\",\"#fcbfa6\",\"#fcbea5\",\"#fcbda3\",\"#fcbba2\",\"#fcbaa0\",\"#fcb99f\",\"#fcb89d\",\"#fcb69c\",\"#fcb59a\",\"#fcb499\",\"#fcb297\",\"#fcb196\",\"#fcb094\",\"#fcaf93\",\"#fcad91\",\"#fcac90\",\"#fcab8e\",\"#fca98d\",\"#fca88b\",\"#fca78a\",\"#fca689\",\"#fca487\",\"#fca386\",\"#fca284\",\"#fca083\",\"#fc9f81\",\"#fc9e80\",\"#fc9d7e\",\"#fc9b7d\",\"#fc9a7b\",\"#fc997a\",\"#fc9778\",\"#fc9677\",\"#fc9575\",\"#fc9474\",\"#fc9272\",\"#fb9171\",\"#fb9070\",\"#fb8f6f\",\"#fb8d6d\",\"#fb8c6c\",\"#fb8b6b\",\"#fb8a6a\",\"#fb8868\",\"#fb8767\",\"#fb8666\",\"#fb8464\",\"#fb8363\",\"#fb8262\",\"#fb8161\",\"#fb7f5f\",\"#fb7e5e\",\"#fb7d5d\",\"#fb7c5c\",\"#fb7a5a\",\"#fb7959\",\"#fb7858\",\"#fb7757\",\"#fb7555\",\"#fb7454\",\"#fb7353\",\"#fb7252\",\"#fb7050\",\"#fb6f4f\",\"#fb6e4e\",\"#fb6d4d\",\"#fb6b4b\",\"#fb6a4a\",\"#fa6949\",\"#fa6748\",\"#fa6647\",\"#f96446\",\"#f96345\",\"#f86144\",\"#f86043\",\"#f85e42\",\"#f75d42\",\"#f75b41\",\"#f75a40\",\"#f6593f\",\"#f6573e\",\"#f5563d\",\"#f5543c\",\"#f5533b\",\"#f4513a\",\"#f45039\",\"#f44e38\",\"#f34d37\",\"#f34b36\",\"#f24a35\",\"#f24834\",\"#f24733\",\"#f14532\",\"#f14432\",\"#f14231\",\"#f04130\",\"#f03f2f\",\"#ef3e2e\",\"#ef3d2d\",\"#ef3b2c\",\"#ee3a2b\",\"#ed392b\",\"#ec382a\",\"#ea372a\",\"#e93529\",\"#e83429\",\"#e73328\",\"#e63228\",\"#e53127\",\"#e43027\",\"#e32f27\",\"#e12e26\",\"#e02d26\",\"#df2c25\",\"#de2a25\",\"#dd2924\",\"#dc2824\",\"#db2723\",\"#d92623\",\"#d82522\",\"#d72422\",\"#d62321\",\"#d52221\",\"#d42120\",\"#d31f20\",\"#d21e1f\",\"#d01d1f\",\"#cf1c1f\",\"#ce1b1e\",\"#cd1a1e\",\"#cc191d\",\"#cb181d\",\"#ca171c\",\"#c8171c\",\"#c7171c\",\"#c6161c\",\"#c5161b\",\"#c4161b\",\"#c2161b\",\"#c1151b\",\"#c0151a\",\"#bf151a\",\"#be141a\",\"#bc141a\",\"#bb1419\",\"#ba1419\",\"#b91319\",\"#b81319\",\"#b71318\",\"#b51218\",\"#b41218\",\"#b31218\",\"#b21217\",\"#b11117\",\"#af1117\",\"#ae1117\",\"#ad1116\",\"#ac1016\",\"#ab1016\",\"#a91016\",\"#a80f15\",\"#a70f15\",\"#a60f15\",\"#a50f15\",\"#a30e14\",\"#a10e14\",\"#9f0d14\",\"#9d0d14\",\"#9b0c13\",\"#990c13\",\"#970b13\",\"#950b13\",\"#930a12\",\"#910a12\",\"#8f0912\",\"#8d0912\",\"#8b0811\",\"#8a0811\",\"#880811\",\"#860711\",\"#840710\",\"#820610\",\"#800610\",\"#7e0510\",\"#7c050f\",\"#7a040f\",\"#78040f\",\"#76030f\",\"#74030e\",\"#72020e\",\"#70020e\",\"#6e010e\",\"#6c010d\",\"#6a000d\",\"#68000d\",\"#67000c\"]},\"id\":\"0533d1a6-ce91-4763-a2e5-62cd98b5792d\",\"type\":\"LinearColorMapper\"},{\"attributes\":{\"dimension\":1,\"grid_line_color\":{\"value\":null},\"plot\":{\"id\":\"7464bcbe-684d-4f71-b4ac-591fb6d85ed1\",\"subtype\":\"Figure\",\"type\":\"Plot\"},\"ticker\":{\"id\":\"e4feebab-b849-4f59-99f5-78a1d4d7959f\",\"type\":\"CategoricalTicker\"}},\"id\":\"89e3abbe-1c2d-4319-a585-746f3076ad73\",\"type\":\"Grid\"},{\"attributes\":{},\"id\":\"9752faf3-a2f8-4fca-8a51-ad2f537e5612\",\"type\":\"CategoricalScale\"},{\"attributes\":{\"axis_label\":\"Probs\",\"bounds\":\"auto\",\"formatter\":{\"id\":\"86329e24-abc5-4ad3-a3bf-ad22c6cf4ec8\",\"type\":\"CategoricalTickFormatter\"},\"major_label_orientation\":\"horizontal\",\"plot\":{\"id\":\"7464bcbe-684d-4f71-b4ac-591fb6d85ed1\",\"subtype\":\"Figure\",\"type\":\"Plot\"},\"ticker\":{\"id\":\"e4feebab-b849-4f59-99f5-78a1d4d7959f\",\"type\":\"CategoricalTicker\"}},\"id\":\"72229d7a-ea02-4ef7-a511-73268909d933\",\"type\":\"CategoricalAxis\"},{\"attributes\":{\"active_drag\":\"auto\",\"active_inspect\":\"auto\",\"active_scroll\":\"auto\",\"active_tap\":\"auto\",\"tools\":[{\"id\":\"56e5f789-aa97-434b-b194-a24ecb79fb53\",\"type\":\"HoverTool\"},{\"id\":\"02ab50a9-d122-450b-9c58-7d9da0648adc\",\"type\":\"SaveTool\"},{\"id\":\"1e055a83-7647-41fb-8f6c-6a034f22a611\",\"type\":\"PanTool\"},{\"id\":\"652a92ad-6f66-487e-8631-b21dc0127dcb\",\"type\":\"WheelZoomTool\"},{\"id\":\"17d58a63-a3fe-4f11-a204-039c13ed8ab4\",\"type\":\"BoxZoomTool\"},{\"id\":\"7f27885b-59bb-4882-849f-c8ac0127c19a\",\"type\":\"ResetTool\"}]},\"id\":\"1eed56a3-02d9-4bd7-9a29-44cc687b5ca3\",\"type\":\"Toolbar\"},{\"attributes\":{},\"id\":\"d0d143a2-6ca2-49a1-9f86-5338f127629f\",\"type\":\"CategoricalScale\"},{\"attributes\":{\"fill_color\":{\"field\":\"zvalues\",\"transform\":{\"id\":\"14a1d573-02e1-496f-a7da-32dd6850c560\",\"type\":\"LinearColorMapper\"}},\"height\":{\"units\":\"data\",\"value\":1},\"line_alpha\":{\"value\":0},\"line_color\":{\"value\":\"#1f77b4\"},\"width\":{\"units\":\"data\",\"value\":1},\"x\":{\"field\":\"Tokens\"},\"y\":{\"field\":\"Probs\"}},\"id\":\"62b18732-48ab-41ce-917e-4bb833d9fc2b\",\"type\":\"Rect\"},{\"attributes\":{\"fill_alpha\":{\"value\":0.1},\"fill_color\":{\"field\":\"zvalues\",\"transform\":{\"id\":\"14a1d573-02e1-496f-a7da-32dd6850c560\",\"type\":\"LinearColorMapper\"}},\"height\":{\"units\":\"data\",\"value\":1},\"line_alpha\":{\"value\":0},\"line_color\":{\"value\":\"#1f77b4\"},\"width\":{\"units\":\"data\",\"value\":1},\"x\":{\"field\":\"Tokens\"},\"y\":{\"field\":\"Probs\"}},\"id\":\"15f0566c-a999-45fb-af63-2854d0ff63ee\",\"type\":\"Rect\"},{\"attributes\":{},\"id\":\"15e0ff50-34e3-46cb-800b-a47e39cac07e\",\"type\":\"CategoricalTickFormatter\"},{\"attributes\":{\"data_source\":{\"id\":\"747ef186-c3c2-4a63-a2f9-33a3d8ae2480\",\"type\":\"ColumnDataSource\"},\"glyph\":{\"id\":\"62b18732-48ab-41ce-917e-4bb833d9fc2b\",\"type\":\"Rect\"},\"hover_glyph\":null,\"muted_glyph\":null,\"nonselection_glyph\":{\"id\":\"15f0566c-a999-45fb-af63-2854d0ff63ee\",\"type\":\"Rect\"},\"selection_glyph\":null,\"view\":{\"id\":\"609ada54-0d3e-4eaa-a668-527665ffa607\",\"type\":\"CDSView\"}},\"id\":\"34fd68a2-dea7-4107-a31d-dbc9b32b2a40\",\"type\":\"GlyphRenderer\"},{\"attributes\":{\"bottom_units\":\"screen\",\"fill_alpha\":{\"value\":0.5},\"fill_color\":{\"value\":\"lightgrey\"},\"left_units\":\"screen\",\"level\":\"overlay\",\"line_alpha\":{\"value\":1.0},\"line_color\":{\"value\":\"black\"},\"line_dash\":[4,4],\"line_width\":{\"value\":2},\"plot\":null,\"render_mode\":\"css\",\"right_units\":\"screen\",\"top_units\":\"screen\"},\"id\":\"ea89430d-6e20-483f-a47a-c28896a9dd92\",\"type\":\"BoxAnnotation\"},{\"attributes\":{\"source\":{\"id\":\"747ef186-c3c2-4a63-a2f9-33a3d8ae2480\",\"type\":\"ColumnDataSource\"}},\"id\":\"609ada54-0d3e-4eaa-a668-527665ffa607\",\"type\":\"CDSView\"},{\"attributes\":{},\"id\":\"02ab50a9-d122-450b-9c58-7d9da0648adc\",\"type\":\"SaveTool\"},{\"attributes\":{},\"id\":\"aea269ec-8237-4fe2-9fb9-0505f5fecaef\",\"type\":\"CategoricalTickFormatter\"},{\"attributes\":{\"grid_line_color\":{\"value\":null},\"plot\":{\"id\":\"7464bcbe-684d-4f71-b4ac-591fb6d85ed1\",\"subtype\":\"Figure\",\"type\":\"Plot\"},\"ticker\":{\"id\":\"42494815-7de2-474e-b8d3-ed168ea89372\",\"type\":\"CategoricalTicker\"}},\"id\":\"db303008-498f-4b17-9081-5d82b5b90f94\",\"type\":\"Grid\"},{\"attributes\":{},\"id\":\"1e055a83-7647-41fb-8f6c-6a034f22a611\",\"type\":\"PanTool\"},{\"attributes\":{},\"id\":\"652a92ad-6f66-487e-8631-b21dc0127dcb\",\"type\":\"WheelZoomTool\"},{\"attributes\":{\"children\":[{\"id\":\"843e4385-b951-4c5c-9e51-c397f9bda33c\",\"subtype\":\"Figure\",\"type\":\"Plot\"}]},\"id\":\"b5ae508a-f7d3-4aa4-8bc1-a76e3fa8864a\",\"type\":\"Row\"},{\"attributes\":{\"overlay\":{\"id\":\"ea89430d-6e20-483f-a47a-c28896a9dd92\",\"type\":\"BoxAnnotation\"}},\"id\":\"17d58a63-a3fe-4f11-a204-039c13ed8ab4\",\"type\":\"BoxZoomTool\"},{\"attributes\":{},\"id\":\"42494815-7de2-474e-b8d3-ed168ea89372\",\"type\":\"CategoricalTicker\"},{\"attributes\":{},\"id\":\"7f27885b-59bb-4882-849f-c8ac0127c19a\",\"type\":\"ResetTool\"},{\"attributes\":{},\"id\":\"e4feebab-b849-4f59-99f5-78a1d4d7959f\",\"type\":\"CategoricalTicker\"},{\"attributes\":{\"callback\":null,\"factors\":[\"The   0\",\"league   1\",\"announced   2\",\"on   3\",\"October   4\",\"16   5\",\",   6\",\"2012   7\",\",   8\",\"that   9\",\"the   10\",\"two   11\",\"finalists   12\",\"were   13\",\"Sun   14\",\"Life   15\",\"Stadium   16\",\"and   17\",\"Levi   18\",\"'s   19\",\"Stadium   20\",\".   21\",\"The   22\",\"South   23\",\"Florida   24\",\"/   25\",\"Miami   26\",\"area   27\",\"has   28\",\"previously   29\",\"hosted   30\",\"the   31\",\"event   32\",\"10   33\",\"times   34\",\"(   35\",\"tied   36\",\"for   37\",\"most   38\",\"with   39\",\"New   40\",\"Orleans   41\",\")   42\",\",   43\",\"with   44\",\"the   45\",\"most   46\",\"recent   47\",\"one   48\",\"being   49\",\"Super   50\",\"Bowl   51\",\"XLIV   52\",\"in   53\",\"2010   54\",\".   55\",\"The   56\",\"San   57\",\"Francisco   58\",\"Bay   59\",\"Area   60\",\"last   61\",\"hosted   62\",\"in   63\",\"1985   64\",\"(   65\",\"Super   66\",\"Bowl   67\",\"XIX   68\",\")   69\",\",   70\",\"held   71\",\"at   72\",\"Stanford   73\",\"Stadium   74\",\"in   75\",\"Stanford   76\",\",   77\",\"California   78\",\",   79\",\"won   80\",\"by   81\",\"the   82\",\"home   83\",\"team   84\",\"49ers   85\",\".   86\",\"The   87\",\"Miami   88\",\"bid   89\",\"depended   90\",\"on   91\",\"whether   92\",\"the   93\",\"stadium   94\",\"underwent   95\",\"renovations   96\",\".   97\",\"However   98\",\",   99\",\"on   100\",\"May   101\",\"3   102\",\",   103\",\"2013   104\",\",   105\",\"the   106\",\"Florida   107\",\"legislature   108\",\"refused   109\",\"to   110\",\"approve   111\",\"the   112\",\"funding   113\",\"plan   114\",\"to   115\",\"pay   116\",\"for   117\",\"the   118\",\"renovations   119\",\",   120\",\"dealing   121\",\"a   122\",\"significant   123\",\"blow   124\",\"to   125\",\"Miami   126\",\"'s   127\",\"chances   128\",\".   129\"]},\"id\":\"c1ce1ea0-4be1-4f66-8677-ba74061cf067\",\"type\":\"FactorRange\"},{\"attributes\":{\"callback\":null,\"column_names\":[\"Tokens\",\"Probs\",\"zvalues\",\"z\"],\"data\":{\"Probs\":[\"0\",\"1\",\"0\",\"1\",\"0\",\"1\",\"0\",\"1\",\"0\",\"1\",\"0\",\"1\",\"0\",\"1\",\"0\",\"1\",\"0\",\"1\",\"0\",\"1\",\"0\",\"1\",\"0\",\"1\",\"0\",\"1\",\"0\",\"1\",\"0\",\"1\",\"0\",\"1\",\"0\",\"1\",\"0\",\"1\",\"0\",\"1\",\"0\",\"1\",\"0\",\"1\",\"0\",\"1\",\"0\",\"1\",\"0\",\"1\",\"0\",\"1\",\"0\",\"1\",\"0\",\"1\",\"0\",\"1\",\"0\",\"1\",\"0\",\"1\",\"0\",\"1\",\"0\",\"1\",\"0\",\"1\",\"0\",\"1\",\"0\",\"1\",\"0\",\"1\",\"0\",\"1\",\"0\",\"1\",\"0\",\"1\",\"0\",\"1\",\"0\",\"1\",\"0\",\"1\",\"0\",\"1\",\"0\",\"1\",\"0\",\"1\",\"0\",\"1\",\"0\",\"1\",\"0\",\"1\",\"0\",\"1\",\"0\",\"1\",\"0\",\"1\",\"0\",\"1\",\"0\",\"1\",\"0\",\"1\",\"0\",\"1\",\"0\",\"1\",\"0\",\"1\",\"0\",\"1\",\"0\",\"1\",\"0\",\"1\",\"0\",\"1\",\"0\",\"1\",\"0\",\"1\",\"0\",\"1\",\"0\",\"1\",\"0\",\"1\",\"0\",\"1\",\"0\",\"1\",\"0\",\"1\",\"0\",\"1\",\"0\",\"1\",\"0\",\"1\",\"0\",\"1\",\"0\",\"1\",\"0\",\"1\",\"0\",\"1\",\"0\",\"1\",\"0\",\"1\",\"0\",\"1\",\"0\",\"1\",\"0\",\"1\",\"0\",\"1\",\"0\",\"1\",\"0\",\"1\",\"0\",\"1\",\"0\",\"1\",\"0\",\"1\",\"0\",\"1\",\"0\",\"1\",\"0\",\"1\",\"0\",\"1\",\"0\",\"1\",\"0\",\"1\",\"0\",\"1\",\"0\",\"1\",\"0\",\"1\",\"0\",\"1\",\"0\",\"1\",\"0\",\"1\",\"0\",\"1\",\"0\",\"1\",\"0\",\"1\",\"0\",\"1\",\"0\",\"1\",\"0\",\"1\",\"0\",\"1\",\"0\",\"1\",\"0\",\"1\",\"0\",\"1\",\"0\",\"1\",\"0\",\"1\",\"0\",\"1\",\"0\",\"1\",\"0\",\"1\",\"0\",\"1\",\"0\",\"1\",\"0\",\"1\",\"0\",\"1\",\"0\",\"1\",\"0\",\"1\",\"0\",\"1\",\"0\",\"1\",\"0\",\"1\",\"0\",\"1\",\"0\",\"1\",\"0\",\"1\",\"0\",\"1\",\"0\",\"1\",\"0\",\"1\",\"0\",\"1\"],\"Tokens\":[\"The   0\",\"The   0\",\"league   1\",\"league   1\",\"announced   2\",\"announced   2\",\"on   3\",\"on   3\",\"October   4\",\"October   4\",\"16   5\",\"16   5\",\",   6\",\",   6\",\"2012   7\",\"2012   7\",\",   8\",\",   8\",\"that   9\",\"that   9\",\"the   10\",\"the   10\",\"two   11\",\"two   11\",\"finalists   12\",\"finalists   12\",\"were   13\",\"were   13\",\"Sun   14\",\"Sun   14\",\"Life   15\",\"Life   15\",\"Stadium   16\",\"Stadium   16\",\"and   17\",\"and   17\",\"Levi   18\",\"Levi   18\",\"'s   19\",\"'s   19\",\"Stadium   20\",\"Stadium   20\",\".   21\",\".   21\",\"The   22\",\"The   22\",\"South   23\",\"South   23\",\"Florida   24\",\"Florida   24\",\"/   25\",\"/   25\",\"Miami   26\",\"Miami   26\",\"area   27\",\"area   27\",\"has   28\",\"has   28\",\"previously   29\",\"previously   29\",\"hosted   30\",\"hosted   30\",\"the   31\",\"the   31\",\"event   32\",\"event   32\",\"10   33\",\"10   33\",\"times   34\",\"times   34\",\"(   35\",\"(   35\",\"tied   36\",\"tied   36\",\"for   37\",\"for   37\",\"most   38\",\"most   38\",\"with   39\",\"with   39\",\"New   40\",\"New   40\",\"Orleans   41\",\"Orleans   41\",\")   42\",\")   42\",\",   43\",\",   43\",\"with   44\",\"with   44\",\"the   45\",\"the   45\",\"most   46\",\"most   46\",\"recent   47\",\"recent   47\",\"one   48\",\"one   48\",\"being   49\",\"being   49\",\"Super   50\",\"Super   50\",\"Bowl   51\",\"Bowl   51\",\"XLIV   52\",\"XLIV   52\",\"in   53\",\"in   53\",\"2010   54\",\"2010   54\",\".   55\",\".   55\",\"The   56\",\"The   56\",\"San   57\",\"San   57\",\"Francisco   58\",\"Francisco   58\",\"Bay   59\",\"Bay   59\",\"Area   60\",\"Area   60\",\"last   61\",\"last   61\",\"hosted   62\",\"hosted   62\",\"in   63\",\"in   63\",\"1985   64\",\"1985   64\",\"(   65\",\"(   65\",\"Super   66\",\"Super   66\",\"Bowl   67\",\"Bowl   67\",\"XIX   68\",\"XIX   68\",\")   69\",\")   69\",\",   70\",\",   70\",\"held   71\",\"held   71\",\"at   72\",\"at   72\",\"Stanford   73\",\"Stanford   73\",\"Stadium   74\",\"Stadium   74\",\"in   75\",\"in   75\",\"Stanford   76\",\"Stanford   76\",\",   77\",\",   77\",\"California   78\",\"California   78\",\",   79\",\",   79\",\"won   80\",\"won   80\",\"by   81\",\"by   81\",\"the   82\",\"the   82\",\"home   83\",\"home   83\",\"team   84\",\"team   84\",\"49ers   85\",\"49ers   85\",\".   86\",\".   86\",\"The   87\",\"The   87\",\"Miami   88\",\"Miami   88\",\"bid   89\",\"bid   89\",\"depended   90\",\"depended   90\",\"on   91\",\"on   91\",\"whether   92\",\"whether   92\",\"the   93\",\"the   93\",\"stadium   94\",\"stadium   94\",\"underwent   95\",\"underwent   95\",\"renovations   96\",\"renovations   96\",\".   97\",\".   97\",\"However   98\",\"However   98\",\",   99\",\",   99\",\"on   100\",\"on   100\",\"May   101\",\"May   101\",\"3   102\",\"3   102\",\",   103\",\",   103\",\"2013   104\",\"2013   104\",\",   105\",\",   105\",\"the   106\",\"the   106\",\"Florida   107\",\"Florida   107\",\"legislature   108\",\"legislature   108\",\"refused   109\",\"refused   109\",\"to   110\",\"to   110\",\"approve   111\",\"approve   111\",\"the   112\",\"the   112\",\"funding   113\",\"funding   113\",\"plan   114\",\"plan   114\",\"to   115\",\"to   115\",\"pay   116\",\"pay   116\",\"for   117\",\"for   117\",\"the   118\",\"the   118\",\"renovations   119\",\"renovations   119\",\",   120\",\",   120\",\"dealing   121\",\"dealing   121\",\"a   122\",\"a   122\",\"significant   123\",\"significant   123\",\"blow   124\",\"blow   124\",\"to   125\",\"to   125\",\"Miami   126\",\"Miami   126\",\"'s   127\",\"'s   127\",\"chances   128\",\"chances   128\",\".   129\",\".   129\"],\"z\":[\"7.3901e-21\",\"2.5625e-22\",\"0.94842\",\"2.5128e-06\",\"0.97683\",\"2.0749e-09\",\"1.2836e-19\",\"2.7238e-20\",\"1.8153e-16\",\"2.9848e-20\",\"2.4137e-06\",\"5.5871e-13\",\"5.6914e-23\",\"4.7039e-25\",\"0.99998\",\"1.938e-06\",\"0.64278\",\"5.0437e-05\",\"8.6493e-09\",\"1.0517e-09\",\"8.3501e-16\",\"1.0541e-17\",\"2.2304e-15\",\"2.8626e-18\",\"0.99985\",\"1.8252e-07\",\"3.4518e-12\",\"1.893e-12\",\"1.7238e-13\",\"5.8975e-18\",\"1.4101e-16\",\"1.7933e-19\",\"5.3217e-05\",\"1.638e-11\",\"1.6199e-20\",\"6.5507e-21\",\"3.4081e-06\",\"1.0428e-12\",\"5.4452e-15\",\"6.5618e-18\",\"1\",\"2.0966e-05\",\"1\",\"1\",\"5.64e-15\",\"2.1673e-16\",\"6.6172e-20\",\"2.1655e-21\",\"6.9838e-07\",\"2.8935e-11\",\"9.8811e-17\",\"1.7678e-17\",\"0.026472\",\"1.2187e-06\",\"1\",\"3.6091e-06\",\"3.5653e-06\",\"3.2084e-13\",\"0.58883\",\"5.1573e-10\",\"4.2083e-08\",\"1.7772e-14\",\"2.5106e-21\",\"1.9384e-23\",\"1.0449e-12\",\"1.6845e-13\",\"1.7319e-17\",\"6.5058e-22\",\"1\",\"3.1831e-07\",\"0.58534\",\"2.3175e-09\",\"0.99087\",\"4.1127e-11\",\"1.0964e-18\",\"4.2519e-23\",\"0.00023857\",\"1.0202e-10\",\"3.0886e-18\",\"1.355e-19\",\"2.7205e-17\",\"6.8115e-20\",\"1\",\"2.0616e-07\",\"1\",\"0.012989\",\"0.99386\",\"0.025638\",\"3.1259e-13\",\"1.0307e-15\",\"7.4613e-11\",\"3.4573e-16\",\"4.435e-17\",\"1.6085e-21\",\"1.6033e-10\",\"9.5785e-15\",\"3.8557e-06\",\"1.9788e-11\",\"5.3948e-17\",\"1.3778e-17\",\"1.4127e-17\",\"2.114e-21\",\"3.005e-20\",\"5.8318e-23\",\"0.99909\",\"2.2351e-10\",\"1.2745e-17\",\"3.3645e-18\",\"0.99999\",\"4.2691e-07\",\"1\",\"0.99998\",\"1.0081e-12\",\"6.367e-14\",\"1.3422e-15\",\"3.9671e-18\",\"1.3874e-12\",\"8.5605e-17\",\"1.0972e-13\",\"1.4157e-16\",\"0.93137\",\"3.3801e-08\",\"0.68835\",\"1.4083e-05\",\"0.99997\",\"2.3048e-09\",\"5.7952e-15\",\"2.5175e-15\",\"0.99846\",\"3.2023e-07\",\"5.3916e-16\",\"1.4772e-16\",\"7.3914e-26\",\"1.576e-29\",\"2.4245e-24\",\"8.0965e-27\",\"0.99871\",\"6.6674e-09\",\"0.99998\",\"0.00028574\",\"0.15196\",\"0.00019346\",\"0.89567\",\"3.9231e-07\",\"2.8795e-21\",\"6.5859e-22\",\"1.4385e-13\",\"5.2199e-19\",\"1\",\"1.1611e-08\",\"6.1917e-23\",\"5.9898e-23\",\"0.99998\",\"6.1038e-08\",\"1.1341e-09\",\"6.4791e-10\",\"0.99998\",\"1.7514e-08\",\"0.00069222\",\"5.1816e-08\",\"0.99999\",\"3.473e-07\",\"1.1391e-21\",\"1.2694e-23\",\"3.0956e-17\",\"1.7447e-20\",\"3.7285e-06\",\"8.6192e-11\",\"1.8142e-15\",\"6.6682e-16\",\"0.99966\",\"7.021e-05\",\"1\",\"1\",\"6.0822e-13\",\"2.2295e-13\",\"0.00093513\",\"8.9102e-09\",\"0.38752\",\"7.8709e-09\",\"0.99286\",\"1.2959e-11\",\"1.0832e-12\",\"1.8192e-18\",\"1.3861e-08\",\"4.0933e-15\",\"5.6978e-28\",\"3.7003e-32\",\"1.0088e-05\",\"9.0955e-11\",\"8.5287e-16\",\"2.0959e-18\",\"0.99998\",\"1.1722e-06\",\"1\",\"1\",\"0.98677\",\"0.057376\",\"0.22375\",\"3.7227e-06\",\"3.4724e-21\",\"1.0874e-21\",\"2.9217e-18\",\"1.7134e-21\",\"5.0107e-07\",\"2.834e-13\",\"5.0322e-24\",\"3.1843e-26\",\"0.99993\",\"5.19e-06\",\"5.3322e-06\",\"2.2574e-07\",\"7.8699e-12\",\"2.1882e-13\",\"1.4278e-09\",\"1.9144e-14\",\"0.99816\",\"7.1901e-09\",\"0.99598\",\"1.0431e-11\",\"3.6399e-14\",\"4.9275e-19\",\"3.7495e-06\",\"2.3733e-11\",\"9.9016e-15\",\"1.251e-18\",\"1.8501e-05\",\"7.9819e-10\",\"1\",\"1.1973e-09\",\"2.2873e-15\",\"4.3697e-19\",\"0.99868\",\"2.8901e-09\",\"2.9739e-20\",\"1.992e-24\",\"1.6577e-19\",\"7.2262e-22\",\"0.9994\",\"7.1789e-06\",\"0.020903\",\"1.4569e-09\",\"0.00044795\",\"1.3224e-09\",\"4.0483e-18\",\"9.3795e-22\",\"5.4545e-12\",\"5.2052e-15\",\"0.99535\",\"1.6746e-09\",\"4.5753e-20\",\"8.7495e-22\",\"9.9981e-07\",\"5.0268e-13\",\"2.0615e-07\",\"5.4236e-11\",\"0.99999\",\"1.9124e-05\",\"0.99999\",\"0.97879\"],\"zvalues\":{\"__ndarray__\":\"OJgLHqzkmhtmy3I//qAoNmgRej/ilg4xXosXIGagAB8PSlEl6PMMH1X7ITY3Qx0rU5yJGkyUERfO/n8/UQ4CNkuNJD/SjFM4/pcUMvKKkDDErHAmQnBCIym3ICetOFMiDPZ/P1v5QzST5XIsBzUFLIQWQiqOlNkifZMiJSe2UyDZNV84aRSQLRf+mB4sevcdsLZkNpDCkisDL8Qn/hXyIv7/fz9m3683AACAP/z/fz+sM8sn3N55Ja8+nB/AniMdjng7NaCD/i3R1+MklAyjIwTb2DyZkqM14P9/Py40cjZ9Q282PZ60KlK9Fj+bww0wHb80M7oSoCivsT0dv3e7GakNkyvspz0ql7yfIwigRBz8/38/k+OqNBTZFT/IQR8xVal9PwnhNC5JzaEhHZxNGoYnejmFWeAuz+VjIlb4HyA37Poj7NSgH7T/fz97W100yP9/P8PPVDyibX4/PAfSPIb4rypki5QmnxOkLvpMxyUKh0wkXxDzHCFJMC8IjSwoMGCBNh4Ori0Gy3gkmyl+IzZMgiMDux8dG+gNHysBjRoyxH8/N8F1Ly0bayNCQngijv9/PwYy5TT+/38/bv5/P9rgjSv+Xo8pFG/BJrtbkiLeQsMrVWTFJHQS9ynPNiMl8W1uP+8sETOYNzA/BEhsNz7+fz/hYh4xT8vQJ65nNSfKmn8/SeyrNDtnGyb8TSolowC3FT/Unw9vljsYB14gFFCrfz8LF+Ux7P5/P37PlTlSmxs+tdtKOWlKZT9Fn9I0EJFZHckLRxx29SEqJhAaIf7/fz/fd0cy1bSVGjnTkBqI/n8/1RODM83dmzBgGDIw9P5/P25xljLVdTU60oxeM57/fz/ec7o0eSSsHN6HdRlewg4kdsikHto3eja2ib0unrkCJ7oyQCb+6X8/ez2TOAAAgD/+/38/KzMrKxkEeyqjI3U6TRMZMmtoxj6qOAcySSx+P+L6Yy2RcZgr0jsGIp8gbjLoeZMnWJI0EgYhQAtpPyk3RQPILuDSdSbipRoi/v5/P1dTnTUAAIA//P9/P8mcfD+ZAms9rx5lPtjTeTbnLoMdclGkHOSUVyJmdQEdgYEGNe+KnyqXrMIYWq4dFXL7fz+NJa42q+uyNuhicjQBcwotAV92KiY9xDDXbqwoQYd/P88M9zGC+H4/TX83LfXsIynmbhEhUZ97NinC0C33XjIoppy4IScymzebZ1sw/v9/PyGOpDB20SQnmfgAITWpfz8km0YxJ3AMH1kgGhigtUMg+mVaHPjYfz/e4fA2LT2rPOo8yDAd2+o5J7+1MHhblSJMvY0cKeq/LDOJuydWz34/aybmMD0QWB8nOIQcNjGGNcd9DStAW100H4huLhz/fz+MbaA3Jv9/P72Rej8=\",\"dtype\":\"float32\",\"shape\":[260]}}},\"id\":\"b33348f5-9e3c-4a2c-baf6-e85e7276a876\",\"type\":\"ColumnDataSource\"},{\"attributes\":{\"callback\":null,\"factors\":[\"The   0\",\"league   1\",\"announced   2\",\"on   3\",\"October   4\",\"16   5\",\",   6\",\"2012   7\",\",   8\",\"that   9\",\"the   10\",\"two   11\",\"finalists   12\",\"were   13\",\"Sun   14\",\"Life   15\",\"Stadium   16\",\"and   17\",\"Levi   18\",\"'s   19\",\"Stadium   20\",\".   21\",\"The   22\",\"South   23\",\"Florida   24\",\"/   25\",\"Miami   26\",\"area   27\",\"has   28\",\"previously   29\",\"hosted   30\",\"the   31\",\"event   32\",\"10   33\",\"times   34\",\"(   35\",\"tied   36\",\"for   37\",\"most   38\",\"with   39\",\"New   40\",\"Orleans   41\",\")   42\",\",   43\",\"with   44\",\"the   45\",\"most   46\",\"recent   47\",\"one   48\",\"being   49\",\"Super   50\",\"Bowl   51\",\"XLIV   52\",\"in   53\",\"2010   54\",\".   55\",\"The   56\",\"San   57\",\"Francisco   58\",\"Bay   59\",\"Area   60\",\"last   61\",\"hosted   62\",\"in   63\",\"1985   64\",\"(   65\",\"Super   66\",\"Bowl   67\",\"XIX   68\",\")   69\",\",   70\",\"held   71\",\"at   72\",\"Stanford   73\",\"Stadium   74\",\"in   75\",\"Stanford   76\",\",   77\",\"California   78\",\",   79\",\"won   80\",\"by   81\",\"the   82\",\"home   83\",\"team   84\",\"49ers   85\",\".   86\",\"The   87\",\"Miami   88\",\"bid   89\",\"depended   90\",\"on   91\",\"whether   92\",\"the   93\",\"stadium   94\",\"underwent   95\",\"renovations   96\",\".   97\",\"However   98\",\",   99\",\"on   100\",\"May   101\",\"3   102\",\",   103\",\"2013   104\",\",   105\",\"the   106\",\"Florida   107\",\"legislature   108\",\"refused   109\",\"to   110\",\"approve   111\",\"the   112\",\"funding   113\",\"plan   114\",\"to   115\",\"pay   116\",\"for   117\",\"the   118\",\"renovations   119\",\",   120\",\"dealing   121\",\"a   122\",\"significant   123\",\"blow   124\",\"to   125\",\"Miami   126\",\"'s   127\",\"chances   128\",\".   129\"]},\"id\":\"179c269c-ddc9-4588-bbf3-06f55a5f62fa\",\"type\":\"FactorRange\"},{\"attributes\":{\"fill_color\":{\"field\":\"zvalues\",\"transform\":{\"id\":\"0533d1a6-ce91-4763-a2e5-62cd98b5792d\",\"type\":\"LinearColorMapper\"}},\"height\":{\"units\":\"data\",\"value\":1},\"line_alpha\":{\"value\":0},\"line_color\":{\"value\":\"#1f77b4\"},\"width\":{\"units\":\"data\",\"value\":1},\"x\":{\"field\":\"Tokens\"},\"y\":{\"field\":\"Probs\"}},\"id\":\"e0a809d5-7d4b-493a-bb60-f8fa7c98b06b\",\"type\":\"Rect\"},{\"attributes\":{\"fill_alpha\":{\"value\":0.1},\"fill_color\":{\"field\":\"zvalues\",\"transform\":{\"id\":\"0533d1a6-ce91-4763-a2e5-62cd98b5792d\",\"type\":\"LinearColorMapper\"}},\"height\":{\"units\":\"data\",\"value\":1},\"line_alpha\":{\"value\":0},\"line_color\":{\"value\":\"#1f77b4\"},\"width\":{\"units\":\"data\",\"value\":1},\"x\":{\"field\":\"Tokens\"},\"y\":{\"field\":\"Probs\"}},\"id\":\"a5fdf97b-4313-4e15-8a6f-7744f229d16a\",\"type\":\"Rect\"},{\"attributes\":{\"tools\":[{\"id\":\"308002c1-f4c3-4cca-a1b1-81ad7f98937d\",\"type\":\"HoverTool\"},{\"id\":\"95b1dfcd-940c-4cc6-b4a2-c42a75989422\",\"type\":\"SaveTool\"},{\"id\":\"00d0f5f3-529a-4775-a515-436ceeed4e71\",\"type\":\"PanTool\"},{\"id\":\"38dcf8e9-b8e4-4bc4-91b4-461a52cf48dc\",\"type\":\"WheelZoomTool\"},{\"id\":\"43bdcdc6-2654-478a-b9f2-152e69ae24a0\",\"type\":\"BoxZoomTool\"},{\"id\":\"10518638-ecf8-4251-a6c5-8be20eab7046\",\"type\":\"ResetTool\"},{\"id\":\"56e5f789-aa97-434b-b194-a24ecb79fb53\",\"type\":\"HoverTool\"},{\"id\":\"02ab50a9-d122-450b-9c58-7d9da0648adc\",\"type\":\"SaveTool\"},{\"id\":\"1e055a83-7647-41fb-8f6c-6a034f22a611\",\"type\":\"PanTool\"},{\"id\":\"652a92ad-6f66-487e-8631-b21dc0127dcb\",\"type\":\"WheelZoomTool\"},{\"id\":\"17d58a63-a3fe-4f11-a204-039c13ed8ab4\",\"type\":\"BoxZoomTool\"},{\"id\":\"7f27885b-59bb-4882-849f-c8ac0127c19a\",\"type\":\"ResetTool\"},{\"id\":\"f45cbb4a-9d07-4ce2-8fa2-b49212c29803\",\"type\":\"HoverTool\"},{\"id\":\"c5beda38-07cb-4ee1-b013-bc97c06807c5\",\"type\":\"SaveTool\"},{\"id\":\"d083ba35-b1e0-4d6a-9794-1d3887f5eb17\",\"type\":\"PanTool\"},{\"id\":\"fe2f47cc-0c54-42d8-9abe-f8e4002de5bc\",\"type\":\"WheelZoomTool\"},{\"id\":\"966aa121-7fe7-42b4-a774-df84efe6e05d\",\"type\":\"BoxZoomTool\"},{\"id\":\"3b96e320-0a6c-4ae1-819c-a87558489373\",\"type\":\"ResetTool\"},{\"id\":\"14fc30d3-af33-4979-b136-41bd45d232e4\",\"type\":\"HoverTool\"},{\"id\":\"cd3a0fe2-9db8-4029-a5e8-bf3179509ccd\",\"type\":\"SaveTool\"},{\"id\":\"64b66345-6196-47a8-800b-fea427676df1\",\"type\":\"PanTool\"},{\"id\":\"bcd20f52-6010-4a93-95d1-83d997f59072\",\"type\":\"WheelZoomTool\"},{\"id\":\"6ec08bad-99fb-4b75-b949-e6cecb5d2f3f\",\"type\":\"BoxZoomTool\"},{\"id\":\"5146d2b1-d452-4a0f-80f7-7ea56a16dac9\",\"type\":\"ResetTool\"}]},\"id\":\"faa0f9a5-881b-4fe0-890f-5339fd57cb1d\",\"type\":\"ProxyToolbar\"},{\"attributes\":{},\"id\":\"ea2315f1-22c0-4afd-bc22-f481f3946b7d\",\"type\":\"CategoricalTickFormatter\"},{\"attributes\":{\"callback\":null,\"factors\":[\"In   0\",\"what   1\",\"venue   2\",\"did   3\",\"Super   4\",\"Bowl   5\",\"XIX   6\",\"take   7\",\"place   8\",\"?   9\"]},\"id\":\"316e6206-f8f8-4fcd-ae2c-79ec628ff0c6\",\"type\":\"FactorRange\"},{\"attributes\":{\"data_source\":{\"id\":\"6bbc5a3c-8d8a-4b7e-9b9c-0ea3007d0d6f\",\"type\":\"ColumnDataSource\"},\"glyph\":{\"id\":\"e0a809d5-7d4b-493a-bb60-f8fa7c98b06b\",\"type\":\"Rect\"},\"hover_glyph\":null,\"muted_glyph\":null,\"nonselection_glyph\":{\"id\":\"a5fdf97b-4313-4e15-8a6f-7744f229d16a\",\"type\":\"Rect\"},\"selection_glyph\":null,\"view\":{\"id\":\"a0ad7c08-5a02-43b2-b06e-06313f1536ea\",\"type\":\"CDSView\"}},\"id\":\"df319c58-4c91-4f1f-b045-ace78ba47cd3\",\"type\":\"GlyphRenderer\"},{\"attributes\":{\"toolbar\":{\"id\":\"faa0f9a5-881b-4fe0-890f-5339fd57cb1d\",\"type\":\"ProxyToolbar\"},\"toolbar_location\":\"above\"},\"id\":\"41fcd22c-5b87-4498-abf3-832df77cf234\",\"type\":\"ToolbarBox\"},{\"attributes\":{\"callback\":null,\"column_names\":[\"Tokens\",\"Scores\",\"zvalues\",\"z\"],\"data\":{\"Scores\":[\"w\",\"n\",\"p\",\"c\",\"r\",\"w\",\"n\",\"p\",\"c\",\"r\",\"w\",\"n\",\"p\",\"c\",\"r\",\"w\",\"n\",\"p\",\"c\",\"r\",\"w\",\"n\",\"p\",\"c\",\"r\",\"w\",\"n\",\"p\",\"c\",\"r\",\"w\",\"n\",\"p\",\"c\",\"r\",\"w\",\"n\",\"p\",\"c\",\"r\",\"w\",\"n\",\"p\",\"c\",\"r\",\"w\",\"n\",\"p\",\"c\",\"r\",\"w\",\"n\",\"p\",\"c\",\"r\",\"w\",\"n\",\"p\",\"c\",\"r\",\"w\",\"n\",\"p\",\"c\",\"r\",\"w\",\"n\",\"p\",\"c\",\"r\",\"w\",\"n\",\"p\",\"c\",\"r\",\"w\",\"n\",\"p\",\"c\",\"r\",\"w\",\"n\",\"p\",\"c\",\"r\",\"w\",\"n\",\"p\",\"c\",\"r\",\"w\",\"n\",\"p\",\"c\",\"r\",\"w\",\"n\",\"p\",\"c\",\"r\",\"w\",\"n\",\"p\",\"c\",\"r\",\"w\",\"n\",\"p\",\"c\",\"r\",\"w\",\"n\",\"p\",\"c\",\"r\",\"w\",\"n\",\"p\",\"c\",\"r\",\"w\",\"n\",\"p\",\"c\",\"r\",\"w\",\"n\",\"p\",\"c\",\"r\",\"w\",\"n\",\"p\",\"c\",\"r\",\"w\",\"n\",\"p\",\"c\",\"r\",\"w\",\"n\",\"p\",\"c\",\"r\",\"w\",\"n\",\"p\",\"c\",\"r\",\"w\",\"n\",\"p\",\"c\",\"r\",\"w\",\"n\",\"p\",\"c\",\"r\",\"w\",\"n\",\"p\",\"c\",\"r\",\"w\",\"n\",\"p\",\"c\",\"r\",\"w\",\"n\",\"p\",\"c\",\"r\",\"w\",\"n\",\"p\",\"c\",\"r\",\"w\",\"n\",\"p\",\"c\",\"r\",\"w\",\"n\",\"p\",\"c\",\"r\",\"w\",\"n\",\"p\",\"c\",\"r\",\"w\",\"n\",\"p\",\"c\",\"r\",\"w\",\"n\",\"p\",\"c\",\"r\",\"w\",\"n\",\"p\",\"c\",\"r\",\"w\",\"n\",\"p\",\"c\",\"r\",\"w\",\"n\",\"p\",\"c\",\"r\",\"w\",\"n\",\"p\",\"c\",\"r\",\"w\",\"n\",\"p\",\"c\",\"r\",\"w\",\"n\",\"p\",\"c\",\"r\",\"w\",\"n\",\"p\",\"c\",\"r\",\"w\",\"n\",\"p\",\"c\",\"r\",\"w\",\"n\",\"p\",\"c\",\"r\",\"w\",\"n\",\"p\",\"c\",\"r\",\"w\",\"n\",\"p\",\"c\",\"r\",\"w\",\"n\",\"p\",\"c\",\"r\",\"w\",\"n\",\"p\",\"c\",\"r\",\"w\",\"n\",\"p\",\"c\",\"r\",\"w\",\"n\",\"p\",\"c\",\"r\",\"w\",\"n\",\"p\",\"c\",\"r\",\"w\",\"n\",\"p\",\"c\",\"r\",\"w\",\"n\",\"p\",\"c\",\"r\",\"w\",\"n\",\"p\",\"c\",\"r\",\"w\",\"n\",\"p\",\"c\",\"r\",\"w\",\"n\",\"p\",\"c\",\"r\",\"w\",\"n\",\"p\",\"c\",\"r\",\"w\",\"n\",\"p\",\"c\",\"r\",\"w\",\"n\",\"p\",\"c\",\"r\",\"w\",\"n\",\"p\",\"c\",\"r\",\"w\",\"n\",\"p\",\"c\",\"r\",\"w\",\"n\",\"p\",\"c\",\"r\",\"w\",\"n\",\"p\",\"c\",\"r\",\"w\",\"n\",\"p\",\"c\",\"r\",\"w\",\"n\",\"p\",\"c\",\"r\",\"w\",\"n\",\"p\",\"c\",\"r\",\"w\",\"n\",\"p\",\"c\",\"r\",\"w\",\"n\",\"p\",\"c\",\"r\",\"w\",\"n\",\"p\",\"c\",\"r\",\"w\",\"n\",\"p\",\"c\",\"r\",\"w\",\"n\",\"p\",\"c\",\"r\",\"w\",\"n\",\"p\",\"c\",\"r\",\"w\",\"n\",\"p\",\"c\",\"r\",\"w\",\"n\",\"p\",\"c\",\"r\",\"w\",\"n\",\"p\",\"c\",\"r\",\"w\",\"n\",\"p\",\"c\",\"r\",\"w\",\"n\",\"p\",\"c\",\"r\",\"w\",\"n\",\"p\",\"c\",\"r\",\"w\",\"n\",\"p\",\"c\",\"r\",\"w\",\"n\",\"p\",\"c\",\"r\",\"w\",\"n\",\"p\",\"c\",\"r\",\"w\",\"n\",\"p\",\"c\",\"r\",\"w\",\"n\",\"p\",\"c\",\"r\",\"w\",\"n\",\"p\",\"c\",\"r\",\"w\",\"n\",\"p\",\"c\",\"r\",\"w\",\"n\",\"p\",\"c\",\"r\",\"w\",\"n\",\"p\",\"c\",\"r\",\"w\",\"n\",\"p\",\"c\",\"r\",\"w\",\"n\",\"p\",\"c\",\"r\",\"w\",\"n\",\"p\",\"c\",\"r\",\"w\",\"n\",\"p\",\"c\",\"r\",\"w\",\"n\",\"p\",\"c\",\"r\",\"w\",\"n\",\"p\",\"c\",\"r\",\"w\",\"n\",\"p\",\"c\",\"r\",\"w\",\"n\",\"p\",\"c\",\"r\",\"w\",\"n\",\"p\",\"c\",\"r\",\"w\",\"n\",\"p\",\"c\",\"r\",\"w\",\"n\",\"p\",\"c\",\"r\",\"w\",\"n\",\"p\",\"c\",\"r\",\"w\",\"n\",\"p\",\"c\",\"r\",\"w\",\"n\",\"p\",\"c\",\"r\",\"w\",\"n\",\"p\",\"c\",\"r\",\"w\",\"n\",\"p\",\"c\",\"r\",\"w\",\"n\",\"p\",\"c\",\"r\",\"w\",\"n\",\"p\",\"c\",\"r\",\"w\",\"n\",\"p\",\"c\",\"r\",\"w\",\"n\",\"p\",\"c\",\"r\",\"w\",\"n\",\"p\",\"c\",\"r\",\"w\",\"n\",\"p\",\"c\",\"r\",\"w\",\"n\",\"p\",\"c\",\"r\",\"w\",\"n\",\"p\",\"c\",\"r\",\"w\",\"n\",\"p\",\"c\",\"r\",\"w\",\"n\",\"p\",\"c\",\"r\",\"w\",\"n\",\"p\",\"c\",\"r\",\"w\",\"n\",\"p\",\"c\",\"r\",\"w\",\"n\",\"p\",\"c\",\"r\",\"w\",\"n\",\"p\",\"c\",\"r\",\"w\",\"n\",\"p\",\"c\",\"r\",\"w\",\"n\",\"p\",\"c\",\"r\",\"w\",\"n\",\"p\",\"c\",\"r\",\"w\",\"n\",\"p\",\"c\",\"r\",\"w\",\"n\",\"p\",\"c\",\"r\",\"w\",\"n\",\"p\",\"c\",\"r\",\"w\",\"n\",\"p\",\"c\",\"r\"],\"Tokens\":[\"The   0\",\"The   0\",\"The   0\",\"The   0\",\"The   0\",\"league   1\",\"league   1\",\"league   1\",\"league   1\",\"league   1\",\"announced   2\",\"announced   2\",\"announced   2\",\"announced   2\",\"announced   2\",\"on   3\",\"on   3\",\"on   3\",\"on   3\",\"on   3\",\"October   4\",\"October   4\",\"October   4\",\"October   4\",\"October   4\",\"16   5\",\"16   5\",\"16   5\",\"16   5\",\"16   5\",\",   6\",\",   6\",\",   6\",\",   6\",\",   6\",\"2012   7\",\"2012   7\",\"2012   7\",\"2012   7\",\"2012   7\",\",   8\",\",   8\",\",   8\",\",   8\",\",   8\",\"that   9\",\"that   9\",\"that   9\",\"that   9\",\"that   9\",\"the   10\",\"the   10\",\"the   10\",\"the   10\",\"the   10\",\"two   11\",\"two   11\",\"two   11\",\"two   11\",\"two   11\",\"finalists   12\",\"finalists   12\",\"finalists   12\",\"finalists   12\",\"finalists   12\",\"were   13\",\"were   13\",\"were   13\",\"were   13\",\"were   13\",\"Sun   14\",\"Sun   14\",\"Sun   14\",\"Sun   14\",\"Sun   14\",\"Life   15\",\"Life   15\",\"Life   15\",\"Life   15\",\"Life   15\",\"Stadium   16\",\"Stadium   16\",\"Stadium   16\",\"Stadium   16\",\"Stadium   16\",\"and   17\",\"and   17\",\"and   17\",\"and   17\",\"and   17\",\"Levi   18\",\"Levi   18\",\"Levi   18\",\"Levi   18\",\"Levi   18\",\"'s   19\",\"'s   19\",\"'s   19\",\"'s   19\",\"'s   19\",\"Stadium   20\",\"Stadium   20\",\"Stadium   20\",\"Stadium   20\",\"Stadium   20\",\".   21\",\".   21\",\".   21\",\".   21\",\".   21\",\"The   22\",\"The   22\",\"The   22\",\"The   22\",\"The   22\",\"South   23\",\"South   23\",\"South   23\",\"South   23\",\"South   23\",\"Florida   24\",\"Florida   24\",\"Florida   24\",\"Florida   24\",\"Florida   24\",\"/   25\",\"/   25\",\"/   25\",\"/   25\",\"/   25\",\"Miami   26\",\"Miami   26\",\"Miami   26\",\"Miami   26\",\"Miami   26\",\"area   27\",\"area   27\",\"area   27\",\"area   27\",\"area   27\",\"has   28\",\"has   28\",\"has   28\",\"has   28\",\"has   28\",\"previously   29\",\"previously   29\",\"previously   29\",\"previously   29\",\"previously   29\",\"hosted   30\",\"hosted   30\",\"hosted   30\",\"hosted   30\",\"hosted   30\",\"the   31\",\"the   31\",\"the   31\",\"the   31\",\"the   31\",\"event   32\",\"event   32\",\"event   32\",\"event   32\",\"event   32\",\"10   33\",\"10   33\",\"10   33\",\"10   33\",\"10   33\",\"times   34\",\"times   34\",\"times   34\",\"times   34\",\"times   34\",\"(   35\",\"(   35\",\"(   35\",\"(   35\",\"(   35\",\"tied   36\",\"tied   36\",\"tied   36\",\"tied   36\",\"tied   36\",\"for   37\",\"for   37\",\"for   37\",\"for   37\",\"for   37\",\"most   38\",\"most   38\",\"most   38\",\"most   38\",\"most   38\",\"with   39\",\"with   39\",\"with   39\",\"with   39\",\"with   39\",\"New   40\",\"New   40\",\"New   40\",\"New   40\",\"New   40\",\"Orleans   41\",\"Orleans   41\",\"Orleans   41\",\"Orleans   41\",\"Orleans   41\",\")   42\",\")   42\",\")   42\",\")   42\",\")   42\",\",   43\",\",   43\",\",   43\",\",   43\",\",   43\",\"with   44\",\"with   44\",\"with   44\",\"with   44\",\"with   44\",\"the   45\",\"the   45\",\"the   45\",\"the   45\",\"the   45\",\"most   46\",\"most   46\",\"most   46\",\"most   46\",\"most   46\",\"recent   47\",\"recent   47\",\"recent   47\",\"recent   47\",\"recent   47\",\"one   48\",\"one   48\",\"one   48\",\"one   48\",\"one   48\",\"being   49\",\"being   49\",\"being   49\",\"being   49\",\"being   49\",\"Super   50\",\"Super   50\",\"Super   50\",\"Super   50\",\"Super   50\",\"Bowl   51\",\"Bowl   51\",\"Bowl   51\",\"Bowl   51\",\"Bowl   51\",\"XLIV   52\",\"XLIV   52\",\"XLIV   52\",\"XLIV   52\",\"XLIV   52\",\"in   53\",\"in   53\",\"in   53\",\"in   53\",\"in   53\",\"2010   54\",\"2010   54\",\"2010   54\",\"2010   54\",\"2010   54\",\".   55\",\".   55\",\".   55\",\".   55\",\".   55\",\"The   56\",\"The   56\",\"The   56\",\"The   56\",\"The   56\",\"San   57\",\"San   57\",\"San   57\",\"San   57\",\"San   57\",\"Francisco   58\",\"Francisco   58\",\"Francisco   58\",\"Francisco   58\",\"Francisco   58\",\"Bay   59\",\"Bay   59\",\"Bay   59\",\"Bay   59\",\"Bay   59\",\"Area   60\",\"Area   60\",\"Area   60\",\"Area   60\",\"Area   60\",\"last   61\",\"last   61\",\"last   61\",\"last   61\",\"last   61\",\"hosted   62\",\"hosted   62\",\"hosted   62\",\"hosted   62\",\"hosted   62\",\"in   63\",\"in   63\",\"in   63\",\"in   63\",\"in   63\",\"1985   64\",\"1985   64\",\"1985   64\",\"1985   64\",\"1985   64\",\"(   65\",\"(   65\",\"(   65\",\"(   65\",\"(   65\",\"Super   66\",\"Super   66\",\"Super   66\",\"Super   66\",\"Super   66\",\"Bowl   67\",\"Bowl   67\",\"Bowl   67\",\"Bowl   67\",\"Bowl   67\",\"XIX   68\",\"XIX   68\",\"XIX   68\",\"XIX   68\",\"XIX   68\",\")   69\",\")   69\",\")   69\",\")   69\",\")   69\",\",   70\",\",   70\",\",   70\",\",   70\",\",   70\",\"held   71\",\"held   71\",\"held   71\",\"held   71\",\"held   71\",\"at   72\",\"at   72\",\"at   72\",\"at   72\",\"at   72\",\"Stanford   73\",\"Stanford   73\",\"Stanford   73\",\"Stanford   73\",\"Stanford   73\",\"Stadium   74\",\"Stadium   74\",\"Stadium   74\",\"Stadium   74\",\"Stadium   74\",\"in   75\",\"in   75\",\"in   75\",\"in   75\",\"in   75\",\"Stanford   76\",\"Stanford   76\",\"Stanford   76\",\"Stanford   76\",\"Stanford   76\",\",   77\",\",   77\",\",   77\",\",   77\",\",   77\",\"California   78\",\"California   78\",\"California   78\",\"California   78\",\"California   78\",\",   79\",\",   79\",\",   79\",\",   79\",\",   79\",\"won   80\",\"won   80\",\"won   80\",\"won   80\",\"won   80\",\"by   81\",\"by   81\",\"by   81\",\"by   81\",\"by   81\",\"the   82\",\"the   82\",\"the   82\",\"the   82\",\"the   82\",\"home   83\",\"home   83\",\"home   83\",\"home   83\",\"home   83\",\"team   84\",\"team   84\",\"team   84\",\"team   84\",\"team   84\",\"49ers   85\",\"49ers   85\",\"49ers   85\",\"49ers   85\",\"49ers   85\",\".   86\",\".   86\",\".   86\",\".   86\",\".   86\",\"The   87\",\"The   87\",\"The   87\",\"The   87\",\"The   87\",\"Miami   88\",\"Miami   88\",\"Miami   88\",\"Miami   88\",\"Miami   88\",\"bid   89\",\"bid   89\",\"bid   89\",\"bid   89\",\"bid   89\",\"depended   90\",\"depended   90\",\"depended   90\",\"depended   90\",\"depended   90\",\"on   91\",\"on   91\",\"on   91\",\"on   91\",\"on   91\",\"whether   92\",\"whether   92\",\"whether   92\",\"whether   92\",\"whether   92\",\"the   93\",\"the   93\",\"the   93\",\"the   93\",\"the   93\",\"stadium   94\",\"stadium   94\",\"stadium   94\",\"stadium   94\",\"stadium   94\",\"underwent   95\",\"underwent   95\",\"underwent   95\",\"underwent   95\",\"underwent   95\",\"renovations   96\",\"renovations   96\",\"renovations   96\",\"renovations   96\",\"renovations   96\",\".   97\",\".   97\",\".   97\",\".   97\",\".   97\",\"However   98\",\"However   98\",\"However   98\",\"However   98\",\"However   98\",\",   99\",\",   99\",\",   99\",\",   99\",\",   99\",\"on   100\",\"on   100\",\"on   100\",\"on   100\",\"on   100\",\"May   101\",\"May   101\",\"May   101\",\"May   101\",\"May   101\",\"3   102\",\"3   102\",\"3   102\",\"3   102\",\"3   102\",\",   103\",\",   103\",\",   103\",\",   103\",\",   103\",\"2013   104\",\"2013   104\",\"2013   104\",\"2013   104\",\"2013   104\",\",   105\",\",   105\",\",   105\",\",   105\",\",   105\",\"the   106\",\"the   106\",\"the   106\",\"the   106\",\"the   106\",\"Florida   107\",\"Florida   107\",\"Florida   107\",\"Florida   107\",\"Florida   107\",\"legislature   108\",\"legislature   108\",\"legislature   108\",\"legislature   108\",\"legislature   108\",\"refused   109\",\"refused   109\",\"refused   109\",\"refused   109\",\"refused   109\",\"to   110\",\"to   110\",\"to   110\",\"to   110\",\"to   110\",\"approve   111\",\"approve   111\",\"approve   111\",\"approve   111\",\"approve   111\",\"the   112\",\"the   112\",\"the   112\",\"the   112\",\"the   112\",\"funding   113\",\"funding   113\",\"funding   113\",\"funding   113\",\"funding   113\",\"plan   114\",\"plan   114\",\"plan   114\",\"plan   114\",\"plan   114\",\"to   115\",\"to   115\",\"to   115\",\"to   115\",\"to   115\",\"pay   116\",\"pay   116\",\"pay   116\",\"pay   116\",\"pay   116\",\"for   117\",\"for   117\",\"for   117\",\"for   117\",\"for   117\",\"the   118\",\"the   118\",\"the   118\",\"the   118\",\"the   118\",\"renovations   119\",\"renovations   119\",\"renovations   119\",\"renovations   119\",\"renovations   119\",\",   120\",\",   120\",\",   120\",\",   120\",\",   120\",\"dealing   121\",\"dealing   121\",\"dealing   121\",\"dealing   121\",\"dealing   121\",\"a   122\",\"a   122\",\"a   122\",\"a   122\",\"a   122\",\"significant   123\",\"significant   123\",\"significant   123\",\"significant   123\",\"significant   123\",\"blow   124\",\"blow   124\",\"blow   124\",\"blow   124\",\"blow   124\",\"to   125\",\"to   125\",\"to   125\",\"to   125\",\"to   125\",\"Miami   126\",\"Miami   126\",\"Miami   126\",\"Miami   126\",\"Miami   126\",\"'s   127\",\"'s   127\",\"'s   127\",\"'s   127\",\"'s   127\",\"chances   128\",\"chances   128\",\"chances   128\",\"chances   128\",\"chances   128\",\".   129\",\".   129\",\".   129\",\".   129\",\".   129\"],\"z\":[\"-0.46231\",\"-0.16236\",\"-0.7462\",\"-1\",\"-0.3492\",\"-0.76293\",\"0.11248\",\"-0.7462\",\"-1\",\"-0.3492\",\"-0.67647\",\"-0.24953\",\"-0.84681\",\"-1\",\"-0.3492\",\"-0.57165\",\"-0.72835\",\"-0.5661\",\"-1\",\"-0.3492\",\"0.14492\",\"-0.3738\",\"-0.5661\",\"-1\",\"-0.3492\",\"-0.37012\",\"0.031924\",\"-0.5661\",\"-1\",\"-0.3492\",\"-0.94385\",\"0.15261\",\"-0.5661\",\"-1\",\"-0.3492\",\"-0.80758\",\"0.74751\",\"-0.5661\",\"-1\",\"-0.3492\",\"-0.94385\",\"-0.21716\",\"-0.17521\",\"-1\",\"-0.3492\",\"-0.97733\",\"-0.75083\",\"-0.4817\",\"-1\",\"-0.3492\",\"-0.62756\",\"-0.70511\",\"-0.4817\",\"-1\",\"-0.3492\",\"-0.50114\",\"0.08553\",\"-0.4817\",\"-1\",\"-0.3492\",\"-0.33587\",\"0.0073113\",\"-0.4817\",\"-1\",\"-0.3492\",\"-0.72852\",\"-0.82973\",\"0.5405\",\"-1\",\"-0.3492\",\"-0.19576\",\"-0.16386\",\"0.5405\",\"-1\",\"-0.3492\",\"-0.27613\",\"-0.36257\",\"0.5405\",\"-1\",\"-0.3492\",\"1\",\"0.13706\",\"0.5405\",\"-1\",\"-0.3492\",\"-0.80456\",\"-0.60012\",\"0.5405\",\"-1\",\"-0.3492\",\"0.21663\",\"0.010861\",\"0.5405\",\"-1\",\"-0.3492\",\"-0.1553\",\"-0.15535\",\"0.5405\",\"-1\",\"-0.3492\",\"1\",\"0.49278\",\"0.5405\",\"-1\",\"-0.3492\",\"-0.86535\",\"0.55992\",\"-0.10202\",\"-1\",\"-0.3492\",\"-0.46231\",\"-0.47102\",\"-0.07146\",\"0.31077\",\"0.69775\",\"0.54426\",\"-0.1707\",\"-0.07146\",\"0.31077\",\"0.69775\",\"0.29718\",\"0.17155\",\"-0.07146\",\"0.31077\",\"0.69775\",\"-0.8286\",\"-0.1465\",\"-0.07146\",\"0.31077\",\"0.69775\",\"0.75531\",\"0.27386\",\"-0.07146\",\"0.31077\",\"0.69775\",\"-0.35031\",\"0.86656\",\"-0.07146\",\"0.31077\",\"0.69775\",\"-0.79751\",\"-0.62761\",\"-0.82493\",\"0.31077\",\"0.69775\",\"-0.74709\",\"-0.48391\",\"-0.82493\",\"0.31077\",\"0.69775\",\"-0.24816\",\"-0.72499\",\"-0.14567\",\"0.31077\",\"0.69775\",\"-0.62756\",\"-0.40354\",\"-0.14567\",\"0.31077\",\"0.69775\",\"-0.62973\",\"-0.18208\",\"-0.14567\",\"0.31077\",\"0.69775\",\"-0.37023\",\"0.27004\",\"-0.14567\",\"0.31077\",\"0.69775\",\"-0.93965\",\"0.41766\",\"-0.14567\",\"0.31077\",\"0.69775\",\"-0.90168\",\"-0.32602\",\"-0.72733\",\"0.31077\",\"0.69775\",\"-0.82889\",\"-0.19733\",\"-0.5612\",\"0.31077\",\"0.69775\",\"-0.92029\",\"-0.89106\",\"0.06013\",\"0.31077\",\"0.69775\",\"-0.64118\",\"-0.65933\",\"0.06013\",\"0.31077\",\"0.69775\",\"-0.9326\",\"-0.81315\",\"0.06013\",\"0.31077\",\"0.69775\",\"0.59245\",\"-0.079758\",\"0.06013\",\"0.31077\",\"0.69775\",\"0.68438\",\"0.58652\",\"0.06013\",\"0.31077\",\"0.69775\",\"-0.23668\",\"0.35378\",\"-0.21536\",\"0.31077\",\"0.69775\",\"-0.94385\",\"-0.32013\",\"-0.17521\",\"0.31077\",\"0.69775\",\"-0.9326\",\"-0.86236\",\"-0.63695\",\"0.31077\",\"0.69775\",\"-0.62756\",\"-0.64393\",\"-0.63695\",\"0.31077\",\"0.69775\",\"-0.64118\",\"-0.711\",\"-0.63695\",\"0.31077\",\"0.69775\",\"-0.83287\",\"-0.31447\",\"-0.63695\",\"0.31077\",\"0.69775\",\"-0.40573\",\"-0.099165\",\"-0.63695\",\"0.31077\",\"0.69775\",\"-0.88291\",\"-0.63822\",\"-0.63695\",\"0.31077\",\"0.69775\",\"-0.13653\",\"-0.035661\",\"-0.63695\",\"0.31077\",\"0.69775\",\"0.26714\",\"0.30333\",\"-0.63695\",\"0.31077\",\"0.69775\",\"-0.040964\",\"0.82249\",\"-0.63695\",\"0.31077\",\"0.69775\",\"-0.76024\",\"-0.31888\",\"-0.36837\",\"0.31077\",\"0.69775\",\"-0.73032\",\"0.7799\",\"-0.36837\",\"0.31077\",\"0.69775\",\"-0.86535\",\"0.42155\",\"-0.10202\",\"0.31077\",\"0.69775\",\"-0.46231\",\"-0.36371\",\"0.24012\",\"1\",\"1\",\"0.39278\",\"0.021834\",\"0.24012\",\"1\",\"1\",\"0.77412\",\"0.17683\",\"0.24012\",\"1\",\"1\",\"0.79427\",\"0.049384\",\"0.24012\",\"1\",\"1\",\"0.058987\",\"0.9122\",\"0.24012\",\"1\",\"1\",\"-0.3965\",\"0.81483\",\"-0.45904\",\"1\",\"1\",\"-0.24816\",\"0.1985\",\"0.12495\",\"1\",\"1\",\"-0.76024\",\"-0.62938\",\"-0.60622\",\"1\",\"1\",\"-0.6058\",\"0.49865\",\"-0.60622\",\"1\",\"1\",\"-0.90168\",\"-0.25689\",\"-0.31865\",\"1\",\"1\",\"-0.13653\",\"-0.12021\",\"-0.31865\",\"1\",\"1\",\"0.26714\",\"-0.14091\",\"-0.31865\",\"1\",\"1\",\"-0.18231\",\"0.59892\",\"-0.31865\",\"1\",\"1\",\"-0.23668\",\"0.66181\",\"-0.21536\",\"1\",\"1\",\"-0.94385\",\"0.22364\",\"-0.28138\",\"1\",\"1\",\"-0.15915\",\"-0.10245\",\"-0.28138\",\"1\",\"1\",\"-0.50809\",\"-0.61719\",\"1\",\"1\",\"1\",\"0.59432\",\"0.065905\",\"1\",\"1\",\"1\",\"1\",\"0.84615\",\"1\",\"1\",\"1\",\"-0.76024\",\"-0.53247\",\"0.74201\",\"1\",\"1\",\"0.59432\",\"0.87917\",\"0.74201\",\"1\",\"1\",\"-0.94385\",\"0.076425\",\"0.12921\",\"1\",\"1\",\"0.12383\",\"1\",\"0.12921\",\"1\",\"1\",\"-0.94385\",\"0.1434\",\"-0.6896\",\"1\",\"1\",\"-0.52268\",\"0.17388\",\"-0.6896\",\"1\",\"1\",\"-0.96813\",\"-0.8258\",\"-0.7608\",\"1\",\"1\",\"-0.62756\",\"-0.53419\",\"-0.7608\",\"1\",\"1\",\"-0.36175\",\"0.073649\",\"-0.7608\",\"1\",\"1\",\"-0.62879\",\"-0.15476\",\"-0.7608\",\"1\",\"1\",\"-0.20514\",\"0.62392\",\"-0.7608\",\"1\",\"1\",\"-0.86535\",\"0.16853\",\"-0.10202\",\"1\",\"1\",\"-0.46231\",\"-0.49295\",\"-0.79881\",\"0.35475\",\"-1\",\"0.75531\",\"0.20693\",\"-0.79881\",\"0.35475\",\"-1\",\"-0.44886\",\"-0.03505\",\"-0.79881\",\"0.35475\",\"-1\",\"-0.86777\",\"-0.7202\",\"-0.79881\",\"0.35475\",\"-1\",\"-0.57165\",\"-0.77675\",\"-0.068319\",\"0.35475\",\"-1\",\"-0.98569\",\"-0.62565\",\"-0.068319\",\"0.35475\",\"-1\",\"-0.62756\",\"-0.86459\",\"-0.068319\",\"0.35475\",\"-1\",\"0.22135\",\"-0.37034\",\"-0.068319\",\"0.35475\",\"-1\",\"-0.56707\",\"0.17625\",\"-0.068319\",\"0.35475\",\"-1\",\"-0.67933\",\"0.34338\",\"-0.068319\",\"0.35475\",\"-1\",\"-0.86535\",\"0.056445\",\"-0.10202\",\"0.35475\",\"-1\",\"-0.87059\",\"-0.31592\",\"-0.89771\",\"-0.41029\",\"-0.60744\",\"-0.94385\",\"-0.62097\",\"-0.55226\",\"-0.41029\",\"-0.60744\",\"-0.57165\",\"-0.72882\",\"-0.55226\",\"-0.41029\",\"-0.60744\",\"0.048919\",\"-0.38255\",\"-0.55226\",\"-0.41029\",\"-0.60744\",\"-0.18682\",\"-0.0022806\",\"-0.55226\",\"-0.41029\",\"-0.60744\",\"-0.94385\",\"0.10473\",\"-0.55226\",\"-0.41029\",\"-0.60744\",\"-0.85825\",\"0.71871\",\"-0.55226\",\"-0.41029\",\"-0.60744\",\"-0.94385\",\"0.088523\",\"-0.14452\",\"-0.41029\",\"-0.60744\",\"-0.62756\",\"-0.44382\",\"-0.14452\",\"-0.41029\",\"-0.60744\",\"0.29718\",\"-0.25705\",\"-0.14452\",\"-0.41029\",\"-0.60744\",\"-0.44768\",\"-0.16875\",\"-0.14452\",\"-0.41029\",\"-0.60744\",\"-0.74092\",\"-0.65411\",\"-1\",\"-0.41029\",\"-0.60744\",\"-0.90715\",\"-0.91851\",\"-0.86891\",\"-0.41029\",\"-0.60744\",\"-0.67923\",\"-0.91266\",\"-0.86891\",\"-0.41029\",\"-0.60744\",\"-0.62756\",\"-0.81284\",\"-0.86891\",\"-0.41029\",\"-0.60744\",\"-0.67521\",\"-0.38435\",\"-0.86891\",\"-0.41029\",\"-0.60744\",\"-0.96624\",\"-0.16251\",\"-0.86891\",\"-0.41029\",\"-0.60744\",\"-0.90715\",\"-0.86281\",\"-0.7738\",\"-0.41029\",\"-0.60744\",\"-0.86502\",\"-0.52236\",\"-0.7738\",\"-0.41029\",\"-0.60744\",\"-0.92029\",\"-1\",\"-0.52348\",\"-0.41029\",\"-0.60744\",\"-0.62756\",\"-0.76355\",\"-0.52348\",\"-0.41029\",\"-0.60744\",\"-0.67933\",\"0.020537\",\"-0.52348\",\"-0.41029\",\"-0.60744\",\"-0.94385\",\"-0.62409\",\"-0.93263\",\"-0.41029\",\"-0.60744\",\"-1\",\"-0.90398\",\"-0.93263\",\"-0.41029\",\"-0.60744\",\"-0.72145\",\"-0.98156\",\"-0.93263\",\"-0.41029\",\"-0.60744\",\"-0.83382\",\"-0.7068\",\"-0.93263\",\"-0.41029\",\"-0.60744\",\"-0.86157\",\"-0.32612\",\"-0.93263\",\"-0.41029\",\"-0.60744\",\"-0.90715\",\"-0.94717\",\"-0.71486\",\"-0.41029\",\"-0.60744\",\"0.75531\",\"-0.44719\",\"-0.71486\",\"-0.41029\",\"-0.60744\",\"-0.1553\",\"-0.16009\",\"-0.71486\",\"-0.41029\",\"-0.60744\",\"-0.84804\",\"0.010439\",\"-0.71486\",\"-0.41029\",\"-0.60744\",\"-0.86535\",\"-0.33791\",\"-0.10202\",\"-0.41029\",\"-0.60744\"],\"zvalues\":{\"__ndarray__\":\"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\",\"dtype\":\"float32\",\"shape\":[650]}}},\"id\":\"327f2b0e-2adb-47e1-a68d-bd90d74cb6e1\",\"type\":\"ColumnDataSource\"},{\"attributes\":{\"source\":{\"id\":\"6bbc5a3c-8d8a-4b7e-9b9c-0ea3007d0d6f\",\"type\":\"ColumnDataSource\"}},\"id\":\"a0ad7c08-5a02-43b2-b06e-06313f1536ea\",\"type\":\"CDSView\"},{\"attributes\":{},\"id\":\"86329e24-abc5-4ad3-a3bf-ad22c6cf4ec8\",\"type\":\"CategoricalTickFormatter\"},{\"attributes\":{\"children\":[{\"id\":\"2b1b3ae3-c515-44fa-b538-da328b10f8af\",\"subtype\":\"Figure\",\"type\":\"Plot\"}]},\"id\":\"9727f8fc-3f1e-46da-9d28-32918f562f2e\",\"type\":\"Row\"},{\"attributes\":{\"high\":1.0,\"low\":3.700269900533956e-32,\"nan_color\":\"white\",\"palette\":[\"#fff5f0\",\"#fef4ef\",\"#fef3ee\",\"#fef3ed\",\"#fef2ec\",\"#fef1eb\",\"#fef1ea\",\"#fef0e9\",\"#feefe8\",\"#feefe7\",\"#feeee6\",\"#feede5\",\"#feede4\",\"#feece3\",\"#feebe2\",\"#feebe1\",\"#feeae0\",\"#fee9e0\",\"#fee9df\",\"#fee8de\",\"#fee7dd\",\"#fee7dc\",\"#fee6db\",\"#fee5da\",\"#fee5d9\",\"#fee4d8\",\"#fee3d7\",\"#fee3d6\",\"#fee2d5\",\"#fee1d4\",\"#fee1d3\",\"#fee0d2\",\"#fddfd1\",\"#fdded0\",\"#fdddce\",\"#fddccd\",\"#fddbcb\",\"#fddaca\",\"#fdd8c8\",\"#fdd7c7\",\"#fdd6c5\",\"#fdd5c3\",\"#fdd4c2\",\"#fdd3c0\",\"#fdd1bf\",\"#fdd0bd\",\"#fdcfbc\",\"#fdceba\",\"#fccdb9\",\"#fcccb7\",\"#fccab6\",\"#fcc9b4\",\"#fcc8b3\",\"#fcc7b1\",\"#fcc6af\",\"#fcc5ae\",\"#fcc3ac\",\"#fcc2ab\",\"#fcc1a9\",\"#fcc0a8\",\"#fcbfa6\",\"#fcbea5\",\"#fcbda3\",\"#fcbba2\",\"#fcbaa0\",\"#fcb99f\",\"#fcb89d\",\"#fcb69c\",\"#fcb59a\",\"#fcb499\",\"#fcb297\",\"#fcb196\",\"#fcb094\",\"#fcaf93\",\"#fcad91\",\"#fcac90\",\"#fcab8e\",\"#fca98d\",\"#fca88b\",\"#fca78a\",\"#fca689\",\"#fca487\",\"#fca386\",\"#fca284\",\"#fca083\",\"#fc9f81\",\"#fc9e80\",\"#fc9d7e\",\"#fc9b7d\",\"#fc9a7b\",\"#fc997a\",\"#fc9778\",\"#fc9677\",\"#fc9575\",\"#fc9474\",\"#fc9272\",\"#fb9171\",\"#fb9070\",\"#fb8f6f\",\"#fb8d6d\",\"#fb8c6c\",\"#fb8b6b\",\"#fb8a6a\",\"#fb8868\",\"#fb8767\",\"#fb8666\",\"#fb8464\",\"#fb8363\",\"#fb8262\",\"#fb8161\",\"#fb7f5f\",\"#fb7e5e\",\"#fb7d5d\",\"#fb7c5c\",\"#fb7a5a\",\"#fb7959\",\"#fb7858\",\"#fb7757\",\"#fb7555\",\"#fb7454\",\"#fb7353\",\"#fb7252\",\"#fb7050\",\"#fb6f4f\",\"#fb6e4e\",\"#fb6d4d\",\"#fb6b4b\",\"#fb6a4a\",\"#fa6949\",\"#fa6748\",\"#fa6647\",\"#f96446\",\"#f96345\",\"#f86144\",\"#f86043\",\"#f85e42\",\"#f75d42\",\"#f75b41\",\"#f75a40\",\"#f6593f\",\"#f6573e\",\"#f5563d\",\"#f5543c\",\"#f5533b\",\"#f4513a\",\"#f45039\",\"#f44e38\",\"#f34d37\",\"#f34b36\",\"#f24a35\",\"#f24834\",\"#f24733\",\"#f14532\",\"#f14432\",\"#f14231\",\"#f04130\",\"#f03f2f\",\"#ef3e2e\",\"#ef3d2d\",\"#ef3b2c\",\"#ee3a2b\",\"#ed392b\",\"#ec382a\",\"#ea372a\",\"#e93529\",\"#e83429\",\"#e73328\",\"#e63228\",\"#e53127\",\"#e43027\",\"#e32f27\",\"#e12e26\",\"#e02d26\",\"#df2c25\",\"#de2a25\",\"#dd2924\",\"#dc2824\",\"#db2723\",\"#d92623\",\"#d82522\",\"#d72422\",\"#d62321\",\"#d52221\",\"#d42120\",\"#d31f20\",\"#d21e1f\",\"#d01d1f\",\"#cf1c1f\",\"#ce1b1e\",\"#cd1a1e\",\"#cc191d\",\"#cb181d\",\"#ca171c\",\"#c8171c\",\"#c7171c\",\"#c6161c\",\"#c5161b\",\"#c4161b\",\"#c2161b\",\"#c1151b\",\"#c0151a\",\"#bf151a\",\"#be141a\",\"#bc141a\",\"#bb1419\",\"#ba1419\",\"#b91319\",\"#b81319\",\"#b71318\",\"#b51218\",\"#b41218\",\"#b31218\",\"#b21217\",\"#b11117\",\"#af1117\",\"#ae1117\",\"#ad1116\",\"#ac1016\",\"#ab1016\",\"#a91016\",\"#a80f15\",\"#a70f15\",\"#a60f15\",\"#a50f15\",\"#a30e14\",\"#a10e14\",\"#9f0d14\",\"#9d0d14\",\"#9b0c13\",\"#990c13\",\"#970b13\",\"#950b13\",\"#930a12\",\"#910a12\",\"#8f0912\",\"#8d0912\",\"#8b0811\",\"#8a0811\",\"#880811\",\"#860711\",\"#840710\",\"#820610\",\"#800610\",\"#7e0510\",\"#7c050f\",\"#7a040f\",\"#78040f\",\"#76030f\",\"#74030e\",\"#72020e\",\"#70020e\",\"#6e010e\",\"#6c010d\",\"#6a000d\",\"#68000d\",\"#67000c\"]},\"id\":\"b2e35a38-148b-4fc2-9ac9-304204b89844\",\"type\":\"LinearColorMapper\"},{\"attributes\":{\"callback\":null,\"factors\":[\"0\",\"1\"]},\"id\":\"ba84e416-ee91-47b2-ac5f-a1af50901358\",\"type\":\"FactorRange\"},{\"attributes\":{\"callback\":null,\"column_names\":[\"Tokens\",\"Probs\",\"zvalues\",\"z\"],\"data\":{\"Probs\":[\"0\",\"1\",\"2\",\"3\",\"4\",\"5\",\"6\",\"7\",\"8\",\"9\",\"0\",\"1\",\"2\",\"3\",\"4\",\"5\",\"6\",\"7\",\"8\",\"9\",\"0\",\"1\",\"2\",\"3\",\"4\",\"5\",\"6\",\"7\",\"8\",\"9\",\"0\",\"1\",\"2\",\"3\",\"4\",\"5\",\"6\",\"7\",\"8\",\"9\",\"0\",\"1\",\"2\",\"3\",\"4\",\"5\",\"6\",\"7\",\"8\",\"9\",\"0\",\"1\",\"2\",\"3\",\"4\",\"5\",\"6\",\"7\",\"8\",\"9\",\"0\",\"1\",\"2\",\"3\",\"4\",\"5\",\"6\",\"7\",\"8\",\"9\",\"0\",\"1\",\"2\",\"3\",\"4\",\"5\",\"6\",\"7\",\"8\",\"9\",\"0\",\"1\",\"2\",\"3\",\"4\",\"5\",\"6\",\"7\",\"8\",\"9\",\"0\",\"1\",\"2\",\"3\",\"4\",\"5\",\"6\",\"7\",\"8\",\"9\",\"0\",\"1\",\"2\",\"3\",\"4\",\"5\",\"6\",\"7\",\"8\",\"9\",\"0\",\"1\",\"2\",\"3\",\"4\",\"5\",\"6\",\"7\",\"8\",\"9\",\"0\",\"1\",\"2\",\"3\",\"4\",\"5\",\"6\",\"7\",\"8\",\"9\",\"0\",\"1\",\"2\",\"3\",\"4\",\"5\",\"6\",\"7\",\"8\",\"9\",\"0\",\"1\",\"2\",\"3\",\"4\",\"5\",\"6\",\"7\",\"8\",\"9\",\"0\",\"1\",\"2\",\"3\",\"4\",\"5\",\"6\",\"7\",\"8\",\"9\",\"0\",\"1\",\"2\",\"3\",\"4\",\"5\",\"6\",\"7\",\"8\",\"9\",\"0\",\"1\",\"2\",\"3\",\"4\",\"5\",\"6\",\"7\",\"8\",\"9\",\"0\",\"1\",\"2\",\"3\",\"4\",\"5\",\"6\",\"7\",\"8\",\"9\",\"0\",\"1\",\"2\",\"3\",\"4\",\"5\",\"6\",\"7\",\"8\",\"9\",\"0\",\"1\",\"2\",\"3\",\"4\",\"5\",\"6\",\"7\",\"8\",\"9\",\"0\",\"1\",\"2\",\"3\",\"4\",\"5\",\"6\",\"7\",\"8\",\"9\",\"0\",\"1\",\"2\",\"3\",\"4\",\"5\",\"6\",\"7\",\"8\",\"9\",\"0\",\"1\",\"2\",\"3\",\"4\",\"5\",\"6\",\"7\",\"8\",\"9\",\"0\",\"1\",\"2\",\"3\",\"4\",\"5\",\"6\",\"7\",\"8\",\"9\",\"0\",\"1\",\"2\",\"3\",\"4\",\"5\",\"6\",\"7\",\"8\",\"9\",\"0\",\"1\",\"2\",\"3\",\"4\",\"5\",\"6\",\"7\",\"8\",\"9\",\"0\",\"1\",\"2\",\"3\",\"4\",\"5\",\"6\",\"7\",\"8\",\"9\",\"0\",\"1\",\"2\",\"3\",\"4\",\"5\",\"6\",\"7\",\"8\",\"9\",\"0\",\"1\",\"2\",\"3\",\"4\",\"5\",\"6\",\"7\",\"8\",\"9\",\"0\",\"1\",\"2\",\"3\",\"4\",\"5\",\"6\",\"7\",\"8\",\"9\",\"0\",\"1\",\"2\",\"3\",\"4\",\"5\",\"6\",\"7\",\"8\",\"9\",\"0\",\"1\",\"2\",\"3\",\"4\",\"5\",\"6\",\"7\",\"8\",\"9\",\"0\",\"1\",\"2\",\"3\",\"4\",\"5\",\"6\",\"7\",\"8\",\"9\",\"0\",\"1\",\"2\",\"3\",\"4\",\"5\",\"6\",\"7\",\"8\",\"9\",\"0\",\"1\",\"2\",\"3\",\"4\",\"5\",\"6\",\"7\",\"8\",\"9\",\"0\",\"1\",\"2\",\"3\",\"4\",\"5\",\"6\",\"7\",\"8\",\"9\",\"0\",\"1\",\"2\",\"3\",\"4\",\"5\",\"6\",\"7\",\"8\",\"9\",\"0\",\"1\",\"2\",\"3\",\"4\",\"5\",\"6\",\"7\",\"8\",\"9\",\"0\",\"1\",\"2\",\"3\",\"4\",\"5\",\"6\",\"7\",\"8\",\"9\",\"0\",\"1\",\"2\",\"3\",\"4\",\"5\",\"6\",\"7\",\"8\",\"9\",\"0\",\"1\",\"2\",\"3\",\"4\",\"5\",\"6\",\"7\",\"8\",\"9\",\"0\",\"1\",\"2\",\"3\",\"4\",\"5\",\"6\",\"7\",\"8\",\"9\",\"0\",\"1\",\"2\",\"3\",\"4\",\"5\",\"6\",\"7\",\"8\",\"9\",\"0\",\"1\",\"2\",\"3\",\"4\",\"5\",\"6\",\"7\",\"8\",\"9\",\"0\",\"1\",\"2\",\"3\",\"4\",\"5\",\"6\",\"7\",\"8\",\"9\",\"0\",\"1\",\"2\",\"3\",\"4\",\"5\",\"6\",\"7\",\"8\",\"9\",\"0\",\"1\",\"2\",\"3\",\"4\",\"5\",\"6\",\"7\",\"8\",\"9\",\"0\",\"1\",\"2\",\"3\",\"4\",\"5\",\"6\",\"7\",\"8\",\"9\",\"0\",\"1\",\"2\",\"3\",\"4\",\"5\",\"6\",\"7\",\"8\",\"9\",\"0\",\"1\",\"2\",\"3\",\"4\",\"5\",\"6\",\"7\",\"8\",\"9\",\"0\",\"1\",\"2\",\"3\",\"4\",\"5\",\"6\",\"7\",\"8\",\"9\",\"0\",\"1\",\"2\",\"3\",\"4\",\"5\",\"6\",\"7\",\"8\",\"9\",\"0\",\"1\",\"2\",\"3\",\"4\",\"5\",\"6\",\"7\",\"8\",\"9\",\"0\",\"1\",\"2\",\"3\",\"4\",\"5\",\"6\",\"7\",\"8\",\"9\",\"0\",\"1\",\"2\",\"3\",\"4\",\"5\",\"6\",\"7\",\"8\",\"9\",\"0\",\"1\",\"2\",\"3\",\"4\",\"5\",\"6\",\"7\",\"8\",\"9\",\"0\",\"1\",\"2\",\"3\",\"4\",\"5\",\"6\",\"7\",\"8\",\"9\",\"0\",\"1\",\"2\",\"3\",\"4\",\"5\",\"6\",\"7\",\"8\",\"9\",\"0\",\"1\",\"2\",\"3\",\"4\",\"5\",\"6\",\"7\",\"8\",\"9\",\"0\",\"1\",\"2\",\"3\",\"4\",\"5\",\"6\",\"7\",\"8\",\"9\",\"0\",\"1\",\"2\",\"3\",\"4\",\"5\",\"6\",\"7\",\"8\",\"9\",\"0\",\"1\",\"2\",\"3\",\"4\",\"5\",\"6\",\"7\",\"8\",\"9\",\"0\",\"1\",\"2\",\"3\",\"4\",\"5\",\"6\",\"7\",\"8\",\"9\",\"0\",\"1\",\"2\",\"3\",\"4\",\"5\",\"6\",\"7\",\"8\",\"9\",\"0\",\"1\",\"2\",\"3\",\"4\",\"5\",\"6\",\"7\",\"8\",\"9\",\"0\",\"1\",\"2\",\"3\",\"4\",\"5\",\"6\",\"7\",\"8\",\"9\",\"0\",\"1\",\"2\",\"3\",\"4\",\"5\",\"6\",\"7\",\"8\",\"9\",\"0\",\"1\",\"2\",\"3\",\"4\",\"5\",\"6\",\"7\",\"8\",\"9\",\"0\",\"1\",\"2\",\"3\",\"4\",\"5\",\"6\",\"7\",\"8\",\"9\",\"0\",\"1\",\"2\",\"3\",\"4\",\"5\",\"6\",\"7\",\"8\",\"9\",\"0\",\"1\",\"2\",\"3\",\"4\",\"5\",\"6\",\"7\",\"8\",\"9\",\"0\",\"1\",\"2\",\"3\",\"4\",\"5\",\"6\",\"7\",\"8\",\"9\",\"0\",\"1\",\"2\",\"3\",\"4\",\"5\",\"6\",\"7\",\"8\",\"9\",\"0\",\"1\",\"2\",\"3\",\"4\",\"5\",\"6\",\"7\",\"8\",\"9\",\"0\",\"1\",\"2\",\"3\",\"4\",\"5\",\"6\",\"7\",\"8\",\"9\",\"0\",\"1\",\"2\",\"3\",\"4\",\"5\",\"6\",\"7\",\"8\",\"9\",\"0\",\"1\",\"2\",\"3\",\"4\",\"5\",\"6\",\"7\",\"8\",\"9\",\"0\",\"1\",\"2\",\"3\",\"4\",\"5\",\"6\",\"7\",\"8\",\"9\",\"0\",\"1\",\"2\",\"3\",\"4\",\"5\",\"6\",\"7\",\"8\",\"9\",\"0\",\"1\",\"2\",\"3\",\"4\",\"5\",\"6\",\"7\",\"8\",\"9\",\"0\",\"1\",\"2\",\"3\",\"4\",\"5\",\"6\",\"7\",\"8\",\"9\",\"0\",\"1\",\"2\",\"3\",\"4\",\"5\",\"6\",\"7\",\"8\",\"9\",\"0\",\"1\",\"2\",\"3\",\"4\",\"5\",\"6\",\"7\",\"8\",\"9\",\"0\",\"1\",\"2\",\"3\",\"4\",\"5\",\"6\",\"7\",\"8\",\"9\",\"0\",\"1\",\"2\",\"3\",\"4\",\"5\",\"6\",\"7\",\"8\",\"9\",\"0\",\"1\",\"2\",\"3\",\"4\",\"5\",\"6\",\"7\",\"8\",\"9\",\"0\",\"1\",\"2\",\"3\",\"4\",\"5\",\"6\",\"7\",\"8\",\"9\",\"0\",\"1\",\"2\",\"3\",\"4\",\"5\",\"6\",\"7\",\"8\",\"9\",\"0\",\"1\",\"2\",\"3\",\"4\",\"5\",\"6\",\"7\",\"8\",\"9\",\"0\",\"1\",\"2\",\"3\",\"4\",\"5\",\"6\",\"7\",\"8\",\"9\",\"0\",\"1\",\"2\",\"3\",\"4\",\"5\",\"6\",\"7\",\"8\",\"9\",\"0\",\"1\",\"2\",\"3\",\"4\",\"5\",\"6\",\"7\",\"8\",\"9\",\"0\",\"1\",\"2\",\"3\",\"4\",\"5\",\"6\",\"7\",\"8\",\"9\",\"0\",\"1\",\"2\",\"3\",\"4\",\"5\",\"6\",\"7\",\"8\",\"9\",\"0\",\"1\",\"2\",\"3\",\"4\",\"5\",\"6\",\"7\",\"8\",\"9\",\"0\",\"1\",\"2\",\"3\",\"4\",\"5\",\"6\",\"7\",\"8\",\"9\",\"0\",\"1\",\"2\",\"3\",\"4\",\"5\",\"6\",\"7\",\"8\",\"9\",\"0\",\"1\",\"2\",\"3\",\"4\",\"5\",\"6\",\"7\",\"8\",\"9\",\"0\",\"1\",\"2\",\"3\",\"4\",\"5\",\"6\",\"7\",\"8\",\"9\",\"0\",\"1\",\"2\",\"3\",\"4\",\"5\",\"6\",\"7\",\"8\",\"9\",\"0\",\"1\",\"2\",\"3\",\"4\",\"5\",\"6\",\"7\",\"8\",\"9\",\"0\",\"1\",\"2\",\"3\",\"4\",\"5\",\"6\",\"7\",\"8\",\"9\",\"0\",\"1\",\"2\",\"3\",\"4\",\"5\",\"6\",\"7\",\"8\",\"9\",\"0\",\"1\",\"2\",\"3\",\"4\",\"5\",\"6\",\"7\",\"8\",\"9\",\"0\",\"1\",\"2\",\"3\",\"4\",\"5\",\"6\",\"7\",\"8\",\"9\",\"0\",\"1\",\"2\",\"3\",\"4\",\"5\",\"6\",\"7\",\"8\",\"9\",\"0\",\"1\",\"2\",\"3\",\"4\",\"5\",\"6\",\"7\",\"8\",\"9\",\"0\",\"1\",\"2\",\"3\",\"4\",\"5\",\"6\",\"7\",\"8\",\"9\",\"0\",\"1\",\"2\",\"3\",\"4\",\"5\",\"6\",\"7\",\"8\",\"9\",\"0\",\"1\",\"2\",\"3\",\"4\",\"5\",\"6\",\"7\",\"8\",\"9\",\"0\",\"1\",\"2\",\"3\",\"4\",\"5\",\"6\",\"7\",\"8\",\"9\",\"0\",\"1\",\"2\",\"3\",\"4\",\"5\",\"6\",\"7\",\"8\",\"9\",\"0\",\"1\",\"2\",\"3\",\"4\",\"5\",\"6\",\"7\",\"8\",\"9\",\"0\",\"1\",\"2\",\"3\",\"4\",\"5\",\"6\",\"7\",\"8\",\"9\",\"0\",\"1\",\"2\",\"3\",\"4\",\"5\",\"6\",\"7\",\"8\",\"9\",\"0\",\"1\",\"2\",\"3\",\"4\",\"5\",\"6\",\"7\",\"8\",\"9\",\"0\",\"1\",\"2\",\"3\",\"4\",\"5\",\"6\",\"7\",\"8\",\"9\",\"0\",\"1\",\"2\",\"3\",\"4\",\"5\",\"6\",\"7\",\"8\",\"9\",\"0\",\"1\",\"2\",\"3\",\"4\",\"5\",\"6\",\"7\",\"8\",\"9\",\"0\",\"1\",\"2\",\"3\",\"4\",\"5\",\"6\",\"7\",\"8\",\"9\",\"0\",\"1\",\"2\",\"3\",\"4\",\"5\",\"6\",\"7\",\"8\",\"9\",\"0\",\"1\",\"2\",\"3\",\"4\",\"5\",\"6\",\"7\",\"8\",\"9\",\"0\",\"1\",\"2\",\"3\",\"4\",\"5\",\"6\",\"7\",\"8\",\"9\",\"0\",\"1\",\"2\",\"3\",\"4\",\"5\",\"6\",\"7\",\"8\",\"9\",\"0\",\"1\",\"2\",\"3\",\"4\",\"5\",\"6\",\"7\",\"8\",\"9\",\"0\",\"1\",\"2\",\"3\",\"4\",\"5\",\"6\",\"7\",\"8\",\"9\",\"0\",\"1\",\"2\",\"3\",\"4\",\"5\",\"6\",\"7\",\"8\",\"9\",\"0\",\"1\",\"2\",\"3\",\"4\",\"5\",\"6\",\"7\",\"8\",\"9\",\"0\",\"1\",\"2\",\"3\",\"4\",\"5\",\"6\",\"7\",\"8\",\"9\"],\"Tokens\":[\"The   0\",\"The   0\",\"The   0\",\"The   0\",\"The   0\",\"The   0\",\"The   0\",\"The   0\",\"The   0\",\"The   0\",\"league   1\",\"league   1\",\"league   1\",\"league   1\",\"league   1\",\"league   1\",\"league   1\",\"league   1\",\"league   1\",\"league   1\",\"announced   2\",\"announced   2\",\"announced   2\",\"announced   2\",\"announced   2\",\"announced   2\",\"announced   2\",\"announced   2\",\"announced   2\",\"announced   2\",\"on   3\",\"on   3\",\"on   3\",\"on   3\",\"on   3\",\"on   3\",\"on   3\",\"on   3\",\"on   3\",\"on   3\",\"October   4\",\"October   4\",\"October   4\",\"October   4\",\"October   4\",\"October   4\",\"October   4\",\"October   4\",\"October   4\",\"October   4\",\"16   5\",\"16   5\",\"16   5\",\"16   5\",\"16   5\",\"16   5\",\"16   5\",\"16   5\",\"16   5\",\"16   5\",\",   6\",\",   6\",\",   6\",\",   6\",\",   6\",\",   6\",\",   6\",\",   6\",\",   6\",\",   6\",\"2012   7\",\"2012   7\",\"2012   7\",\"2012   7\",\"2012   7\",\"2012   7\",\"2012   7\",\"2012   7\",\"2012   7\",\"2012   7\",\",   8\",\",   8\",\",   8\",\",   8\",\",   8\",\",   8\",\",   8\",\",   8\",\",   8\",\",   8\",\"that   9\",\"that   9\",\"that   9\",\"that   9\",\"that   9\",\"that   9\",\"that   9\",\"that   9\",\"that   9\",\"that   9\",\"the   10\",\"the   10\",\"the   10\",\"the   10\",\"the   10\",\"the   10\",\"the   10\",\"the   10\",\"the   10\",\"the   10\",\"two   11\",\"two   11\",\"two   11\",\"two   11\",\"two   11\",\"two   11\",\"two   11\",\"two   11\",\"two   11\",\"two   11\",\"finalists   12\",\"finalists   12\",\"finalists   12\",\"finalists   12\",\"finalists   12\",\"finalists   12\",\"finalists   12\",\"finalists   12\",\"finalists   12\",\"finalists   12\",\"were   13\",\"were   13\",\"were   13\",\"were   13\",\"were   13\",\"were   13\",\"were   13\",\"were   13\",\"were   13\",\"were   13\",\"Sun   14\",\"Sun   14\",\"Sun   14\",\"Sun   14\",\"Sun   14\",\"Sun   14\",\"Sun   14\",\"Sun   14\",\"Sun   14\",\"Sun   14\",\"Life   15\",\"Life   15\",\"Life   15\",\"Life   15\",\"Life   15\",\"Life   15\",\"Life   15\",\"Life   15\",\"Life   15\",\"Life   15\",\"Stadium   16\",\"Stadium   16\",\"Stadium   16\",\"Stadium   16\",\"Stadium   16\",\"Stadium   16\",\"Stadium   16\",\"Stadium   16\",\"Stadium   16\",\"Stadium   16\",\"and   17\",\"and   17\",\"and   17\",\"and   17\",\"and   17\",\"and   17\",\"and   17\",\"and   17\",\"and   17\",\"and   17\",\"Levi   18\",\"Levi   18\",\"Levi   18\",\"Levi   18\",\"Levi   18\",\"Levi   18\",\"Levi   18\",\"Levi   18\",\"Levi   18\",\"Levi   18\",\"'s   19\",\"'s   19\",\"'s   19\",\"'s   19\",\"'s   19\",\"'s   19\",\"'s   19\",\"'s   19\",\"'s   19\",\"'s   19\",\"Stadium   20\",\"Stadium   20\",\"Stadium   20\",\"Stadium   20\",\"Stadium   20\",\"Stadium   20\",\"Stadium   20\",\"Stadium   20\",\"Stadium   20\",\"Stadium   20\",\".   21\",\".   21\",\".   21\",\".   21\",\".   21\",\".   21\",\".   21\",\".   21\",\".   21\",\".   21\",\"The   22\",\"The   22\",\"The   22\",\"The   22\",\"The   22\",\"The   22\",\"The   22\",\"The   22\",\"The   22\",\"The   22\",\"South   23\",\"South   23\",\"South   23\",\"South   23\",\"South   23\",\"South   23\",\"South   23\",\"South   23\",\"South   23\",\"South   23\",\"Florida   24\",\"Florida   24\",\"Florida   24\",\"Florida   24\",\"Florida   24\",\"Florida   24\",\"Florida   24\",\"Florida   24\",\"Florida   24\",\"Florida   24\",\"/   25\",\"/   25\",\"/   25\",\"/   25\",\"/   25\",\"/   25\",\"/   25\",\"/   25\",\"/   25\",\"/   25\",\"Miami   26\",\"Miami   26\",\"Miami   26\",\"Miami   26\",\"Miami   26\",\"Miami   26\",\"Miami   26\",\"Miami   26\",\"Miami   26\",\"Miami   26\",\"area   27\",\"area   27\",\"area   27\",\"area   27\",\"area   27\",\"area   27\",\"area   27\",\"area   27\",\"area   27\",\"area   27\",\"has   28\",\"has   28\",\"has   28\",\"has   28\",\"has   28\",\"has   28\",\"has   28\",\"has   28\",\"has   28\",\"has   28\",\"previously   29\",\"previously   29\",\"previously   29\",\"previously   29\",\"previously   29\",\"previously   29\",\"previously   29\",\"previously   29\",\"previously   29\",\"previously   29\",\"hosted   30\",\"hosted   30\",\"hosted   30\",\"hosted   30\",\"hosted   30\",\"hosted   30\",\"hosted   30\",\"hosted   30\",\"hosted   30\",\"hosted   30\",\"the   31\",\"the   31\",\"the   31\",\"the   31\",\"the   31\",\"the   31\",\"the   31\",\"the   31\",\"the   31\",\"the   31\",\"event   32\",\"event   32\",\"event   32\",\"event   32\",\"event   32\",\"event   32\",\"event   32\",\"event   32\",\"event   32\",\"event   32\",\"10   33\",\"10   33\",\"10   33\",\"10   33\",\"10   33\",\"10   33\",\"10   33\",\"10   33\",\"10   33\",\"10   33\",\"times   34\",\"times   34\",\"times   34\",\"times   34\",\"times   34\",\"times   34\",\"times   34\",\"times   34\",\"times   34\",\"times   34\",\"(   35\",\"(   35\",\"(   35\",\"(   35\",\"(   35\",\"(   35\",\"(   35\",\"(   35\",\"(   35\",\"(   35\",\"tied   36\",\"tied   36\",\"tied   36\",\"tied   36\",\"tied   36\",\"tied   36\",\"tied   36\",\"tied   36\",\"tied   36\",\"tied   36\",\"for   37\",\"for   37\",\"for   37\",\"for   37\",\"for   37\",\"for   37\",\"for   37\",\"for   37\",\"for   37\",\"for   37\",\"most   38\",\"most   38\",\"most   38\",\"most   38\",\"most   38\",\"most   38\",\"most   38\",\"most   38\",\"most   38\",\"most   38\",\"with   39\",\"with   39\",\"with   39\",\"with   39\",\"with   39\",\"with   39\",\"with   39\",\"with   39\",\"with   39\",\"with   39\",\"New   40\",\"New   40\",\"New   40\",\"New   40\",\"New   40\",\"New   40\",\"New   40\",\"New   40\",\"New   40\",\"New   40\",\"Orleans   41\",\"Orleans   41\",\"Orleans   41\",\"Orleans   41\",\"Orleans   41\",\"Orleans   41\",\"Orleans   41\",\"Orleans   41\",\"Orleans   41\",\"Orleans   41\",\")   42\",\")   42\",\")   42\",\")   42\",\")   42\",\")   42\",\")   42\",\")   42\",\")   42\",\")   42\",\",   43\",\",   43\",\",   43\",\",   43\",\",   43\",\",   43\",\",   43\",\",   43\",\",   43\",\",   43\",\"with   44\",\"with   44\",\"with   44\",\"with   44\",\"with   44\",\"with   44\",\"with   44\",\"with   44\",\"with   44\",\"with   44\",\"the   45\",\"the   45\",\"the   45\",\"the   45\",\"the   45\",\"the   45\",\"the   45\",\"the   45\",\"the   45\",\"the   45\",\"most   46\",\"most   46\",\"most   46\",\"most   46\",\"most   46\",\"most   46\",\"most   46\",\"most   46\",\"most   46\",\"most   46\",\"recent   47\",\"recent   47\",\"recent   47\",\"recent   47\",\"recent   47\",\"recent   47\",\"recent   47\",\"recent   47\",\"recent   47\",\"recent   47\",\"one   48\",\"one   48\",\"one   48\",\"one   48\",\"one   48\",\"one   48\",\"one   48\",\"one   48\",\"one   48\",\"one   48\",\"being   49\",\"being   49\",\"being   49\",\"being   49\",\"being   49\",\"being   49\",\"being   49\",\"being   49\",\"being   49\",\"being   49\",\"Super   50\",\"Super   50\",\"Super   50\",\"Super   50\",\"Super   50\",\"Super   50\",\"Super   50\",\"Super   50\",\"Super   50\",\"Super   50\",\"Bowl   51\",\"Bowl   51\",\"Bowl   51\",\"Bowl   51\",\"Bowl   51\",\"Bowl   51\",\"Bowl   51\",\"Bowl   51\",\"Bowl   51\",\"Bowl   51\",\"XLIV   52\",\"XLIV   52\",\"XLIV   52\",\"XLIV   52\",\"XLIV   52\",\"XLIV   52\",\"XLIV   52\",\"XLIV   52\",\"XLIV   52\",\"XLIV   52\",\"in   53\",\"in   53\",\"in   53\",\"in   53\",\"in   53\",\"in   53\",\"in   53\",\"in   53\",\"in   53\",\"in   53\",\"2010   54\",\"2010   54\",\"2010   54\",\"2010   54\",\"2010   54\",\"2010   54\",\"2010   54\",\"2010   54\",\"2010   54\",\"2010   54\",\".   55\",\".   55\",\".   55\",\".   55\",\".   55\",\".   55\",\".   55\",\".   55\",\".   55\",\".   55\",\"The   56\",\"The   56\",\"The   56\",\"The   56\",\"The   56\",\"The   56\",\"The   56\",\"The   56\",\"The   56\",\"The   56\",\"San   57\",\"San   57\",\"San   57\",\"San   57\",\"San   57\",\"San   57\",\"San   57\",\"San   57\",\"San   57\",\"San   57\",\"Francisco   58\",\"Francisco   58\",\"Francisco   58\",\"Francisco   58\",\"Francisco   58\",\"Francisco   58\",\"Francisco   58\",\"Francisco   58\",\"Francisco   58\",\"Francisco   58\",\"Bay   59\",\"Bay   59\",\"Bay   59\",\"Bay   59\",\"Bay   59\",\"Bay   59\",\"Bay   59\",\"Bay   59\",\"Bay   59\",\"Bay   59\",\"Area   60\",\"Area   60\",\"Area   60\",\"Area   60\",\"Area   60\",\"Area   60\",\"Area   60\",\"Area   60\",\"Area   60\",\"Area   60\",\"last   61\",\"last   61\",\"last   61\",\"last   61\",\"last   61\",\"last   61\",\"last   61\",\"last   61\",\"last   61\",\"last   61\",\"hosted   62\",\"hosted   62\",\"hosted   62\",\"hosted   62\",\"hosted   62\",\"hosted   62\",\"hosted   62\",\"hosted   62\",\"hosted   62\",\"hosted   62\",\"in   63\",\"in   63\",\"in   63\",\"in   63\",\"in   63\",\"in   63\",\"in   63\",\"in   63\",\"in   63\",\"in   63\",\"1985   64\",\"1985   64\",\"1985   64\",\"1985   64\",\"1985   64\",\"1985   64\",\"1985   64\",\"1985   64\",\"1985   64\",\"1985   64\",\"(   65\",\"(   65\",\"(   65\",\"(   65\",\"(   65\",\"(   65\",\"(   65\",\"(   65\",\"(   65\",\"(   65\",\"Super   66\",\"Super   66\",\"Super   66\",\"Super   66\",\"Super   66\",\"Super   66\",\"Super   66\",\"Super   66\",\"Super   66\",\"Super   66\",\"Bowl   67\",\"Bowl   67\",\"Bowl   67\",\"Bowl   67\",\"Bowl   67\",\"Bowl   67\",\"Bowl   67\",\"Bowl   67\",\"Bowl   67\",\"Bowl   67\",\"XIX   68\",\"XIX   68\",\"XIX   68\",\"XIX   68\",\"XIX   68\",\"XIX   68\",\"XIX   68\",\"XIX   68\",\"XIX   68\",\"XIX   68\",\")   69\",\")   69\",\")   69\",\")   69\",\")   69\",\")   69\",\")   69\",\")   69\",\")   69\",\")   69\",\",   70\",\",   70\",\",   70\",\",   70\",\",   70\",\",   70\",\",   70\",\",   70\",\",   70\",\",   70\",\"held   71\",\"held   71\",\"held   71\",\"held   71\",\"held   71\",\"held   71\",\"held   71\",\"held   71\",\"held   71\",\"held   71\",\"at   72\",\"at   72\",\"at   72\",\"at   72\",\"at   72\",\"at   72\",\"at   72\",\"at   72\",\"at   72\",\"at   72\",\"Stanford   73\",\"Stanford   73\",\"Stanford   73\",\"Stanford   73\",\"Stanford   73\",\"Stanford   73\",\"Stanford   73\",\"Stanford   73\",\"Stanford   73\",\"Stanford   73\",\"Stadium   74\",\"Stadium   74\",\"Stadium   74\",\"Stadium   74\",\"Stadium   74\",\"Stadium   74\",\"Stadium   74\",\"Stadium   74\",\"Stadium   74\",\"Stadium   74\",\"in   75\",\"in   75\",\"in   75\",\"in   75\",\"in   75\",\"in   75\",\"in   75\",\"in   75\",\"in   75\",\"in   75\",\"Stanford   76\",\"Stanford   76\",\"Stanford   76\",\"Stanford   76\",\"Stanford   76\",\"Stanford   76\",\"Stanford   76\",\"Stanford   76\",\"Stanford   76\",\"Stanford   76\",\",   77\",\",   77\",\",   77\",\",   77\",\",   77\",\",   77\",\",   77\",\",   77\",\",   77\",\",   77\",\"California   78\",\"California   78\",\"California   78\",\"California   78\",\"California   78\",\"California   78\",\"California   78\",\"California   78\",\"California   78\",\"California   78\",\",   79\",\",   79\",\",   79\",\",   79\",\",   79\",\",   79\",\",   79\",\",   79\",\",   79\",\",   79\",\"won   80\",\"won   80\",\"won   80\",\"won   80\",\"won   80\",\"won   80\",\"won   80\",\"won   80\",\"won   80\",\"won   80\",\"by   81\",\"by   81\",\"by   81\",\"by   81\",\"by   81\",\"by   81\",\"by   81\",\"by   81\",\"by   81\",\"by   81\",\"the   82\",\"the   82\",\"the   82\",\"the   82\",\"the   82\",\"the   82\",\"the   82\",\"the   82\",\"the   82\",\"the   82\",\"home   83\",\"home   83\",\"home   83\",\"home   83\",\"home   83\",\"home   83\",\"home   83\",\"home   83\",\"home   83\",\"home   83\",\"team   84\",\"team   84\",\"team   84\",\"team   84\",\"team   84\",\"team   84\",\"team   84\",\"team   84\",\"team   84\",\"team   84\",\"49ers   85\",\"49ers   85\",\"49ers   85\",\"49ers   85\",\"49ers   85\",\"49ers   85\",\"49ers   85\",\"49ers   85\",\"49ers   85\",\"49ers   85\",\".   86\",\".   86\",\".   86\",\".   86\",\".   86\",\".   86\",\".   86\",\".   86\",\".   86\",\".   86\",\"The   87\",\"The   87\",\"The   87\",\"The   87\",\"The   87\",\"The   87\",\"The   87\",\"The   87\",\"The   87\",\"The   87\",\"Miami   88\",\"Miami   88\",\"Miami   88\",\"Miami   88\",\"Miami   88\",\"Miami   88\",\"Miami   88\",\"Miami   88\",\"Miami   88\",\"Miami   88\",\"bid   89\",\"bid   89\",\"bid   89\",\"bid   89\",\"bid   89\",\"bid   89\",\"bid   89\",\"bid   89\",\"bid   89\",\"bid   89\",\"depended   90\",\"depended   90\",\"depended   90\",\"depended   90\",\"depended   90\",\"depended   90\",\"depended   90\",\"depended   90\",\"depended   90\",\"depended   90\",\"on   91\",\"on   91\",\"on   91\",\"on   91\",\"on   91\",\"on   91\",\"on   91\",\"on   91\",\"on   91\",\"on   91\",\"whether   92\",\"whether   92\",\"whether   92\",\"whether   92\",\"whether   92\",\"whether   92\",\"whether   92\",\"whether   92\",\"whether   92\",\"whether   92\",\"the   93\",\"the   93\",\"the   93\",\"the   93\",\"the   93\",\"the   93\",\"the   93\",\"the   93\",\"the   93\",\"the   93\",\"stadium   94\",\"stadium   94\",\"stadium   94\",\"stadium   94\",\"stadium   94\",\"stadium   94\",\"stadium   94\",\"stadium   94\",\"stadium   94\",\"stadium   94\",\"underwent   95\",\"underwent   95\",\"underwent   95\",\"underwent   95\",\"underwent   95\",\"underwent   95\",\"underwent   95\",\"underwent   95\",\"underwent   95\",\"underwent   95\",\"renovations   96\",\"renovations   96\",\"renovations   96\",\"renovations   96\",\"renovations   96\",\"renovations   96\",\"renovations   96\",\"renovations   96\",\"renovations   96\",\"renovations   96\",\".   97\",\".   97\",\".   97\",\".   97\",\".   97\",\".   97\",\".   97\",\".   97\",\".   97\",\".   97\",\"However   98\",\"However   98\",\"However   98\",\"However   98\",\"However   98\",\"However   98\",\"However   98\",\"However   98\",\"However   98\",\"However   98\",\",   99\",\",   99\",\",   99\",\",   99\",\",   99\",\",   99\",\",   99\",\",   99\",\",   99\",\",   99\",\"on   100\",\"on   100\",\"on   100\",\"on   100\",\"on   100\",\"on   100\",\"on   100\",\"on   100\",\"on   100\",\"on   100\",\"May   101\",\"May   101\",\"May   101\",\"May   101\",\"May   101\",\"May   101\",\"May   101\",\"May   101\",\"May   101\",\"May   101\",\"3   102\",\"3   102\",\"3   102\",\"3   102\",\"3   102\",\"3   102\",\"3   102\",\"3   102\",\"3   102\",\"3   102\",\",   103\",\",   103\",\",   103\",\",   103\",\",   103\",\",   103\",\",   103\",\",   103\",\",   103\",\",   103\",\"2013   104\",\"2013   104\",\"2013   104\",\"2013   104\",\"2013   104\",\"2013   104\",\"2013   104\",\"2013   104\",\"2013   104\",\"2013   104\",\",   105\",\",   105\",\",   105\",\",   105\",\",   105\",\",   105\",\",   105\",\",   105\",\",   105\",\",   105\",\"the   106\",\"the   106\",\"the   106\",\"the   106\",\"the   106\",\"the   106\",\"the   106\",\"the   106\",\"the   106\",\"the   106\",\"Florida   107\",\"Florida   107\",\"Florida   107\",\"Florida   107\",\"Florida   107\",\"Florida   107\",\"Florida   107\",\"Florida   107\",\"Florida   107\",\"Florida   107\",\"legislature   108\",\"legislature   108\",\"legislature   108\",\"legislature   108\",\"legislature   108\",\"legislature   108\",\"legislature   108\",\"legislature   108\",\"legislature   108\",\"legislature   108\",\"refused   109\",\"refused   109\",\"refused   109\",\"refused   109\",\"refused   109\",\"refused   109\",\"refused   109\",\"refused   109\",\"refused   109\",\"refused   109\",\"to   110\",\"to   110\",\"to   110\",\"to   110\",\"to   110\",\"to   110\",\"to   110\",\"to   110\",\"to   110\",\"to   110\",\"approve   111\",\"approve   111\",\"approve   111\",\"approve   111\",\"approve   111\",\"approve   111\",\"approve   111\",\"approve   111\",\"approve   111\",\"approve   111\",\"the   112\",\"the   112\",\"the   112\",\"the   112\",\"the   112\",\"the   112\",\"the   112\",\"the   112\",\"the   112\",\"the   112\",\"funding   113\",\"funding   113\",\"funding   113\",\"funding   113\",\"funding   113\",\"funding   113\",\"funding   113\",\"funding   113\",\"funding   113\",\"funding   113\",\"plan   114\",\"plan   114\",\"plan   114\",\"plan   114\",\"plan   114\",\"plan   114\",\"plan   114\",\"plan   114\",\"plan   114\",\"plan   114\",\"to   115\",\"to   115\",\"to   115\",\"to   115\",\"to   115\",\"to   115\",\"to   115\",\"to   115\",\"to   115\",\"to   115\",\"pay   116\",\"pay   116\",\"pay   116\",\"pay   116\",\"pay   116\",\"pay   116\",\"pay   116\",\"pay   116\",\"pay   116\",\"pay   116\",\"for   117\",\"for   117\",\"for   117\",\"for   117\",\"for   117\",\"for   117\",\"for   117\",\"for   117\",\"for   117\",\"for   117\",\"the   118\",\"the   118\",\"the   118\",\"the   118\",\"the   118\",\"the   118\",\"the   118\",\"the   118\",\"the   118\",\"the   118\",\"renovations   119\",\"renovations   119\",\"renovations   119\",\"renovations   119\",\"renovations   119\",\"renovations   119\",\"renovations   119\",\"renovations   119\",\"renovations   119\",\"renovations   119\",\",   120\",\",   120\",\",   120\",\",   120\",\",   120\",\",   120\",\",   120\",\",   120\",\",   120\",\",   120\",\"dealing   121\",\"dealing   121\",\"dealing   121\",\"dealing   121\",\"dealing   121\",\"dealing   121\",\"dealing   121\",\"dealing   121\",\"dealing   121\",\"dealing   121\",\"a   122\",\"a   122\",\"a   122\",\"a   122\",\"a   122\",\"a   122\",\"a   122\",\"a   122\",\"a   122\",\"a   122\",\"significant   123\",\"significant   123\",\"significant   123\",\"significant   123\",\"significant   123\",\"significant   123\",\"significant   123\",\"significant   123\",\"significant   123\",\"significant   123\",\"blow   124\",\"blow   124\",\"blow   124\",\"blow   124\",\"blow   124\",\"blow   124\",\"blow   124\",\"blow   124\",\"blow   124\",\"blow   124\",\"to   125\",\"to   125\",\"to   125\",\"to   125\",\"to   125\",\"to   125\",\"to   125\",\"to   125\",\"to   125\",\"to   125\",\"Miami   126\",\"Miami   126\",\"Miami   126\",\"Miami   126\",\"Miami   126\",\"Miami   126\",\"Miami   126\",\"Miami   126\",\"Miami   126\",\"Miami   126\",\"'s   127\",\"'s   127\",\"'s   127\",\"'s   127\",\"'s   127\",\"'s   127\",\"'s   127\",\"'s   127\",\"'s   127\",\"'s   127\",\"chances   128\",\"chances   128\",\"chances   128\",\"chances   128\",\"chances   128\",\"chances   128\",\"chances   128\",\"chances   128\",\"chances   128\",\"chances   128\",\".   129\",\".   129\",\".   129\",\".   129\",\".   129\",\".   129\",\".   129\",\".   129\",\".   129\",\".   129\"],\"z\":[\"0.0012278\",\"0.0089145\",\"0.005775\",\"0.0017261\",\"0.0027743\",\"0.0015299\",\"0.002611\",\"0.022759\",\"0.9521\",\"0.00058366\",\"0.0012278\",\"0.0089145\",\"0.005775\",\"0.0017261\",\"0.0027743\",\"0.0015299\",\"0.002611\",\"0.022759\",\"0.9521\",\"0.00058366\",\"4.9819e-05\",\"0.0025405\",\"0.00028845\",\"0.00011296\",\"0.00048343\",\"5.4404e-05\",\"9.1609e-05\",\"0.00017871\",\"0.99617\",\"3.17e-05\",\"0.00012563\",\"0.99379\",\"1.0539e-05\",\"3.7259e-05\",\"0.00020885\",\"3.8863e-05\",\"4.5668e-05\",\"0.0056407\",\"9.408e-05\",\"8.7119e-06\",\"0.00012563\",\"0.99379\",\"1.0539e-05\",\"3.7259e-05\",\"0.00020885\",\"3.8863e-05\",\"4.5668e-05\",\"0.0056407\",\"9.408e-05\",\"8.7119e-06\",\"0.00012563\",\"0.99379\",\"1.0539e-05\",\"3.7259e-05\",\"0.00020885\",\"3.8863e-05\",\"4.5668e-05\",\"0.0056407\",\"9.408e-05\",\"8.7119e-06\",\"0.00012563\",\"0.99379\",\"1.0539e-05\",\"3.7259e-05\",\"0.00020885\",\"3.8863e-05\",\"4.5668e-05\",\"0.0056407\",\"9.408e-05\",\"8.7119e-06\",\"0.00012563\",\"0.99379\",\"1.0539e-05\",\"3.7259e-05\",\"0.00020885\",\"3.8863e-05\",\"4.5668e-05\",\"0.0056407\",\"9.408e-05\",\"8.7119e-06\",\"0.0092787\",\"0.05673\",\"0.0021106\",\"0.0058872\",\"0.0079248\",\"0.008824\",\"0.0046578\",\"0.85567\",\"0.04757\",\"0.0013488\",\"0.0018767\",\"0.011028\",\"0.0033193\",\"0.0022424\",\"0.0035308\",\"0.0029867\",\"0.0025386\",\"0.041927\",\"0.93001\",\"0.00053765\",\"0.0018767\",\"0.011028\",\"0.0033193\",\"0.0022424\",\"0.0035308\",\"0.0029867\",\"0.0025386\",\"0.041927\",\"0.93001\",\"0.00053765\",\"0.0018767\",\"0.011028\",\"0.0033193\",\"0.0022424\",\"0.0035308\",\"0.0029867\",\"0.0025386\",\"0.041927\",\"0.93001\",\"0.00053765\",\"0.0018767\",\"0.011028\",\"0.0033193\",\"0.0022424\",\"0.0035308\",\"0.0029867\",\"0.0025386\",\"0.041927\",\"0.93001\",\"0.00053765\",\"1.0208e-06\",\"0.99977\",\"1.4806e-07\",\"8.7272e-07\",\"8.9737e-07\",\"1.0122e-06\",\"1.5434e-06\",\"0.00022391\",\"4.5709e-06\",\"7.5998e-08\",\"1.0208e-06\",\"0.99977\",\"1.4806e-07\",\"8.7272e-07\",\"8.9737e-07\",\"1.0122e-06\",\"1.5434e-06\",\"0.00022391\",\"4.5709e-06\",\"7.5998e-08\",\"1.0208e-06\",\"0.99977\",\"1.4806e-07\",\"8.7272e-07\",\"8.9737e-07\",\"1.0122e-06\",\"1.5434e-06\",\"0.00022391\",\"4.5709e-06\",\"7.5998e-08\",\"1.0208e-06\",\"0.99977\",\"1.4806e-07\",\"8.7272e-07\",\"8.9737e-07\",\"1.0122e-06\",\"1.5434e-06\",\"0.00022391\",\"4.5709e-06\",\"7.5998e-08\",\"1.0208e-06\",\"0.99977\",\"1.4806e-07\",\"8.7272e-07\",\"8.9737e-07\",\"1.0122e-06\",\"1.5434e-06\",\"0.00022391\",\"4.5709e-06\",\"7.5998e-08\",\"1.0208e-06\",\"0.99977\",\"1.4806e-07\",\"8.7272e-07\",\"8.9737e-07\",\"1.0122e-06\",\"1.5434e-06\",\"0.00022391\",\"4.5709e-06\",\"7.5998e-08\",\"1.0208e-06\",\"0.99977\",\"1.4806e-07\",\"8.7272e-07\",\"8.9737e-07\",\"1.0122e-06\",\"1.5434e-06\",\"0.00022391\",\"4.5709e-06\",\"7.5998e-08\",\"1.0208e-06\",\"0.99977\",\"1.4806e-07\",\"8.7272e-07\",\"8.9737e-07\",\"1.0122e-06\",\"1.5434e-06\",\"0.00022391\",\"4.5709e-06\",\"7.5998e-08\",\"0.0082156\",\"0.7298\",\"0.006809\",\"0.010975\",\"0.010678\",\"0.0090155\",\"0.0097664\",\"0.14109\",\"0.071478\",\"0.0021767\",\"0.00025316\",\"0.0065352\",\"6.3317e-05\",\"0.00011114\",\"0.00011784\",\"0.00052536\",\"8.4737e-05\",\"0.9913\",\"0.00097627\",\"3.5528e-05\",\"0.00025316\",\"0.0065352\",\"6.3317e-05\",\"0.00011114\",\"0.00011784\",\"0.00052536\",\"8.4737e-05\",\"0.9913\",\"0.00097627\",\"3.5528e-05\",\"0.00025316\",\"0.0065352\",\"6.3317e-05\",\"0.00011114\",\"0.00011784\",\"0.00052536\",\"8.4737e-05\",\"0.9913\",\"0.00097627\",\"3.5528e-05\",\"0.00025316\",\"0.0065352\",\"6.3317e-05\",\"0.00011114\",\"0.00011784\",\"0.00052536\",\"8.4737e-05\",\"0.9913\",\"0.00097627\",\"3.5528e-05\",\"0.00025316\",\"0.0065352\",\"6.3317e-05\",\"0.00011114\",\"0.00011784\",\"0.00052536\",\"8.4737e-05\",\"0.9913\",\"0.00097627\",\"3.5528e-05\",\"0.00025316\",\"0.0065352\",\"6.3317e-05\",\"0.00011114\",\"0.00011784\",\"0.00052536\",\"8.4737e-05\",\"0.9913\",\"0.00097627\",\"3.5528e-05\",\"1.2377e-05\",\"0.00022538\",\"0.00016165\",\"2.7138e-05\",\"0.00012858\",\"5.041e-05\",\"8.2784e-05\",\"6.4671e-05\",\"0.99924\",\"9.4615e-06\",\"1.2377e-05\",\"0.00022538\",\"0.00016165\",\"2.7138e-05\",\"0.00012858\",\"5.041e-05\",\"8.2784e-05\",\"6.4671e-05\",\"0.99924\",\"9.4615e-06\",\"3.1821e-05\",\"0.98581\",\"9.2996e-05\",\"4.2551e-05\",\"0.00021458\",\"6.3996e-05\",\"0.00017621\",\"0.00010578\",\"0.013447\",\"1.5729e-05\",\"3.1821e-05\",\"0.98581\",\"9.2996e-05\",\"4.2551e-05\",\"0.00021458\",\"6.3996e-05\",\"0.00017621\",\"0.00010578\",\"0.013447\",\"1.5729e-05\",\"3.1821e-05\",\"0.98581\",\"9.2996e-05\",\"4.2551e-05\",\"0.00021458\",\"6.3996e-05\",\"0.00017621\",\"0.00010578\",\"0.013447\",\"1.5729e-05\",\"3.1821e-05\",\"0.98581\",\"9.2996e-05\",\"4.2551e-05\",\"0.00021458\",\"6.3996e-05\",\"0.00017621\",\"0.00010578\",\"0.013447\",\"1.5729e-05\",\"3.1821e-05\",\"0.98581\",\"9.2996e-05\",\"4.2551e-05\",\"0.00021458\",\"6.3996e-05\",\"0.00017621\",\"0.00010578\",\"0.013447\",\"1.5729e-05\",\"0.0051661\",\"0.84666\",\"0.00076354\",\"0.0023254\",\"0.0062006\",\"0.0090716\",\"0.0039647\",\"0.12389\",\"0.0013674\",\"0.00059348\",\"0.00011442\",\"0.80042\",\"9.8435e-05\",\"0.00014134\",\"0.00071206\",\"0.0003222\",\"0.00026691\",\"0.04875\",\"0.14915\",\"2.618e-05\",\"0.00021608\",\"0.78604\",\"0.00015117\",\"0.00031055\",\"0.00012165\",\"0.00032279\",\"0.00019627\",\"0.19388\",\"0.018743\",\"2.1064e-05\",\"0.00021608\",\"0.78604\",\"0.00015117\",\"0.00031055\",\"0.00012165\",\"0.00032279\",\"0.00019627\",\"0.19388\",\"0.018743\",\"2.1064e-05\",\"0.00021608\",\"0.78604\",\"0.00015117\",\"0.00031055\",\"0.00012165\",\"0.00032279\",\"0.00019627\",\"0.19388\",\"0.018743\",\"2.1064e-05\",\"0.00021608\",\"0.78604\",\"0.00015117\",\"0.00031055\",\"0.00012165\",\"0.00032279\",\"0.00019627\",\"0.19388\",\"0.018743\",\"2.1064e-05\",\"0.00021608\",\"0.78604\",\"0.00015117\",\"0.00031055\",\"0.00012165\",\"0.00032279\",\"0.00019627\",\"0.19388\",\"0.018743\",\"2.1064e-05\",\"0.0032177\",\"0.052864\",\"0.00043929\",\"0.0014542\",\"0.0021848\",\"0.0042256\",\"0.00062394\",\"0.93137\",\"0.0033138\",\"0.00030692\",\"0.0052867\",\"0.035734\",\"0.0010102\",\"0.0028592\",\"0.0058438\",\"0.0079001\",\"0.0027682\",\"0.91897\",\"0.018849\",\"0.00077381\",\"6.6657e-05\",\"0.60378\",\"1.0278e-05\",\"8.2255e-05\",\"0.00016482\",\"9.5393e-05\",\"5.1012e-05\",\"0.39393\",\"0.0018096\",\"7.5475e-06\",\"6.6657e-05\",\"0.60378\",\"1.0278e-05\",\"8.2255e-05\",\"0.00016482\",\"9.5393e-05\",\"5.1012e-05\",\"0.39393\",\"0.0018096\",\"7.5475e-06\",\"6.6657e-05\",\"0.60378\",\"1.0278e-05\",\"8.2255e-05\",\"0.00016482\",\"9.5393e-05\",\"5.1012e-05\",\"0.39393\",\"0.0018096\",\"7.5475e-06\",\"6.6657e-05\",\"0.60378\",\"1.0278e-05\",\"8.2255e-05\",\"0.00016482\",\"9.5393e-05\",\"5.1012e-05\",\"0.39393\",\"0.0018096\",\"7.5475e-06\",\"6.6657e-05\",\"0.60378\",\"1.0278e-05\",\"8.2255e-05\",\"0.00016482\",\"9.5393e-05\",\"5.1012e-05\",\"0.39393\",\"0.0018096\",\"7.5475e-06\",\"6.6657e-05\",\"0.60378\",\"1.0278e-05\",\"8.2255e-05\",\"0.00016482\",\"9.5393e-05\",\"5.1012e-05\",\"0.39393\",\"0.0018096\",\"7.5475e-06\",\"6.6657e-05\",\"0.60378\",\"1.0278e-05\",\"8.2255e-05\",\"0.00016482\",\"9.5393e-05\",\"5.1012e-05\",\"0.39393\",\"0.0018096\",\"7.5475e-06\",\"6.6657e-05\",\"0.60378\",\"1.0278e-05\",\"8.2255e-05\",\"0.00016482\",\"9.5393e-05\",\"5.1012e-05\",\"0.39393\",\"0.0018096\",\"7.5475e-06\",\"6.6657e-05\",\"0.60378\",\"1.0278e-05\",\"8.2255e-05\",\"0.00016482\",\"9.5393e-05\",\"5.1012e-05\",\"0.39393\",\"0.0018096\",\"7.5475e-06\",\"5.6693e-05\",\"0.99934\",\"1.4296e-05\",\"1.9848e-05\",\"0.00010243\",\"4.6067e-05\",\"6.2638e-05\",\"0.00033582\",\"9.5289e-06\",\"9.6915e-06\",\"5.6693e-05\",\"0.99934\",\"1.4296e-05\",\"1.9848e-05\",\"0.00010243\",\"4.6067e-05\",\"6.2638e-05\",\"0.00033582\",\"9.5289e-06\",\"9.6915e-06\",\"0.0067292\",\"0.67749\",\"0.0048753\",\"0.0073862\",\"0.010816\",\"0.011166\",\"0.0075332\",\"0.22226\",\"0.050014\",\"0.0017312\",\"0.00010954\",\"0.17018\",\"4.6249e-05\",\"0.00015463\",\"0.00010922\",\"0.00022754\",\"5.9726e-05\",\"0.82676\",\"0.0023371\",\"1.6809e-05\",\"0.00010954\",\"0.17018\",\"4.6249e-05\",\"0.00015463\",\"0.00010922\",\"0.00022754\",\"5.9726e-05\",\"0.82676\",\"0.0023371\",\"1.6809e-05\",\"0.00010954\",\"0.17018\",\"4.6249e-05\",\"0.00015463\",\"0.00010922\",\"0.00022754\",\"5.9726e-05\",\"0.82676\",\"0.0023371\",\"1.6809e-05\",\"0.00010954\",\"0.17018\",\"4.6249e-05\",\"0.00015463\",\"0.00010922\",\"0.00022754\",\"5.9726e-05\",\"0.82676\",\"0.0023371\",\"1.6809e-05\",\"0.00010954\",\"0.17018\",\"4.6249e-05\",\"0.00015463\",\"0.00010922\",\"0.00022754\",\"5.9726e-05\",\"0.82676\",\"0.0023371\",\"1.6809e-05\",\"0.0011649\",\"0.26907\",\"0.0093743\",\"0.00082316\",\"0.0045582\",\"0.0013692\",\"0.0021826\",\"0.00069245\",\"0.71001\",\"0.0007604\",\"0.00013447\",\"0.99213\",\"0.00022158\",\"0.00030248\",\"0.0004103\",\"0.00014103\",\"0.00039905\",\"0.0019595\",\"0.0042482\",\"5.048e-05\",\"3.1518e-05\",\"0.99946\",\"1.4777e-05\",\"1.4232e-05\",\"4.6329e-05\",\"1.5327e-05\",\"2.9288e-05\",\"0.00036988\",\"1.0384e-05\",\"6.0767e-06\",\"3.1518e-05\",\"0.99946\",\"1.4777e-05\",\"1.4232e-05\",\"4.6329e-05\",\"1.5327e-05\",\"2.9288e-05\",\"0.00036988\",\"1.0384e-05\",\"6.0767e-06\",\"4.5251e-05\",\"0.96669\",\"8.4624e-06\",\"4.9031e-05\",\"0.00010999\",\"6.8344e-05\",\"3.0127e-05\",\"0.032697\",\"0.0002949\",\"4.9516e-06\",\"4.5251e-05\",\"0.96669\",\"8.4624e-06\",\"4.9031e-05\",\"0.00010999\",\"6.8344e-05\",\"3.0127e-05\",\"0.032697\",\"0.0002949\",\"4.9516e-06\",\"4.5251e-05\",\"0.96669\",\"8.4624e-06\",\"4.9031e-05\",\"0.00010999\",\"6.8344e-05\",\"3.0127e-05\",\"0.032697\",\"0.0002949\",\"4.9516e-06\",\"4.5251e-05\",\"0.96669\",\"8.4624e-06\",\"4.9031e-05\",\"0.00010999\",\"6.8344e-05\",\"3.0127e-05\",\"0.032697\",\"0.0002949\",\"4.9516e-06\",\"0.0031175\",\"0.044523\",\"0.0006558\",\"0.0019286\",\"0.0017082\",\"0.0037419\",\"0.00061659\",\"0.9385\",\"0.0047859\",\"0.00042258\",\"0.0099541\",\"0.4625\",\"0.0066063\",\"0.0075151\",\"0.011556\",\"0.013874\",\"0.011843\",\"0.16738\",\"0.30645\",\"0.0023127\",\"0.0099541\",\"0.4625\",\"0.0066063\",\"0.0075151\",\"0.011556\",\"0.013874\",\"0.011843\",\"0.16738\",\"0.30645\",\"0.0023127\",\"4.7961e-08\",\"0.99999\",\"1.103e-08\",\"3.2481e-08\",\"1.9354e-08\",\"3.0137e-08\",\"6.8081e-08\",\"7.6259e-06\",\"1.5996e-08\",\"5.1584e-09\",\"4.7961e-08\",\"0.99999\",\"1.103e-08\",\"3.2481e-08\",\"1.9354e-08\",\"3.0137e-08\",\"6.8081e-08\",\"7.6259e-06\",\"1.5996e-08\",\"5.1584e-09\",\"4.7961e-08\",\"0.99999\",\"1.103e-08\",\"3.2481e-08\",\"1.9354e-08\",\"3.0137e-08\",\"6.8081e-08\",\"7.6259e-06\",\"1.5996e-08\",\"5.1584e-09\",\"5.3168e-07\",\"0.99998\",\"3.1534e-07\",\"5.4791e-07\",\"3.1928e-07\",\"5.5745e-07\",\"9.299e-07\",\"1.3301e-05\",\"1.7431e-06\",\"6.3074e-08\",\"5.3168e-07\",\"0.99998\",\"3.1534e-07\",\"5.4791e-07\",\"3.1928e-07\",\"5.5745e-07\",\"9.299e-07\",\"1.3301e-05\",\"1.7431e-06\",\"6.3074e-08\",\"0.00010266\",\"0.027679\",\"2.172e-05\",\"8.8665e-05\",\"8.396e-05\",\"0.00019299\",\"4.4748e-05\",\"0.97006\",\"0.001718\",\"1.1893e-05\",\"0.00010266\",\"0.027679\",\"2.172e-05\",\"8.8665e-05\",\"8.396e-05\",\"0.00019299\",\"4.4748e-05\",\"0.97006\",\"0.001718\",\"1.1893e-05\",\"0.01315\",\"0.026085\",\"0.010543\",\"0.010177\",\"0.023377\",\"0.031783\",\"0.010684\",\"0.71129\",\"0.15793\",\"0.004984\",\"0.01315\",\"0.026085\",\"0.010543\",\"0.010177\",\"0.023377\",\"0.031783\",\"0.010684\",\"0.71129\",\"0.15793\",\"0.004984\",\"0.0016989\",\"0.018441\",\"0.0065409\",\"0.0034632\",\"0.0039728\",\"0.0029511\",\"0.0025764\",\"0.28427\",\"0.67545\",\"0.00063784\",\"0.0016989\",\"0.018441\",\"0.0065409\",\"0.0034632\",\"0.0039728\",\"0.0029511\",\"0.0025764\",\"0.28427\",\"0.67545\",\"0.00063784\",\"0.0016989\",\"0.018441\",\"0.0065409\",\"0.0034632\",\"0.0039728\",\"0.0029511\",\"0.0025764\",\"0.28427\",\"0.67545\",\"0.00063784\",\"0.0016989\",\"0.018441\",\"0.0065409\",\"0.0034632\",\"0.0039728\",\"0.0029511\",\"0.0025764\",\"0.28427\",\"0.67545\",\"0.00063784\",\"0.0016989\",\"0.018441\",\"0.0065409\",\"0.0034632\",\"0.0039728\",\"0.0029511\",\"0.0025764\",\"0.28427\",\"0.67545\",\"0.00063784\",\"0.0071263\",\"0.63435\",\"0.0078222\",\"0.011263\",\"0.010607\",\"0.011362\",\"0.0090369\",\"0.2342\",\"0.071551\",\"0.0026847\",\"3.2127e-05\",\"0.0066224\",\"0.00052761\",\"8.7834e-05\",\"0.00018423\",\"9.1258e-05\",\"8.334e-05\",\"0.00077346\",\"0.99157\",\"2.7055e-05\",\"3.2127e-05\",\"0.0066224\",\"0.00052761\",\"8.7834e-05\",\"0.00018423\",\"9.1258e-05\",\"8.334e-05\",\"0.00077346\",\"0.99157\",\"2.7055e-05\",\"3.2127e-05\",\"0.0066224\",\"0.00052761\",\"8.7834e-05\",\"0.00018423\",\"9.1258e-05\",\"8.334e-05\",\"0.00077346\",\"0.99157\",\"2.7055e-05\",\"3.2127e-05\",\"0.0066224\",\"0.00052761\",\"8.7834e-05\",\"0.00018423\",\"9.1258e-05\",\"8.334e-05\",\"0.00077346\",\"0.99157\",\"2.7055e-05\",\"6.6907e-09\",\"1\",\"4.9212e-09\",\"3.8994e-09\",\"9.6148e-09\",\"9.5752e-09\",\"1.691e-08\",\"5.0803e-08\",\"9.7129e-08\",\"7.4382e-10\",\"6.6907e-09\",\"1\",\"4.9212e-09\",\"3.8994e-09\",\"9.6148e-09\",\"9.5752e-09\",\"1.691e-08\",\"5.0803e-08\",\"9.7129e-08\",\"7.4382e-10\",\"6.6907e-09\",\"1\",\"4.9212e-09\",\"3.8994e-09\",\"9.6148e-09\",\"9.5752e-09\",\"1.691e-08\",\"5.0803e-08\",\"9.7129e-08\",\"7.4382e-10\",\"6.6907e-09\",\"1\",\"4.9212e-09\",\"3.8994e-09\",\"9.6148e-09\",\"9.5752e-09\",\"1.691e-08\",\"5.0803e-08\",\"9.7129e-08\",\"7.4382e-10\",\"6.6907e-09\",\"1\",\"4.9212e-09\",\"3.8994e-09\",\"9.6148e-09\",\"9.5752e-09\",\"1.691e-08\",\"5.0803e-08\",\"9.7129e-08\",\"7.4382e-10\",\"6.6907e-09\",\"1\",\"4.9212e-09\",\"3.8994e-09\",\"9.6148e-09\",\"9.5752e-09\",\"1.691e-08\",\"5.0803e-08\",\"9.7129e-08\",\"7.4382e-10\",\"0.0022677\",\"0.88073\",\"0.0039876\",\"0.0036362\",\"0.0033626\",\"0.0044507\",\"0.0024828\",\"0.03629\",\"0.061803\",\"0.00099034\",\"0.00090039\",\"0.00074205\",\"0.014048\",\"0.00086354\",\"0.001254\",\"0.00076596\",\"0.0021823\",\"0.00038383\",\"0.97851\",\"0.0003534\",\"0.0021085\",\"0.84581\",\"0.00047521\",\"0.0012713\",\"0.0033618\",\"0.0017876\",\"0.0013619\",\"0.11276\",\"0.030802\",\"0.00026163\",\"0.0021085\",\"0.84581\",\"0.00047521\",\"0.0012713\",\"0.0033618\",\"0.0017876\",\"0.0013619\",\"0.11276\",\"0.030802\",\"0.00026163\",\"0.0021085\",\"0.84581\",\"0.00047521\",\"0.0012713\",\"0.0033618\",\"0.0017876\",\"0.0013619\",\"0.11276\",\"0.030802\",\"0.00026163\",\"0.0021085\",\"0.84581\",\"0.00047521\",\"0.0012713\",\"0.0033618\",\"0.0017876\",\"0.0013619\",\"0.11276\",\"0.030802\",\"0.00026163\",\"0.0021085\",\"0.84581\",\"0.00047521\",\"0.0012713\",\"0.0033618\",\"0.0017876\",\"0.0013619\",\"0.11276\",\"0.030802\",\"0.00026163\",\"0.0021085\",\"0.84581\",\"0.00047521\",\"0.0012713\",\"0.0033618\",\"0.0017876\",\"0.0013619\",\"0.11276\",\"0.030802\",\"0.00026163\",\"0.00077673\",\"0.09976\",\"0.0011277\",\"0.00084455\",\"0.00099418\",\"0.00085875\",\"0.0008772\",\"0.047339\",\"0.84729\",\"0.00012889\",\"0.00077673\",\"0.09976\",\"0.0011277\",\"0.00084455\",\"0.00099418\",\"0.00085875\",\"0.0008772\",\"0.047339\",\"0.84729\",\"0.00012889\",\"0.00077673\",\"0.09976\",\"0.0011277\",\"0.00084455\",\"0.00099418\",\"0.00085875\",\"0.0008772\",\"0.047339\",\"0.84729\",\"0.00012889\",\"0.00077673\",\"0.09976\",\"0.0011277\",\"0.00084455\",\"0.00099418\",\"0.00085875\",\"0.0008772\",\"0.047339\",\"0.84729\",\"0.00012889\",\"9.5305e-11\",\"1.3845e-09\",\"1.5032e-07\",\"7.7065e-10\",\"2.0155e-09\",\"2.3026e-10\",\"1.4502e-09\",\"1.7303e-10\",\"1\",\"8.9983e-11\",\"6.4621e-05\",\"0.47126\",\"0.00062695\",\"0.00027195\",\"0.00031013\",\"0.00012456\",\"0.00013484\",\"0.00091268\",\"0.52629\",\"1.2076e-05\",\"6.4621e-05\",\"0.47126\",\"0.00062695\",\"0.00027195\",\"0.00031013\",\"0.00012456\",\"0.00013484\",\"0.00091268\",\"0.52629\",\"1.2076e-05\",\"6.4621e-05\",\"0.47126\",\"0.00062695\",\"0.00027195\",\"0.00031013\",\"0.00012456\",\"0.00013484\",\"0.00091268\",\"0.52629\",\"1.2076e-05\",\"6.4621e-05\",\"0.47126\",\"0.00062695\",\"0.00027195\",\"0.00031013\",\"0.00012456\",\"0.00013484\",\"0.00091268\",\"0.52629\",\"1.2076e-05\",\"6.4621e-05\",\"0.47126\",\"0.00062695\",\"0.00027195\",\"0.00031013\",\"0.00012456\",\"0.00013484\",\"0.00091268\",\"0.52629\",\"1.2076e-05\",\"6.4963e-05\",\"0.0037251\",\"0.0019417\",\"0.00017934\",\"0.00012423\",\"7.6512e-05\",\"0.00012446\",\"0.00021503\",\"0.99353\",\"1.6366e-05\",\"6.4963e-05\",\"0.0037251\",\"0.0019417\",\"0.00017934\",\"0.00012423\",\"7.6512e-05\",\"0.00012446\",\"0.00021503\",\"0.99353\",\"1.6366e-05\",\"9.312e-08\",\"0.99999\",\"2.6712e-07\",\"1.1909e-07\",\"1.6499e-07\",\"1.7745e-07\",\"5.7254e-07\",\"2.1047e-07\",\"1.1624e-05\",\"1.5398e-08\",\"9.312e-08\",\"0.99999\",\"2.6712e-07\",\"1.1909e-07\",\"1.6499e-07\",\"1.7745e-07\",\"5.7254e-07\",\"2.1047e-07\",\"1.1624e-05\",\"1.5398e-08\",\"9.312e-08\",\"0.99999\",\"2.6712e-07\",\"1.1909e-07\",\"1.6499e-07\",\"1.7745e-07\",\"5.7254e-07\",\"2.1047e-07\",\"1.1624e-05\",\"1.5398e-08\",\"0.0011182\",\"0.43025\",\"0.0013041\",\"0.00069538\",\"0.0015852\",\"0.0020406\",\"0.0014424\",\"0.015205\",\"0.54619\",\"0.00016691\",\"0.0011182\",\"0.43025\",\"0.0013041\",\"0.00069538\",\"0.0015852\",\"0.0020406\",\"0.0014424\",\"0.015205\",\"0.54619\",\"0.00016691\",\"0.0011182\",\"0.43025\",\"0.0013041\",\"0.00069538\",\"0.0015852\",\"0.0020406\",\"0.0014424\",\"0.015205\",\"0.54619\",\"0.00016691\",\"0.0011182\",\"0.43025\",\"0.0013041\",\"0.00069538\",\"0.0015852\",\"0.0020406\",\"0.0014424\",\"0.015205\",\"0.54619\",\"0.00016691\",\"0.0011182\",\"0.43025\",\"0.0013041\",\"0.00069538\",\"0.0015852\",\"0.0020406\",\"0.0014424\",\"0.015205\",\"0.54619\",\"0.00016691\",\"8.0552e-05\",\"0.0039778\",\"0.0013822\",\"0.00018371\",\"0.00017117\",\"0.00013826\",\"0.00018396\",\"0.00057755\",\"0.99328\",\"2.163e-05\",\"8.0552e-05\",\"0.0039778\",\"0.0013822\",\"0.00018371\",\"0.00017117\",\"0.00013826\",\"0.00018396\",\"0.00057755\",\"0.99328\",\"2.163e-05\",\"8.0552e-05\",\"0.0039778\",\"0.0013822\",\"0.00018371\",\"0.00017117\",\"0.00013826\",\"0.00018396\",\"0.00057755\",\"0.99328\",\"2.163e-05\",\"8.0552e-05\",\"0.0039778\",\"0.0013822\",\"0.00018371\",\"0.00017117\",\"0.00013826\",\"0.00018396\",\"0.00057755\",\"0.99328\",\"2.163e-05\",\"0.0049716\",\"0.87267\",\"0.0068283\",\"0.0058673\",\"0.0049766\",\"0.0056147\",\"0.0053648\",\"0.041921\",\"0.05027\",\"0.001518\"],\"zvalues\":{\"__ndarray__\":\"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\",\"dtype\":\"float32\",\"shape\":[1300]}}},\"id\":\"747ef186-c3c2-4a63-a2f9-33a3d8ae2480\",\"type\":\"ColumnDataSource\"},{\"attributes\":{\"children\":[{\"id\":\"41fcd22c-5b87-4498-abf3-832df77cf234\",\"type\":\"ToolbarBox\"},{\"id\":\"a67a8a87-11a6-474a-ae57-5595964a7d2b\",\"type\":\"Column\"}]},\"id\":\"1b82c8eb-7eb0-43c7-9b1b-4a7d14a5a6bb\",\"type\":\"Column\"},{\"attributes\":{\"callback\":null,\"renderers\":[{\"id\":\"0283c88c-a36e-47d0-a4ff-c42337615ba8\",\"type\":\"GlyphRenderer\"}],\"tooltips\":[[\"Tokens\",\"@{Tokens}\"],[\"Probs\",\"@{Probs}\"],[\"z\",\"@{z}\"]]},\"id\":\"f45cbb4a-9d07-4ce2-8fa2-b49212c29803\",\"type\":\"HoverTool\"},{\"attributes\":{\"callback\":null,\"factors\":[\"The   0\",\"league   1\",\"announced   2\",\"on   3\",\"October   4\",\"16   5\",\",   6\",\"2012   7\",\",   8\",\"that   9\",\"the   10\",\"two   11\",\"finalists   12\",\"were   13\",\"Sun   14\",\"Life   15\",\"Stadium   16\",\"and   17\",\"Levi   18\",\"'s   19\",\"Stadium   20\",\".   21\",\"The   22\",\"South   23\",\"Florida   24\",\"/   25\",\"Miami   26\",\"area   27\",\"has   28\",\"previously   29\",\"hosted   30\",\"the   31\",\"event   32\",\"10   33\",\"times   34\",\"(   35\",\"tied   36\",\"for   37\",\"most   38\",\"with   39\",\"New   40\",\"Orleans   41\",\")   42\",\",   43\",\"with   44\",\"the   45\",\"most   46\",\"recent   47\",\"one   48\",\"being   49\",\"Super   50\",\"Bowl   51\",\"XLIV   52\",\"in   53\",\"2010   54\",\".   55\",\"The   56\",\"San   57\",\"Francisco   58\",\"Bay   59\",\"Area   60\",\"last   61\",\"hosted   62\",\"in   63\",\"1985   64\",\"(   65\",\"Super   66\",\"Bowl   67\",\"XIX   68\",\")   69\",\",   70\",\"held   71\",\"at   72\",\"Stanford   73\",\"Stadium   74\",\"in   75\",\"Stanford   76\",\",   77\",\"California   78\",\",   79\",\"won   80\",\"by   81\",\"the   82\",\"home   83\",\"team   84\",\"49ers   85\",\".   86\",\"The   87\",\"Miami   88\",\"bid   89\",\"depended   90\",\"on   91\",\"whether   92\",\"the   93\",\"stadium   94\",\"underwent   95\",\"renovations   96\",\".   97\",\"However   98\",\",   99\",\"on   100\",\"May   101\",\"3   102\",\",   103\",\"2013   104\",\",   105\",\"the   106\",\"Florida   107\",\"legislature   108\",\"refused   109\",\"to   110\",\"approve   111\",\"the   112\",\"funding   113\",\"plan   114\",\"to   115\",\"pay   116\",\"for   117\",\"the   118\",\"renovations   119\",\",   120\",\"dealing   121\",\"a   122\",\"significant   123\",\"blow   124\",\"to   125\",\"Miami   126\",\"'s   127\",\"chances   128\",\".   129\"]},\"id\":\"46152ace-a9e8-4b94-ad83-a612ac7d21ca\",\"type\":\"FactorRange\"},{\"attributes\":{\"children\":[{\"id\":\"7464bcbe-684d-4f71-b4ac-591fb6d85ed1\",\"subtype\":\"Figure\",\"type\":\"Plot\"}]},\"id\":\"f7892da5-8218-4901-8c13-e5b30c0bfca4\",\"type\":\"Row\"},{\"attributes\":{\"children\":[{\"id\":\"acce1b4c-63e2-42a3-a09b-cd29f788c7b9\",\"subtype\":\"Figure\",\"type\":\"Plot\"}]},\"id\":\"c8956ed8-b6f1-4f49-a05a-95fa02d66cd6\",\"type\":\"Row\"},{\"attributes\":{\"callback\":null,\"renderers\":[{\"id\":\"34fd68a2-dea7-4107-a31d-dbc9b32b2a40\",\"type\":\"GlyphRenderer\"}],\"tooltips\":[[\"Tokens\",\"@{Tokens}\"],[\"Probs\",\"@{Probs}\"],[\"z\",\"@{z}\"]]},\"id\":\"14fc30d3-af33-4979-b136-41bd45d232e4\",\"type\":\"HoverTool\"},{\"attributes\":{\"below\":[{\"id\":\"b9d48a09-f189-405e-b168-fb1a55e0c000\",\"type\":\"CategoricalAxis\"}],\"left\":[{\"id\":\"dc0d8a22-f68d-432d-85a1-49f73d0047a1\",\"type\":\"CategoricalAxis\"}],\"min_border_bottom\":10,\"min_border_left\":10,\"min_border_right\":10,\"min_border_top\":10,\"plot_height\":200,\"plot_width\":1350,\"renderers\":[{\"id\":\"b9d48a09-f189-405e-b168-fb1a55e0c000\",\"type\":\"CategoricalAxis\"},{\"id\":\"22036602-23b6-4663-b76d-a6f2e2097e36\",\"type\":\"Grid\"},{\"id\":\"dc0d8a22-f68d-432d-85a1-49f73d0047a1\",\"type\":\"CategoricalAxis\"},{\"id\":\"4ada92ce-c5ca-402f-8552-f5b78d331238\",\"type\":\"Grid\"},{\"id\":\"4e91782b-1099-4096-9c52-9af7da6230cd\",\"type\":\"BoxAnnotation\"},{\"id\":\"0283c88c-a36e-47d0-a4ff-c42337615ba8\",\"type\":\"GlyphRenderer\"}],\"title\":{\"id\":\"e202a3b8-8073-4ec9-a235-aee2625a5589\",\"type\":\"Title\"},\"toolbar\":{\"id\":\"b2303f73-943e-41ef-90be-9674d1b1002f\",\"type\":\"Toolbar\"},\"toolbar_location\":null,\"x_range\":{\"id\":\"179c269c-ddc9-4588-bbf3-06f55a5f62fa\",\"type\":\"FactorRange\"},\"x_scale\":{\"id\":\"2e2040c8-c5f0-4229-9dd4-fb21f5c3f240\",\"type\":\"CategoricalScale\"},\"y_range\":{\"id\":\"ba84e416-ee91-47b2-ac5f-a1af50901358\",\"type\":\"FactorRange\"},\"y_scale\":{\"id\":\"4c90d8a2-c631-4d92-ac1a-6a506f14f696\",\"type\":\"CategoricalScale\"}},\"id\":\"843e4385-b951-4c5c-9e51-c397f9bda33c\",\"subtype\":\"Figure\",\"type\":\"Plot\"},{\"attributes\":{\"fill_color\":{\"field\":\"zvalues\",\"transform\":{\"id\":\"b2e35a38-148b-4fc2-9ac9-304204b89844\",\"type\":\"LinearColorMapper\"}},\"height\":{\"units\":\"data\",\"value\":1},\"line_alpha\":{\"value\":0},\"line_color\":{\"value\":\"#1f77b4\"},\"width\":{\"units\":\"data\",\"value\":1},\"x\":{\"field\":\"Tokens\"},\"y\":{\"field\":\"Probs\"}},\"id\":\"2a6da6c7-058c-4ea5-8af8-644d0944ea33\",\"type\":\"Rect\"},{\"attributes\":{\"fill_alpha\":{\"value\":0.1},\"fill_color\":{\"field\":\"zvalues\",\"transform\":{\"id\":\"b2e35a38-148b-4fc2-9ac9-304204b89844\",\"type\":\"LinearColorMapper\"}},\"height\":{\"units\":\"data\",\"value\":1},\"line_alpha\":{\"value\":0},\"line_color\":{\"value\":\"#1f77b4\"},\"width\":{\"units\":\"data\",\"value\":1},\"x\":{\"field\":\"Tokens\"},\"y\":{\"field\":\"Probs\"}},\"id\":\"2ab51da1-7dca-4237-a939-552d592bfd5a\",\"type\":\"Rect\"},{\"attributes\":{\"plot\":null,\"text\":\"\",\"text_color\":{\"value\":\"black\"},\"text_font_size\":{\"value\":\"12pt\"}},\"id\":\"e202a3b8-8073-4ec9-a235-aee2625a5589\",\"type\":\"Title\"},{\"attributes\":{\"callback\":null,\"factors\":[\"w\",\"n\",\"p\",\"c\",\"r\"]},\"id\":\"dee2f2c4-be28-4324-80cd-ccb945af4db2\",\"type\":\"FactorRange\"},{\"attributes\":{},\"id\":\"37d0e9e3-6545-41ac-9f9a-002517b2a91c\",\"type\":\"CategoricalTickFormatter\"},{\"attributes\":{\"axis_label\":\"Probs\",\"bounds\":\"auto\",\"formatter\":{\"id\":\"1257b980-eeae-44a4-8e9f-9f49368ac1bd\",\"type\":\"CategoricalTickFormatter\"},\"major_label_orientation\":\"horizontal\",\"plot\":{\"id\":\"843e4385-b951-4c5c-9e51-c397f9bda33c\",\"subtype\":\"Figure\",\"type\":\"Plot\"},\"ticker\":{\"id\":\"656909fd-54ab-4893-930f-11c1cf8130e7\",\"type\":\"CategoricalTicker\"}},\"id\":\"dc0d8a22-f68d-432d-85a1-49f73d0047a1\",\"type\":\"CategoricalAxis\"},{\"attributes\":{\"callback\":null,\"renderers\":[{\"id\":\"59aa784f-f0d4-4290-ab9b-4a2e76d6e585\",\"type\":\"GlyphRenderer\"}],\"tooltips\":[[\"Tokens\",\"@{Tokens}\"],[\"Scores\",\"@{Scores}\"],[\"z\",\"@{z}\"]]},\"id\":\"308002c1-f4c3-4cca-a1b1-81ad7f98937d\",\"type\":\"HoverTool\"},{\"attributes\":{\"data_source\":{\"id\":\"b33348f5-9e3c-4a2c-baf6-e85e7276a876\",\"type\":\"ColumnDataSource\"},\"glyph\":{\"id\":\"2a6da6c7-058c-4ea5-8af8-644d0944ea33\",\"type\":\"Rect\"},\"hover_glyph\":null,\"muted_glyph\":null,\"nonselection_glyph\":{\"id\":\"2ab51da1-7dca-4237-a939-552d592bfd5a\",\"type\":\"Rect\"},\"selection_glyph\":null,\"view\":{\"id\":\"e85ad62c-eacb-44eb-a882-a019eddef6a6\",\"type\":\"CDSView\"}},\"id\":\"0283c88c-a36e-47d0-a4ff-c42337615ba8\",\"type\":\"GlyphRenderer\"},{\"attributes\":{},\"id\":\"2e2040c8-c5f0-4229-9dd4-fb21f5c3f240\",\"type\":\"CategoricalScale\"},{\"attributes\":{\"source\":{\"id\":\"b33348f5-9e3c-4a2c-baf6-e85e7276a876\",\"type\":\"ColumnDataSource\"}},\"id\":\"e85ad62c-eacb-44eb-a882-a019eddef6a6\",\"type\":\"CDSView\"},{\"attributes\":{\"high\":1.0000001192092896,\"low\":-1.0000001192092896,\"nan_color\":\"white\",\"palette\":[\"#313695\",\"#313896\",\"#323a97\",\"#333d98\",\"#343f99\",\"#34429b\",\"#35449c\",\"#36479d\",\"#37499e\",\"#384c9f\",\"#384ea1\",\"#3951a2\",\"#3a53a3\",\"#3b56a4\",\"#3b58a6\",\"#3c5ba7\",\"#3d5da8\",\"#3e60a9\",\"#3f62aa\",\"#3f64ac\",\"#4067ad\",\"#4169ae\",\"#426caf\",\"#436eb0\",\"#4371b2\",\"#4473b3\",\"#4576b4\",\"#4778b5\",\"#497ab6\",\"#4b7cb7\",\"#4d7eb9\",\"#4f81ba\",\"#5083bb\",\"#5285bc\",\"#5487bd\",\"#5689be\",\"#588cbf\",\"#5a8ec1\",\"#5c90c2\",\"#5d92c3\",\"#5f94c4\",\"#6197c5\",\"#6399c6\",\"#659bc7\",\"#679dc9\",\"#689fca\",\"#6aa2cb\",\"#6ca4cc\",\"#6ea6cd\",\"#70a8ce\",\"#72aacf\",\"#74add1\",\"#76aed1\",\"#78b0d2\",\"#7ab2d3\",\"#7cb3d4\",\"#7eb5d5\",\"#80b7d6\",\"#83b9d7\",\"#85bad8\",\"#87bcd9\",\"#89beda\",\"#8bbfdb\",\"#8dc1dc\",\"#90c3dd\",\"#92c5de\",\"#94c6df\",\"#96c8e0\",\"#98cae1\",\"#9acce1\",\"#9ccde2\",\"#9fcfe3\",\"#a1d1e4\",\"#a3d2e5\",\"#a5d4e6\",\"#a7d6e7\",\"#a9d8e8\",\"#acd9e9\",\"#aedae9\",\"#b0dbea\",\"#b2dceb\",\"#b4ddeb\",\"#b6deec\",\"#b8dfec\",\"#bae0ed\",\"#bce1ed\",\"#bee2ee\",\"#c0e3ef\",\"#c2e4ef\",\"#c4e5f0\",\"#c7e6f0\",\"#c9e7f1\",\"#cbe8f2\",\"#cde9f2\",\"#cfeaf3\",\"#d1ebf3\",\"#d3ecf4\",\"#d5edf5\",\"#d7eef5\",\"#d9eff6\",\"#dbf0f6\",\"#ddf1f7\",\"#e0f3f8\",\"#e1f3f5\",\"#e2f3f3\",\"#e3f4f1\",\"#e4f4ef\",\"#e6f5ec\",\"#e7f5ea\",\"#e8f6e8\",\"#e9f6e6\",\"#eaf7e3\",\"#ecf7e1\",\"#edf8df\",\"#eef8dd\",\"#eff9da\",\"#f1f9d8\",\"#f2fad6\",\"#f3fad4\",\"#f4fbd2\",\"#f5fbcf\",\"#f7fbcd\",\"#f8fccb\",\"#f9fcc9\",\"#fafdc6\",\"#fbfdc4\",\"#fdfec2\",\"#fefec0\",\"#fefebe\",\"#fefdbc\",\"#fefbba\",\"#fefab8\",\"#fef9b6\",\"#fef8b4\",\"#fef7b3\",\"#fef5b1\",\"#fef4af\",\"#fef3ad\",\"#fef2ab\",\"#fef1a9\",\"#feefa7\",\"#feeea6\",\"#feeda4\",\"#feeca2\",\"#feeaa0\",\"#fee99e\",\"#fee89c\",\"#fee79b\",\"#fee699\",\"#fee497\",\"#fee395\",\"#fee293\",\"#fee191\",\"#fee090\",\"#fdde8e\",\"#fddc8c\",\"#fdda8a\",\"#fdd888\",\"#fdd686\",\"#fdd484\",\"#fdd283\",\"#fdd081\",\"#fdce7f\",\"#fdcc7d\",\"#fdca7b\",\"#fdc879\",\"#fdc678\",\"#fdc476\",\"#fdc274\",\"#fdc072\",\"#fdbe70\",\"#fdbc6e\",\"#fdba6c\",\"#fdb86b\",\"#fdb669\",\"#fdb467\",\"#fdb265\",\"#fdb063\",\"#fdae61\",\"#fcac60\",\"#fcaa5f\",\"#fca75e\",\"#fba55c\",\"#fba25b\",\"#fb9f5a\",\"#fa9d59\",\"#fa9a58\",\"#fa9857\",\"#f99555\",\"#f99354\",\"#f89053\",\"#f88e52\",\"#f88b51\",\"#f7894f\",\"#f7864e\",\"#f7834d\",\"#f6814c\",\"#f67e4b\",\"#f67c4a\",\"#f57948\",\"#f57747\",\"#f57446\",\"#f47245\",\"#f46f44\",\"#f46d43\",\"#f26a41\",\"#f16840\",\"#f0653f\",\"#ef633e\",\"#ee613d\",\"#ed5e3c\",\"#ec5c3b\",\"#ea593a\",\"#e95739\",\"#e85538\",\"#e75236\",\"#e65035\",\"#e54d34\",\"#e44b33\",\"#e24932\",\"#e14631\",\"#e04430\",\"#df412f\",\"#de3f2e\",\"#dd3d2d\",\"#dc3a2b\",\"#da382a\",\"#d93529\",\"#d83328\",\"#d73127\",\"#d62f26\",\"#d42d26\",\"#d22b26\",\"#d02926\",\"#ce2726\",\"#cc2526\",\"#ca2326\",\"#c82126\",\"#c62026\",\"#c41e26\",\"#c21c26\",\"#c01a26\",\"#be1826\",\"#bc1626\",\"#ba1426\",\"#b81226\",\"#b61026\",\"#b40f26\",\"#b20d26\",\"#b00b26\",\"#ae0926\",\"#ac0726\",\"#aa0526\",\"#a80326\",\"#a60126\",\"#a50026\"]},\"id\":\"2b33f274-7319-4521-aa30-de1d58fe7d73\",\"type\":\"LinearColorMapper\"},{\"attributes\":{\"active_drag\":\"auto\",\"active_inspect\":\"auto\",\"active_scroll\":\"auto\",\"active_tap\":\"auto\",\"tools\":[{\"id\":\"f45cbb4a-9d07-4ce2-8fa2-b49212c29803\",\"type\":\"HoverTool\"},{\"id\":\"c5beda38-07cb-4ee1-b013-bc97c06807c5\",\"type\":\"SaveTool\"},{\"id\":\"d083ba35-b1e0-4d6a-9794-1d3887f5eb17\",\"type\":\"PanTool\"},{\"id\":\"fe2f47cc-0c54-42d8-9abe-f8e4002de5bc\",\"type\":\"WheelZoomTool\"},{\"id\":\"966aa121-7fe7-42b4-a774-df84efe6e05d\",\"type\":\"BoxZoomTool\"},{\"id\":\"3b96e320-0a6c-4ae1-819c-a87558489373\",\"type\":\"ResetTool\"}]},\"id\":\"b2303f73-943e-41ef-90be-9674d1b1002f\",\"type\":\"Toolbar\"},{\"attributes\":{\"below\":[{\"id\":\"a264f1ca-ac93-4e46-81f5-a6cdcb8719a8\",\"type\":\"CategoricalAxis\"}],\"left\":[{\"id\":\"4fc37b01-dd93-449e-a4b2-becb6463efd9\",\"type\":\"CategoricalAxis\"}],\"min_border_bottom\":10,\"min_border_left\":10,\"min_border_right\":10,\"min_border_top\":10,\"plot_height\":220,\"plot_width\":1350,\"renderers\":[{\"id\":\"a264f1ca-ac93-4e46-81f5-a6cdcb8719a8\",\"type\":\"CategoricalAxis\"},{\"id\":\"32e617ef-452e-4c0d-a60c-5e512711936f\",\"type\":\"Grid\"},{\"id\":\"4fc37b01-dd93-449e-a4b2-becb6463efd9\",\"type\":\"CategoricalAxis\"},{\"id\":\"fa88fb2c-8664-4ec7-adaa-7d5a2d9d673f\",\"type\":\"Grid\"},{\"id\":\"79b5dd59-4fbc-42c7-aeaa-685a2ec33eca\",\"type\":\"BoxAnnotation\"},{\"id\":\"59aa784f-f0d4-4290-ab9b-4a2e76d6e585\",\"type\":\"GlyphRenderer\"}],\"title\":{\"id\":\"52d40c28-49d4-480f-af8d-5ef8fe271c51\",\"type\":\"Title\"},\"toolbar\":{\"id\":\"82ff6bd3-21ea-4ef6-9eb8-f65274c62e95\",\"type\":\"Toolbar\"},\"toolbar_location\":null,\"x_range\":{\"id\":\"46152ace-a9e8-4b94-ad83-a612ac7d21ca\",\"type\":\"FactorRange\"},\"x_scale\":{\"id\":\"ecdf9781-6b88-407f-ade8-4e095f7aa920\",\"type\":\"CategoricalScale\"},\"y_range\":{\"id\":\"dee2f2c4-be28-4324-80cd-ccb945af4db2\",\"type\":\"FactorRange\"},\"y_scale\":{\"id\":\"05859969-e501-4f80-a619-7857ba53ce63\",\"type\":\"CategoricalScale\"}},\"id\":\"acce1b4c-63e2-42a3-a09b-cd29f788c7b9\",\"subtype\":\"Figure\",\"type\":\"Plot\"},{\"attributes\":{},\"id\":\"1257b980-eeae-44a4-8e9f-9f49368ac1bd\",\"type\":\"CategoricalTickFormatter\"},{\"attributes\":{},\"id\":\"4c90d8a2-c631-4d92-ac1a-6a506f14f696\",\"type\":\"CategoricalScale\"},{\"attributes\":{\"plot\":null,\"text\":\"\",\"text_color\":{\"value\":\"black\"},\"text_font_size\":{\"value\":\"12pt\"}},\"id\":\"a7d6a92f-bdd9-4032-859c-c10a6c198761\",\"type\":\"Title\"},{\"attributes\":{\"grid_line_color\":{\"value\":null},\"plot\":{\"id\":\"843e4385-b951-4c5c-9e51-c397f9bda33c\",\"subtype\":\"Figure\",\"type\":\"Plot\"},\"ticker\":{\"id\":\"3bbcd373-397b-482f-bd6a-7b512a585a64\",\"type\":\"CategoricalTicker\"}},\"id\":\"22036602-23b6-4663-b76d-a6f2e2097e36\",\"type\":\"Grid\"},{\"attributes\":{\"below\":[{\"id\":\"6bee9a9b-41e8-4fc4-82db-2e2a3d94b24f\",\"type\":\"CategoricalAxis\"}],\"left\":[{\"id\":\"90ed7450-fe3e-4366-b75a-41bce6892bb7\",\"type\":\"CategoricalAxis\"}],\"min_border_bottom\":10,\"min_border_left\":10,\"min_border_right\":10,\"min_border_top\":10,\"plot_height\":220,\"plot_width\":1350,\"renderers\":[{\"id\":\"6bee9a9b-41e8-4fc4-82db-2e2a3d94b24f\",\"type\":\"CategoricalAxis\"},{\"id\":\"61d0a8ec-f872-417d-860e-dfa667ff16e5\",\"type\":\"Grid\"},{\"id\":\"90ed7450-fe3e-4366-b75a-41bce6892bb7\",\"type\":\"CategoricalAxis\"},{\"id\":\"232d3317-6359-4fa2-9c96-55ac6288ad8e\",\"type\":\"Grid\"},{\"id\":\"1bbc55f2-94e3-4c7c-87ea-5856958c474b\",\"type\":\"BoxAnnotation\"},{\"id\":\"34fd68a2-dea7-4107-a31d-dbc9b32b2a40\",\"type\":\"GlyphRenderer\"}],\"title\":{\"id\":\"a7d6a92f-bdd9-4032-859c-c10a6c198761\",\"type\":\"Title\"},\"toolbar\":{\"id\":\"a68e6e2d-f089-451a-9dab-77c6d4966671\",\"type\":\"Toolbar\"},\"toolbar_location\":null,\"x_range\":{\"id\":\"c1ce1ea0-4be1-4f66-8677-ba74061cf067\",\"type\":\"FactorRange\"},\"x_scale\":{\"id\":\"ad2820cc-d13a-46a3-9bf3-a9e07a0c29e9\",\"type\":\"CategoricalScale\"},\"y_range\":{\"id\":\"dfd54836-c381-4f75-9595-a10d057c7e79\",\"type\":\"FactorRange\"},\"y_scale\":{\"id\":\"c14d452e-4923-433c-9721-fe501c2eaec6\",\"type\":\"CategoricalScale\"}},\"id\":\"2b1b3ae3-c515-44fa-b538-da328b10f8af\",\"subtype\":\"Figure\",\"type\":\"Plot\"},{\"attributes\":{\"plot\":null,\"text\":\"\",\"text_color\":{\"value\":\"black\"},\"text_font_size\":{\"value\":\"12pt\"}},\"id\":\"52d40c28-49d4-480f-af8d-5ef8fe271c51\",\"type\":\"Title\"},{\"attributes\":{\"axis_label\":\"Tokens\",\"bounds\":\"auto\",\"formatter\":{\"id\":\"37d0e9e3-6545-41ac-9f9a-002517b2a91c\",\"type\":\"CategoricalTickFormatter\"},\"major_label_orientation\":1.5707963267948966,\"plot\":{\"id\":\"843e4385-b951-4c5c-9e51-c397f9bda33c\",\"subtype\":\"Figure\",\"type\":\"Plot\"},\"ticker\":{\"id\":\"3bbcd373-397b-482f-bd6a-7b512a585a64\",\"type\":\"CategoricalTicker\"}},\"id\":\"b9d48a09-f189-405e-b168-fb1a55e0c000\",\"type\":\"CategoricalAxis\"},{\"attributes\":{},\"id\":\"ecdf9781-6b88-407f-ade8-4e095f7aa920\",\"type\":\"CategoricalScale\"},{\"attributes\":{\"axis_label\":\"Probs\",\"bounds\":\"auto\",\"formatter\":{\"id\":\"aea269ec-8237-4fe2-9fb9-0505f5fecaef\",\"type\":\"CategoricalTickFormatter\"},\"major_label_orientation\":\"horizontal\",\"plot\":{\"id\":\"2b1b3ae3-c515-44fa-b538-da328b10f8af\",\"subtype\":\"Figure\",\"type\":\"Plot\"},\"ticker\":{\"id\":\"2503db4b-c19e-42b8-8ac3-bcc85af92ef1\",\"type\":\"CategoricalTicker\"}},\"id\":\"90ed7450-fe3e-4366-b75a-41bce6892bb7\",\"type\":\"CategoricalAxis\"},{\"attributes\":{},\"id\":\"3bbcd373-397b-482f-bd6a-7b512a585a64\",\"type\":\"CategoricalTicker\"},{\"attributes\":{\"axis_label\":\"Scores\",\"bounds\":\"auto\",\"formatter\":{\"id\":\"c2b8946a-0f18-467d-a474-0d6f0f1ccfbf\",\"type\":\"CategoricalTickFormatter\"},\"major_label_orientation\":\"horizontal\",\"plot\":{\"id\":\"acce1b4c-63e2-42a3-a09b-cd29f788c7b9\",\"subtype\":\"Figure\",\"type\":\"Plot\"},\"ticker\":{\"id\":\"a50d7f34-c014-40a9-9495-beb2f06ea115\",\"type\":\"CategoricalTicker\"}},\"id\":\"4fc37b01-dd93-449e-a4b2-becb6463efd9\",\"type\":\"CategoricalAxis\"},{\"attributes\":{\"high\":0.9999998807907104,\"low\":8.998292388984197e-11,\"nan_color\":\"white\",\"palette\":[\"#fff5f0\",\"#fef4ef\",\"#fef3ee\",\"#fef3ed\",\"#fef2ec\",\"#fef1eb\",\"#fef1ea\",\"#fef0e9\",\"#feefe8\",\"#feefe7\",\"#feeee6\",\"#feede5\",\"#feede4\",\"#feece3\",\"#feebe2\",\"#feebe1\",\"#feeae0\",\"#fee9e0\",\"#fee9df\",\"#fee8de\",\"#fee7dd\",\"#fee7dc\",\"#fee6db\",\"#fee5da\",\"#fee5d9\",\"#fee4d8\",\"#fee3d7\",\"#fee3d6\",\"#fee2d5\",\"#fee1d4\",\"#fee1d3\",\"#fee0d2\",\"#fddfd1\",\"#fdded0\",\"#fdddce\",\"#fddccd\",\"#fddbcb\",\"#fddaca\",\"#fdd8c8\",\"#fdd7c7\",\"#fdd6c5\",\"#fdd5c3\",\"#fdd4c2\",\"#fdd3c0\",\"#fdd1bf\",\"#fdd0bd\",\"#fdcfbc\",\"#fdceba\",\"#fccdb9\",\"#fcccb7\",\"#fccab6\",\"#fcc9b4\",\"#fcc8b3\",\"#fcc7b1\",\"#fcc6af\",\"#fcc5ae\",\"#fcc3ac\",\"#fcc2ab\",\"#fcc1a9\",\"#fcc0a8\",\"#fcbfa6\",\"#fcbea5\",\"#fcbda3\",\"#fcbba2\",\"#fcbaa0\",\"#fcb99f\",\"#fcb89d\",\"#fcb69c\",\"#fcb59a\",\"#fcb499\",\"#fcb297\",\"#fcb196\",\"#fcb094\",\"#fcaf93\",\"#fcad91\",\"#fcac90\",\"#fcab8e\",\"#fca98d\",\"#fca88b\",\"#fca78a\",\"#fca689\",\"#fca487\",\"#fca386\",\"#fca284\",\"#fca083\",\"#fc9f81\",\"#fc9e80\",\"#fc9d7e\",\"#fc9b7d\",\"#fc9a7b\",\"#fc997a\",\"#fc9778\",\"#fc9677\",\"#fc9575\",\"#fc9474\",\"#fc9272\",\"#fb9171\",\"#fb9070\",\"#fb8f6f\",\"#fb8d6d\",\"#fb8c6c\",\"#fb8b6b\",\"#fb8a6a\",\"#fb8868\",\"#fb8767\",\"#fb8666\",\"#fb8464\",\"#fb8363\",\"#fb8262\",\"#fb8161\",\"#fb7f5f\",\"#fb7e5e\",\"#fb7d5d\",\"#fb7c5c\",\"#fb7a5a\",\"#fb7959\",\"#fb7858\",\"#fb7757\",\"#fb7555\",\"#fb7454\",\"#fb7353\",\"#fb7252\",\"#fb7050\",\"#fb6f4f\",\"#fb6e4e\",\"#fb6d4d\",\"#fb6b4b\",\"#fb6a4a\",\"#fa6949\",\"#fa6748\",\"#fa6647\",\"#f96446\",\"#f96345\",\"#f86144\",\"#f86043\",\"#f85e42\",\"#f75d42\",\"#f75b41\",\"#f75a40\",\"#f6593f\",\"#f6573e\",\"#f5563d\",\"#f5543c\",\"#f5533b\",\"#f4513a\",\"#f45039\",\"#f44e38\",\"#f34d37\",\"#f34b36\",\"#f24a35\",\"#f24834\",\"#f24733\",\"#f14532\",\"#f14432\",\"#f14231\",\"#f04130\",\"#f03f2f\",\"#ef3e2e\",\"#ef3d2d\",\"#ef3b2c\",\"#ee3a2b\",\"#ed392b\",\"#ec382a\",\"#ea372a\",\"#e93529\",\"#e83429\",\"#e73328\",\"#e63228\",\"#e53127\",\"#e43027\",\"#e32f27\",\"#e12e26\",\"#e02d26\",\"#df2c25\",\"#de2a25\",\"#dd2924\",\"#dc2824\",\"#db2723\",\"#d92623\",\"#d82522\",\"#d72422\",\"#d62321\",\"#d52221\",\"#d42120\",\"#d31f20\",\"#d21e1f\",\"#d01d1f\",\"#cf1c1f\",\"#ce1b1e\",\"#cd1a1e\",\"#cc191d\",\"#cb181d\",\"#ca171c\",\"#c8171c\",\"#c7171c\",\"#c6161c\",\"#c5161b\",\"#c4161b\",\"#c2161b\",\"#c1151b\",\"#c0151a\",\"#bf151a\",\"#be141a\",\"#bc141a\",\"#bb1419\",\"#ba1419\",\"#b91319\",\"#b81319\",\"#b71318\",\"#b51218\",\"#b41218\",\"#b31218\",\"#b21217\",\"#b11117\",\"#af1117\",\"#ae1117\",\"#ad1116\",\"#ac1016\",\"#ab1016\",\"#a91016\",\"#a80f15\",\"#a70f15\",\"#a60f15\",\"#a50f15\",\"#a30e14\",\"#a10e14\",\"#9f0d14\",\"#9d0d14\",\"#9b0c13\",\"#990c13\",\"#970b13\",\"#950b13\",\"#930a12\",\"#910a12\",\"#8f0912\",\"#8d0912\",\"#8b0811\",\"#8a0811\",\"#880811\",\"#860711\",\"#840710\",\"#820610\",\"#800610\",\"#7e0510\",\"#7c050f\",\"#7a040f\",\"#78040f\",\"#76030f\",\"#74030e\",\"#72020e\",\"#70020e\",\"#6e010e\",\"#6c010d\",\"#6a000d\",\"#68000d\",\"#67000c\"]},\"id\":\"14a1d573-02e1-496f-a7da-32dd6850c560\",\"type\":\"LinearColorMapper\"},{\"attributes\":{\"active_drag\":\"auto\",\"active_inspect\":\"auto\",\"active_scroll\":\"auto\",\"active_tap\":\"auto\",\"tools\":[{\"id\":\"308002c1-f4c3-4cca-a1b1-81ad7f98937d\",\"type\":\"HoverTool\"},{\"id\":\"95b1dfcd-940c-4cc6-b4a2-c42a75989422\",\"type\":\"SaveTool\"},{\"id\":\"00d0f5f3-529a-4775-a515-436ceeed4e71\",\"type\":\"PanTool\"},{\"id\":\"38dcf8e9-b8e4-4bc4-91b4-461a52cf48dc\",\"type\":\"WheelZoomTool\"},{\"id\":\"43bdcdc6-2654-478a-b9f2-152e69ae24a0\",\"type\":\"BoxZoomTool\"},{\"id\":\"10518638-ecf8-4251-a6c5-8be20eab7046\",\"type\":\"ResetTool\"}]},\"id\":\"82ff6bd3-21ea-4ef6-9eb8-f65274c62e95\",\"type\":\"Toolbar\"},{\"attributes\":{},\"id\":\"ad2820cc-d13a-46a3-9bf3-a9e07a0c29e9\",\"type\":\"CategoricalScale\"},{\"attributes\":{},\"id\":\"656909fd-54ab-4893-930f-11c1cf8130e7\",\"type\":\"CategoricalTicker\"},{\"attributes\":{},\"id\":\"05859969-e501-4f80-a619-7857ba53ce63\",\"type\":\"CategoricalScale\"},{\"attributes\":{\"dimension\":1,\"grid_line_color\":{\"value\":null},\"plot\":{\"id\":\"843e4385-b951-4c5c-9e51-c397f9bda33c\",\"subtype\":\"Figure\",\"type\":\"Plot\"},\"ticker\":{\"id\":\"656909fd-54ab-4893-930f-11c1cf8130e7\",\"type\":\"CategoricalTicker\"}},\"id\":\"4ada92ce-c5ca-402f-8552-f5b78d331238\",\"type\":\"Grid\"},{\"attributes\":{\"grid_line_color\":{\"value\":null},\"plot\":{\"id\":\"acce1b4c-63e2-42a3-a09b-cd29f788c7b9\",\"subtype\":\"Figure\",\"type\":\"Plot\"},\"ticker\":{\"id\":\"dccd6cb4-5476-422b-8a00-0581672f0f36\",\"type\":\"CategoricalTicker\"}},\"id\":\"32e617ef-452e-4c0d-a60c-5e512711936f\",\"type\":\"Grid\"},{\"attributes\":{\"axis_label\":\"Tokens\",\"bounds\":\"auto\",\"formatter\":{\"id\":\"ed5dd9c1-e1cb-4e86-b49b-fb0d40719d25\",\"type\":\"CategoricalTickFormatter\"},\"major_label_orientation\":1.5707963267948966,\"plot\":{\"id\":\"acce1b4c-63e2-42a3-a09b-cd29f788c7b9\",\"subtype\":\"Figure\",\"type\":\"Plot\"},\"ticker\":{\"id\":\"dccd6cb4-5476-422b-8a00-0581672f0f36\",\"type\":\"CategoricalTicker\"}},\"id\":\"a264f1ca-ac93-4e46-81f5-a6cdcb8719a8\",\"type\":\"CategoricalAxis\"},{\"attributes\":{\"children\":[{\"id\":\"c8956ed8-b6f1-4f49-a05a-95fa02d66cd6\",\"type\":\"Row\"},{\"id\":\"f7892da5-8218-4901-8c13-e5b30c0bfca4\",\"type\":\"Row\"},{\"id\":\"b5ae508a-f7d3-4aa4-8bc1-a76e3fa8864a\",\"type\":\"Row\"},{\"id\":\"9727f8fc-3f1e-46da-9d28-32918f562f2e\",\"type\":\"Row\"}]},\"id\":\"a67a8a87-11a6-474a-ae57-5595964a7d2b\",\"type\":\"Column\"},{\"attributes\":{\"active_drag\":\"auto\",\"active_inspect\":\"auto\",\"active_scroll\":\"auto\",\"active_tap\":\"auto\",\"tools\":[{\"id\":\"14fc30d3-af33-4979-b136-41bd45d232e4\",\"type\":\"HoverTool\"},{\"id\":\"cd3a0fe2-9db8-4029-a5e8-bf3179509ccd\",\"type\":\"SaveTool\"},{\"id\":\"64b66345-6196-47a8-800b-fea427676df1\",\"type\":\"PanTool\"},{\"id\":\"bcd20f52-6010-4a93-95d1-83d997f59072\",\"type\":\"WheelZoomTool\"},{\"id\":\"6ec08bad-99fb-4b75-b949-e6cecb5d2f3f\",\"type\":\"BoxZoomTool\"},{\"id\":\"5146d2b1-d452-4a0f-80f7-7ea56a16dac9\",\"type\":\"ResetTool\"}]},\"id\":\"a68e6e2d-f089-451a-9dab-77c6d4966671\",\"type\":\"Toolbar\"},{\"attributes\":{},\"id\":\"dccd6cb4-5476-422b-8a00-0581672f0f36\",\"type\":\"CategoricalTicker\"},{\"attributes\":{\"bottom_units\":\"screen\",\"fill_alpha\":{\"value\":0.5},\"fill_color\":{\"value\":\"lightgrey\"},\"left_units\":\"screen\",\"level\":\"overlay\",\"line_alpha\":{\"value\":1.0},\"line_color\":{\"value\":\"black\"},\"line_dash\":[4,4],\"line_width\":{\"value\":2},\"plot\":null,\"render_mode\":\"css\",\"right_units\":\"screen\",\"top_units\":\"screen\"},\"id\":\"4e91782b-1099-4096-9c52-9af7da6230cd\",\"type\":\"BoxAnnotation\"},{\"attributes\":{},\"id\":\"c14d452e-4923-433c-9721-fe501c2eaec6\",\"type\":\"CategoricalScale\"},{\"attributes\":{},\"id\":\"c5beda38-07cb-4ee1-b013-bc97c06807c5\",\"type\":\"SaveTool\"},{\"attributes\":{\"grid_line_color\":{\"value\":null},\"plot\":{\"id\":\"2b1b3ae3-c515-44fa-b538-da328b10f8af\",\"subtype\":\"Figure\",\"type\":\"Plot\"},\"ticker\":{\"id\":\"cf5b0e17-4145-4006-b35a-e74d48d85c9e\",\"type\":\"CategoricalTicker\"}},\"id\":\"61d0a8ec-f872-417d-860e-dfa667ff16e5\",\"type\":\"Grid\"},{\"attributes\":{},\"id\":\"a50d7f34-c014-40a9-9495-beb2f06ea115\",\"type\":\"CategoricalTicker\"},{\"attributes\":{\"dimension\":1,\"grid_line_color\":{\"value\":null},\"plot\":{\"id\":\"acce1b4c-63e2-42a3-a09b-cd29f788c7b9\",\"subtype\":\"Figure\",\"type\":\"Plot\"},\"ticker\":{\"id\":\"a50d7f34-c014-40a9-9495-beb2f06ea115\",\"type\":\"CategoricalTicker\"}},\"id\":\"fa88fb2c-8664-4ec7-adaa-7d5a2d9d673f\",\"type\":\"Grid\"},{\"attributes\":{\"axis_label\":\"Tokens\",\"bounds\":\"auto\",\"formatter\":{\"id\":\"15e0ff50-34e3-46cb-800b-a47e39cac07e\",\"type\":\"CategoricalTickFormatter\"},\"major_label_orientation\":1.5707963267948966,\"plot\":{\"id\":\"2b1b3ae3-c515-44fa-b538-da328b10f8af\",\"subtype\":\"Figure\",\"type\":\"Plot\"},\"ticker\":{\"id\":\"cf5b0e17-4145-4006-b35a-e74d48d85c9e\",\"type\":\"CategoricalTicker\"}},\"id\":\"6bee9a9b-41e8-4fc4-82db-2e2a3d94b24f\",\"type\":\"CategoricalAxis\"},{\"attributes\":{},\"id\":\"d083ba35-b1e0-4d6a-9794-1d3887f5eb17\",\"type\":\"PanTool\"},{\"attributes\":{},\"id\":\"cf5b0e17-4145-4006-b35a-e74d48d85c9e\",\"type\":\"CategoricalTicker\"},{\"attributes\":{},\"id\":\"fe2f47cc-0c54-42d8-9abe-f8e4002de5bc\",\"type\":\"WheelZoomTool\"},{\"attributes\":{\"overlay\":{\"id\":\"4e91782b-1099-4096-9c52-9af7da6230cd\",\"type\":\"BoxAnnotation\"}},\"id\":\"966aa121-7fe7-42b4-a774-df84efe6e05d\",\"type\":\"BoxZoomTool\"},{\"attributes\":{\"bottom_units\":\"screen\",\"fill_alpha\":{\"value\":0.5},\"fill_color\":{\"value\":\"lightgrey\"},\"left_units\":\"screen\",\"level\":\"overlay\",\"line_alpha\":{\"value\":1.0},\"line_color\":{\"value\":\"black\"},\"line_dash\":[4,4],\"line_width\":{\"value\":2},\"plot\":null,\"render_mode\":\"css\",\"right_units\":\"screen\",\"top_units\":\"screen\"},\"id\":\"79b5dd59-4fbc-42c7-aeaa-685a2ec33eca\",\"type\":\"BoxAnnotation\"},{\"attributes\":{\"callback\":null,\"column_names\":[\"Tokens\",\"Probs\",\"zvalues\",\"z\"],\"data\":{\"Probs\":[\"0\",\"1\",\"2\",\"0\",\"1\",\"2\",\"0\",\"1\",\"2\",\"0\",\"1\",\"2\",\"0\",\"1\",\"2\",\"0\",\"1\",\"2\",\"0\",\"1\",\"2\",\"0\",\"1\",\"2\",\"0\",\"1\",\"2\",\"0\",\"1\",\"2\"],\"Tokens\":[\"In   0\",\"In   0\",\"In   0\",\"what   1\",\"what   1\",\"what   1\",\"venue   2\",\"venue   2\",\"venue   2\",\"did   3\",\"did   3\",\"did   3\",\"Super   4\",\"Super   4\",\"Super   4\",\"Bowl   5\",\"Bowl   5\",\"Bowl   5\",\"XIX   6\",\"XIX   6\",\"XIX   6\",\"take   7\",\"take   7\",\"take   7\",\"place   8\",\"place   8\",\"place   8\",\"?   9\",\"?   9\",\"?   9\"],\"z\":[\"0.011027\",\"5.9615e-14\",\"3.3387e-14\",\"0.10348\",\"5.701e-29\",\"4.8142e-29\",\"0.8311\",\"0.99999\",\"1.1702e-05\",\"0.0014392\",\"2.2921e-24\",\"2.2146e-24\",\"0.00011413\",\"7.277e-14\",\"1.0908e-17\",\"6.1935e-05\",\"8.5542e-17\",\"1.0905e-18\",\"4.1165e-06\",\"0.99969\",\"3.5948e-12\",\"0.0063394\",\"0.001578\",\"7.0555e-11\",\"0.018554\",\"0.99999\",\"7.4464e-06\",\"0.027883\",\"0.6745\",\"0.025131\"],\"zvalues\":{\"__ndarray__\":\"gao0PJg9hikVXRYpK+3TPamJkBB+G3QQzMJUP5L/fz85VUQ3IKK8OqdXMRhqWCsY7VjvOPncoyk9NUkj9OKBOBU/xSTz7KAh1iCKNnDrfz+F9nwskrrPO8PUzjrIJpsuWP6XPGL/fz/X2/k2mGvkPDasLD9C3808\",\"dtype\":\"float32\",\"shape\":[30]}}},\"id\":\"6bbc5a3c-8d8a-4b7e-9b9c-0ea3007d0d6f\",\"type\":\"ColumnDataSource\"},{\"attributes\":{},\"id\":\"2503db4b-c19e-42b8-8ac3-bcc85af92ef1\",\"type\":\"CategoricalTicker\"},{\"attributes\":{},\"id\":\"3b96e320-0a6c-4ae1-819c-a87558489373\",\"type\":\"ResetTool\"},{\"attributes\":{},\"id\":\"95b1dfcd-940c-4cc6-b4a2-c42a75989422\",\"type\":\"SaveTool\"},{\"attributes\":{\"dimension\":1,\"grid_line_color\":{\"value\":null},\"plot\":{\"id\":\"2b1b3ae3-c515-44fa-b538-da328b10f8af\",\"subtype\":\"Figure\",\"type\":\"Plot\"},\"ticker\":{\"id\":\"2503db4b-c19e-42b8-8ac3-bcc85af92ef1\",\"type\":\"CategoricalTicker\"}},\"id\":\"232d3317-6359-4fa2-9c96-55ac6288ad8e\",\"type\":\"Grid\"},{\"attributes\":{},\"id\":\"00d0f5f3-529a-4775-a515-436ceeed4e71\",\"type\":\"PanTool\"},{\"attributes\":{},\"id\":\"38dcf8e9-b8e4-4bc4-91b4-461a52cf48dc\",\"type\":\"WheelZoomTool\"},{\"attributes\":{\"overlay\":{\"id\":\"79b5dd59-4fbc-42c7-aeaa-685a2ec33eca\",\"type\":\"BoxAnnotation\"}},\"id\":\"43bdcdc6-2654-478a-b9f2-152e69ae24a0\",\"type\":\"BoxZoomTool\"},{\"attributes\":{},\"id\":\"cd3a0fe2-9db8-4029-a5e8-bf3179509ccd\",\"type\":\"SaveTool\"},{\"attributes\":{\"overlay\":{\"id\":\"1bbc55f2-94e3-4c7c-87ea-5856958c474b\",\"type\":\"BoxAnnotation\"}},\"id\":\"6ec08bad-99fb-4b75-b949-e6cecb5d2f3f\",\"type\":\"BoxZoomTool\"},{\"attributes\":{},\"id\":\"10518638-ecf8-4251-a6c5-8be20eab7046\",\"type\":\"ResetTool\"},{\"attributes\":{},\"id\":\"5146d2b1-d452-4a0f-80f7-7ea56a16dac9\",\"type\":\"ResetTool\"},{\"attributes\":{\"axis_label\":\"Tokens\",\"bounds\":\"auto\",\"formatter\":{\"id\":\"ea2315f1-22c0-4afd-bc22-f481f3946b7d\",\"type\":\"CategoricalTickFormatter\"},\"major_label_orientation\":1.5707963267948966,\"plot\":{\"id\":\"7464bcbe-684d-4f71-b4ac-591fb6d85ed1\",\"subtype\":\"Figure\",\"type\":\"Plot\"},\"ticker\":{\"id\":\"42494815-7de2-474e-b8d3-ed168ea89372\",\"type\":\"CategoricalTicker\"}},\"id\":\"b56a864b-a1f4-4e58-8934-ae2388268f2a\",\"type\":\"CategoricalAxis\"},{\"attributes\":{},\"id\":\"64b66345-6196-47a8-800b-fea427676df1\",\"type\":\"PanTool\"},{\"attributes\":{},\"id\":\"bcd20f52-6010-4a93-95d1-83d997f59072\",\"type\":\"WheelZoomTool\"},{\"attributes\":{\"fill_color\":{\"field\":\"zvalues\",\"transform\":{\"id\":\"2b33f274-7319-4521-aa30-de1d58fe7d73\",\"type\":\"LinearColorMapper\"}},\"height\":{\"units\":\"data\",\"value\":1},\"line_alpha\":{\"value\":0},\"line_color\":{\"value\":\"#1f77b4\"},\"width\":{\"units\":\"data\",\"value\":1},\"x\":{\"field\":\"Tokens\"},\"y\":{\"field\":\"Scores\"}},\"id\":\"46988817-22c3-4151-b610-782aa30dba85\",\"type\":\"Rect\"}],\"root_ids\":[\"1b82c8eb-7eb0-43c7-9b1b-4a7d14a5a6bb\"]},\"title\":\"Bokeh Application\",\"version\":\"0.12.14\"}};\n",
       "  var render_items = [{\"docid\":\"1aeeb40e-14b1-45de-a72c-5646d46c1005\",\"elementid\":\"dc6cd2c9-e720-4a0a-b455-2aa461990c3d\",\"modelid\":\"1b82c8eb-7eb0-43c7-9b1b-4a7d14a5a6bb\"}];\n",
       "  root.Bokeh.embed.embed_items_notebook(docs_json, render_items);\n",
       "\n",
       "  }\n",
       "  if (root.Bokeh !== undefined) {\n",
       "    embed_document(root);\n",
       "  } else {\n",
       "    var attempts = 0;\n",
       "    var timer = setInterval(function(root) {\n",
       "      if (root.Bokeh !== undefined) {\n",
       "        embed_document(root);\n",
       "        clearInterval(timer);\n",
       "      }\n",
       "      attempts++;\n",
       "      if (attempts > 100) {\n",
       "        console.log(\"Bokeh: ERROR: Unable to run BokehJS code because BokehJS library is missing\")\n",
       "        clearInterval(timer);\n",
       "      }\n",
       "    }, 10, root)\n",
       "  }\n",
       "})(window);\n",
       "</script>\n",
       "</div>"
      ],
      "text/plain": [
       ":Layout\n",
       "   .S.Scores   :HeatMap   [Tokens,Scores]   (z)\n",
       "   .Q.Segments :HeatMap   [Tokens,Probs]   (z)\n",
       "   .S.Segments :HeatMap   [Tokens,Probs]   (z)\n",
       "   .S.Assoc    :HeatMap   [Tokens,Probs]   (z)"
      ]
     },
     "execution_count": 58,
     "metadata": {},
     "output_type": "execute_result"
    }
   ],
   "source": [
    "%%opts HeatMap.S [tools=['hover'] colorbar=False width=10*len(data['support_ws'])+50 toolbar='above' xrotation=90 show_title=False]\n",
    "%%opts HeatMap.S.Segments [height=200] (cmap='Reds')\n",
    "%%opts HeatMap.S.Scores [height=220]\n",
    "%%opts HeatMap.S.Assoc [height=220] (cmap='Reds')\n",
    "%%opts HeatMap.Q [tools=['hover'] colorbar=False width=15*len(data['question_ws'])+50 toolbar='above' xrotation=90 show_title=False] (cmap='Reds')\n",
    "%%opts HeatMap.Q.Segments [height=200]\n",
    "%%opts HeatMap.Q.Assoc [height=220]\n",
    "\n",
    "import numpy as np\n",
    "\n",
    "\n",
    "def norm(s):\n",
    "    maxx = np.max(s, 1, keepdims=True)\n",
    "    minn = np.min(s, 1, keepdims=True)\n",
    "    return (s - (maxx + minn) / 2) / (maxx - minn) * 2.0\n",
    "\n",
    "print(data['question'])\n",
    "print(' '.join(data['support_ws'][i] for i in range(data['predicted_span'][0], data['predicted_span'][1] + 1)), data['predicted_span'])\n",
    "correct_answers = set([a.text for a in data['answers']])\n",
    "print(correct_answers)\n",
    "\n",
    "\n",
    "hm_scores = hv.HeatMap((idxstrseq(data['support_ws']), ['w', 'n', 'p', 'c', 'r'],\n",
    "                        norm(np.stack([data['s_word'], data['s_ngram'], data['s_segm'], data['s_frame'], data['s_assoc']], 0))),\n",
    "                       group='S', label='Scores', kdims=['Tokens', 'Scores'])\n",
    "\n",
    "q_strucutre_values = np.transpose(np.concatenate([data['p_attn_q'], data['p_segm_q'], data['p_frame_q'] * data['p_segm_q']], 1))\n",
    "hm_question = hv.HeatMap((idxstrseq(data['question_ws']), list(range(q_strucutre_values.shape[0])), q_strucutre_values),\n",
    "                       group='Q', label='Segments', kdims=['Tokens', 'Probs'])\n",
    "\n",
    "\n",
    "strucutre_values = np.transpose(np.concatenate([data['p_segm'], data['p_segm'] * data['p_frame']], 1))\n",
    "hm_support = hv.HeatMap((idxstrseq(data['support_ws']), list(range(strucutre_values.shape[0])), strucutre_values),\n",
    "                       group='S', label='Segments', kdims=['Tokens', 'Probs'])\n",
    "\n",
    "hm_assoc = hv.HeatMap((idxstrseq(data['support_ws']), list(range(data['p_slot'].shape[1])), np.transpose(data['p_slot'])),\n",
    "                       group='S', label='Assoc', kdims=['Tokens', 'Probs'])\n",
    "    \n",
    "(hm_scores + hm_question + hm_support + hm_assoc).cols(1)"
   ]
  },
  {
   "cell_type": "code",
   "execution_count": 120,
   "metadata": {},
   "outputs": [
    {
     "data": {
      "text/plain": [
       "array([0.11656535], dtype=float32)"
      ]
     },
     "execution_count": 120,
     "metadata": {},
     "output_type": "execute_result"
    }
   ],
   "source": [
    "np.median(data['s_frame'], 0, keepdims=True)"
   ]
  },
  {
   "cell_type": "code",
   "execution_count": 148,
   "metadata": {},
   "outputs": [
    {
     "data": {
      "text/plain": [
       "array([ 2.12374926], dtype=float32)"
      ]
     },
     "execution_count": 148,
     "metadata": {},
     "output_type": "execute_result"
    }
   ],
   "source": [
    "(np.max(data['s_frame'], 0, keepdims=True) - np.min(data['s_frame'], 0, keepdims=True)) / 2"
   ]
  },
  {
   "cell_type": "code",
   "execution_count": null,
   "metadata": {},
   "outputs": [],
   "source": []
  },
  {
   "cell_type": "code",
   "execution_count": 14,
   "metadata": {},
   "outputs": [],
   "source": [
    "g = tf.get_default_graph()\n",
    "frame_boundary = [op.outputs[0] for op in g.get_operations() if op.name.endswith('frame_probs')][0]\n",
    "#frame_attn = [op.outputs[0] for op in g.get_operations() if op.name.endswith('frame_attn')][0]\n",
    "segm_probs = [op.outputs[0] for op in g.get_operations() if op.name.endswith('segm_probs')][0]"
   ]
  },
  {
   "cell_type": "code",
   "execution_count": 6,
   "metadata": {},
   "outputs": [
    {
     "name": "stdout",
     "output_type": "stream",
     "text": [
      "3890\n"
     ]
    },
    {
     "ename": "NameError",
     "evalue": "name 'frame_attn' is not defined",
     "traceback": [
      "\u001b[0;31m---------------------------------------------------------------------------\u001b[0m",
      "\u001b[0;31mNameError\u001b[0m                                 Traceback (most recent call last)",
      "\u001b[0;32m<ipython-input-6-bf7b210692f8>\u001b[0m in \u001b[0;36m<module>\u001b[0;34m()\u001b[0m\n\u001b[1;32m     13\u001b[0m \u001b[0mwords\u001b[0m \u001b[0;34m=\u001b[0m \u001b[0;34m[\u001b[0m\u001b[0mbatch\u001b[0m\u001b[0;34m[\u001b[0m\u001b[0;34m'__rev_vocab'\u001b[0m\u001b[0;34m]\u001b[0m\u001b[0;34m[\u001b[0m\u001b[0mw\u001b[0m\u001b[0;34m]\u001b[0m \u001b[0;32mfor\u001b[0m \u001b[0mw\u001b[0m \u001b[0;32min\u001b[0m \u001b[0mbatch\u001b[0m\u001b[0;34m[\u001b[0m\u001b[0mPorts\u001b[0m\u001b[0;34m.\u001b[0m\u001b[0mInput\u001b[0m\u001b[0;34m.\u001b[0m\u001b[0msupport_words\u001b[0m\u001b[0;34m]\u001b[0m\u001b[0;34m[\u001b[0m\u001b[0;36m0\u001b[0m\u001b[0;34m]\u001b[0m\u001b[0;34m]\u001b[0m\u001b[0;34m\u001b[0m\u001b[0m\n\u001b[1;32m     14\u001b[0m \u001b[0;34m\u001b[0m\u001b[0m\n\u001b[0;32m---> 15\u001b[0;31m \u001b[0mrp\u001b[0m\u001b[0;34m,\u001b[0m \u001b[0mwp\u001b[0m\u001b[0;34m,\u001b[0m \u001b[0mfattn\u001b[0m \u001b[0;34m=\u001b[0m \u001b[0mr\u001b[0m\u001b[0;34m.\u001b[0m\u001b[0msession\u001b[0m\u001b[0;34m.\u001b[0m\u001b[0mrun\u001b[0m\u001b[0;34m(\u001b[0m\u001b[0;34m[\u001b[0m\u001b[0mframe_boundary\u001b[0m\u001b[0;34m,\u001b[0m \u001b[0msegm_probs\u001b[0m\u001b[0;34m,\u001b[0m \u001b[0mframe_attn\u001b[0m\u001b[0;34m]\u001b[0m\u001b[0;34m,\u001b[0m \u001b[0mfeed_dict\u001b[0m\u001b[0;34m=\u001b[0m\u001b[0mr\u001b[0m\u001b[0;34m.\u001b[0m\u001b[0mmodel_module\u001b[0m\u001b[0;34m.\u001b[0m\u001b[0mconvert_to_feed_dict\u001b[0m\u001b[0;34m(\u001b[0m\u001b[0mbatch\u001b[0m\u001b[0;34m)\u001b[0m\u001b[0;34m)\u001b[0m\u001b[0;34m\u001b[0m\u001b[0m\n\u001b[0m\u001b[1;32m     16\u001b[0m \u001b[0;34m\u001b[0m\u001b[0m\n\u001b[1;32m     17\u001b[0m \u001b[0;31m#ap, rp, wp = np.round(ap), np.round(rp), np.round(wp)\u001b[0m\u001b[0;34m\u001b[0m\u001b[0;34m\u001b[0m\u001b[0m\n",
      "\u001b[0;31mNameError\u001b[0m: name 'frame_attn' is not defined"
     ],
     "output_type": "error"
    }
   ],
   "source": [
    "%matplotlib inline\n",
    "import seaborn as sns\n",
    "import numpy as np\n",
    "import matplotlib.pyplot as plt\n",
    "from jack.core.tensorport import Ports\n",
    "import random\n",
    "index = random.randint(0, len(ds) - 1)\n",
    "print(index)\n",
    "frame_boundary = [op.outputs[0] for op in g.get_operations() if op.name.endswith('frame_probs')][0]\n",
    "segm_probs = [op.outputs[0] for op in g.get_operations() if op.name.endswith('segm_probs')][0]\n",
    "\n",
    "batch = r.input_module([q for q, a in ds[index:index + 1]])\n",
    "words = [batch['__rev_vocab'][w] for w in batch[Ports.Input.support_words][0]]\n",
    "\n",
    "rp, wp, fattn = r.session.run([frame_boundary, segm_probs, frame_attn], feed_dict=r.model_module.convert_to_feed_dict(batch))\n",
    "\n",
    "#ap, rp, wp = np.round(ap), np.round(rp), np.round(wp)\n",
    "\n",
    "fig, ax = plt.subplots(nrows=1, figsize=(20, 2))\n",
    "\n",
    "#sns.heatmap(np.transpose(wp[0, :100]), xticklabels=words[:100], cmap=\"Blues\", vmax=1.0, vmin=0.0)#, ax=axs[0])\n",
    "sns.heatmap(np.transpose(np.concatenate([fattn[0], rp[0] * wp[0], wp[0]], 1)[:50]), xticklabels=words[:50], cmap=\"Blues\", vmax=1.0, vmin=0.0)\n",
    "#sns.heatmap(np.transpose(rp[0, :50]), xticklabels=words[:50], cmap=\"Blues\", ax=axs[1])"
   ]
  },
  {
   "cell_type": "code",
   "execution_count": 20,
   "metadata": {},
   "outputs": [
    {
     "name": "stdout",
     "output_type": "stream",
     "text": [
      "1415\n"
     ]
    },
    {
     "data": {
      "text/plain": [
       "<matplotlib.axes._subplots.AxesSubplot at 0x7fdf15f99828>"
      ]
     },
     "execution_count": 20,
     "metadata": {},
     "output_type": "execute_result"
    },
    {
     "data": {
      "image/png": "[encoded data removed]",
      "text/plain": [
       "<matplotlib.figure.Figure at 0x7fdf1656e240>"
      ]
     },
     "metadata": {},
     "output_type": "display_data"
    }
   ],
   "source": [
    "%matplotlib inline\n",
    "import seaborn as sns\n",
    "import numpy as np\n",
    "import matplotlib.pyplot as plt\n",
    "from jack.core.tensorport import Ports\n",
    "import random\n",
    "index = random.randint(0, len(ds) - 1)\n",
    "print(index)\n",
    "frame_boundary = [op.outputs[0] for op in g.get_operations() if op.name.endswith('frame_probs')][0]\n",
    "segm_probs = [op.outputs[0] for op in g.get_operations() if op.name.endswith('segm_probs')][0]\n",
    "\n",
    "batch = r.input_module([q for q, a in ds[index:index + 1]])\n",
    "words = [batch['__rev_vocab'][w] for w in batch[Ports.Input.support_words][0]]\n",
    "\n",
    "rp, wp = r.session.run([frame_boundary, segm_probs], feed_dict=r.model_module.convert_to_feed_dict(batch))\n",
    "\n",
    "#ap, rp, wp = np.round(ap), np.round(rp), np.round(wp)\n",
    "\n",
    "fig, ax = plt.subplots(nrows=1, figsize=(20, 2))\n",
    "\n",
    "#sns.heatmap(np.transpose(wp[0, :100]), xticklabels=words[:100], cmap=\"Blues\", vmax=1.0, vmin=0.0)#, ax=axs[0])\n",
    "sns.heatmap(np.transpose(np.concatenate([rp[0] * wp[0], wp[0]], 1)[:50]), xticklabels=words[:50], cmap=\"Blues\", vmax=1.0, vmin=0.0)\n",
    "#sns.heatmap(np.transpose(rp[0, :50]), xticklabels=words[:50], cmap=\"Blues\", ax=axs[1])"
   ]
  },
  {
   "cell_type": "code",
   "execution_count": 255,
   "metadata": {},
   "outputs": [],
   "source": [
    "from collections import defaultdict\n",
    "\n",
    "start_word_per_slot = [defaultdict(int) for _ in range(r.shared_resources.config['num_slots'])]\n",
    "end_word_per_slot = [defaultdict(int) for _ in range(r.shared_resources.config['num_slots'])]\n",
    "phrases_per_slot = [defaultdict(int) for _ in range(r.shared_resources.config['num_slots'])]\n",
    "for i in range(100):\n",
    "    index = random.randint(0, len(ds) - 1)\n",
    "    batch = r.input_module([q for q, a in ds[index:index + 1]])\n",
    "    words = [batch['__rev_vocab'][w] for w in batch[Ports.Input.support_words][0]]\n",
    "    start_word = 0\n",
    "    ap, rp, wp = r.session.run([address_probs, frame_boundary, segm_probs], feed_dict=r.model_module.convert_to_feed_dict(batch))\n",
    "    for j, w in enumerate(words):\n",
    "        for s in range(r.shared_resources.config['num_slots']):\n",
    "            if ap[0, j, s] > 0.8 and wp[0, j, 0] > 0.5:\n",
    "                start_word_per_slot[s][words[start_word]] += 1\n",
    "                end_word_per_slot[s][w] += 1\n",
    "                phrases_per_slot[s][\" \".join(words[start_word:j+1])] += 1\n",
    "        if wp[0, j, 0] > 0.5 and j+1 < len(words):\n",
    "            start_word = j+1\n",
    "                \n"
   ]
  },
  {
   "cell_type": "code",
   "execution_count": 265,
   "metadata": {},
   "outputs": [
    {
     "name": "stdout",
     "output_type": "stream",
     "text": [
      "\n",
      "on the condition, earn, conditions, for 485 yards, precedent, eight appearances, changes, three, packet, Some examples, a large collection, following, of accounts, produced, pace, ( 31 receptions, with a standard, inscriptions, just, reprised\n",
      "\n",
      "ultimate, killed, modified, reluctant, a new, respected, cause, posed, propose, and asked, traditionally, motivated, potentially, the most, and the major, the disputed, of the new, , not, suspended, became\n",
      "\n",
      "by the Bonn council, Greg Olsen, rich Mongol, of Amida Nyorai, university, at Leipzig, Jerricho Cotchery, of Milan Ludovico Sforza, Wales, Here, in Worms, from umbilical cords, by John Forster, with the church, to the Saxon, that Tesla, Johnson 's, in Schmidberger v Austria, St. Hyacinth 's Church, in Commission v France\n",
      "\n",
      "routed, congregation, to the standard theory, goes, at the request, rebelled, to the difference, strictly, stationary, settled, for Luther, from his daily labour, leave, to favor, transported, launched, to the mesophyll, as ordered, sold, to explain\n",
      "\n",
      "The Trout River, the Dutch prohibition, a village, of complexity, on state, 15 ABC, in the Birmingham market, 's industry, , television, it, which its, of the game, of a federal state, and an imperial Chinese dynasty, of the Holy Roman Empire, of Burbach family, independence, fever, by formal empire, a group\n",
      "\n",
      "Similarly, ( but, , though, and, , e.g., , respectively, while, and did, three ), and cultivation, ), , such, and leishmaniasis, , and, , biomedical ,, (, though, lysis, but, But\n",
      "\n",
      "the soap, orbit, a string, energy, case, airing, the interests, on imports, into a single theory, tropical cyclones, message, on graduated scales, a drama, of continental drift, of the Disneyland project, anthropogenic, out, , unrest, structures, negative\n",
      "\n",
      "the 2009–10 season, that time, soon, in 1275, in the Super Bowl, 's 2005, gestation, of two earlier, The next, in 1765, his time, from July 1982, , 1389–93, in 2011, death, of Rome 1957, , 1589, ( 1609–1626, as 1671, ( 1925\n",
      "\n",
      "that Phillips, the reformer, OMSF program, of a prime, and heretic, and the object, 's Tropical Storm Fay, veteran, human, says, name, , president, legate, The Dutch health, , Aristotle, picture, federal, a murder, leader, by Tropical Storm Beryl\n",
      "\n",
      ", animals, from the Three Sovereigns, C4 photosynthesis, with Muslim political leaders, of intracellular pathogens, the Arabic numerals 50, in various, Chinese histories, hermaphrodites, bishops, ( male, in tobacco plants, about 4.95 mL per liter, and Gemini veterans, objects, Asians, 35, frogs, platyctenids ' eggs, of the objects\n"
     ]
    }
   ],
   "source": [
    "for i, ps in enumerate(phrases_per_slot):\n",
    "    print()\n",
    "    print(', '.join(random.sample([p for p, n in ps.items()], 20)))\n",
    "\n",
    "    #print(i)\n",
    "    #for p, n in sorted(ps.items(), key=lambda x: -x[1])[:5]:\n",
    "     #   print(p, n)\n",
    "        \n",
    "\n",
    "#phrases_per_slot[0]"
   ]
  },
  {
   "cell_type": "code",
   "execution_count": 162,
   "metadata": {},
   "outputs": [
    {
     "name": "stdout",
     "output_type": "stream",
     "text": [
      "6115\n"
     ]
    },
    {
     "data": {
      "text/plain": [
       "<matplotlib.axes._subplots.AxesSubplot at 0x7f29c0d74518>"
      ]
     },
     "execution_count": 162,
     "metadata": {},
     "output_type": "execute_result"
    },
    {
     "data": {
      "image/png": "[encoded data removed]",
      "text/plain": [
       "<matplotlib.figure.Figure at 0x7f29c0bce7b8>"
      ]
     },
     "metadata": {},
     "output_type": "display_data"
    }
   ],
   "source": [
    "%matplotlib inline\n",
    "import seaborn as sns\n",
    "import numpy as np\n",
    "import matplotlib.pyplot as plt\n",
    "from jack.core.tensorport import Ports\n",
    "import random\n",
    "index = random.randint(0, len(ds) - 1)\n",
    "#index = 9154 # Where\n",
    "print(index)\n",
    "batch = r.input_module([q for q, a in ds[index:index + 1]])\n",
    "words = [batch['__rev_vocab'][w] for w in batch[Ports.Input.question_words][0]]\n",
    "\n",
    "fig, axs = plt.subplots(nrows=1, figsize=(5,3))\n",
    "ap, attn, wp = r.session.run([address_probs_q, attention_probs, segm_probs_q], feed_dict=r.model_module.convert_to_feed_dict(batch))\n",
    "\n",
    "#ap, rp, wp = np.round(ap), np.round(rp), np.round(wp)\n",
    "\n",
    "sns.heatmap(np.transpose(np.concatenate([ap[0]*wp[0], wp[0], attn[0]], 1)[:50]), xticklabels=words[:50], cmap=\"Blues\", vmin=0.0)#, ax=axs[0])\n"
   ]
  },
  {
   "cell_type": "code",
   "execution_count": 203,
   "metadata": {},
   "outputs": [],
   "source": [
    "from collections import defaultdict\n",
    "\n",
    "start_word_per_slot = [defaultdict(int) for _ in range(r.shared_resources.config['num_slots'])]\n",
    "end_word_per_slot = [defaultdict(int) for _ in range(r.shared_resources.config['num_slots'])]\n",
    "phrases_per_slot = [[] for _ in range(r.shared_resources.config['num_slots'])]\n",
    "attn_heads_per_slot = [[] for _ in range(r.shared_resources.config['num_slots'])]\n",
    "for i in range(1000):\n",
    "    index = random.randint(0, len(ds) - 1)\n",
    "    batch = r.input_module([q for q, a in ds[index:index + 1]])\n",
    "    words = [batch['__rev_vocab'][w] for w in batch[Ports.Input.question_words][0]]\n",
    "    start_word = 0\n",
    "    ap, attn, wp = r.session.run([address_probs_q, attention_probs, segm_probs_q], feed_dict=r.model_module.convert_to_feed_dict(batch))\n",
    "    max_attn = np.max(attn, )\n",
    "    for j, w in enumerate(words):\n",
    "        for s in range(r.shared_resources.config['num_slots']):\n",
    "            if ap[0, j, s] > 0.5 and wp[0, j, 0] > 0.8:\n",
    "                start_word_per_slot[s][words[start_word]] += 1\n",
    "                end_word_per_slot[s][w] += 1\n",
    "                phrases_per_slot[s].append(\" \".join(words[start_word:j+1]))\n",
    "                if attn[0, j] == max_attn:\n",
    "                    attn_heads_per_slot[s].append(\" \".join(words[start_word:j+1]))\n",
    "        if wp[0, j, 0] > 0.8 and j+1 < len(words):\n",
    "            start_word = j+1\n"
   ]
  },
  {
   "cell_type": "code",
   "execution_count": 212,
   "metadata": {
    "scrolled": false
   },
   "outputs": [
    {
     "name": "stdout",
     "output_type": "stream",
     "text": [
      "0 & How much (10), What percentage (6), , what percentage (2), cost (2), What type of actions (2)  &  \\\\\n",
      "1 & term (3), called (3), What happened (3), do (2), acronym (2)  &  \\\\\n",
      "2 & Where (3), What network (2), what chemicals (1), the system (1), What notable private school (1)  &  \\\\\n",
      "3 & Why (12), From where (1), to which sport (1), from what sea (1), the premise (1)  &  \\\\\n",
      "4 & How (28), What (7), What group (4), What city (2), On where (2)  &  \\\\\n",
      "5 & What (81), Where (25), , what (10), Which (1), , which law (1)  &  \\\\\n",
      "6 & What type of regime (2), program (2), What area (2), At what point (2), approach (1)  &  \\\\\n",
      "7 & When (68), In what year (10), What year (6), How long (4), In which year (3)  &  \\\\\n",
      "8 & Who (89), the name (10), What country (6), company (4), name (4)  &  \\\\\n",
      "9 & Which languages (2), many (2), To whom (1), Which entities (1), the population (1)  &  \\\\\n"
     ]
    }
   ],
   "source": [
    "from collections import Counter\n",
    "\n",
    "for i, ps in enumerate(attn_heads_per_slot):\n",
    "    ct = Counter()\n",
    "    for p in ps:\n",
    "        ct[p] += 1\n",
    "\n",
    "    print(i, '&', ', '.join(\"%s (%d)\" % (p, n) for p, n in sorted(ct.items(), key=lambda x: -x[1])[:5]), ' &  \\\\\\\\')\n",
    "    "
   ]
  },
  {
   "cell_type": "code",
   "execution_count": 94,
   "metadata": {},
   "outputs": [
    {
     "name": "stdout",
     "output_type": "stream",
     "text": [
      "8087\n"
     ]
    },
    {
     "data": {
      "image/png": "[encoded data removed]",
      "text/plain": [
       "<matplotlib.figure.Figure at 0x7fa95d065f28>"
      ]
     },
     "metadata": {},
     "output_type": "display_data"
    }
   ],
   "source": [
    "%matplotlib inline\n",
    "import seaborn as sns\n",
    "import numpy as np\n",
    "import matplotlib.pyplot as plt\n",
    "from jack.core.tensorport import Ports\n",
    "import random\n",
    "index = random.randint(0, len(ds) - 1)\n",
    "print(index)\n",
    "\n",
    "sns.set_context(\"paper\", font_scale=2, rc={\"axes.labelposition\": \"top\"})\n",
    "\n",
    "\n",
    "batch = r.input_module([q for q, a in ds[index:index + 1]])\n",
    "words = [batch['__rev_vocab'][w] for w in batch[Ports.Input.support_words][0]]\n",
    "\n",
    "rp, wp, ap = r.session.run([frame_boundary.outputs[0], segm_probs.outputs[0], address_probs.outputs[0]], feed_dict=r.model_module.convert_to_feed_dict(batch))\n",
    "\n",
    "#ap, rp, wp = np.round(ap), np.round(rp), np.round(wp)\n",
    "\n",
    "fig, ax = plt.subplots(nrows=1, figsize=(2 + ap.shape[2] // 2,20))\n",
    "\n",
    "\n",
    "#sns.heatmap(np.transpose(wp[0, :100]), xticklabels=words[:100], cmap=\"Blues\", vmax=1.0, vmin=0.0)#, ax=axs[0])\n",
    "g = sns.heatmap(np.concatenate([wp[0], rp[0] * wp[0], ap[0]], 1)[:50], \n",
    "                yticklabels=words[:50], cmap=\"Blues\", vmax=1.0, vmin=0.0, cbar=False)\n",
    "\n",
    "g.set_xticklabels(['End-of-Segment', 'End-of-Frame'] + ['Slot-%d' % i for i in range(ap.shape[2])], rotation=90)\n",
    "g.xaxis.tick_top()\n",
    "g.xaxis.set_label_position('top')\n",
    "\n",
    "\n",
    "#sns.heatmap(np.transpose(rp[0, :50]), xticklabels=words[:50], cmap=\"Blues\", ax=axs[1])"
   ]
  },
  {
   "cell_type": "code",
   "execution_count": 90,
   "metadata": {},
   "outputs": [],
   "source": [
    "?sns.heatmap"
   ]
  },
  {
   "cell_type": "code",
   "execution_count": 86,
   "metadata": {},
   "outputs": [
    {
     "data": {
      "text/plain": [
       "(1, 142, 10)"
      ]
     },
     "execution_count": 86,
     "metadata": {},
     "output_type": "execute_result"
    }
   ],
   "source": [
    "ap.shape"
   ]
  },
  {
   "cell_type": "code",
   "execution_count": 38,
   "metadata": {},
   "outputs": [
    {
     "data": {
      "text/plain": [
       "(array([[ 0.,  2.,  1.,  3.],\n",
       "        [ 2.,  0.,  4.,  2.],\n",
       "        [ 4.,  1.,  5.,  1.]]), 25.0)"
      ]
     },
     "execution_count": 38,
     "metadata": {},
     "output_type": "execute_result"
    },
    {
     "data": {
      "image/png": "[encoded data removed]",
      "text/plain": [
       "<matplotlib.figure.Figure at 0x7f8d500c66a0>"
      ]
     },
     "metadata": {},
     "output_type": "display_data"
    }
   ],
   "source": [
    "A = np.array([[0.0,2,1,3], [2, 0, 4, 2], [4, 1, 5, 1]])\n",
    "P = np.ones_like(A) * 1.0 / max(A.shape[0], A.shape[1])\n",
    "sns.heatmap(A, cmap=\"Blues\")\n",
    "A, np.sum(A)"
   ]
  },
  {
   "cell_type": "code",
   "execution_count": 393,
   "metadata": {},
   "outputs": [
    {
     "data": {
      "text/plain": [
       "(array([  9.99724430e-01,   3.18881637e-07,   9.99936328e-01,\n",
       "          9.99999681e-01]), array([ 1.        ,  0.99966076,  1.        ]))"
      ]
     },
     "execution_count": 393,
     "metadata": {},
     "output_type": "execute_result"
    },
    {
     "data": {
      "image/png": "[encoded data removed]",
      "text/plain": [
       "<matplotlib.figure.Figure at 0x7fb6a085fa90>"
      ]
     },
     "metadata": {},
     "output_type": "display_data"
    }
   ],
   "source": [
    "B = P * A\n",
    "W = B * B / np.sum(A, axis=0, keepdims=True) / np.sum(A, axis=1, keepdims=True)\n",
    "P = W / np.maximum(np.sum(W, 0, keepdims=True), np.sum(W, 1, keepdims=True))\n",
    "sns.heatmap(P, cmap=\"Blues\")\n",
    "np.sum(P, axis=0), np.sum(P, axis=1)"
   ]
  },
  {
   "cell_type": "code",
   "execution_count": 385,
   "metadata": {},
   "outputs": [
    {
     "data": {
      "text/plain": [
       "(array([ 0.61363636,  0.42424242,  0.95454545,  0.84090909]),\n",
       " array([ 0.93333333,  0.9       ,  1.        ]))"
      ]
     },
     "execution_count": 385,
     "metadata": {},
     "output_type": "execute_result"
    },
    {
     "data": {
      "image/png": "[encoded data removed]",
      "text/plain": [
       "<matplotlib.figure.Figure at 0x7fb601bb82b0>"
      ]
     },
     "metadata": {},
     "output_type": "display_data"
    }
   ],
   "source": [
    "W = P * A\n",
    "#W = B * B / np.sum(A, axis=0, keepdims=True) / np.sum(A, axis=1, keepdims=True)\n",
    "P = W / np.maximum(np.sum(W, 0, keepdims=True), np.sum(W, 1, keepdims=True))\n",
    "sns.heatmap(P, cmap=\"Blues\")\n",
    "np.sum(P, axis=0), np.sum(P, axis=1)"
   ]
  },
  {
   "cell_type": "code",
   "execution_count": 266,
   "metadata": {},
   "outputs": [
    {
     "data": {
      "text/plain": [
       "array([[  9.,   8.,  11.,   9.],\n",
       "       [ 20.,  20.,  20.,  20.],\n",
       "       [ 11.,  11.,  11.,  11.]])"
      ]
     },
     "execution_count": 266,
     "metadata": {},
     "output_type": "execute_result"
    }
   ],
   "source": [
    "np.maximum(np.sum(A, 0, keepdims=True), np.sum(A, 1, keepdims=True))"
   ]
  },
  {
   "cell_type": "code",
   "execution_count": 263,
   "metadata": {},
   "outputs": [
    {
     "data": {
      "text/plain": [
       "array([[ 0.        ,  0.        ,  0.        ,  1.        ],\n",
       "       [ 0.        ,  1.        ,  0.        ,  0.        ],\n",
       "       [ 0.25663196,  0.        ,  0.74336804,  0.        ]])"
      ]
     },
     "execution_count": 263,
     "metadata": {},
     "output_type": "execute_result"
    }
   ],
   "source": [
    "A1"
   ]
  },
  {
   "cell_type": "code",
   "execution_count": null,
   "metadata": {},
   "outputs": [],
   "source": []
  },
  {
   "cell_type": "code",
   "execution_count": 39,
   "metadata": {},
   "outputs": [],
   "source": [
    "import tensorflow as tf"
   ]
  },
  {
   "cell_type": "code",
   "execution_count": 58,
   "metadata": {},
   "outputs": [
    {
     "data": {
      "text/plain": [
       "array([[[  0.,   0.,   0.,   0.],\n",
       "        [  2.,   0.,   0.,   0.],\n",
       "        [  4.,   1.,   0.,   0.],\n",
       "        [ 40.,  10.,  50.,   0.]],\n",
       "\n",
       "       [[  0.,   0.,   0.,   0.],\n",
       "        [  2.,   0.,   0.,   0.],\n",
       "        [  4.,   1.,   0.,   0.],\n",
       "        [ 40.,  10.,  50.,   0.]]])"
      ]
     },
     "execution_count": 58,
     "metadata": {},
     "output_type": "execute_result"
    }
   ],
   "source": [
    "A = np.array([[[0.0,2,1,3],\n",
    "              [2, 0, 4, 2],\n",
    "              [4, 1, 5, 1],\n",
    "              [40, 10, 50, 10]],\n",
    "              [[0.0,2,1,3],\n",
    "              [2, 0, 4, 2],\n",
    "              [4, 1, 5, 1],\n",
    "              [40, 10, 50, 10]]])\n",
    "\n",
    "r.model_module.tf_session.run(tf.matrix_band_part(A, -1, 0) * (1.0 - tf.expand_dims(tf.eye(tf.shape(A)[1], tf.shape(A)[2], dtype=tf.float64), 0)))"
   ]
  },
  {
   "cell_type": "code",
   "execution_count": null,
   "metadata": {},
   "outputs": [],
   "source": []
  },
  {
   "cell_type": "code",
   "execution_count": 3,
   "metadata": {},
   "outputs": [],
   "source": [
    "ds = load_squad('data/SQuAD/dev-v1.1.json')"
   ]
  },
  {
   "cell_type": "code",
   "execution_count": 50,
   "metadata": {},
   "outputs": [
    {
     "name": "stdout",
     "output_type": "stream",
     "text": [
      "INFO:tensorflow:Restoring parameters from /home/diwe01/fusessh/jtr/squad/noninteractive/hierarchical_segm_depth4/model_module\n"
     ]
    }
   ],
   "source": [
    "tf.reset_default_graph()\n",
    "fn = '/home/diwe01/fusessh/jtr/squad/noninteractive/hierarchical_segm_depth4/'\n",
    "r = reader_from_file(fn)"
   ]
  },
  {
   "cell_type": "code",
   "execution_count": 133,
   "metadata": {},
   "outputs": [
    {
     "name": "stdout",
     "output_type": "stream",
     "text": [
      "INFO:tensorflow:Restoring parameters from /home/diwe01/fusessh/jtr/squad/noninteractive/hierarchical_segm_depth4/model_module\n"
     ]
    }
   ],
   "source": [
    "fn = '/home/diwe01/fusessh/jtr/squad/noninteractive/hierarchical_segm_depth4/'\n",
    "r.load(fn)"
   ]
  },
  {
   "cell_type": "code",
   "execution_count": 122,
   "metadata": {},
   "outputs": [],
   "source": [
    "g = tf.get_default_graph()\n",
    "address_probs = [op for op in g.get_operations() if op.name.endswith('depth_prob')][1]\n",
    "segm_probs = [op for op in g.get_operations() if op.name.endswith('segm_probs')][1]\n",
    "pop_probs = [op for op in g.get_operations() if op.name.endswith('pop_probs')][1]\n",
    "push_probs = [op for op in g.get_operations() if op.name.endswith('push_probs')][1]"
   ]
  },
  {
   "cell_type": "code",
   "execution_count": 178,
   "metadata": {},
   "outputs": [
    {
     "name": "stdout",
     "output_type": "stream",
     "text": [
      "3750\n"
     ]
    },
    {
     "data": {
      "image/png": "[encoded data removed]",
      "text/plain": [
       "<matplotlib.figure.Figure at 0x7f729a3af6d8>"
      ]
     },
     "metadata": {},
     "output_type": "display_data"
    }
   ],
   "source": [
    "%matplotlib inline\n",
    "import seaborn as sns\n",
    "import numpy as np\n",
    "import matplotlib.pyplot as plt\n",
    "from jack.core.tensorport import Ports\n",
    "import random\n",
    "index = random.randint(0, len(ds) - 1)\n",
    "print(index)\n",
    "\n",
    "batch = r.input_module([q for q, a in ds[index:index + 1]])\n",
    "words = [batch['__rev_vocab'][w] for w in batch[Ports.Input.support_words][0]]\n",
    "\n",
    "ap, wp, op, up = r.session.run([address_probs.outputs[0], segm_probs.outputs[0], pop_probs.outputs[0], push_probs.outputs[0]], feed_dict=r.model_module.convert_to_feed_dict(batch))\n",
    "\n",
    "hard=False\n",
    "\n",
    "if hard:\n",
    "    op, up, wp = np.round(op), np.round(up), np.round(wp)\n",
    "\n",
    "op *= wp\n",
    "up *= np.concatenate([np.ones([1, 1, 1]), wp[:, :-1]], 1) * (1-op)\n",
    "\n",
    "fig, axs = plt.subplots(nrows=1, figsize=(20,3))\n",
    "sns.heatmap(np.transpose(np.concatenate([ap[0] * wp[0],\n",
    "                                         np.zeros_like(op[0]),\n",
    "                                         op[0],\n",
    "                                         up[0],\n",
    "                                         wp[0]], 1)[:50]),\n",
    "            xticklabels=words[:50], cmap=\"Blues\", vmin=0.0, vmax=1.0)#, ax=axs[0])\n",
    "depth = ap.shape[2]\n",
    "if hard:\n",
    "    s = ['->']\n",
    "    d = 0\n",
    "    for i, w in enumerate(words):\n",
    "        if up[0, i, 0] > 0.8 and d < depth - 1:\n",
    "            d = 1\n",
    "            if not s[-1].startswith('\\n'):\n",
    "                s.append('\\n' + '    ' * d + '->')\n",
    "        if s[-1] == '\\n':\n",
    "            s[-1] += '    ' * d + '->'\n",
    "        s.append(w)\n",
    "        if op[0, i, 0] > 0.8:\n",
    "            #s.append('}')\n",
    "            if d == 0:\n",
    "                s.append('\\n----------------------------------------------------------------------------------------------------------')\n",
    "            else:\n",
    "                d -= 1\n",
    "            s.append('\\n')\n",
    "        elif wp[0, i, 0] > 0.8:\n",
    "            s.append('|')\n",
    "    print(\" \".join(s))"
   ]
  },
  {
   "cell_type": "code",
   "execution_count": 320,
   "metadata": {},
   "outputs": [],
   "source": [
    "address_probs = [list(op for op in g.get_operations() if op.name.endswith('address_probs' + str(i)))[1]\n",
    "                 for i in range(r.shared_resources.config['num_layers'])]"
   ]
  },
  {
   "cell_type": "code",
   "execution_count": 328,
   "metadata": {},
   "outputs": [
    {
     "name": "stdout",
     "output_type": "stream",
     "text": [
      "3809\n"
     ]
    },
    {
     "data": {
      "text/plain": [
       "<matplotlib.axes._subplots.AxesSubplot at 0x7ff337cdc208>"
      ]
     },
     "execution_count": 328,
     "metadata": {},
     "output_type": "execute_result"
    },
    {
     "data": {
      "image/png": "[encoded data removed]",
      "text/plain": [
       "<matplotlib.figure.Figure at 0x7ff375eef400>"
      ]
     },
     "metadata": {},
     "output_type": "display_data"
    }
   ],
   "source": [
    "level = 1\n",
    "\n",
    "index = random.randint(0, len(ds) - 1)\n",
    "print(index)\n",
    "\n",
    "batch = r.input_module([q for q, a in ds[index:index + 1]])\n",
    "words = [batch['__rev_vocab'][w] for w in batch[Ports.Input.support_words][0]]\n",
    "\n",
    "ps = r.session.run([p.outputs[0] for p in segm_probs], feed_dict=r.model_module.convert_to_feed_dict(batch))\n",
    "ap = r.session.run([p.outputs[0] for p in address_probs], feed_dict=r.model_module.convert_to_feed_dict(batch))\n",
    "ps = np.cumprod(np.concatenate(ps, 2), 2)\n",
    "#ap, rp, wp = np.round(ap), np.round(rp), np.round(wp)\n",
    "\n",
    "fig, ax = plt.subplots(nrows=1, figsize=(20, 2))\n",
    "#sns.heatmap(np.transpose(np.concatenate(ps, 2)[0, :50, ::-1]), xticklabels=words[:50], cmap=\"Blues\", vmax=1.0, vmin=0.0)\n",
    "sns.heatmap(np.transpose(np.concatenate([ap[level], ps[:,:,level:level+1]], 2)[0, :50]), xticklabels=words[:50], cmap=\"Blues\", vmax=1.0, vmin=0.0)"
   ]
  },
  {
   "cell_type": "code",
   "execution_count": null,
   "metadata": {},
   "outputs": [],
   "source": []
  },
  {
   "cell_type": "code",
   "execution_count": 5,
   "metadata": {},
   "outputs": [],
   "source": [
    "import spacy\n",
    "nlp = spacy.load(\"en\")\n",
    "ds = load_squad('data/SQuAD/dev-v1.1.json')"
   ]
  },
  {
   "cell_type": "code",
   "execution_count": 28,
   "metadata": {},
   "outputs": [
    {
     "name": "stdout",
     "output_type": "stream",
     "text": [
      "INFO:tensorflow:Restoring parameters from /home/diwe01/fusessh/jtr/squad/noninteractive/multi_rep/ngram/model_module\n"
     ]
    }
   ],
   "source": [
    "tf.reset_default_graph()\n",
    "fn = '/home/diwe01/fusessh/jtr/squad/noninteractive/multi_rep/ngram'\n",
    "r = reader_from_file(fn)"
   ]
  },
  {
   "cell_type": "code",
   "execution_count": 6,
   "metadata": {},
   "outputs": [
    {
     "data": {
      "text/plain": [
       "0.759"
      ]
     },
     "execution_count": 6,
     "metadata": {},
     "output_type": "execute_result"
    }
   ],
   "source": [
    "import random\n",
    "\n",
    "total = len(da)\n",
    "num_correct = 0\n",
    "\n",
    "for index in range(total):\n",
    "    a = r([q for q, a in ds[index:index + 1]])[0][0]\n",
    "\n",
    "    support = nlp(ds[index][0].support[0])\n",
    "    support_sentences = list(support.sents)\n",
    "\n",
    "    def sentence_idx(idx):\n",
    "        for i, s in enumerate(support_sentences):\n",
    "            if s.start_char <= idx and s.end_char >= idx:\n",
    "                return i\n",
    "\n",
    "    if sentence_idx(a.span[0]) == sentence_idx(ds[index][1][0].span[0]):\n",
    "        num_correct += 1\n",
    "\n",
    "num_correct / total"
   ]
  },
  {
   "cell_type": "code",
   "execution_count": null,
   "metadata": {},
   "outputs": [],
   "source": [
    "# ngram:           60.9\n",
    "# segm:            62.0\n",
    "# frame:           75.0\n",
    "# assoc10:         \n",
    "# assoc10_unsup01: 76.2\n",
    "#\n",
    "# bilstm 256:      69.0"
   ]
  },
  {
   "cell_type": "code",
   "execution_count": null,
   "metadata": {},
   "outputs": [],
   "source": []
  },
  {
   "cell_type": "code",
   "execution_count": 32,
   "metadata": {},
   "outputs": [],
   "source": [
    "from jack.util.preprocessing import nlp_preprocess\n",
    "from jack.util.vocab import Vocab\n",
    "\n",
    "vocab = Vocab()\n",
    "\n",
    "def load_conll_srl(path):\n",
    "    sentences = list()\n",
    "    all_srls = list()\n",
    "    srls = None\n",
    "    current_labels = None\n",
    "    with open(path, 'r') as f:\n",
    "        for l in f:\n",
    "            if l.startswith('#'):\n",
    "                continue\n",
    "            if l.strip():\n",
    "                split = [s for s in l.split(' ') if s]\n",
    "                if srls is None:\n",
    "                    srls = [[list()] for _ in range(len(split) - 12)]\n",
    "                    current_labels = ['*' for _ in range(len(split) - 12)]\n",
    "                    sentences.append([])\n",
    "                \n",
    "                words = nlp_preprocess(split[3].replace('/.', '.'), vocab)[0]\n",
    "                sentences[-1].extend(words)\n",
    "                \n",
    "                for i, s in enumerate(split[11:-1]):\n",
    "                    if s.startswith(\"(\"):\n",
    "                        current_labels[i] = s[1:s.index('*')]\n",
    "                        if srls[i][-1]:\n",
    "                            srls[i].append([])\n",
    "                    srls[i][-1].extend([current_labels[i]] * len(words))\n",
    "                    if s.endswith(\")\"):\n",
    "                        srls[i].append([])\n",
    "                        current_labels[i] = '*'\n",
    "            else:\n",
    "                all_srls.append(srls)\n",
    "                srls = None\n",
    "    for i in range(len(sentences)):\n",
    "        sentences[i] = ' '.join(sentences[i])\n",
    "    return sentences, all_srls\n",
    "    "
   ]
  },
  {
   "cell_type": "code",
   "execution_count": 33,
   "metadata": {},
   "outputs": [],
   "source": [
    "sentences, srls = load_conll_srl('/run/media/diwe01/Data3/ontonotes-release-5.0/conll-formatted-ontonotes-5.0-12/conll-formatted-ontonotes-5.0/data/development/data/english/annotations/bc/cnn/00/cnn_0000.gold_conll')"
   ]
  },
  {
   "cell_type": "code",
   "execution_count": 34,
   "metadata": {},
   "outputs": [
    {
     "data": {
      "text/plain": [
       "(48, 0.2222222222222222)"
      ]
     },
     "execution_count": 34,
     "metadata": {},
     "output_type": "execute_result"
    },
    {
     "data": {
      "image/png": "[encoded data removed]",
      "text/plain": [
       "<matplotlib.figure.Figure at 0x7fa1044736a0>"
      ]
     },
     "metadata": {},
     "output_type": "display_data"
    }
   ],
   "source": [
    "from jack.core.data_structures import QASetting\n",
    "import numpy as np\n",
    "from jack.core.tensorport import Ports\n",
    "\n",
    "idx = random.randint(0, len(sentences)-1)\n",
    "\n",
    "qa = QASetting('', [sentences[idx]])\n",
    "\n",
    "batch = r.input_module([qa])\n",
    "words = [batch['__rev_vocab'][w] for w in batch[Ports.Input.support_words][0]]\n",
    "\n",
    "ap, rp, wp = r.session.run([address_probs.outputs[0], frame_boundary.outputs[0], segm_probs.outputs[0]], feed_dict=r.model_module.convert_to_feed_dict(batch))\n",
    "\n",
    "spans = set()\n",
    "roles = dict()\n",
    "last = 0\n",
    "for i, v in enumerate(wp[0,:,0]):\n",
    "    if v > 0.8:\n",
    "        spans.add((last, i))\n",
    "        last = i + 1\n",
    "        \n",
    "\n",
    "possible_spans = set()\n",
    "for srl in srls[idx]:\n",
    "    offset = 0\n",
    "    for s in srl:\n",
    "        possible_spans.add((offset, offset + len(s) - 1))\n",
    "        offset += len(s)\n",
    "        \n",
    "\n",
    "fig, axs = plt.subplots(nrows=1, figsize=(20,3))\n",
    "sns.heatmap(np.transpose(np.concatenate([ap[0], rp[0] * wp[0], wp[0]], 1)[:50]), xticklabels=words[:50], cmap=\"Blues\", vmin=0.0, vmax=1.0)#, ax=axs[0])\n",
    "\n",
    "idx, len(spans.intersection(possible_spans)) / len(spans)"
   ]
  },
  {
   "cell_type": "code",
   "execution_count": 35,
   "metadata": {},
   "outputs": [
    {
     "data": {
      "text/plain": [
       "({(0, 3),\n",
       "  (0, 5),\n",
       "  (0, 16),\n",
       "  (0, 17),\n",
       "  (0, 21),\n",
       "  (4, 4),\n",
       "  (5, 5),\n",
       "  (6, 6),\n",
       "  (6, 26),\n",
       "  (7, 25),\n",
       "  (17, 17),\n",
       "  (18, 21),\n",
       "  (22, 22),\n",
       "  (22, 24),\n",
       "  (23, 23),\n",
       "  (23, 26),\n",
       "  (24, 25),\n",
       "  (25, 25),\n",
       "  (26, 26)},\n",
       " {(0, 1),\n",
       "  (2, 5),\n",
       "  (6, 16),\n",
       "  (17, 18),\n",
       "  (19, 19),\n",
       "  (20, 21),\n",
       "  (22, 23),\n",
       "  (24, 25),\n",
       "  (26, 26)})"
      ]
     },
     "execution_count": 35,
     "metadata": {},
     "output_type": "execute_result"
    }
   ],
   "source": [
    "possible_spans, spans"
   ]
  },
  {
   "cell_type": "code",
   "execution_count": 172,
   "metadata": {},
   "outputs": [
    {
     "data": {
      "text/plain": [
       "0.7333333333333333"
      ]
     },
     "execution_count": 172,
     "metadata": {},
     "output_type": "execute_result"
    }
   ],
   "source": [
    "len(spans.intersection(possible_spans)) / len(spans)"
   ]
  },
  {
   "cell_type": "code",
   "execution_count": null,
   "metadata": {},
   "outputs": [],
   "source": []
  },
  {
   "cell_type": "code",
   "execution_count": 150,
   "metadata": {},
   "outputs": [],
   "source": [
    "start = 0\n",
    "end = 30\n",
    "scores = norm(np.stack([data['s_word'], data['s_ngram'], data['s_segm'], data['s_frame'], data['s_assoc']], 1))[start:end]\n"
   ]
  },
  {
   "cell_type": "code",
   "execution_count": 154,
   "metadata": {},
   "outputs": [
    {
     "name": "stdout",
     "output_type": "stream",
     "text": [
      "Who tackled Mike Tolbert and caused a fumble?\n",
      "Darian Stewart [16 17]\n",
      "{'Stewart', 'Darian Stewart'}\n"
     ]
    },
    {
     "data": {
      "text/html": [
       "<div style='display: table; margin: 0 auto;'>\n",
       "\n",
       "<div class=\"bk-root\">\n",
       "    <div class=\"bk-plotdiv\" id=\"1e990392-3d70-4dbb-8579-319553a2dfb0\"></div>\n",
       "</div>\n",
       "<script type=\"text/javascript\">\n",
       "  (function(root) {\n",
       "  function embed_document(root) {\n",
       "    \n",
       "  var docs_json = {\"400c2d04-38d8-42ff-9ca1-2c6d4ca7ade9\":{\"roots\":{\"references\":[{\"attributes\":{\"active_drag\":\"auto\",\"active_inspect\":\"auto\",\"active_scroll\":\"auto\",\"active_tap\":\"auto\",\"tools\":[{\"id\":\"9574a77e-e21a-422a-9950-9223dc248da8\",\"type\":\"SaveTool\"},{\"id\":\"6a64e161-1b09-4528-b11a-d18ad3bf943e\",\"type\":\"PanTool\"},{\"id\":\"63faa852-6802-4bcb-95e8-32e487d953d0\",\"type\":\"WheelZoomTool\"},{\"id\":\"837638c6-d121-4b11-be36-cf6d931dfe33\",\"type\":\"BoxZoomTool\"},{\"id\":\"3f25e1d2-730e-4b19-b0e9-55e68a087217\",\"type\":\"ResetTool\"}]},\"id\":\"149bdf05-5d58-4faf-8578-ba41dd15aac4\",\"type\":\"Toolbar\"},{\"attributes\":{\"grid_line_color\":{\"value\":null},\"plot\":{\"id\":\"626d14ae-b8b7-4d88-8389-05a98385b4bc\",\"subtype\":\"Figure\",\"type\":\"Plot\"},\"ticker\":{\"id\":\"7a77c3b2-f077-4b3d-aa3d-1ea3ef5dbc79\",\"type\":\"CategoricalTicker\"}},\"id\":\"01e65120-75fe-48be-a980-3bb99c08d877\",\"type\":\"Grid\"},{\"attributes\":{\"fill_alpha\":{\"value\":0.1},\"fill_color\":{\"field\":\"zvalues\",\"transform\":{\"id\":\"85572880-166d-4376-933a-7002a0bb8c3e\",\"type\":\"LinearColorMapper\"}},\"height\":{\"units\":\"data\",\"value\":1},\"line_alpha\":{\"value\":0},\"line_color\":{\"value\":\"#1f77b4\"},\"width\":{\"units\":\"data\",\"value\":1},\"x\":{\"field\":\"Scores\"},\"y\":{\"field\":\"Tokens\"}},\"id\":\"57ee57ed-18f4-434a-aebc-f99061864820\",\"type\":\"Rect\"},{\"attributes\":{},\"id\":\"12772d1f-ff99-4dff-88ec-36c28a29aaf3\",\"type\":\"CategoricalScale\"},{\"attributes\":{},\"id\":\"c00bfa61-647d-41d1-a555-47c138b2a547\",\"type\":\"CategoricalTickFormatter\"},{\"attributes\":{\"axis_label\":\"Scores\",\"axis_label_text_font_size\":{\"value\":\"12pt\"},\"bounds\":\"auto\",\"formatter\":{\"id\":\"c00bfa61-647d-41d1-a555-47c138b2a547\",\"type\":\"CategoricalTickFormatter\"},\"major_label_orientation\":\"horizontal\",\"major_label_text_font_size\":{\"value\":\"12pt\"},\"plot\":{\"id\":\"626d14ae-b8b7-4d88-8389-05a98385b4bc\",\"subtype\":\"Figure\",\"type\":\"Plot\"},\"ticker\":{\"id\":\"7a77c3b2-f077-4b3d-aa3d-1ea3ef5dbc79\",\"type\":\"CategoricalTicker\"}},\"id\":\"254e578d-dd87-415b-ba2d-bbb2c1e2dc98\",\"type\":\"CategoricalAxis\"},{\"attributes\":{},\"id\":\"7a77c3b2-f077-4b3d-aa3d-1ea3ef5dbc79\",\"type\":\"CategoricalTicker\"},{\"attributes\":{\"high\":1.0,\"low\":-1.0,\"nan_color\":\"white\",\"palette\":[\"#313695\",\"#313896\",\"#323a97\",\"#333d98\",\"#343f99\",\"#34429b\",\"#35449c\",\"#36479d\",\"#37499e\",\"#384c9f\",\"#384ea1\",\"#3951a2\",\"#3a53a3\",\"#3b56a4\",\"#3b58a6\",\"#3c5ba7\",\"#3d5da8\",\"#3e60a9\",\"#3f62aa\",\"#3f64ac\",\"#4067ad\",\"#4169ae\",\"#426caf\",\"#436eb0\",\"#4371b2\",\"#4473b3\",\"#4576b4\",\"#4778b5\",\"#497ab6\",\"#4b7cb7\",\"#4d7eb9\",\"#4f81ba\",\"#5083bb\",\"#5285bc\",\"#5487bd\",\"#5689be\",\"#588cbf\",\"#5a8ec1\",\"#5c90c2\",\"#5d92c3\",\"#5f94c4\",\"#6197c5\",\"#6399c6\",\"#659bc7\",\"#679dc9\",\"#689fca\",\"#6aa2cb\",\"#6ca4cc\",\"#6ea6cd\",\"#70a8ce\",\"#72aacf\",\"#74add1\",\"#76aed1\",\"#78b0d2\",\"#7ab2d3\",\"#7cb3d4\",\"#7eb5d5\",\"#80b7d6\",\"#83b9d7\",\"#85bad8\",\"#87bcd9\",\"#89beda\",\"#8bbfdb\",\"#8dc1dc\",\"#90c3dd\",\"#92c5de\",\"#94c6df\",\"#96c8e0\",\"#98cae1\",\"#9acce1\",\"#9ccde2\",\"#9fcfe3\",\"#a1d1e4\",\"#a3d2e5\",\"#a5d4e6\",\"#a7d6e7\",\"#a9d8e8\",\"#acd9e9\",\"#aedae9\",\"#b0dbea\",\"#b2dceb\",\"#b4ddeb\",\"#b6deec\",\"#b8dfec\",\"#bae0ed\",\"#bce1ed\",\"#bee2ee\",\"#c0e3ef\",\"#c2e4ef\",\"#c4e5f0\",\"#c7e6f0\",\"#c9e7f1\",\"#cbe8f2\",\"#cde9f2\",\"#cfeaf3\",\"#d1ebf3\",\"#d3ecf4\",\"#d5edf5\",\"#d7eef5\",\"#d9eff6\",\"#dbf0f6\",\"#ddf1f7\",\"#e0f3f8\",\"#e1f3f5\",\"#e2f3f3\",\"#e3f4f1\",\"#e4f4ef\",\"#e6f5ec\",\"#e7f5ea\",\"#e8f6e8\",\"#e9f6e6\",\"#eaf7e3\",\"#ecf7e1\",\"#edf8df\",\"#eef8dd\",\"#eff9da\",\"#f1f9d8\",\"#f2fad6\",\"#f3fad4\",\"#f4fbd2\",\"#f5fbcf\",\"#f7fbcd\",\"#f8fccb\",\"#f9fcc9\",\"#fafdc6\",\"#fbfdc4\",\"#fdfec2\",\"#fefec0\",\"#fefebe\",\"#fefdbc\",\"#fefbba\",\"#fefab8\",\"#fef9b6\",\"#fef8b4\",\"#fef7b3\",\"#fef5b1\",\"#fef4af\",\"#fef3ad\",\"#fef2ab\",\"#fef1a9\",\"#feefa7\",\"#feeea6\",\"#feeda4\",\"#feeca2\",\"#feeaa0\",\"#fee99e\",\"#fee89c\",\"#fee79b\",\"#fee699\",\"#fee497\",\"#fee395\",\"#fee293\",\"#fee191\",\"#fee090\",\"#fdde8e\",\"#fddc8c\",\"#fdda8a\",\"#fdd888\",\"#fdd686\",\"#fdd484\",\"#fdd283\",\"#fdd081\",\"#fdce7f\",\"#fdcc7d\",\"#fdca7b\",\"#fdc879\",\"#fdc678\",\"#fdc476\",\"#fdc274\",\"#fdc072\",\"#fdbe70\",\"#fdbc6e\",\"#fdba6c\",\"#fdb86b\",\"#fdb669\",\"#fdb467\",\"#fdb265\",\"#fdb063\",\"#fdae61\",\"#fcac60\",\"#fcaa5f\",\"#fca75e\",\"#fba55c\",\"#fba25b\",\"#fb9f5a\",\"#fa9d59\",\"#fa9a58\",\"#fa9857\",\"#f99555\",\"#f99354\",\"#f89053\",\"#f88e52\",\"#f88b51\",\"#f7894f\",\"#f7864e\",\"#f7834d\",\"#f6814c\",\"#f67e4b\",\"#f67c4a\",\"#f57948\",\"#f57747\",\"#f57446\",\"#f47245\",\"#f46f44\",\"#f46d43\",\"#f26a41\",\"#f16840\",\"#f0653f\",\"#ef633e\",\"#ee613d\",\"#ed5e3c\",\"#ec5c3b\",\"#ea593a\",\"#e95739\",\"#e85538\",\"#e75236\",\"#e65035\",\"#e54d34\",\"#e44b33\",\"#e24932\",\"#e14631\",\"#e04430\",\"#df412f\",\"#de3f2e\",\"#dd3d2d\",\"#dc3a2b\",\"#da382a\",\"#d93529\",\"#d83328\",\"#d73127\",\"#d62f26\",\"#d42d26\",\"#d22b26\",\"#d02926\",\"#ce2726\",\"#cc2526\",\"#ca2326\",\"#c82126\",\"#c62026\",\"#c41e26\",\"#c21c26\",\"#c01a26\",\"#be1826\",\"#bc1626\",\"#ba1426\",\"#b81226\",\"#b61026\",\"#b40f26\",\"#b20d26\",\"#b00b26\",\"#ae0926\",\"#ac0726\",\"#aa0526\",\"#a80326\",\"#a60126\",\"#a50026\"]},\"id\":\"85572880-166d-4376-933a-7002a0bb8c3e\",\"type\":\"LinearColorMapper\"},{\"attributes\":{},\"id\":\"50a7bba1-2e3d-4dd7-b50a-b564ed96d2eb\",\"type\":\"CategoricalTickFormatter\"},{\"attributes\":{\"data_source\":{\"id\":\"cff68e68-ba1a-4c93-a0af-35aef95a6cc6\",\"type\":\"ColumnDataSource\"},\"glyph\":{\"id\":\"8123b6f9-702a-49a8-9dfb-0e63a5744b61\",\"type\":\"Rect\"},\"hover_glyph\":null,\"muted_glyph\":null,\"nonselection_glyph\":{\"id\":\"57ee57ed-18f4-434a-aebc-f99061864820\",\"type\":\"Rect\"},\"selection_glyph\":null,\"view\":{\"id\":\"7d0da101-09fb-4b9e-bf40-6517401a36cf\",\"type\":\"CDSView\"}},\"id\":\"07305774-15f3-4be6-b42c-d3de434fa649\",\"type\":\"GlyphRenderer\"},{\"attributes\":{},\"id\":\"b586cfcd-1382-42c4-962e-ea9abfdabea3\",\"type\":\"CategoricalTicker\"},{\"attributes\":{\"dimension\":1,\"grid_line_color\":{\"value\":null},\"plot\":{\"id\":\"626d14ae-b8b7-4d88-8389-05a98385b4bc\",\"subtype\":\"Figure\",\"type\":\"Plot\"},\"ticker\":{\"id\":\"b586cfcd-1382-42c4-962e-ea9abfdabea3\",\"type\":\"CategoricalTicker\"}},\"id\":\"53aea961-88ba-4c22-b4ad-9132a23b66c8\",\"type\":\"Grid\"},{\"attributes\":{\"callback\":null,\"factors\":[\".   29\",\"line   28\",\"40-yard   27\",\"Broncos   26\",\"the   25\",\"on   24\",\"recovered   23\",\"Trevathan   22\",\"Danny   21\",\"linebacker   20\",\"which   19\",\",   18\",\"Stewart   17\",\"Darian   16\",\"safety   15\",\"by   14\",\"tackled   13\",\"being   12\",\"while   11\",\"fumble   10\",\"a   9\",\"lost   8\",\"Tolbert   7\",\"Mike   6\",\"fullback   5\",\"possession   4\",\"next   3\",\"'s   2\",\"Carolina   1\",\"On   0\"]},\"id\":\"11f0f492-e1d5-4014-a701-99042f2ba4b5\",\"type\":\"FactorRange\"},{\"attributes\":{\"callback\":null,\"column_names\":[\"Scores\",\"Tokens\",\"zvalues\"],\"data\":{\"Scores\":[\"w\",\"w\",\"w\",\"w\",\"w\",\"w\",\"w\",\"w\",\"w\",\"w\",\"w\",\"w\",\"w\",\"w\",\"w\",\"w\",\"w\",\"w\",\"w\",\"w\",\"w\",\"w\",\"w\",\"w\",\"w\",\"w\",\"w\",\"w\",\"w\",\"w\",\"n\",\"n\",\"n\",\"n\",\"n\",\"n\",\"n\",\"n\",\"n\",\"n\",\"n\",\"n\",\"n\",\"n\",\"n\",\"n\",\"n\",\"n\",\"n\",\"n\",\"n\",\"n\",\"n\",\"n\",\"n\",\"n\",\"n\",\"n\",\"n\",\"n\",\"p\",\"p\",\"p\",\"p\",\"p\",\"p\",\"p\",\"p\",\"p\",\"p\",\"p\",\"p\",\"p\",\"p\",\"p\",\"p\",\"p\",\"p\",\"p\",\"p\",\"p\",\"p\",\"p\",\"p\",\"p\",\"p\",\"p\",\"p\",\"p\",\"p\",\"c\",\"c\",\"c\",\"c\",\"c\",\"c\",\"c\",\"c\",\"c\",\"c\",\"c\",\"c\",\"c\",\"c\",\"c\",\"c\",\"c\",\"c\",\"c\",\"c\",\"c\",\"c\",\"c\",\"c\",\"c\",\"c\",\"c\",\"c\",\"c\",\"c\",\"r\",\"r\",\"r\",\"r\",\"r\",\"r\",\"r\",\"r\",\"r\",\"r\",\"r\",\"r\",\"r\",\"r\",\"r\",\"r\",\"r\",\"r\",\"r\",\"r\",\"r\",\"r\",\"r\",\"r\",\"r\",\"r\",\"r\",\"r\",\"r\",\"r\"],\"Tokens\":[\"On   0\",\"Carolina   1\",\"'s   2\",\"next   3\",\"possession   4\",\"fullback   5\",\"Mike   6\",\"Tolbert   7\",\"lost   8\",\"a   9\",\"fumble   10\",\"while   11\",\"being   12\",\"tackled   13\",\"by   14\",\"safety   15\",\"Darian   16\",\"Stewart   17\",\",   18\",\"which   19\",\"linebacker   20\",\"Danny   21\",\"Trevathan   22\",\"recovered   23\",\"on   24\",\"the   25\",\"Broncos   26\",\"40-yard   27\",\"line   28\",\".   29\",\"On   0\",\"Carolina   1\",\"'s   2\",\"next   3\",\"possession   4\",\"fullback   5\",\"Mike   6\",\"Tolbert   7\",\"lost   8\",\"a   9\",\"fumble   10\",\"while   11\",\"being   12\",\"tackled   13\",\"by   14\",\"safety   15\",\"Darian   16\",\"Stewart   17\",\",   18\",\"which   19\",\"linebacker   20\",\"Danny   21\",\"Trevathan   22\",\"recovered   23\",\"on   24\",\"the   25\",\"Broncos   26\",\"40-yard   27\",\"line   28\",\".   29\",\"On   0\",\"Carolina   1\",\"'s   2\",\"next   3\",\"possession   4\",\"fullback   5\",\"Mike   6\",\"Tolbert   7\",\"lost   8\",\"a   9\",\"fumble   10\",\"while   11\",\"being   12\",\"tackled   13\",\"by   14\",\"safety   15\",\"Darian   16\",\"Stewart   17\",\",   18\",\"which   19\",\"linebacker   20\",\"Danny   21\",\"Trevathan   22\",\"recovered   23\",\"on   24\",\"the   25\",\"Broncos   26\",\"40-yard   27\",\"line   28\",\".   29\",\"On   0\",\"Carolina   1\",\"'s   2\",\"next   3\",\"possession   4\",\"fullback   5\",\"Mike   6\",\"Tolbert   7\",\"lost   8\",\"a   9\",\"fumble   10\",\"while   11\",\"being   12\",\"tackled   13\",\"by   14\",\"safety   15\",\"Darian   16\",\"Stewart   17\",\",   18\",\"which   19\",\"linebacker   20\",\"Danny   21\",\"Trevathan   22\",\"recovered   23\",\"on   24\",\"the   25\",\"Broncos   26\",\"40-yard   27\",\"line   28\",\".   29\",\"On   0\",\"Carolina   1\",\"'s   2\",\"next   3\",\"possession   4\",\"fullback   5\",\"Mike   6\",\"Tolbert   7\",\"lost   8\",\"a   9\",\"fumble   10\",\"while   11\",\"being   12\",\"tackled   13\",\"by   14\",\"safety   15\",\"Darian   16\",\"Stewart   17\",\",   18\",\"which   19\",\"linebacker   20\",\"Danny   21\",\"Trevathan   22\",\"recovered   23\",\"on   24\",\"the   25\",\"Broncos   26\",\"40-yard   27\",\"line   28\",\".   29\"],\"zvalues\":{\"__ndarray__\":\"TXJTv2CJYb7fUAC/AACAv+TJTL/PEg6/sONBPxNnJz9H1VG/oPlzv42Yc7+Rk+y+uFE8v5Yvfb/sxCi/PKxvvy0oMD/steE+LQhRv6XOKb/D1ey+kDDbPVKbKz6iI2W/2pVQvyXaDb/5UY2+0dtPvzr6dr9Qjq08sqxFv264+T0OU5I+zSVTvR8mBrzyHTG+whWxvo4ZUz/PxWa+s5BqvwfkKDyhexS/TV5Rv2efBL8m6S+/KoGLPV3tD78AAIA/SS7BPrhYHb6kVai+gvDLveZ8Vz/1jna+br92v3u/bL/S+ay+Si05vrEhTz4yzE0+QiYwv0ImML9vf22+AACAv7POR7+qCg28xLdUP8S3VD8rEOq+0xJtv9MSbb8AAIC/2Vqfvtr4f7+5xSC/ucUgvz2o7D49qOw+qJI+v6iSPr/+4bs+AACAPwAAgD8AAIC/4v4PvuL+D77i/g++Ni6LvjYui74AAIC/lW1fP5VtXz+VbV8/lW1fP5VtXz+VbV8/lW1fP5VtXz+VbV8/lW1fP5VtXz+VbV8/lW1fP5VtXz+VbV8/lW1fP5VtXz+VbV8/lW1fP5VtXz+VbV8/lW1fP5VtXz+VbV8/lW1fP5VtXz+VbV8/lW1fP5VtXz+VbV8/AACAPwAAgD8AAIA/AACAPwAAgD8AAIA/AACAPwAAgD8AAIA/AACAPwAAgD8AAIA/AACAPwAAgD8AAIA/AACAPwAAgD8AAIA/AACAPwAAgD8AAIA/AACAPwAAgD8AAIA/AACAPwAAgD8AAIA/AACAPwAAgD8AAIA/\",\"dtype\":\"float32\",\"shape\":[150]}}},\"id\":\"cff68e68-ba1a-4c93-a0af-35aef95a6cc6\",\"type\":\"ColumnDataSource\"},{\"attributes\":{},\"id\":\"3f25e1d2-730e-4b19-b0e9-55e68a087217\",\"type\":\"ResetTool\"},{\"attributes\":{\"bottom_units\":\"screen\",\"fill_alpha\":{\"value\":0.5},\"fill_color\":{\"value\":\"lightgrey\"},\"left_units\":\"screen\",\"level\":\"overlay\",\"line_alpha\":{\"value\":1.0},\"line_color\":{\"value\":\"black\"},\"line_dash\":[4,4],\"line_width\":{\"value\":2},\"plot\":null,\"render_mode\":\"css\",\"right_units\":\"screen\",\"top_units\":\"screen\"},\"id\":\"35809775-eb24-4e6d-b978-25874d635d5d\",\"type\":\"BoxAnnotation\"},{\"attributes\":{\"above\":[{\"id\":\"254e578d-dd87-415b-ba2d-bbb2c1e2dc98\",\"type\":\"CategoricalAxis\"}],\"below\":[],\"left\":[{\"id\":\"e291f91b-5a8a-4301-9305-06b6c39d1bec\",\"type\":\"CategoricalAxis\"}],\"min_border_bottom\":10,\"min_border_left\":10,\"min_border_right\":10,\"min_border_top\":10,\"plot_height\":650,\"plot_width\":300,\"renderers\":[{\"id\":\"254e578d-dd87-415b-ba2d-bbb2c1e2dc98\",\"type\":\"CategoricalAxis\"},{\"id\":\"01e65120-75fe-48be-a980-3bb99c08d877\",\"type\":\"Grid\"},{\"id\":\"e291f91b-5a8a-4301-9305-06b6c39d1bec\",\"type\":\"CategoricalAxis\"},{\"id\":\"53aea961-88ba-4c22-b4ad-9132a23b66c8\",\"type\":\"Grid\"},{\"id\":\"35809775-eb24-4e6d-b978-25874d635d5d\",\"type\":\"BoxAnnotation\"},{\"id\":\"07305774-15f3-4be6-b42c-d3de434fa649\",\"type\":\"GlyphRenderer\"}],\"title\":{\"id\":\"b97dfd8b-51d0-434f-b350-d1ce6bc8dfb5\",\"type\":\"Title\"},\"toolbar\":{\"id\":\"149bdf05-5d58-4faf-8578-ba41dd15aac4\",\"type\":\"Toolbar\"},\"toolbar_location\":\"above\",\"x_range\":{\"id\":\"399b49c3-2ac9-4fd9-8e50-cc9f0ec3b2d1\",\"type\":\"FactorRange\"},\"x_scale\":{\"id\":\"18ff7750-062c-401d-a538-6ca8ec32a410\",\"type\":\"CategoricalScale\"},\"y_range\":{\"id\":\"11f0f492-e1d5-4014-a701-99042f2ba4b5\",\"type\":\"FactorRange\"},\"y_scale\":{\"id\":\"12772d1f-ff99-4dff-88ec-36c28a29aaf3\",\"type\":\"CategoricalScale\"}},\"id\":\"626d14ae-b8b7-4d88-8389-05a98385b4bc\",\"subtype\":\"Figure\",\"type\":\"Plot\"},{\"attributes\":{\"source\":{\"id\":\"cff68e68-ba1a-4c93-a0af-35aef95a6cc6\",\"type\":\"ColumnDataSource\"}},\"id\":\"7d0da101-09fb-4b9e-bf40-6517401a36cf\",\"type\":\"CDSView\"},{\"attributes\":{},\"id\":\"9574a77e-e21a-422a-9950-9223dc248da8\",\"type\":\"SaveTool\"},{\"attributes\":{\"overlay\":{\"id\":\"35809775-eb24-4e6d-b978-25874d635d5d\",\"type\":\"BoxAnnotation\"}},\"id\":\"837638c6-d121-4b11-be36-cf6d931dfe33\",\"type\":\"BoxZoomTool\"},{\"attributes\":{\"callback\":null,\"factors\":[\"w\",\"n\",\"p\",\"c\",\"r\"]},\"id\":\"399b49c3-2ac9-4fd9-8e50-cc9f0ec3b2d1\",\"type\":\"FactorRange\"},{\"attributes\":{\"fill_color\":{\"field\":\"zvalues\",\"transform\":{\"id\":\"85572880-166d-4376-933a-7002a0bb8c3e\",\"type\":\"LinearColorMapper\"}},\"height\":{\"units\":\"data\",\"value\":1},\"line_alpha\":{\"value\":0},\"line_color\":{\"value\":\"#1f77b4\"},\"width\":{\"units\":\"data\",\"value\":1},\"x\":{\"field\":\"Scores\"},\"y\":{\"field\":\"Tokens\"}},\"id\":\"8123b6f9-702a-49a8-9dfb-0e63a5744b61\",\"type\":\"Rect\"},{\"attributes\":{},\"id\":\"6a64e161-1b09-4528-b11a-d18ad3bf943e\",\"type\":\"PanTool\"},{\"attributes\":{},\"id\":\"63faa852-6802-4bcb-95e8-32e487d953d0\",\"type\":\"WheelZoomTool\"},{\"attributes\":{\"plot\":null,\"text\":\"\",\"text_color\":{\"value\":\"black\"},\"text_font_size\":{\"value\":\"12pt\"}},\"id\":\"b97dfd8b-51d0-434f-b350-d1ce6bc8dfb5\",\"type\":\"Title\"},{\"attributes\":{},\"id\":\"18ff7750-062c-401d-a538-6ca8ec32a410\",\"type\":\"CategoricalScale\"},{\"attributes\":{\"axis_label\":\"Tokens\",\"axis_label_text_font_size\":{\"value\":\"12pt\"},\"bounds\":\"auto\",\"formatter\":{\"id\":\"50a7bba1-2e3d-4dd7-b50a-b564ed96d2eb\",\"type\":\"CategoricalTickFormatter\"},\"major_label_orientation\":\"horizontal\",\"major_label_text_font_size\":{\"value\":\"12pt\"},\"plot\":{\"id\":\"626d14ae-b8b7-4d88-8389-05a98385b4bc\",\"subtype\":\"Figure\",\"type\":\"Plot\"},\"ticker\":{\"id\":\"b586cfcd-1382-42c4-962e-ea9abfdabea3\",\"type\":\"CategoricalTicker\"}},\"id\":\"e291f91b-5a8a-4301-9305-06b6c39d1bec\",\"type\":\"CategoricalAxis\"}],\"root_ids\":[\"626d14ae-b8b7-4d88-8389-05a98385b4bc\"]},\"title\":\"Bokeh Application\",\"version\":\"0.12.14\"}};\n",
       "  var render_items = [{\"docid\":\"400c2d04-38d8-42ff-9ca1-2c6d4ca7ade9\",\"elementid\":\"1e990392-3d70-4dbb-8579-319553a2dfb0\",\"modelid\":\"626d14ae-b8b7-4d88-8389-05a98385b4bc\"}];\n",
       "  root.Bokeh.embed.embed_items_notebook(docs_json, render_items);\n",
       "\n",
       "  }\n",
       "  if (root.Bokeh !== undefined) {\n",
       "    embed_document(root);\n",
       "  } else {\n",
       "    var attempts = 0;\n",
       "    var timer = setInterval(function(root) {\n",
       "      if (root.Bokeh !== undefined) {\n",
       "        embed_document(root);\n",
       "        clearInterval(timer);\n",
       "      }\n",
       "      attempts++;\n",
       "      if (attempts > 100) {\n",
       "        console.log(\"Bokeh: ERROR: Unable to run BokehJS code because BokehJS library is missing\")\n",
       "        clearInterval(timer);\n",
       "      }\n",
       "    }, 10, root)\n",
       "  }\n",
       "})(window);\n",
       "</script>\n",
       "</div>"
      ],
      "text/plain": [
       ":HeatMap   [Scores,Tokens]   (z)"
      ]
     },
     "execution_count": 154,
     "metadata": {},
     "output_type": "execute_result"
    }
   ],
   "source": [
    "%%opts HeatMap.S [fontsize={'ticks': 12, 'title': 12, 'ylabel': 12, 'xlabel': 12} colorbar=False height=20*(end-start)+50 toolbar='above' show_title=False]\n",
    "%%opts HeatMap.S.Segments [height=240] (cmap='Reds')\n",
    "%%opts HeatMap.S.Scores [width=300]\n",
    "%%opts HeatMap.S.Assoc [height=220] (cmap='Reds')\n",
    "\n",
    "import numpy as np\n",
    "\n",
    "def norm(s):\n",
    "    maxx = np.max(s, 1, keepdims=True)\n",
    "    minn = np.min(s, 1, keepdims=True)\n",
    "    return (s - (maxx + minn) / 2) / (maxx - minn) * 2.0\n",
    "\n",
    "print(data['question'])\n",
    "print(' '.join(data['support_ws'][i] for i in range(data['predicted_span'][0], data['predicted_span'][1] + 1)), data['predicted_span'])\n",
    "correct_answers = set([a.text for a in data['answers']])\n",
    "print(correct_answers)\n",
    "\n",
    "hm_scores = hv.HeatMap((['w', 'n', 'p', 'c', 'r'], idxstrseq(data['support_ws'])[start:end], scores),\n",
    "                       group='S', label='Scores', kdims=['Scores', 'Tokens'])\n",
    "\n",
    "hm_scores"
   ]
  },
  {
   "cell_type": "code",
   "execution_count": null,
   "metadata": {},
   "outputs": [],
   "source": []
  },
  {
   "cell_type": "code",
   "execution_count": null,
   "metadata": {},
   "outputs": [],
   "source": []
  },
  {
   "cell_type": "markdown",
   "metadata": {},
   "source": [
    "# Example for Paper"
   ]
  },
  {
   "cell_type": "code",
   "execution_count": 13,
   "metadata": {},
   "outputs": [
    {
     "name": "stdout",
     "output_type": "stream",
     "text": [
      "Who tackled Mike Tolbert and caused a fumble?\n",
      "Darian Stewart [16 17]\n",
      "{'Darian Stewart', 'Stewart'}\n"
     ]
    }
   ],
   "source": [
    "import random\n",
    "import numpy as np\n",
    "\n",
    "index = 727\n",
    "data = process(index)\n",
    "print(data['question'])\n",
    "print(' '.join(data['support_ws'][i] for i in range(data['predicted_span'][0], data['predicted_span'][1] + 1)), data['predicted_span'])\n",
    "correct_answers = set([a.text for a in data['answers']])\n",
    "print(correct_answers)\n",
    "\n",
    "def norm(s):\n",
    "    maxx = np.max(s, 1, keepdims=True)\n",
    "    minn = np.min(s, 1, keepdims=True)\n",
    "    return (s - (maxx + minn) / 2) / (maxx - minn) * 2.0\n",
    "\n",
    "start = 0\n",
    "end = 30\n",
    "scores = norm(np.stack([data['s_word'], data['s_ngram'], data['s_segm'], data['s_frame'], data['s_assoc']], 0))\n",
    "\n",
    "scale = 4"
   ]
  },
  {
   "cell_type": "code",
   "execution_count": 14,
   "metadata": {},
   "outputs": [
    {
     "name": "stdout",
     "output_type": "stream",
     "text": [
      "Who tackled Mike Tolbert and caused a fumble?\n",
      "Darian Stewart [16 17]\n",
      "{'Darian Stewart', 'Stewart'}\n"
     ]
    },
    {
     "name": "stderr",
     "output_type": "stream",
     "text": [
      "/usr/lib/python3.6/site-packages/bokeh/core/json_encoder.py:80: FutureWarning: Conversion of the second argument of issubdtype from `float` to `np.floating` is deprecated. In future, it will be treated as `np.float64 == np.dtype(float).type`.\n",
      "  elif np.issubdtype(type(obj), np.float):\n"
     ]
    },
    {
     "data": {
      "text/html": [
       "<div style='display: table; margin: 0 auto;'>\n",
       "\n",
       "<div class=\"bk-root\">\n",
       "    <div class=\"bk-plotdiv\" id=\"29e01d41-63e5-49a6-9c47-a54fa23a1afd\"></div>\n",
       "</div>\n",
       "<script type=\"text/javascript\">\n",
       "  (function(root) {\n",
       "  function embed_document(root) {\n",
       "    \n",
       "  var docs_json = {\"92d07ed2-f04d-44ab-a696-d9f501c22f82\":{\"roots\":{\"references\":[{\"attributes\":{},\"id\":\"024d5f54-14ad-4000-9848-03d869589251\",\"type\":\"ResetTool\"},{\"attributes\":{},\"id\":\"2c87e20b-4709-4649-8047-5cc1aff23c01\",\"type\":\"CategoricalTicker\"},{\"attributes\":{},\"id\":\"86edf908-aa36-402e-a526-2f98d3bad327\",\"type\":\"CategoricalTicker\"},{\"attributes\":{\"data_source\":{\"id\":\"16c2e8a9-365e-4e5b-99e0-13a8c0acac55\",\"type\":\"ColumnDataSource\"},\"glyph\":{\"id\":\"96bfcc8c-4d55-4488-be38-06773fd85b05\",\"type\":\"Rect\"},\"hover_glyph\":null,\"muted_glyph\":null,\"nonselection_glyph\":{\"id\":\"dd6fa72b-97f6-4fe8-a465-4780b639a95d\",\"type\":\"Rect\"},\"selection_glyph\":null,\"view\":{\"id\":\"7dd0cf3f-eb39-4cf9-8ebd-1adbce85ebaa\",\"type\":\"CDSView\"}},\"id\":\"3773c4ef-c71e-429b-b013-79c6e7b8a313\",\"type\":\"GlyphRenderer\"},{\"attributes\":{\"dimension\":1,\"grid_line_color\":{\"value\":null},\"plot\":{\"id\":\"4259b63f-4c72-4f86-adc0-19ced5f31e1e\",\"subtype\":\"Figure\",\"type\":\"Plot\"},\"ticker\":{\"id\":\"86edf908-aa36-402e-a526-2f98d3bad327\",\"type\":\"CategoricalTicker\"}},\"id\":\"ad9750e8-6bf3-41f8-b71a-841a4c6fb004\",\"type\":\"Grid\"},{\"attributes\":{\"fill_color\":{\"field\":\"zvalues\",\"transform\":{\"id\":\"9099eb89-e6ca-4b9d-b467-4541b4af3d95\",\"type\":\"LinearColorMapper\"}},\"height\":{\"units\":\"data\",\"value\":1},\"line_alpha\":{\"value\":0},\"line_color\":{\"value\":\"#1f77b4\"},\"width\":{\"units\":\"data\",\"value\":1},\"x\":{\"field\":\"Tokens\"},\"y\":{\"field\":\"Scores\"}},\"id\":\"6b84bfe8-5d2f-41a7-98f3-591cb8bf8bf5\",\"type\":\"Rect\"},{\"attributes\":{\"fill_alpha\":{\"value\":0.1},\"fill_color\":{\"field\":\"zvalues\",\"transform\":{\"id\":\"9099eb89-e6ca-4b9d-b467-4541b4af3d95\",\"type\":\"LinearColorMapper\"}},\"height\":{\"units\":\"data\",\"value\":1},\"line_alpha\":{\"value\":0},\"line_color\":{\"value\":\"#1f77b4\"},\"width\":{\"units\":\"data\",\"value\":1},\"x\":{\"field\":\"Tokens\"},\"y\":{\"field\":\"Scores\"}},\"id\":\"69b614cd-1849-4ef8-bf14-afd0198524c4\",\"type\":\"Rect\"},{\"attributes\":{},\"id\":\"24311e6d-0926-4c86-a0d2-1ba0881b204b\",\"type\":\"CategoricalTickFormatter\"},{\"attributes\":{\"bottom_units\":\"screen\",\"fill_alpha\":{\"value\":0.5},\"fill_color\":{\"value\":\"lightgrey\"},\"left_units\":\"screen\",\"level\":\"overlay\",\"line_alpha\":{\"value\":1.0},\"line_color\":{\"value\":\"black\"},\"line_dash\":[4,4],\"line_width\":{\"value\":2},\"plot\":null,\"render_mode\":\"css\",\"right_units\":\"screen\",\"top_units\":\"screen\"},\"id\":\"3b95d35c-bd44-42ef-959c-01c57125fcc3\",\"type\":\"BoxAnnotation\"},{\"attributes\":{\"callback\":null,\"factors\":[\"w\",\"n\",\"p\"]},\"id\":\"97e30f95-19a6-4363-9fd1-4fba4257f74e\",\"type\":\"FactorRange\"},{\"attributes\":{\"data_source\":{\"id\":\"a7f6dd89-a685-41fa-8aa0-2dcee1646475\",\"type\":\"ColumnDataSource\"},\"glyph\":{\"id\":\"6b84bfe8-5d2f-41a7-98f3-591cb8bf8bf5\",\"type\":\"Rect\"},\"hover_glyph\":null,\"muted_glyph\":null,\"nonselection_glyph\":{\"id\":\"69b614cd-1849-4ef8-bf14-afd0198524c4\",\"type\":\"Rect\"},\"selection_glyph\":null,\"view\":{\"id\":\"77f1b305-0a92-4898-9e97-b0cf4ff69f5f\",\"type\":\"CDSView\"}},\"id\":\"0cdfeec0-7801-40e7-b83a-4e54b6a4b32d\",\"type\":\"GlyphRenderer\"},{\"attributes\":{},\"id\":\"c68fcfed-57f8-4930-9975-b5dfda03a6a5\",\"type\":\"SaveTool\"},{\"attributes\":{\"source\":{\"id\":\"16c2e8a9-365e-4e5b-99e0-13a8c0acac55\",\"type\":\"ColumnDataSource\"}},\"id\":\"7dd0cf3f-eb39-4cf9-8ebd-1adbce85ebaa\",\"type\":\"CDSView\"},{\"attributes\":{\"source\":{\"id\":\"a7f6dd89-a685-41fa-8aa0-2dcee1646475\",\"type\":\"ColumnDataSource\"}},\"id\":\"77f1b305-0a92-4898-9e97-b0cf4ff69f5f\",\"type\":\"CDSView\"},{\"attributes\":{},\"id\":\"5a770bba-6d5c-4205-bb3b-0d8db957ff55\",\"type\":\"CategoricalTickFormatter\"},{\"attributes\":{},\"id\":\"d27e7f89-383c-4411-9d2a-c286aac8a94e\",\"type\":\"PanTool\"},{\"attributes\":{\"tools\":[{\"id\":\"c68fcfed-57f8-4930-9975-b5dfda03a6a5\",\"type\":\"SaveTool\"},{\"id\":\"d27e7f89-383c-4411-9d2a-c286aac8a94e\",\"type\":\"PanTool\"},{\"id\":\"075ca15d-615b-4598-8c7c-cd0f5da319de\",\"type\":\"WheelZoomTool\"},{\"id\":\"81a6f8d1-ad80-49e2-a910-d48ef9270835\",\"type\":\"BoxZoomTool\"},{\"id\":\"5d2080b2-3b8f-4774-8304-7899ed21a212\",\"type\":\"ResetTool\"},{\"id\":\"4a69b666-4edd-4ade-8175-740fdd52e5f6\",\"type\":\"SaveTool\"},{\"id\":\"931444de-307c-4135-a948-bfc0d8e0bff3\",\"type\":\"PanTool\"},{\"id\":\"f48b87ec-f804-4cbe-9c91-b9687ca81d1e\",\"type\":\"WheelZoomTool\"},{\"id\":\"bbbfe75f-0c86-450e-9786-685e46952b79\",\"type\":\"BoxZoomTool\"},{\"id\":\"024d5f54-14ad-4000-9848-03d869589251\",\"type\":\"ResetTool\"}]},\"id\":\"53bcf532-d523-4c7c-adc4-c6e802b79019\",\"type\":\"ProxyToolbar\"},{\"attributes\":{},\"id\":\"075ca15d-615b-4598-8c7c-cd0f5da319de\",\"type\":\"WheelZoomTool\"},{\"attributes\":{\"callback\":null,\"column_names\":[\"Tokens\",\"Scores\",\"zvalues\"],\"data\":{\"Scores\":[\"w\",\"n\",\"p\",\"c\",\"r\",\"w\",\"n\",\"p\",\"c\",\"r\",\"w\",\"n\",\"p\",\"c\",\"r\",\"w\",\"n\",\"p\",\"c\",\"r\",\"w\",\"n\",\"p\",\"c\",\"r\",\"w\",\"n\",\"p\",\"c\",\"r\",\"w\",\"n\",\"p\",\"c\",\"r\",\"w\",\"n\",\"p\",\"c\",\"r\",\"w\",\"n\",\"p\",\"c\",\"r\",\"w\",\"n\",\"p\",\"c\",\"r\",\"w\",\"n\",\"p\",\"c\",\"r\",\"w\",\"n\",\"p\",\"c\",\"r\",\"w\",\"n\",\"p\",\"c\",\"r\",\"w\",\"n\",\"p\",\"c\",\"r\",\"w\",\"n\",\"p\",\"c\",\"r\",\"w\",\"n\",\"p\",\"c\",\"r\",\"w\",\"n\",\"p\",\"c\",\"r\",\"w\",\"n\",\"p\",\"c\",\"r\",\"w\",\"n\",\"p\",\"c\",\"r\",\"w\",\"n\",\"p\",\"c\",\"r\",\"w\",\"n\",\"p\",\"c\",\"r\",\"w\",\"n\",\"p\",\"c\",\"r\",\"w\",\"n\",\"p\",\"c\",\"r\",\"w\",\"n\",\"p\",\"c\",\"r\",\"w\",\"n\",\"p\",\"c\",\"r\",\"w\",\"n\",\"p\",\"c\",\"r\",\"w\",\"n\",\"p\",\"c\",\"r\",\"w\",\"n\",\"p\",\"c\",\"r\",\"w\",\"n\",\"p\",\"c\",\"r\",\"w\",\"n\",\"p\",\"c\",\"r\",\"w\",\"n\",\"p\",\"c\",\"r\",\"w\",\"n\",\"p\",\"c\",\"r\",\"w\",\"n\",\"p\",\"c\",\"r\",\"w\",\"n\",\"p\",\"c\",\"r\",\"w\",\"n\",\"p\",\"c\",\"r\",\"w\",\"n\",\"p\",\"c\",\"r\",\"w\",\"n\",\"p\",\"c\",\"r\",\"w\",\"n\",\"p\",\"c\",\"r\",\"w\",\"n\",\"p\",\"c\",\"r\",\"w\",\"n\",\"p\",\"c\",\"r\",\"w\",\"n\",\"p\",\"c\",\"r\",\"w\",\"n\",\"p\",\"c\",\"r\",\"w\",\"n\",\"p\",\"c\",\"r\",\"w\",\"n\",\"p\",\"c\",\"r\",\"w\",\"n\",\"p\",\"c\",\"r\",\"w\",\"n\",\"p\",\"c\",\"r\",\"w\",\"n\",\"p\",\"c\",\"r\",\"w\",\"n\",\"p\",\"c\",\"r\",\"w\",\"n\",\"p\",\"c\",\"r\",\"w\",\"n\",\"p\",\"c\",\"r\",\"w\",\"n\",\"p\",\"c\",\"r\",\"w\",\"n\",\"p\",\"c\",\"r\",\"w\",\"n\",\"p\",\"c\",\"r\",\"w\",\"n\",\"p\",\"c\",\"r\",\"w\",\"n\",\"p\",\"c\",\"r\",\"w\",\"n\",\"p\",\"c\",\"r\",\"w\",\"n\",\"p\",\"c\",\"r\",\"w\",\"n\",\"p\",\"c\",\"r\",\"w\",\"n\",\"p\",\"c\",\"r\",\"w\",\"n\",\"p\",\"c\",\"r\",\"w\",\"n\",\"p\",\"c\",\"r\",\"w\",\"n\",\"p\",\"c\",\"r\",\"w\",\"n\",\"p\",\"c\",\"r\",\"w\",\"n\",\"p\",\"c\",\"r\",\"w\",\"n\",\"p\",\"c\",\"r\",\"w\",\"n\",\"p\",\"c\",\"r\",\"w\",\"n\",\"p\",\"c\",\"r\",\"w\",\"n\",\"p\",\"c\",\"r\",\"w\",\"n\",\"p\",\"c\",\"r\",\"w\",\"n\",\"p\",\"c\",\"r\",\"w\",\"n\",\"p\",\"c\",\"r\",\"w\",\"n\",\"p\",\"c\",\"r\",\"w\",\"n\",\"p\",\"c\",\"r\",\"w\",\"n\",\"p\",\"c\",\"r\",\"w\",\"n\",\"p\",\"c\",\"r\",\"w\",\"n\",\"p\",\"c\",\"r\",\"w\",\"n\",\"p\",\"c\",\"r\",\"w\",\"n\",\"p\",\"c\",\"r\",\"w\",\"n\",\"p\",\"c\",\"r\",\"w\",\"n\",\"p\",\"c\",\"r\",\"w\",\"n\",\"p\",\"c\",\"r\",\"w\",\"n\",\"p\",\"c\",\"r\",\"w\",\"n\",\"p\",\"c\",\"r\",\"w\",\"n\",\"p\",\"c\",\"r\",\"w\",\"n\",\"p\",\"c\",\"r\",\"w\",\"n\",\"p\",\"c\",\"r\",\"w\",\"n\",\"p\",\"c\",\"r\",\"w\",\"n\",\"p\",\"c\",\"r\",\"w\",\"n\",\"p\",\"c\",\"r\",\"w\",\"n\",\"p\",\"c\",\"r\",\"w\",\"n\",\"p\",\"c\",\"r\",\"w\",\"n\",\"p\",\"c\",\"r\",\"w\",\"n\",\"p\",\"c\",\"r\",\"w\",\"n\",\"p\",\"c\",\"r\",\"w\",\"n\",\"p\",\"c\",\"r\",\"w\",\"n\",\"p\",\"c\",\"r\",\"w\",\"n\",\"p\",\"c\",\"r\",\"w\",\"n\",\"p\",\"c\",\"r\",\"w\",\"n\",\"p\",\"c\",\"r\",\"w\",\"n\",\"p\",\"c\",\"r\",\"w\",\"n\",\"p\",\"c\",\"r\",\"w\",\"n\",\"p\",\"c\",\"r\",\"w\",\"n\",\"p\",\"c\",\"r\",\"w\",\"n\",\"p\",\"c\",\"r\",\"w\",\"n\",\"p\",\"c\",\"r\",\"w\",\"n\",\"p\",\"c\",\"r\",\"w\",\"n\",\"p\",\"c\",\"r\",\"w\",\"n\",\"p\",\"c\",\"r\",\"w\",\"n\",\"p\",\"c\",\"r\",\"w\",\"n\",\"p\",\"c\",\"r\",\"w\",\"n\",\"p\",\"c\",\"r\",\"w\",\"n\",\"p\",\"c\",\"r\",\"w\",\"n\",\"p\",\"c\",\"r\",\"w\",\"n\",\"p\",\"c\",\"r\",\"w\",\"n\",\"p\",\"c\",\"r\",\"w\",\"n\",\"p\",\"c\",\"r\",\"w\",\"n\",\"p\",\"c\",\"r\",\"w\",\"n\",\"p\",\"c\",\"r\",\"w\",\"n\",\"p\",\"c\",\"r\"],\"Tokens\":[\"0\",\"0\",\"0\",\"0\",\"0\",\"1\",\"1\",\"1\",\"1\",\"1\",\"2\",\"2\",\"2\",\"2\",\"2\",\"3\",\"3\",\"3\",\"3\",\"3\",\"4\",\"4\",\"4\",\"4\",\"4\",\"5\",\"5\",\"5\",\"5\",\"5\",\"6\",\"6\",\"6\",\"6\",\"6\",\"7\",\"7\",\"7\",\"7\",\"7\",\"8\",\"8\",\"8\",\"8\",\"8\",\"9\",\"9\",\"9\",\"9\",\"9\",\"10\",\"10\",\"10\",\"10\",\"10\",\"11\",\"11\",\"11\",\"11\",\"11\",\"12\",\"12\",\"12\",\"12\",\"12\",\"13\",\"13\",\"13\",\"13\",\"13\",\"14\",\"14\",\"14\",\"14\",\"14\",\"15\",\"15\",\"15\",\"15\",\"15\",\"16\",\"16\",\"16\",\"16\",\"16\",\"17\",\"17\",\"17\",\"17\",\"17\",\"18\",\"18\",\"18\",\"18\",\"18\",\"19\",\"19\",\"19\",\"19\",\"19\",\"20\",\"20\",\"20\",\"20\",\"20\",\"21\",\"21\",\"21\",\"21\",\"21\",\"22\",\"22\",\"22\",\"22\",\"22\",\"23\",\"23\",\"23\",\"23\",\"23\",\"24\",\"24\",\"24\",\"24\",\"24\",\"25\",\"25\",\"25\",\"25\",\"25\",\"26\",\"26\",\"26\",\"26\",\"26\",\"27\",\"27\",\"27\",\"27\",\"27\",\"28\",\"28\",\"28\",\"28\",\"28\",\"29\",\"29\",\"29\",\"29\",\"29\",\"30\",\"30\",\"30\",\"30\",\"30\",\"31\",\"31\",\"31\",\"31\",\"31\",\"32\",\"32\",\"32\",\"32\",\"32\",\"33\",\"33\",\"33\",\"33\",\"33\",\"34\",\"34\",\"34\",\"34\",\"34\",\"35\",\"35\",\"35\",\"35\",\"35\",\"36\",\"36\",\"36\",\"36\",\"36\",\"37\",\"37\",\"37\",\"37\",\"37\",\"38\",\"38\",\"38\",\"38\",\"38\",\"39\",\"39\",\"39\",\"39\",\"39\",\"40\",\"40\",\"40\",\"40\",\"40\",\"41\",\"41\",\"41\",\"41\",\"41\",\"42\",\"42\",\"42\",\"42\",\"42\",\"43\",\"43\",\"43\",\"43\",\"43\",\"44\",\"44\",\"44\",\"44\",\"44\",\"45\",\"45\",\"45\",\"45\",\"45\",\"46\",\"46\",\"46\",\"46\",\"46\",\"47\",\"47\",\"47\",\"47\",\"47\",\"48\",\"48\",\"48\",\"48\",\"48\",\"49\",\"49\",\"49\",\"49\",\"49\",\"50\",\"50\",\"50\",\"50\",\"50\",\"51\",\"51\",\"51\",\"51\",\"51\",\"52\",\"52\",\"52\",\"52\",\"52\",\"53\",\"53\",\"53\",\"53\",\"53\",\"54\",\"54\",\"54\",\"54\",\"54\",\"55\",\"55\",\"55\",\"55\",\"55\",\"56\",\"56\",\"56\",\"56\",\"56\",\"57\",\"57\",\"57\",\"57\",\"57\",\"58\",\"58\",\"58\",\"58\",\"58\",\"59\",\"59\",\"59\",\"59\",\"59\",\"60\",\"60\",\"60\",\"60\",\"60\",\"61\",\"61\",\"61\",\"61\",\"61\",\"62\",\"62\",\"62\",\"62\",\"62\",\"63\",\"63\",\"63\",\"63\",\"63\",\"64\",\"64\",\"64\",\"64\",\"64\",\"65\",\"65\",\"65\",\"65\",\"65\",\"66\",\"66\",\"66\",\"66\",\"66\",\"67\",\"67\",\"67\",\"67\",\"67\",\"68\",\"68\",\"68\",\"68\",\"68\",\"69\",\"69\",\"69\",\"69\",\"69\",\"70\",\"70\",\"70\",\"70\",\"70\",\"71\",\"71\",\"71\",\"71\",\"71\",\"72\",\"72\",\"72\",\"72\",\"72\",\"73\",\"73\",\"73\",\"73\",\"73\",\"74\",\"74\",\"74\",\"74\",\"74\",\"75\",\"75\",\"75\",\"75\",\"75\",\"76\",\"76\",\"76\",\"76\",\"76\",\"77\",\"77\",\"77\",\"77\",\"77\",\"78\",\"78\",\"78\",\"78\",\"78\",\"79\",\"79\",\"79\",\"79\",\"79\",\"80\",\"80\",\"80\",\"80\",\"80\",\"81\",\"81\",\"81\",\"81\",\"81\",\"82\",\"82\",\"82\",\"82\",\"82\",\"83\",\"83\",\"83\",\"83\",\"83\",\"84\",\"84\",\"84\",\"84\",\"84\",\"85\",\"85\",\"85\",\"85\",\"85\",\"86\",\"86\",\"86\",\"86\",\"86\",\"87\",\"87\",\"87\",\"87\",\"87\",\"88\",\"88\",\"88\",\"88\",\"88\",\"89\",\"89\",\"89\",\"89\",\"89\",\"90\",\"90\",\"90\",\"90\",\"90\",\"91\",\"91\",\"91\",\"91\",\"91\",\"92\",\"92\",\"92\",\"92\",\"92\",\"93\",\"93\",\"93\",\"93\",\"93\",\"94\",\"94\",\"94\",\"94\",\"94\",\"95\",\"95\",\"95\",\"95\",\"95\",\"96\",\"96\",\"96\",\"96\",\"96\",\"97\",\"97\",\"97\",\"97\",\"97\",\"98\",\"98\",\"98\",\"98\",\"98\",\"99\",\"99\",\"99\",\"99\",\"99\",\"100\",\"100\",\"100\",\"100\",\"100\",\"101\",\"101\",\"101\",\"101\",\"101\",\"102\",\"102\",\"102\",\"102\",\"102\",\"103\",\"103\",\"103\",\"103\",\"103\",\"104\",\"104\",\"104\",\"104\",\"104\",\"105\",\"105\",\"105\",\"105\",\"105\",\"106\",\"106\",\"106\",\"106\",\"106\",\"107\",\"107\",\"107\",\"107\",\"107\",\"108\",\"108\",\"108\",\"108\",\"108\",\"109\",\"109\",\"109\",\"109\",\"109\",\"110\",\"110\",\"110\",\"110\",\"110\",\"111\",\"111\",\"111\",\"111\",\"111\",\"112\",\"112\",\"112\",\"112\",\"112\",\"113\",\"113\",\"113\",\"113\",\"113\",\"114\",\"114\",\"114\",\"114\",\"114\",\"115\",\"115\",\"115\",\"115\",\"115\",\"116\",\"116\",\"116\",\"116\",\"116\",\"117\",\"117\",\"117\",\"117\",\"117\",\"118\",\"118\",\"118\",\"118\",\"118\"],\"zvalues\":{\"__ndarray__\":\"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\",\"dtype\":\"float32\",\"shape\":[595]}}},\"id\":\"16c2e8a9-365e-4e5b-99e0-13a8c0acac55\",\"type\":\"ColumnDataSource\"},{\"attributes\":{\"high\":1.0,\"low\":-1.0,\"nan_color\":\"white\",\"palette\":[\"#ffffff\",\"#fefefe\",\"#fdfdfd\",\"#fcfcfc\",\"#fbfbfb\",\"#fafafa\",\"#f9f9f9\",\"#f8f8f8\",\"#f7f7f7\",\"#f6f6f6\",\"#f5f5f5\",\"#f4f4f4\",\"#f3f3f3\",\"#f2f2f2\",\"#f1f1f1\",\"#f0f0f0\",\"#efefef\",\"#eeeeee\",\"#ededed\",\"#ececec\",\"#ebebeb\",\"#eaeaea\",\"#e9e9e9\",\"#e8e8e8\",\"#e7e7e7\",\"#e6e6e6\",\"#e5e5e5\",\"#e4e4e4\",\"#e3e3e3\",\"#e2e2e2\",\"#e1e1e1\",\"#e0e0e0\",\"#dfdfdf\",\"#dedede\",\"#dddddd\",\"#dcdcdc\",\"#dbdbdb\",\"#dadada\",\"#d9d9d9\",\"#d8d8d8\",\"#d7d7d7\",\"#d6d6d6\",\"#d5d5d5\",\"#d3d3d3\",\"#d3d3d3\",\"#d2d2d2\",\"#d1d1d1\",\"#d0d0d0\",\"#cfcfcf\",\"#cecece\",\"#cdcdcd\",\"#cccccc\",\"#cbcbcb\",\"#cacaca\",\"#c9c9c9\",\"#c8c8c8\",\"#c7c7c7\",\"#c6c6c6\",\"#c5c5c5\",\"#c3c3c3\",\"#c3c3c3\",\"#c2c2c2\",\"#c1c1c1\",\"#c0c0c0\",\"#bfbfbf\",\"#bebebe\",\"#bdbdbd\",\"#bcbcbc\",\"#bbbbbb\",\"#bababa\",\"#b9b9b9\",\"#b8b8b8\",\"#b7b7b7\",\"#b6b6b6\",\"#b5b5b5\",\"#b3b3b3\",\"#b3b3b3\",\"#b2b2b2\",\"#b1b1b1\",\"#b0b0b0\",\"#afafaf\",\"#aeaeae\",\"#adadad\",\"#acacac\",\"#ababab\",\"#aaaaaa\",\"#a9a9a9\",\"#a8a8a8\",\"#a7a7a7\",\"#a6a6a6\",\"#a5a5a5\",\"#a3a3a3\",\"#a3a3a3\",\"#a2a2a2\",\"#a1a1a1\",\"#a0a0a0\",\"#9f9f9f\",\"#9e9e9e\",\"#9d9d9d\",\"#9c9c9c\",\"#9b9b9b\",\"#9a9a9a\",\"#999999\",\"#989898\",\"#979797\",\"#969696\",\"#959595\",\"#939393\",\"#939393\",\"#929292\",\"#919191\",\"#909090\",\"#8f8f8f\",\"#8e8e8e\",\"#8d8d8d\",\"#8c8c8c\",\"#8b8b8b\",\"#8a8a8a\",\"#898989\",\"#888888\",\"#878787\",\"#868686\",\"#858585\",\"#838383\",\"#838383\",\"#828282\",\"#818181\",\"#808080\",\"#7f7f7f\",\"#7e7e7e\",\"#7d7d7d\",\"#7c7c7c\",\"#7b7b7b\",\"#797979\",\"#797979\",\"#787878\",\"#777777\",\"#767676\",\"#757575\",\"#747474\",\"#727272\",\"#717171\",\"#717171\",\"#707070\",\"#6f6f6f\",\"#6e6e6e\",\"#6d6d6d\",\"#6c6c6c\",\"#6b6b6b\",\"#696969\",\"#696969\",\"#686868\",\"#676767\",\"#666666\",\"#656565\",\"#646464\",\"#626262\",\"#616161\",\"#616161\",\"#606060\",\"#5f5f5f\",\"#5e5e5e\",\"#5d5d5d\",\"#5c5c5c\",\"#5b5b5b\",\"#595959\",\"#595959\",\"#585858\",\"#575757\",\"#565656\",\"#555555\",\"#545454\",\"#525252\",\"#515151\",\"#515151\",\"#505050\",\"#4f4f4f\",\"#4e4e4e\",\"#4d4d4d\",\"#4c4c4c\",\"#4b4b4b\",\"#494949\",\"#494949\",\"#484848\",\"#474747\",\"#464646\",\"#454545\",\"#444444\",\"#424242\",\"#414141\",\"#414141\",\"#404040\",\"#3f3f3f\",\"#3e3e3e\",\"#3d3d3d\",\"#3c3c3c\",\"#3b3b3b\",\"#393939\",\"#383838\",\"#383838\",\"#373737\",\"#363636\",\"#353535\",\"#343434\",\"#323232\",\"#313131\",\"#303030\",\"#303030\",\"#2f2f2f\",\"#2e2e2e\",\"#2d2d2d\",\"#2c2c2c\",\"#2b2b2b\",\"#292929\",\"#282828\",\"#282828\",\"#272727\",\"#262626\",\"#252525\",\"#242424\",\"#222222\",\"#212121\",\"#202020\",\"#202020\",\"#1f1f1f\",\"#1e1e1e\",\"#1d1d1d\",\"#1c1c1c\",\"#1b1b1b\",\"#191919\",\"#181818\",\"#181818\",\"#171717\",\"#161616\",\"#151515\",\"#141414\",\"#121212\",\"#111111\",\"#101010\",\"#101010\",\"#0f0f0f\",\"#0e0e0e\",\"#0d0d0d\",\"#0c0c0c\",\"#0b0b0b\",\"#090909\",\"#080808\",\"#080808\",\"#070707\",\"#060606\",\"#050505\",\"#040404\",\"#020202\",\"#010101\",\"#000000\",\"#000000\"]},\"id\":\"4834a4e6-0abd-43f2-8982-7d9a04c099f3\",\"type\":\"LinearColorMapper\"},{\"attributes\":{\"overlay\":{\"id\":\"3b95d35c-bd44-42ef-959c-01c57125fcc3\",\"type\":\"BoxAnnotation\"}},\"id\":\"81a6f8d1-ad80-49e2-a910-d48ef9270835\",\"type\":\"BoxZoomTool\"},{\"attributes\":{},\"id\":\"5d2080b2-3b8f-4774-8304-7899ed21a212\",\"type\":\"ResetTool\"},{\"attributes\":{},\"id\":\"363a0237-09d9-408d-b635-dc29d996e2d6\",\"type\":\"CategoricalTickFormatter\"},{\"attributes\":{\"fill_alpha\":{\"value\":0.1},\"fill_color\":{\"field\":\"zvalues\",\"transform\":{\"id\":\"4834a4e6-0abd-43f2-8982-7d9a04c099f3\",\"type\":\"LinearColorMapper\"}},\"height\":{\"units\":\"data\",\"value\":1},\"line_alpha\":{\"value\":0},\"line_color\":{\"value\":\"#1f77b4\"},\"width\":{\"units\":\"data\",\"value\":1},\"x\":{\"field\":\"Tokens\"},\"y\":{\"field\":\"Scores\"}},\"id\":\"dd6fa72b-97f6-4fe8-a465-4780b639a95d\",\"type\":\"Rect\"},{\"attributes\":{\"high\":1.0,\"low\":-1.0,\"nan_color\":\"white\",\"palette\":[\"#ffffff\",\"#fefefe\",\"#fdfdfd\",\"#fcfcfc\",\"#fbfbfb\",\"#fafafa\",\"#f9f9f9\",\"#f8f8f8\",\"#f7f7f7\",\"#f6f6f6\",\"#f5f5f5\",\"#f4f4f4\",\"#f3f3f3\",\"#f2f2f2\",\"#f1f1f1\",\"#f0f0f0\",\"#efefef\",\"#eeeeee\",\"#ededed\",\"#ececec\",\"#ebebeb\",\"#eaeaea\",\"#e9e9e9\",\"#e8e8e8\",\"#e7e7e7\",\"#e6e6e6\",\"#e5e5e5\",\"#e4e4e4\",\"#e3e3e3\",\"#e2e2e2\",\"#e1e1e1\",\"#e0e0e0\",\"#dfdfdf\",\"#dedede\",\"#dddddd\",\"#dcdcdc\",\"#dbdbdb\",\"#dadada\",\"#d9d9d9\",\"#d8d8d8\",\"#d7d7d7\",\"#d6d6d6\",\"#d5d5d5\",\"#d3d3d3\",\"#d3d3d3\",\"#d2d2d2\",\"#d1d1d1\",\"#d0d0d0\",\"#cfcfcf\",\"#cecece\",\"#cdcdcd\",\"#cccccc\",\"#cbcbcb\",\"#cacaca\",\"#c9c9c9\",\"#c8c8c8\",\"#c7c7c7\",\"#c6c6c6\",\"#c5c5c5\",\"#c3c3c3\",\"#c3c3c3\",\"#c2c2c2\",\"#c1c1c1\",\"#c0c0c0\",\"#bfbfbf\",\"#bebebe\",\"#bdbdbd\",\"#bcbcbc\",\"#bbbbbb\",\"#bababa\",\"#b9b9b9\",\"#b8b8b8\",\"#b7b7b7\",\"#b6b6b6\",\"#b5b5b5\",\"#b3b3b3\",\"#b3b3b3\",\"#b2b2b2\",\"#b1b1b1\",\"#b0b0b0\",\"#afafaf\",\"#aeaeae\",\"#adadad\",\"#acacac\",\"#ababab\",\"#aaaaaa\",\"#a9a9a9\",\"#a8a8a8\",\"#a7a7a7\",\"#a6a6a6\",\"#a5a5a5\",\"#a3a3a3\",\"#a3a3a3\",\"#a2a2a2\",\"#a1a1a1\",\"#a0a0a0\",\"#9f9f9f\",\"#9e9e9e\",\"#9d9d9d\",\"#9c9c9c\",\"#9b9b9b\",\"#9a9a9a\",\"#999999\",\"#989898\",\"#979797\",\"#969696\",\"#959595\",\"#939393\",\"#939393\",\"#929292\",\"#919191\",\"#909090\",\"#8f8f8f\",\"#8e8e8e\",\"#8d8d8d\",\"#8c8c8c\",\"#8b8b8b\",\"#8a8a8a\",\"#898989\",\"#888888\",\"#878787\",\"#868686\",\"#858585\",\"#838383\",\"#838383\",\"#828282\",\"#818181\",\"#808080\",\"#7f7f7f\",\"#7e7e7e\",\"#7d7d7d\",\"#7c7c7c\",\"#7b7b7b\",\"#797979\",\"#797979\",\"#787878\",\"#777777\",\"#767676\",\"#757575\",\"#747474\",\"#727272\",\"#717171\",\"#717171\",\"#707070\",\"#6f6f6f\",\"#6e6e6e\",\"#6d6d6d\",\"#6c6c6c\",\"#6b6b6b\",\"#696969\",\"#696969\",\"#686868\",\"#676767\",\"#666666\",\"#656565\",\"#646464\",\"#626262\",\"#616161\",\"#616161\",\"#606060\",\"#5f5f5f\",\"#5e5e5e\",\"#5d5d5d\",\"#5c5c5c\",\"#5b5b5b\",\"#595959\",\"#595959\",\"#585858\",\"#575757\",\"#565656\",\"#555555\",\"#545454\",\"#525252\",\"#515151\",\"#515151\",\"#505050\",\"#4f4f4f\",\"#4e4e4e\",\"#4d4d4d\",\"#4c4c4c\",\"#4b4b4b\",\"#494949\",\"#494949\",\"#484848\",\"#474747\",\"#464646\",\"#454545\",\"#444444\",\"#424242\",\"#414141\",\"#414141\",\"#404040\",\"#3f3f3f\",\"#3e3e3e\",\"#3d3d3d\",\"#3c3c3c\",\"#3b3b3b\",\"#393939\",\"#383838\",\"#383838\",\"#373737\",\"#363636\",\"#353535\",\"#343434\",\"#323232\",\"#313131\",\"#303030\",\"#303030\",\"#2f2f2f\",\"#2e2e2e\",\"#2d2d2d\",\"#2c2c2c\",\"#2b2b2b\",\"#292929\",\"#282828\",\"#282828\",\"#272727\",\"#262626\",\"#252525\",\"#242424\",\"#222222\",\"#212121\",\"#202020\",\"#202020\",\"#1f1f1f\",\"#1e1e1e\",\"#1d1d1d\",\"#1c1c1c\",\"#1b1b1b\",\"#191919\",\"#181818\",\"#181818\",\"#171717\",\"#161616\",\"#151515\",\"#141414\",\"#121212\",\"#111111\",\"#101010\",\"#101010\",\"#0f0f0f\",\"#0e0e0e\",\"#0d0d0d\",\"#0c0c0c\",\"#0b0b0b\",\"#090909\",\"#080808\",\"#080808\",\"#070707\",\"#060606\",\"#050505\",\"#040404\",\"#020202\",\"#010101\",\"#000000\",\"#000000\"]},\"id\":\"9099eb89-e6ca-4b9d-b467-4541b4af3d95\",\"type\":\"LinearColorMapper\"},{\"attributes\":{\"toolbar\":{\"id\":\"53bcf532-d523-4c7c-adc4-c6e802b79019\",\"type\":\"ProxyToolbar\"},\"toolbar_location\":\"above\"},\"id\":\"8302d66d-85d0-41a3-b4dc-a6a1d15ee08a\",\"type\":\"ToolbarBox\"},{\"attributes\":{\"plot\":null,\"text\":\"\",\"text_color\":{\"value\":\"black\"}},\"id\":\"941138fa-b80d-4767-980d-c26a6e882b01\",\"type\":\"Title\"},{\"attributes\":{\"children\":[{\"id\":\"ea886546-194e-4496-8a36-ac18425b3ff1\",\"subtype\":\"Figure\",\"type\":\"Plot\"}]},\"id\":\"a965faaf-e695-4c4e-853c-a9802e6a7081\",\"type\":\"Row\"},{\"attributes\":{\"below\":[{\"id\":\"01cc0713-036a-4d00-80d6-e55acb85dfc7\",\"type\":\"CategoricalAxis\"}],\"left\":[{\"id\":\"7cd381f3-15a5-45f5-9bbd-3a4426fe5e52\",\"type\":\"CategoricalAxis\"}],\"min_border_bottom\":10,\"min_border_left\":10,\"min_border_right\":10,\"min_border_top\":10,\"plot_height\":1600,\"plot_width\":4850,\"renderers\":[{\"id\":\"01cc0713-036a-4d00-80d6-e55acb85dfc7\",\"type\":\"CategoricalAxis\"},{\"id\":\"defc393a-0b9a-4a6d-8822-32a31099d206\",\"type\":\"Grid\"},{\"id\":\"7cd381f3-15a5-45f5-9bbd-3a4426fe5e52\",\"type\":\"CategoricalAxis\"},{\"id\":\"3c4c3301-5f5e-4a41-a8f4-574938be212c\",\"type\":\"Grid\"},{\"id\":\"07cd836a-b77f-47c4-b54b-d2327a674e33\",\"type\":\"BoxAnnotation\"},{\"id\":\"0cdfeec0-7801-40e7-b83a-4e54b6a4b32d\",\"type\":\"GlyphRenderer\"}],\"title\":{\"id\":\"941138fa-b80d-4767-980d-c26a6e882b01\",\"type\":\"Title\"},\"toolbar\":{\"id\":\"64fee808-a2d5-49e7-bd06-ae18a682bbbc\",\"type\":\"Toolbar\"},\"toolbar_location\":null,\"x_range\":{\"id\":\"857041ee-61a9-46ca-b9e6-39c04f507398\",\"type\":\"FactorRange\"},\"x_scale\":{\"id\":\"ec6c065d-d978-4d1f-ad10-81820efc1fe9\",\"type\":\"CategoricalScale\"},\"y_range\":{\"id\":\"97e30f95-19a6-4363-9fd1-4fba4257f74e\",\"type\":\"FactorRange\"},\"y_scale\":{\"id\":\"08f8d9a7-cadd-4988-bd86-7d7d217582b8\",\"type\":\"CategoricalScale\"}},\"id\":\"ea886546-194e-4496-8a36-ac18425b3ff1\",\"subtype\":\"Figure\",\"type\":\"Plot\"},{\"attributes\":{\"children\":[{\"id\":\"8302d66d-85d0-41a3-b4dc-a6a1d15ee08a\",\"type\":\"ToolbarBox\"},{\"id\":\"ac61ba05-fbd8-4cc5-9bec-f333068408f4\",\"type\":\"Column\"}]},\"id\":\"6720b4c8-8276-44a7-be33-4c657e0a1f3a\",\"type\":\"Column\"},{\"attributes\":{\"grid_line_color\":{\"value\":null},\"plot\":{\"id\":\"4259b63f-4c72-4f86-adc0-19ced5f31e1e\",\"subtype\":\"Figure\",\"type\":\"Plot\"},\"ticker\":{\"id\":\"2c87e20b-4709-4649-8047-5cc1aff23c01\",\"type\":\"CategoricalTicker\"}},\"id\":\"429e4702-d392-4e14-a9ed-226d93852f9f\",\"type\":\"Grid\"},{\"attributes\":{},\"id\":\"ec6c065d-d978-4d1f-ad10-81820efc1fe9\",\"type\":\"CategoricalScale\"},{\"attributes\":{\"axis_label\":\"Scores\",\"axis_label_text_font_size\":{\"value\":\"64pt\"},\"bounds\":\"auto\",\"formatter\":{\"id\":\"5a770bba-6d5c-4205-bb3b-0d8db957ff55\",\"type\":\"CategoricalTickFormatter\"},\"major_label_orientation\":\"horizontal\",\"major_label_text_font_size\":{\"value\":\"80pt\"},\"plot\":{\"id\":\"ea886546-194e-4496-8a36-ac18425b3ff1\",\"subtype\":\"Figure\",\"type\":\"Plot\"},\"ticker\":{\"id\":\"6efc495a-28d2-4b0e-aef9-76862549a4ea\",\"type\":\"CategoricalTicker\"}},\"id\":\"7cd381f3-15a5-45f5-9bbd-3a4426fe5e52\",\"type\":\"CategoricalAxis\"},{\"attributes\":{\"active_drag\":\"auto\",\"active_inspect\":\"auto\",\"active_scroll\":\"auto\",\"active_tap\":\"auto\",\"tools\":[{\"id\":\"4a69b666-4edd-4ade-8175-740fdd52e5f6\",\"type\":\"SaveTool\"},{\"id\":\"931444de-307c-4135-a948-bfc0d8e0bff3\",\"type\":\"PanTool\"},{\"id\":\"f48b87ec-f804-4cbe-9c91-b9687ca81d1e\",\"type\":\"WheelZoomTool\"},{\"id\":\"bbbfe75f-0c86-450e-9786-685e46952b79\",\"type\":\"BoxZoomTool\"},{\"id\":\"024d5f54-14ad-4000-9848-03d869589251\",\"type\":\"ResetTool\"}]},\"id\":\"64fee808-a2d5-49e7-bd06-ae18a682bbbc\",\"type\":\"Toolbar\"},{\"attributes\":{\"grid_line_color\":{\"value\":null},\"plot\":{\"id\":\"ea886546-194e-4496-8a36-ac18425b3ff1\",\"subtype\":\"Figure\",\"type\":\"Plot\"},\"ticker\":{\"id\":\"bbe8d468-f281-4109-b148-27ef21698191\",\"type\":\"CategoricalTicker\"}},\"id\":\"defc393a-0b9a-4a6d-8822-32a31099d206\",\"type\":\"Grid\"},{\"attributes\":{\"children\":[{\"id\":\"f7df28f9-fbe8-44b3-92be-e5d2233436b7\",\"type\":\"Row\"},{\"id\":\"a965faaf-e695-4c4e-853c-a9802e6a7081\",\"type\":\"Row\"}]},\"id\":\"ac61ba05-fbd8-4cc5-9bec-f333068408f4\",\"type\":\"Column\"},{\"attributes\":{},\"id\":\"08f8d9a7-cadd-4988-bd86-7d7d217582b8\",\"type\":\"CategoricalScale\"},{\"attributes\":{},\"id\":\"71d2351b-d828-4bd1-ba34-6d520cdf8637\",\"type\":\"CategoricalScale\"},{\"attributes\":{\"children\":[{\"id\":\"4259b63f-4c72-4f86-adc0-19ced5f31e1e\",\"subtype\":\"Figure\",\"type\":\"Plot\"}]},\"id\":\"f7df28f9-fbe8-44b3-92be-e5d2233436b7\",\"type\":\"Row\"},{\"attributes\":{\"axis_label\":\"Tokens\",\"axis_label_text_font_size\":{\"value\":\"80pt\"},\"bounds\":\"auto\",\"formatter\":{\"id\":\"24311e6d-0926-4c86-a0d2-1ba0881b204b\",\"type\":\"CategoricalTickFormatter\"},\"major_label_orientation\":1.5707963267948966,\"major_label_text_font_size\":{\"value\":\"80pt\"},\"plot\":{\"id\":\"ea886546-194e-4496-8a36-ac18425b3ff1\",\"subtype\":\"Figure\",\"type\":\"Plot\"},\"ticker\":{\"id\":\"bbe8d468-f281-4109-b148-27ef21698191\",\"type\":\"CategoricalTicker\"}},\"id\":\"01cc0713-036a-4d00-80d6-e55acb85dfc7\",\"type\":\"CategoricalAxis\"},{\"attributes\":{},\"id\":\"bbe8d468-f281-4109-b148-27ef21698191\",\"type\":\"CategoricalTicker\"},{\"attributes\":{\"callback\":null,\"factors\":[\"0\",\"1\",\"2\",\"3\",\"4\",\"5\",\"6\",\"7\",\"8\",\"9\",\"10\",\"11\",\"12\",\"13\",\"14\",\"15\",\"16\",\"17\",\"18\",\"19\",\"20\",\"21\",\"22\",\"23\",\"24\",\"25\",\"26\",\"27\",\"28\",\"29\",\"30\",\"31\",\"32\",\"33\",\"34\",\"35\",\"36\",\"37\",\"38\",\"39\",\"40\",\"41\",\"42\",\"43\",\"44\",\"45\",\"46\",\"47\",\"48\",\"49\",\"50\",\"51\",\"52\",\"53\",\"54\",\"55\",\"56\",\"57\",\"58\",\"59\",\"60\",\"61\",\"62\",\"63\",\"64\",\"65\",\"66\",\"67\",\"68\",\"69\",\"70\",\"71\",\"72\",\"73\",\"74\",\"75\",\"76\",\"77\",\"78\",\"79\",\"80\",\"81\",\"82\",\"83\",\"84\",\"85\",\"86\",\"87\",\"88\",\"89\",\"90\",\"91\",\"92\",\"93\",\"94\",\"95\",\"96\",\"97\",\"98\",\"99\",\"100\",\"101\",\"102\",\"103\",\"104\",\"105\",\"106\",\"107\",\"108\",\"109\",\"110\",\"111\",\"112\",\"113\",\"114\",\"115\",\"116\",\"117\",\"118\"]},\"id\":\"dd91e73b-fd1d-4499-b024-87ba714105b2\",\"type\":\"FactorRange\"},{\"attributes\":{},\"id\":\"6efc495a-28d2-4b0e-aef9-76862549a4ea\",\"type\":\"CategoricalTicker\"},{\"attributes\":{\"below\":[{\"id\":\"38e3ed57-0a61-4f52-aabc-e4b5a408ca8a\",\"type\":\"CategoricalAxis\"}],\"left\":[{\"id\":\"97166a0c-3aa8-443f-ba6d-d101d0759967\",\"type\":\"CategoricalAxis\"}],\"min_border_bottom\":10,\"min_border_left\":10,\"min_border_right\":10,\"min_border_top\":10,\"plot_height\":640,\"plot_width\":4850,\"renderers\":[{\"id\":\"38e3ed57-0a61-4f52-aabc-e4b5a408ca8a\",\"type\":\"CategoricalAxis\"},{\"id\":\"429e4702-d392-4e14-a9ed-226d93852f9f\",\"type\":\"Grid\"},{\"id\":\"97166a0c-3aa8-443f-ba6d-d101d0759967\",\"type\":\"CategoricalAxis\"},{\"id\":\"ad9750e8-6bf3-41f8-b71a-841a4c6fb004\",\"type\":\"Grid\"},{\"id\":\"3b95d35c-bd44-42ef-959c-01c57125fcc3\",\"type\":\"BoxAnnotation\"},{\"id\":\"3773c4ef-c71e-429b-b013-79c6e7b8a313\",\"type\":\"GlyphRenderer\"}],\"title\":{\"id\":\"0feffabf-7104-4d13-aff1-969c414e2363\",\"type\":\"Title\"},\"toolbar\":{\"id\":\"0655eaca-00a5-4d5d-8b2f-412ee0f92ef4\",\"type\":\"Toolbar\"},\"toolbar_location\":null,\"x_range\":{\"id\":\"dd91e73b-fd1d-4499-b024-87ba714105b2\",\"type\":\"FactorRange\"},\"x_scale\":{\"id\":\"23a1b83c-a5e7-490b-ba7d-6db7baeeb3be\",\"type\":\"CategoricalScale\"},\"y_range\":{\"id\":\"79efb0fc-f918-45dd-8a65-a9069236fde7\",\"type\":\"FactorRange\"},\"y_scale\":{\"id\":\"71d2351b-d828-4bd1-ba34-6d520cdf8637\",\"type\":\"CategoricalScale\"}},\"id\":\"4259b63f-4c72-4f86-adc0-19ced5f31e1e\",\"subtype\":\"Figure\",\"type\":\"Plot\"},{\"attributes\":{\"dimension\":1,\"grid_line_color\":{\"value\":null},\"plot\":{\"id\":\"ea886546-194e-4496-8a36-ac18425b3ff1\",\"subtype\":\"Figure\",\"type\":\"Plot\"},\"ticker\":{\"id\":\"6efc495a-28d2-4b0e-aef9-76862549a4ea\",\"type\":\"CategoricalTicker\"}},\"id\":\"3c4c3301-5f5e-4a41-a8f4-574938be212c\",\"type\":\"Grid\"},{\"attributes\":{\"plot\":null,\"text\":\"\",\"text_color\":{\"value\":\"black\"}},\"id\":\"0feffabf-7104-4d13-aff1-969c414e2363\",\"type\":\"Title\"},{\"attributes\":{\"axis_label\":\"Tokens\",\"bounds\":\"auto\",\"formatter\":{\"id\":\"773cec48-43ee-4b25-96c3-36df2567d045\",\"type\":\"CategoricalTickFormatter\"},\"major_label_orientation\":1.5707963267948966,\"major_label_text_font_size\":{\"value\":\"80pt\"},\"plot\":{\"id\":\"4259b63f-4c72-4f86-adc0-19ced5f31e1e\",\"subtype\":\"Figure\",\"type\":\"Plot\"},\"ticker\":{\"id\":\"2c87e20b-4709-4649-8047-5cc1aff23c01\",\"type\":\"CategoricalTicker\"},\"visible\":false},\"id\":\"38e3ed57-0a61-4f52-aabc-e4b5a408ca8a\",\"type\":\"CategoricalAxis\"},{\"attributes\":{\"callback\":null,\"factors\":[\"w\",\"n\",\"p\",\"c\",\"r\"]},\"id\":\"79efb0fc-f918-45dd-8a65-a9069236fde7\",\"type\":\"FactorRange\"},{\"attributes\":{\"bottom_units\":\"screen\",\"fill_alpha\":{\"value\":0.5},\"fill_color\":{\"value\":\"lightgrey\"},\"left_units\":\"screen\",\"level\":\"overlay\",\"line_alpha\":{\"value\":1.0},\"line_color\":{\"value\":\"black\"},\"line_dash\":[4,4],\"line_width\":{\"value\":2},\"plot\":null,\"render_mode\":\"css\",\"right_units\":\"screen\",\"top_units\":\"screen\"},\"id\":\"07cd836a-b77f-47c4-b54b-d2327a674e33\",\"type\":\"BoxAnnotation\"},{\"attributes\":{},\"id\":\"23a1b83c-a5e7-490b-ba7d-6db7baeeb3be\",\"type\":\"CategoricalScale\"},{\"attributes\":{},\"id\":\"773cec48-43ee-4b25-96c3-36df2567d045\",\"type\":\"CategoricalTickFormatter\"},{\"attributes\":{},\"id\":\"4a69b666-4edd-4ade-8175-740fdd52e5f6\",\"type\":\"SaveTool\"},{\"attributes\":{\"axis_label\":\"Scores\",\"axis_label_text_font_size\":{\"value\":\"64pt\"},\"bounds\":\"auto\",\"formatter\":{\"id\":\"363a0237-09d9-408d-b635-dc29d996e2d6\",\"type\":\"CategoricalTickFormatter\"},\"major_label_orientation\":\"horizontal\",\"major_label_text_font_size\":{\"value\":\"80pt\"},\"plot\":{\"id\":\"4259b63f-4c72-4f86-adc0-19ced5f31e1e\",\"subtype\":\"Figure\",\"type\":\"Plot\"},\"ticker\":{\"id\":\"86edf908-aa36-402e-a526-2f98d3bad327\",\"type\":\"CategoricalTicker\"}},\"id\":\"97166a0c-3aa8-443f-ba6d-d101d0759967\",\"type\":\"CategoricalAxis\"},{\"attributes\":{\"fill_color\":{\"field\":\"zvalues\",\"transform\":{\"id\":\"4834a4e6-0abd-43f2-8982-7d9a04c099f3\",\"type\":\"LinearColorMapper\"}},\"height\":{\"units\":\"data\",\"value\":1},\"line_alpha\":{\"value\":0},\"line_color\":{\"value\":\"#1f77b4\"},\"width\":{\"units\":\"data\",\"value\":1},\"x\":{\"field\":\"Tokens\"},\"y\":{\"field\":\"Scores\"}},\"id\":\"96bfcc8c-4d55-4488-be38-06773fd85b05\",\"type\":\"Rect\"},{\"attributes\":{\"active_drag\":\"auto\",\"active_inspect\":\"auto\",\"active_scroll\":\"auto\",\"active_tap\":\"auto\",\"tools\":[{\"id\":\"c68fcfed-57f8-4930-9975-b5dfda03a6a5\",\"type\":\"SaveTool\"},{\"id\":\"d27e7f89-383c-4411-9d2a-c286aac8a94e\",\"type\":\"PanTool\"},{\"id\":\"075ca15d-615b-4598-8c7c-cd0f5da319de\",\"type\":\"WheelZoomTool\"},{\"id\":\"81a6f8d1-ad80-49e2-a910-d48ef9270835\",\"type\":\"BoxZoomTool\"},{\"id\":\"5d2080b2-3b8f-4774-8304-7899ed21a212\",\"type\":\"ResetTool\"}]},\"id\":\"0655eaca-00a5-4d5d-8b2f-412ee0f92ef4\",\"type\":\"Toolbar\"},{\"attributes\":{\"callback\":null,\"factors\":[\"On   0\",\"Carolina   1\",\"'s   2\",\"next   3\",\"possession   4\",\"fullback   5\",\"Mike   6\",\"Tolbert   7\",\"lost   8\",\"a   9\",\"fumble   10\",\"while   11\",\"being   12\",\"tackled   13\",\"by   14\",\"safety   15\",\"Darian   16\",\"Stewart   17\",\",   18\",\"which   19\",\"linebacker   20\",\"Danny   21\",\"Trevathan   22\",\"recovered   23\",\"on   24\",\"the   25\",\"Broncos   26\",\"40-yard   27\",\"line   28\",\".   29\"]},\"id\":\"857041ee-61a9-46ca-b9e6-39c04f507398\",\"type\":\"FactorRange\"},{\"attributes\":{\"callback\":null,\"column_names\":[\"Tokens\",\"Scores\",\"zvalues\"],\"data\":{\"Scores\":[\"w\",\"n\",\"p\",\"w\",\"n\",\"p\",\"w\",\"n\",\"p\",\"w\",\"n\",\"p\",\"w\",\"n\",\"p\",\"w\",\"n\",\"p\",\"w\",\"n\",\"p\",\"w\",\"n\",\"p\",\"w\",\"n\",\"p\",\"w\",\"n\",\"p\",\"w\",\"n\",\"p\",\"w\",\"n\",\"p\",\"w\",\"n\",\"p\",\"w\",\"n\",\"p\",\"w\",\"n\",\"p\",\"w\",\"n\",\"p\",\"w\",\"n\",\"p\",\"w\",\"n\",\"p\",\"w\",\"n\",\"p\",\"w\",\"n\",\"p\",\"w\",\"n\",\"p\",\"w\",\"n\",\"p\",\"w\",\"n\",\"p\",\"w\",\"n\",\"p\",\"w\",\"n\",\"p\",\"w\",\"n\",\"p\",\"w\",\"n\",\"p\",\"w\",\"n\",\"p\",\"w\",\"n\",\"p\",\"w\",\"n\",\"p\"],\"Tokens\":[\"On   0\",\"On   0\",\"On   0\",\"Carolina   1\",\"Carolina   1\",\"Carolina   1\",\"'s   2\",\"'s   2\",\"'s   2\",\"next   3\",\"next   3\",\"next   3\",\"possession   4\",\"possession   4\",\"possession   4\",\"fullback   5\",\"fullback   5\",\"fullback   5\",\"Mike   6\",\"Mike   6\",\"Mike   6\",\"Tolbert   7\",\"Tolbert   7\",\"Tolbert   7\",\"lost   8\",\"lost   8\",\"lost   8\",\"a   9\",\"a   9\",\"a   9\",\"fumble   10\",\"fumble   10\",\"fumble   10\",\"while   11\",\"while   11\",\"while   11\",\"being   12\",\"being   12\",\"being   12\",\"tackled   13\",\"tackled   13\",\"tackled   13\",\"by   14\",\"by   14\",\"by   14\",\"safety   15\",\"safety   15\",\"safety   15\",\"Darian   16\",\"Darian   16\",\"Darian   16\",\"Stewart   17\",\"Stewart   17\",\"Stewart   17\",\",   18\",\",   18\",\",   18\",\"which   19\",\"which   19\",\"which   19\",\"linebacker   20\",\"linebacker   20\",\"linebacker   20\",\"Danny   21\",\"Danny   21\",\"Danny   21\",\"Trevathan   22\",\"Trevathan   22\",\"Trevathan   22\",\"recovered   23\",\"recovered   23\",\"recovered   23\",\"on   24\",\"on   24\",\"on   24\",\"the   25\",\"the   25\",\"the   25\",\"Broncos   26\",\"Broncos   26\",\"Broncos   26\",\"40-yard   27\",\"40-yard   27\",\"40-yard   27\",\"line   28\",\"line   28\",\"line   28\",\".   29\",\".   29\",\".   29\"],\"zvalues\":{\"__ndarray__\":\"TXJTv7KsRb9CJjC/YIlhvm64+T1CJjC/31AAvw5Tkj5vf22+AACAv80lU70AAIC/5MlMvx8mBryzzke/zxIOv/IdMb6qCg28sONBP8IVsb7Et1Q/E2cnP44ZUz/Et1Q/R9VRv8/FZr4rEOq+oPlzv7OQar/TEm2/jZhzvwfkKDzTEm2/kZPsvqF7FL8AAIC/uFE8v01eUb/ZWp++li99v2efBL/a+H+/7MQovybpL7+5xSC/PKxvvyqBiz25xSC/LSgwP13tD789qOw+7LXhPgAAgD89qOw+LQhRv0kuwT6okj6/pc4pv7hYHb6okj6/w9XsvqRVqL7+4bs+kDDbPYLwy70AAIA/UpsrPuZ8Vz8AAIA/oiNlv/WOdr4AAIC/2pVQv26/dr/i/g++JdoNv3u/bL/i/g+++VGNvtL5rL7i/g++0dtPv0otOb42Lou+Ovp2v7EhTz42Lou+UI6tPDLMTT4AAIC/\",\"dtype\":\"float32\",\"shape\":[90]}}},\"id\":\"a7f6dd89-a685-41fa-8aa0-2dcee1646475\",\"type\":\"ColumnDataSource\"},{\"attributes\":{},\"id\":\"931444de-307c-4135-a948-bfc0d8e0bff3\",\"type\":\"PanTool\"},{\"attributes\":{},\"id\":\"f48b87ec-f804-4cbe-9c91-b9687ca81d1e\",\"type\":\"WheelZoomTool\"},{\"attributes\":{\"overlay\":{\"id\":\"07cd836a-b77f-47c4-b54b-d2327a674e33\",\"type\":\"BoxAnnotation\"}},\"id\":\"bbbfe75f-0c86-450e-9786-685e46952b79\",\"type\":\"BoxZoomTool\"}],\"root_ids\":[\"6720b4c8-8276-44a7-be33-4c657e0a1f3a\"]},\"title\":\"Bokeh Application\",\"version\":\"0.12.14\"}};\n",
       "  var render_items = [{\"docid\":\"92d07ed2-f04d-44ab-a696-d9f501c22f82\",\"elementid\":\"29e01d41-63e5-49a6-9c47-a54fa23a1afd\",\"modelid\":\"6720b4c8-8276-44a7-be33-4c657e0a1f3a\"}];\n",
       "  root.Bokeh.embed.embed_items_notebook(docs_json, render_items);\n",
       "\n",
       "  }\n",
       "  if (root.Bokeh !== undefined) {\n",
       "    embed_document(root);\n",
       "  } else {\n",
       "    var attempts = 0;\n",
       "    var timer = setInterval(function(root) {\n",
       "      if (root.Bokeh !== undefined) {\n",
       "        embed_document(root);\n",
       "        clearInterval(timer);\n",
       "      }\n",
       "      attempts++;\n",
       "      if (attempts > 100) {\n",
       "        console.log(\"Bokeh: ERROR: Unable to run BokehJS code because BokehJS library is missing\")\n",
       "        clearInterval(timer);\n",
       "      }\n",
       "    }, 10, root)\n",
       "  }\n",
       "})(window);\n",
       "</script>\n",
       "</div>"
      ],
      "text/plain": [
       ":Layout\n",
       "   .S1.Scores :HeatMap   [Tokens,Scores]   (z)\n",
       "   .S2.Scores :HeatMap   [Tokens,Scores]   (z)"
      ]
     },
     "execution_count": 14,
     "metadata": {},
     "output_type": "execute_result"
    }
   ],
   "source": [
    "%%opts HeatMap.S1 [xaxis=None height=int(scale*160) fontsize={'ticks': int(scale*20), 'ylabel': int(scale*16)} colorbar=False width=int(scale*40*(end-start)+50) toolbar='above' xrotation=90 show_title=False] (cmap='gray_r')\n",
    "%%opts HeatMap.S2 [height=int(scale*400) fontsize={'ticks': int(scale*20), 'ylabel': int(scale*16), 'xlabel': int(scale*20)} colorbar=False width=int(scale*40*(end-start)+50) toolbar='above' xrotation=90 show_title=False] (cmap='gray_r')\n",
    "\n",
    "\n",
    "import numpy as np\n",
    "\n",
    "\n",
    "print(data['question'])\n",
    "print(' '.join(data['support_ws'][i] for i in range(data['predicted_span'][0], data['predicted_span'][1] + 1)), data['predicted_span'])\n",
    "correct_answers = set([a.text for a in data['answers']])\n",
    "print(correct_answers)\n",
    "\n",
    "\n",
    "hm_scores1 = hv.HeatMap((range(len(data['support_ws'])), ['w', 'n', 'p', 'c', 'r'], scores),\n",
    "                        group='S1', label='Scores', kdims=['Tokens', 'Scores'])\n",
    "\n",
    "\n",
    "hm_scores2 = hv.HeatMap((idxstrseq(data['support_ws'])[start:end], ['w', 'n', 'p'], scores[:3, start:end]),\n",
    "                        group='S2', label='Scores', kdims=['Tokens', 'Scores'])\n",
    "(hm_scores1 + hm_scores2).cols(1)"
   ]
  },
  {
   "cell_type": "code",
   "execution_count": 155,
   "metadata": {},
   "outputs": [],
   "source": [
    "labels = ['1/1k', '3/3k', '10/10k', '30/30k', '100/100k', '300/Full']\n",
    "baseline = [44.3, 50.5, 55.5, 61.9, 68.1, 76.9]\n",
    "task = [51.8, 55.8, 60.1, 65.0, 70.7, 78.1]\n",
    "knowledge = [52.4, 57.9, 62.4, 66.6, 71.3, 78.8]"
   ]
  },
  {
   "cell_type": "code",
   "execution_count": 160,
   "metadata": {},
   "outputs": [
    {
     "name": "stderr",
     "output_type": "stream",
     "text": [
      "/usr/lib/python3.6/site-packages/bokeh/core/json_encoder.py:80: FutureWarning: Conversion of the second argument of issubdtype from `float` to `np.floating` is deprecated. In future, it will be treated as `np.float64 == np.dtype(float).type`.\n",
      "  elif np.issubdtype(type(obj), np.float):\n"
     ]
    },
    {
     "data": {
      "text/html": [
       "<div style='display: table; margin: 0 auto;'>\n",
       "\n",
       "<div class=\"bk-root\">\n",
       "    <div class=\"bk-plotdiv\" id=\"59cbb271-e204-42b6-9552-f3b4bfe82846\"></div>\n",
       "</div>\n",
       "<script type=\"text/javascript\">\n",
       "  (function(root) {\n",
       "  function embed_document(root) {\n",
       "    \n",
       "  var docs_json = {\"c71102af-c910-4e0a-9106-419846d3f863\":{\"roots\":{\"references\":[{\"attributes\":{\"plot\":null,\"text\":\"\",\"text_color\":{\"value\":\"black\"}},\"id\":\"c057b1ac-71b5-481d-8d52-869e1291e3f6\",\"type\":\"Title\"},{\"attributes\":{},\"id\":\"02afadb8-8792-409a-a654-8adcf5ac7c5a\",\"type\":\"CategoricalScale\"},{\"attributes\":{\"axis_label\":\"Accuracy in %\",\"axis_label_text_font_size\":{\"value\":\"20pt\"},\"bounds\":\"auto\",\"formatter\":{\"id\":\"377943b0-88e3-4dda-b4f1-b8a6eb2900d3\",\"type\":\"BasicTickFormatter\"},\"major_label_orientation\":\"horizontal\",\"major_label_text_font_size\":{\"value\":\"20pt\"},\"plot\":{\"id\":\"c5f2471d-e454-418b-bbf0-e68de20be5d0\",\"subtype\":\"Figure\",\"type\":\"Plot\"},\"ticker\":{\"id\":\"01653ce0-bd56-4e73-8459-43eb01f9a106\",\"type\":\"BasicTicker\"}},\"id\":\"ba1381eb-9010-467b-9eb7-274897925051\",\"type\":\"LinearAxis\"},{\"attributes\":{\"data_source\":{\"id\":\"6003c26c-888d-4327-951c-c90343aabe08\",\"type\":\"ColumnDataSource\"},\"glyph\":{\"id\":\"59ca50a5-33c3-41e5-9120-b852ab5f1cf0\",\"type\":\"Line\"},\"hover_glyph\":null,\"muted_glyph\":{\"id\":\"731193fa-1eed-4f1f-8447-9f112b8d8398\",\"type\":\"Line\"},\"nonselection_glyph\":{\"id\":\"80ac4796-d8dd-40c2-9d8a-369077bf060d\",\"type\":\"Line\"},\"selection_glyph\":null,\"view\":{\"id\":\"35770bd2-b9fd-471f-b91c-906dd2c40e7f\",\"type\":\"CDSView\"}},\"id\":\"7fd752e9-1d3c-4a3a-bdb8-35955a5783cc\",\"type\":\"GlyphRenderer\"},{\"attributes\":{\"source\":{\"id\":\"7605db37-a47d-44e1-ba61-857a41296d33\",\"type\":\"ColumnDataSource\"}},\"id\":\"ca38a998-3730-4c6c-ba11-bf071a562be9\",\"type\":\"CDSView\"},{\"attributes\":{\"active_drag\":\"auto\",\"active_inspect\":\"auto\",\"active_scroll\":\"auto\",\"active_tap\":\"auto\",\"tools\":[{\"id\":\"f40c6d83-0ec2-4b71-ba4f-afe315cbaca5\",\"type\":\"SaveTool\"},{\"id\":\"7ab250f0-337b-44ef-bff1-77fba6a20cc1\",\"type\":\"PanTool\"},{\"id\":\"f72f4e88-120a-431e-9c31-5db179e06aa3\",\"type\":\"WheelZoomTool\"},{\"id\":\"6fee91bf-8958-4bb5-bd58-958dc0c7fec0\",\"type\":\"BoxZoomTool\"},{\"id\":\"a9f5c32b-a7c5-4554-8601-d8ec3d987a11\",\"type\":\"ResetTool\"}]},\"id\":\"17cddcf5-bdf8-4d74-a218-acefbcf7201b\",\"type\":\"Toolbar\"},{\"attributes\":{\"grid_line_color\":{\"value\":null},\"plot\":{\"id\":\"c5f2471d-e454-418b-bbf0-e68de20be5d0\",\"subtype\":\"Figure\",\"type\":\"Plot\"},\"ticker\":{\"id\":\"4d39e4cf-bbe4-403c-8452-16222d8c1b65\",\"type\":\"CategoricalTicker\"}},\"id\":\"f94b6325-971d-4116-83af-b9253c3b2cb5\",\"type\":\"Grid\"},{\"attributes\":{\"data_source\":{\"id\":\"7605db37-a47d-44e1-ba61-857a41296d33\",\"type\":\"ColumnDataSource\"},\"glyph\":{\"id\":\"0e2f4fc3-3f0a-44c9-9750-dfbaa2dd91bb\",\"type\":\"Line\"},\"hover_glyph\":null,\"muted_glyph\":{\"id\":\"eadcf0e7-25fd-4fa5-a134-522accbfea1d\",\"type\":\"Line\"},\"nonselection_glyph\":{\"id\":\"129df1eb-47d3-44ee-8933-3ffa7578712f\",\"type\":\"Line\"},\"selection_glyph\":null,\"view\":{\"id\":\"ca38a998-3730-4c6c-ba11-bf071a562be9\",\"type\":\"CDSView\"}},\"id\":\"df4f04f3-898b-4883-8012-e37577c584ed\",\"type\":\"GlyphRenderer\"},{\"attributes\":{},\"id\":\"07953ace-92ce-4656-b9ab-e629ecf649c4\",\"type\":\"LinearScale\"},{\"attributes\":{\"label\":{\"value\":\"+ ConceptNet\"},\"renderers\":[{\"id\":\"df4f04f3-898b-4883-8012-e37577c584ed\",\"type\":\"GlyphRenderer\"}]},\"id\":\"924d13d0-0840-4d01-a67f-3f34ecf18f97\",\"type\":\"LegendItem\"},{\"attributes\":{\"axis_label\":\"Pretrained Embedding Reduction/Training Examples\",\"axis_label_text_font_size\":{\"value\":\"20pt\"},\"bounds\":\"auto\",\"formatter\":{\"id\":\"41210add-9b54-4554-a3b4-a2e62012e9a0\",\"type\":\"CategoricalTickFormatter\"},\"major_label_orientation\":\"horizontal\",\"major_label_text_font_size\":{\"value\":\"20pt\"},\"plot\":{\"id\":\"c5f2471d-e454-418b-bbf0-e68de20be5d0\",\"subtype\":\"Figure\",\"type\":\"Plot\"},\"ticker\":{\"id\":\"4d39e4cf-bbe4-403c-8452-16222d8c1b65\",\"type\":\"CategoricalTicker\"}},\"id\":\"6d736610-b6f6-47a7-b419-9af351d05ef2\",\"type\":\"CategoricalAxis\"},{\"attributes\":{},\"id\":\"4d39e4cf-bbe4-403c-8452-16222d8c1b65\",\"type\":\"CategoricalTicker\"},{\"attributes\":{},\"id\":\"01653ce0-bd56-4e73-8459-43eb01f9a106\",\"type\":\"BasicTicker\"},{\"attributes\":{\"callback\":null,\"end\":100,\"start\":40},\"id\":\"ed9e4055-0a0f-4dcc-b12e-6abbb5539780\",\"type\":\"Range1d\"},{\"attributes\":{\"dimension\":1,\"grid_line_color\":{\"value\":null},\"plot\":{\"id\":\"c5f2471d-e454-418b-bbf0-e68de20be5d0\",\"subtype\":\"Figure\",\"type\":\"Plot\"},\"ticker\":{\"id\":\"01653ce0-bd56-4e73-8459-43eb01f9a106\",\"type\":\"BasicTicker\"}},\"id\":\"56a8958b-e2be-4d21-a12e-a184e095dc7a\",\"type\":\"Grid\"},{\"attributes\":{\"label\":{\"value\":\"ESIM\"},\"renderers\":[{\"id\":\"7fd752e9-1d3c-4a3a-bdb8-35955a5783cc\",\"type\":\"GlyphRenderer\"}]},\"id\":\"aafb9bbc-2d24-4016-bfc8-b62f7dc01392\",\"type\":\"LegendItem\"},{\"attributes\":{},\"id\":\"f40c6d83-0ec2-4b71-ba4f-afe315cbaca5\",\"type\":\"SaveTool\"},{\"attributes\":{\"line_alpha\":0.1,\"line_color\":\"#fc4f30\",\"line_width\":2,\"x\":{\"field\":\"Pretrained Embedding Reduction/Training Examples\"},\"y\":{\"field\":\"Accuracy in %\"}},\"id\":\"f57e4c2e-cebb-4fab-a43a-e0e3d1227ae8\",\"type\":\"Line\"},{\"attributes\":{},\"id\":\"7ab250f0-337b-44ef-bff1-77fba6a20cc1\",\"type\":\"PanTool\"},{\"attributes\":{\"click_policy\":\"mute\",\"items\":[{\"id\":\"aafb9bbc-2d24-4016-bfc8-b62f7dc01392\",\"type\":\"LegendItem\"},{\"id\":\"831f24f4-0fbe-46e0-a9e9-f986585e1a16\",\"type\":\"LegendItem\"},{\"id\":\"924d13d0-0840-4d01-a67f-3f34ecf18f97\",\"type\":\"LegendItem\"}],\"label_text_font_size\":{\"value\":\"20pt\"},\"plot\":{\"id\":\"c5f2471d-e454-418b-bbf0-e68de20be5d0\",\"subtype\":\"Figure\",\"type\":\"Plot\"}},\"id\":\"1238cb9c-079f-47ee-b19c-b41136f0b1dc\",\"type\":\"Legend\"},{\"attributes\":{\"source\":{\"id\":\"a410e2bf-641b-4fe1-b640-14b651943c45\",\"type\":\"ColumnDataSource\"}},\"id\":\"fb94f7e2-ac5d-43c2-a87c-8c35b8f78ab8\",\"type\":\"CDSView\"},{\"attributes\":{\"callback\":null,\"column_names\":[\"Pretrained Embedding Reduction/Training Examples\",\"Accuracy in %\"],\"data\":{\"Accuracy in %\":{\"__ndarray__\":\"ZmZmZmbmSUBmZmZmZuZLQM3MzMzMDE5AAAAAAABAUEDNzMzMzKxRQGZmZmZmhlNA\",\"dtype\":\"float64\",\"shape\":[6]},\"Pretrained Embedding Reduction/Training Examples\":[\"1/1k\",\"3/3k\",\"10/10k\",\"30/30k\",\"100/100k\",\"300/Full\"]}},\"id\":\"a410e2bf-641b-4fe1-b640-14b651943c45\",\"type\":\"ColumnDataSource\"},{\"attributes\":{\"line_color\":\"#fc4f30\",\"line_width\":2,\"x\":{\"field\":\"Pretrained Embedding Reduction/Training Examples\"},\"y\":{\"field\":\"Accuracy in %\"}},\"id\":\"7ec633e6-707c-41f8-a0be-837380b3653a\",\"type\":\"Line\"},{\"attributes\":{\"callback\":null,\"factors\":[\"1/1k\",\"3/3k\",\"10/10k\",\"30/30k\",\"100/100k\",\"300/Full\"]},\"id\":\"39cf7cdc-c051-4100-a9db-c871b6893ebe\",\"type\":\"FactorRange\"},{\"attributes\":{\"line_alpha\":0.2,\"line_color\":\"#fc4f30\",\"line_width\":2,\"x\":{\"field\":\"Pretrained Embedding Reduction/Training Examples\"},\"y\":{\"field\":\"Accuracy in %\"}},\"id\":\"07a29683-1ce1-4fd5-92df-f3a7de98c0a0\",\"type\":\"Line\"},{\"attributes\":{\"label\":{\"value\":\"+ Task Input\"},\"renderers\":[{\"id\":\"77cfa834-9d1a-460b-8e0a-ead95bb2d603\",\"type\":\"GlyphRenderer\"}]},\"id\":\"831f24f4-0fbe-46e0-a9e9-f986585e1a16\",\"type\":\"LegendItem\"},{\"attributes\":{\"line_color\":\"#e5ae38\",\"line_width\":2,\"x\":{\"field\":\"Pretrained Embedding Reduction/Training Examples\"},\"y\":{\"field\":\"Accuracy in %\"}},\"id\":\"0e2f4fc3-3f0a-44c9-9750-dfbaa2dd91bb\",\"type\":\"Line\"},{\"attributes\":{\"data_source\":{\"id\":\"a410e2bf-641b-4fe1-b640-14b651943c45\",\"type\":\"ColumnDataSource\"},\"glyph\":{\"id\":\"7ec633e6-707c-41f8-a0be-837380b3653a\",\"type\":\"Line\"},\"hover_glyph\":null,\"muted_glyph\":{\"id\":\"07a29683-1ce1-4fd5-92df-f3a7de98c0a0\",\"type\":\"Line\"},\"nonselection_glyph\":{\"id\":\"f57e4c2e-cebb-4fab-a43a-e0e3d1227ae8\",\"type\":\"Line\"},\"selection_glyph\":null,\"view\":{\"id\":\"fb94f7e2-ac5d-43c2-a87c-8c35b8f78ab8\",\"type\":\"CDSView\"}},\"id\":\"77cfa834-9d1a-460b-8e0a-ead95bb2d603\",\"type\":\"GlyphRenderer\"},{\"attributes\":{\"bottom_units\":\"screen\",\"fill_alpha\":{\"value\":0.5},\"fill_color\":{\"value\":\"lightgrey\"},\"left_units\":\"screen\",\"level\":\"overlay\",\"line_alpha\":{\"value\":1.0},\"line_color\":{\"value\":\"black\"},\"line_dash\":[4,4],\"line_width\":{\"value\":2},\"plot\":null,\"render_mode\":\"css\",\"right_units\":\"screen\",\"top_units\":\"screen\"},\"id\":\"5cc0bde9-a22b-410d-8dcc-b6792bb46265\",\"type\":\"BoxAnnotation\"},{\"attributes\":{\"callback\":null,\"column_names\":[\"Pretrained Embedding Reduction/Training Examples\",\"Accuracy in %\"],\"data\":{\"Accuracy in %\":{\"__ndarray__\":\"MzMzMzMzSkAzMzMzM/NMQDMzMzMzM09AZmZmZmamUEAzMzMzM9NRQDMzMzMzs1NA\",\"dtype\":\"float64\",\"shape\":[6]},\"Pretrained Embedding Reduction/Training Examples\":[\"1/1k\",\"3/3k\",\"10/10k\",\"30/30k\",\"100/100k\",\"300/Full\"]}},\"id\":\"7605db37-a47d-44e1-ba61-857a41296d33\",\"type\":\"ColumnDataSource\"},{\"attributes\":{},\"id\":\"377943b0-88e3-4dda-b4f1-b8a6eb2900d3\",\"type\":\"BasicTickFormatter\"},{\"attributes\":{\"line_alpha\":0.1,\"line_color\":\"#e5ae38\",\"line_width\":2,\"x\":{\"field\":\"Pretrained Embedding Reduction/Training Examples\"},\"y\":{\"field\":\"Accuracy in %\"}},\"id\":\"129df1eb-47d3-44ee-8933-3ffa7578712f\",\"type\":\"Line\"},{\"attributes\":{},\"id\":\"f72f4e88-120a-431e-9c31-5db179e06aa3\",\"type\":\"WheelZoomTool\"},{\"attributes\":{\"line_alpha\":0.2,\"line_color\":\"#30a2da\",\"line_width\":2,\"x\":{\"field\":\"Pretrained Embedding Reduction/Training Examples\"},\"y\":{\"field\":\"Accuracy in %\"}},\"id\":\"731193fa-1eed-4f1f-8447-9f112b8d8398\",\"type\":\"Line\"},{\"attributes\":{\"line_alpha\":0.1,\"line_color\":\"#30a2da\",\"line_width\":2,\"x\":{\"field\":\"Pretrained Embedding Reduction/Training Examples\"},\"y\":{\"field\":\"Accuracy in %\"}},\"id\":\"80ac4796-d8dd-40c2-9d8a-369077bf060d\",\"type\":\"Line\"},{\"attributes\":{\"line_color\":\"#30a2da\",\"line_width\":2,\"x\":{\"field\":\"Pretrained Embedding Reduction/Training Examples\"},\"y\":{\"field\":\"Accuracy in %\"}},\"id\":\"59ca50a5-33c3-41e5-9120-b852ab5f1cf0\",\"type\":\"Line\"},{\"attributes\":{\"overlay\":{\"id\":\"5cc0bde9-a22b-410d-8dcc-b6792bb46265\",\"type\":\"BoxAnnotation\"}},\"id\":\"6fee91bf-8958-4bb5-bd58-958dc0c7fec0\",\"type\":\"BoxZoomTool\"},{\"attributes\":{},\"id\":\"41210add-9b54-4554-a3b4-a2e62012e9a0\",\"type\":\"CategoricalTickFormatter\"},{\"attributes\":{\"line_alpha\":0.2,\"line_color\":\"#e5ae38\",\"line_width\":2,\"x\":{\"field\":\"Pretrained Embedding Reduction/Training Examples\"},\"y\":{\"field\":\"Accuracy in %\"}},\"id\":\"eadcf0e7-25fd-4fa5-a134-522accbfea1d\",\"type\":\"Line\"},{\"attributes\":{\"callback\":null,\"column_names\":[\"Pretrained Embedding Reduction/Training Examples\",\"Accuracy in %\"],\"data\":{\"Accuracy in %\":{\"__ndarray__\":\"ZmZmZmYmRkAAAAAAAEBJQAAAAAAAwEtAMzMzMzPzTkBmZmZmZgZRQJqZmZmZOVNA\",\"dtype\":\"float64\",\"shape\":[6]},\"Pretrained Embedding Reduction/Training Examples\":[\"1/1k\",\"3/3k\",\"10/10k\",\"30/30k\",\"100/100k\",\"300/Full\"]}},\"id\":\"6003c26c-888d-4327-951c-c90343aabe08\",\"type\":\"ColumnDataSource\"},{\"attributes\":{},\"id\":\"a9f5c32b-a7c5-4554-8601-d8ec3d987a11\",\"type\":\"ResetTool\"},{\"attributes\":{\"below\":[{\"id\":\"6d736610-b6f6-47a7-b419-9af351d05ef2\",\"type\":\"CategoricalAxis\"}],\"left\":[{\"id\":\"ba1381eb-9010-467b-9eb7-274897925051\",\"type\":\"LinearAxis\"}],\"min_border_bottom\":10,\"min_border_left\":10,\"min_border_right\":10,\"min_border_top\":10,\"plot_width\":1000,\"renderers\":[{\"id\":\"6d736610-b6f6-47a7-b419-9af351d05ef2\",\"type\":\"CategoricalAxis\"},{\"id\":\"f94b6325-971d-4116-83af-b9253c3b2cb5\",\"type\":\"Grid\"},{\"id\":\"ba1381eb-9010-467b-9eb7-274897925051\",\"type\":\"LinearAxis\"},{\"id\":\"56a8958b-e2be-4d21-a12e-a184e095dc7a\",\"type\":\"Grid\"},{\"id\":\"5cc0bde9-a22b-410d-8dcc-b6792bb46265\",\"type\":\"BoxAnnotation\"},{\"id\":\"1238cb9c-079f-47ee-b19c-b41136f0b1dc\",\"type\":\"Legend\"},{\"id\":\"7fd752e9-1d3c-4a3a-bdb8-35955a5783cc\",\"type\":\"GlyphRenderer\"},{\"id\":\"77cfa834-9d1a-460b-8e0a-ead95bb2d603\",\"type\":\"GlyphRenderer\"},{\"id\":\"df4f04f3-898b-4883-8012-e37577c584ed\",\"type\":\"GlyphRenderer\"}],\"title\":{\"id\":\"c057b1ac-71b5-481d-8d52-869e1291e3f6\",\"type\":\"Title\"},\"toolbar\":{\"id\":\"17cddcf5-bdf8-4d74-a218-acefbcf7201b\",\"type\":\"Toolbar\"},\"toolbar_location\":\"above\",\"x_range\":{\"id\":\"39cf7cdc-c051-4100-a9db-c871b6893ebe\",\"type\":\"FactorRange\"},\"x_scale\":{\"id\":\"02afadb8-8792-409a-a654-8adcf5ac7c5a\",\"type\":\"CategoricalScale\"},\"y_range\":{\"id\":\"ed9e4055-0a0f-4dcc-b12e-6abbb5539780\",\"type\":\"Range1d\"},\"y_scale\":{\"id\":\"07953ace-92ce-4656-b9ab-e629ecf649c4\",\"type\":\"LinearScale\"}},\"id\":\"c5f2471d-e454-418b-bbf0-e68de20be5d0\",\"subtype\":\"Figure\",\"type\":\"Plot\"},{\"attributes\":{\"source\":{\"id\":\"6003c26c-888d-4327-951c-c90343aabe08\",\"type\":\"ColumnDataSource\"}},\"id\":\"35770bd2-b9fd-471f-b91c-906dd2c40e7f\",\"type\":\"CDSView\"}],\"root_ids\":[\"c5f2471d-e454-418b-bbf0-e68de20be5d0\"]},\"title\":\"Bokeh Application\",\"version\":\"0.12.14\"}};\n",
       "  var render_items = [{\"docid\":\"c71102af-c910-4e0a-9106-419846d3f863\",\"elementid\":\"59cbb271-e204-42b6-9552-f3b4bfe82846\",\"modelid\":\"c5f2471d-e454-418b-bbf0-e68de20be5d0\"}];\n",
       "  root.Bokeh.embed.embed_items_notebook(docs_json, render_items);\n",
       "\n",
       "  }\n",
       "  if (root.Bokeh !== undefined) {\n",
       "    embed_document(root);\n",
       "  } else {\n",
       "    var attempts = 0;\n",
       "    var timer = setInterval(function(root) {\n",
       "      if (root.Bokeh !== undefined) {\n",
       "        embed_document(root);\n",
       "        clearInterval(timer);\n",
       "      }\n",
       "      attempts++;\n",
       "      if (attempts > 100) {\n",
       "        console.log(\"Bokeh: ERROR: Unable to run BokehJS code because BokehJS library is missing\")\n",
       "        clearInterval(timer);\n",
       "      }\n",
       "    }, 10, root)\n",
       "  }\n",
       "})(window);\n",
       "</script>\n",
       "</div>"
      ],
      "text/plain": [
       ":Overlay\n",
       "   .Curve.ESIM            :Curve   [Pretrained Embedding Reduction/Training Examples]   (Accuracy in %)\n",
       "   .Curve.Plus_Task_Input :Curve   [Pretrained Embedding Reduction/Training Examples]   (Accuracy in %)\n",
       "   .Curve.Plus_ConceptNet :Curve   [Pretrained Embedding Reduction/Training Examples]   (Accuracy in %)"
      ]
     },
     "execution_count": 160,
     "metadata": {},
     "output_type": "execute_result"
    }
   ],
   "source": [
    "%%opts Curve [height=600 fontsize={'ticks': 20, 'ylabel': 20, 'xlabel': 20, 'legend': 20} width=1000 toolbar='above' show_title=False]\n",
    "\n",
    "c1 = hv.Curve((labels, baseline),\n",
    "              hv.Dimension(\"Pretrained Embedding Reduction/Training Examples\"),\n",
    "              hv.Dimension(\"Accuracy in %\", range=(40, 100)), label=\"ESIM\")\n",
    "c2 = hv.Curve((labels, task),\n",
    "              hv.Dimension(\"Pretrained Embedding Reduction/Training Examples\"),\n",
    "              hv.Dimension(\"Accuracy in %\", range=(40, 100)), label=\"+ Task Input\")\n",
    "\n",
    "c3 = hv.Curve((labels, knowledge),\n",
    "              hv.Dimension(\"Pretrained Embedding Reduction/Training Examples\"),\n",
    "              hv.Dimension(\"Accuracy in %\", range=(40, 100)), label=\"+ ConceptNet\")\n",
    "\n",
    "c1 * c2 * c3"
   ]
  },
  {
   "cell_type": "code",
   "execution_count": 158,
   "metadata": {},
   "outputs": [
    {
     "name": "stdout",
     "output_type": "stream",
     "text": [
      "Curve\n",
      "\n",
      "Online example: http://holoviews.org/reference/elements/bokeh/Curve.html\n",
      "\n",
      "\u001b[1;35m-------------\n",
      "Style Options\n",
      "-------------\u001b[0m\n",
      "\n",
      "\talpha, color, hover_alpha, hover_color, hover_line_alpha, hover_line_color, line_alpha, line_cap, line_color, line_dash, line_join, line_width, muted_alpha, muted_color, muted_line_alpha, muted_line_color, nonselection_alpha, nonselection_color, nonselection_line_alpha, nonselection_line_color, selection_alpha, selection_color, selection_line_alpha, selection_line_color\n",
      "\n",
      "(Consult bokeh's documentation for more information.)\n",
      "\n",
      "\u001b[1;35m------------\n",
      "Plot Options\n",
      "------------\u001b[0m\n",
      "\n",
      "The plot options are the parameters of the plotting class:\n",
      "\n",
      "\u001b[1;32mParameters of 'CurvePlot'\n",
      "=========================\n",
      "\u001b[0m\n",
      "\u001b[1;31mParameters changed from their default values are marked in red.\u001b[0m\n",
      "\u001b[1;36mSoft bound values are marked in cyan.\u001b[0m\n",
      "C/V= Constant/Variable, RO/RW = ReadOnly/ReadWrite, AN=Allow None\n",
      "\n",
      "\u001b[1;34mName                                 Value                         Type         Bounds     Mode  \u001b[0m\n",
      "\n",
      "apply_extents                         True                       Boolean        (0, 1)     V RW  \n",
      "apply_ranges                          True                       Boolean        (0, 1)     V RW  \n",
      "bgcolor                               None                      Parameter                V RW AN \n",
      "border                                 10                         Number                   V RW  \n",
      "default_tools       ['save', 'pan', 'wheel_zoom', 'box_zo...       List       (0, None)    V RW  \n",
      "finalize_hooks                         []                        HookList     (0, None)    V RW  \n",
      "fontsize                       {'title': '12pt'}                Parameter                V RW AN \n",
      "height                                300                        Integer                   V RW  \n",
      "interpolation                       'linear'                  ObjectSelector               V RW  \n",
      "invert_axes                          False                       Boolean        (0, 1)     V RW  \n",
      "invert_xaxis                         False                       Boolean        (0, 1)     V RW  \n",
      "invert_yaxis                         False                       Boolean        (0, 1)     V RW  \n",
      "labelled                           ['x', 'y']                      List       (0, None)    V RW  \n",
      "lod                 {'factor': 10, 'interval': 300, 'thre...       Dict                    V RW  \n",
      "logx                                 False                       Boolean        (0, 1)     V RW  \n",
      "logy                                 False                       Boolean        (0, 1)     V RW  \n",
      "normalize                             True                       Boolean        (0, 1)     V RW  \n",
      "projection                            None                      Parameter                V RW AN \n",
      "shared_axes                           True                       Boolean        (0, 1)     V RW  \n",
      "shared_datasource                     True                       Boolean        (0, 1)     V RW  \n",
      "show_frame                            True                       Boolean        (0, 1)     V RW  \n",
      "show_grid                            False                       Boolean        (0, 1)     V RW  \n",
      "show_legend                           True                       Boolean        (0, 1)     V RW  \n",
      "show_title                            True                       Boolean        (0, 1)     V RW  \n",
      "sizing_mode                         'fixed'                   ObjectSelector               V RW  \n",
      "title_format             '{label} {group} {dimensions}'           String                   V RW  \n",
      "toolbar                             'right'                   ObjectSelector               V RW  \n",
      "tools                                  []                          List       (0, None)    V RW  \n",
      "width                                 300                        Integer                   V RW  \n",
      "xaxis                               'bottom'                  ObjectSelector               V RW  \n",
      "xrotation                             None                       Integer       (0, 360)  V RW AN \n",
      "xticks                                None                      Parameter                V RW AN \n",
      "yaxis                                'left'                   ObjectSelector               V RW  \n",
      "yrotation                             None                       Integer       (0, 360)  V RW AN \n",
      "yticks                                None                      Parameter                V RW AN \n",
      "\n",
      "\u001b[1;32mParameter docstrings:\n",
      "=====================\u001b[0m\n",
      "\n",
      "\u001b[1;34mapply_extents:     Whether to apply extent overrides on the Elements\u001b[0m\n",
      "\u001b[1;31mapply_ranges:      Whether to compute the plot bounds from the data itself.\u001b[0m\n",
      "\u001b[1;34mbgcolor:           Background color of the plot.\u001b[0m\n",
      "\u001b[1;31mborder:            Minimum border around plot.\u001b[0m\n",
      "\u001b[1;34mdefault_tools:     A list of plugin tools to use on the plot.\u001b[0m\n",
      "\u001b[1;31mfinalize_hooks:    Optional list of hooks called when finalizing an axis.\u001b[0m\n",
      "\u001b[1;31m                   The hook is passed the plot object and the displayed\u001b[0m\n",
      "\u001b[1;31m                   object, other plotting handles can be accessed via plot.handles.\u001b[0m\n",
      "\u001b[1;34mfontsize:          Specifies various fontsizes of the displayed text.\u001b[0m\n",
      "\u001b[1;34m                   \u001b[0m\n",
      "\u001b[1;34m                   Finer control is available by supplying a dictionary where any\u001b[0m\n",
      "\u001b[1;34m                   unmentioned keys reverts to the default sizes, e.g:\u001b[0m\n",
      "\u001b[1;34m                   \u001b[0m\n",
      "\u001b[1;34m                      {'ticks': '20pt', 'title': '15pt', 'ylabel': '5px', 'xlabel': '5px'}\u001b[0m\n",
      "\u001b[1;31mheight:            Height of the plot in pixels\u001b[0m\n",
      "\u001b[1;34minterpolation:     Defines how the samples of the Curve are interpolated,\u001b[0m\n",
      "\u001b[1;34m                   default is 'linear', other options include 'steps-mid',\u001b[0m\n",
      "\u001b[1;34m                   'steps-pre' and 'steps-post'.\u001b[0m\n",
      "\u001b[1;31minvert_axes:       Whether to invert the x- and y-axis\u001b[0m\n",
      "\u001b[1;34minvert_xaxis:      Whether to invert the plot x-axis.\u001b[0m\n",
      "\u001b[1;31minvert_yaxis:      Whether to invert the plot y-axis.\u001b[0m\n",
      "\u001b[1;34mlabelled:          Whether to plot the 'x' and 'y' labels.\u001b[0m\n",
      "\u001b[1;31mlod:               Bokeh plots offer \"Level of Detail\" (LOD) capability to\u001b[0m\n",
      "\u001b[1;31m                   accommodate large (but not huge) amounts of data. The available\u001b[0m\n",
      "\u001b[1;31m                   options are:\u001b[0m\n",
      "\u001b[1;31m                   \u001b[0m\n",
      "\u001b[1;31m                     * factor    - Decimation factor to use when applying\u001b[0m\n",
      "\u001b[1;31m                                   decimation.\u001b[0m\n",
      "\u001b[1;31m                     * interval  - Interval (in ms) downsampling will be enabled\u001b[0m\n",
      "\u001b[1;31m                                   after an interactive event.\u001b[0m\n",
      "\u001b[1;31m                     * threshold - Number of samples before downsampling is enabled.\u001b[0m\n",
      "\u001b[1;31m                     * timeout   - Timeout (in ms) for checking whether interactive\u001b[0m\n",
      "\u001b[1;31m                                   tool events are still occurring.\u001b[0m\n",
      "\u001b[1;34mlogx:              Whether the x-axis of the plot will be a log axis.\u001b[0m\n",
      "\u001b[1;31mlogy:              Whether the y-axis of the plot will be a log axis.\u001b[0m\n",
      "\u001b[1;34mnormalize:         Whether to compute ranges across all Elements at this level\u001b[0m\n",
      "\u001b[1;34m                   of plotting. Allows selecting normalization at different levels\u001b[0m\n",
      "\u001b[1;34m                   for nested data containers.\u001b[0m\n",
      "\u001b[1;31mprojection:        Allows supplying a custom projection to transform the axis\u001b[0m\n",
      "\u001b[1;31m                   coordinates during display. Example projections include '3d'\u001b[0m\n",
      "\u001b[1;31m                   and 'polar' projections supported by some backends. Depending\u001b[0m\n",
      "\u001b[1;31m                   on the backend custom projection objects may be supplied.\u001b[0m\n",
      "\u001b[1;34mshared_axes:       Whether to invert the share axes across plots\u001b[0m\n",
      "\u001b[1;34m                   for linked panning and zooming.\u001b[0m\n",
      "\u001b[1;31mshared_datasource: Whether Elements drawing the data from the same object should\u001b[0m\n",
      "\u001b[1;31m                   share their Bokeh data source allowing for linked brushing\u001b[0m\n",
      "\u001b[1;31m                   and other linked behaviors.\u001b[0m\n",
      "\u001b[1;34mshow_frame:        Whether or not to show a complete frame around the plot.\u001b[0m\n",
      "\u001b[1;31mshow_grid:         Whether to show a Cartesian grid on the plot.\u001b[0m\n",
      "\u001b[1;34mshow_legend:       Whether to show legend for the plot.\u001b[0m\n",
      "\u001b[1;31mshow_title:        Whether to display the plot title.\u001b[0m\n",
      "\u001b[1;34msizing_mode:       How the item being displayed should size itself.\u001b[0m\n",
      "\u001b[1;34m                   \u001b[0m\n",
      "\u001b[1;34m                   \"stretch_both\" plots will resize to occupy all available\u001b[0m\n",
      "\u001b[1;34m                   space, even if this changes the aspect ratio of the element.\u001b[0m\n",
      "\u001b[1;34m                   \u001b[0m\n",
      "\u001b[1;34m                   \"fixed\" plots are not responsive and will retain their\u001b[0m\n",
      "\u001b[1;34m                   original width and height regardless of any subsequent browser\u001b[0m\n",
      "\u001b[1;34m                   window resize events.\u001b[0m\n",
      "\u001b[1;34m                   \u001b[0m\n",
      "\u001b[1;34m                   \"scale_width\" elements will responsively resize to fit to the\u001b[0m\n",
      "\u001b[1;34m                   width available, while maintaining the original aspect ratio.\u001b[0m\n",
      "\u001b[1;34m                   \u001b[0m\n",
      "\u001b[1;34m                   \"scale_height\" elements will responsively resize to fit to the\u001b[0m\n",
      "\u001b[1;34m                   height available, while maintaining the original aspect ratio.\u001b[0m\n",
      "\u001b[1;34m                   \u001b[0m\n",
      "\u001b[1;34m                   \"scale_both\" elements will responsively resize to for both the\u001b[0m\n",
      "\u001b[1;34m                   width and height available, while maintaining the original\u001b[0m\n",
      "\u001b[1;34m                   aspect ratio.\u001b[0m\n",
      "\u001b[1;31mtitle_format:      The formatting string for the title of this plot, allows defining\u001b[0m\n",
      "\u001b[1;31m                   a label group separator and dimension labels.\u001b[0m\n",
      "\u001b[1;34mtoolbar:           The toolbar location, must be one of 'above', 'below',\u001b[0m\n",
      "\u001b[1;34m                   'left', 'right', None.\u001b[0m\n",
      "\u001b[1;31mtools:             A list of plugin tools to use on the plot.\u001b[0m\n",
      "\u001b[1;34mwidth:             Width of the plot in pixels\u001b[0m\n",
      "\u001b[1;31mxaxis:             Whether and where to display the xaxis, bare options allow suppressing\u001b[0m\n",
      "\u001b[1;31m                   all axis labels including ticks and xlabel. Valid options are 'top',\u001b[0m\n",
      "\u001b[1;31m                   'bottom', 'bare', 'top-bare' and 'bottom-bare'.\u001b[0m\n",
      "\u001b[1;34mxrotation:         Rotation angle of the xticks.\u001b[0m\n",
      "\u001b[1;31mxticks:            Ticks along x-axis specified as an integer, explicit list of\u001b[0m\n",
      "\u001b[1;31m                   tick locations or bokeh Ticker object. If set to None default\u001b[0m\n",
      "\u001b[1;31m                   bokeh ticking behavior is applied.\u001b[0m\n",
      "\u001b[1;34myaxis:             Whether and where to display the yaxis, bare options allow suppressing\u001b[0m\n",
      "\u001b[1;34m                   all axis labels including ticks and ylabel. Valid options are 'left',\u001b[0m\n",
      "\u001b[1;34m                   'right', 'bare' 'left-bare' and 'right-bare'.\u001b[0m\n",
      "\u001b[1;31myrotation:         Rotation angle of the yticks.\u001b[0m\n",
      "\u001b[1;34myticks:            Ticks along y-axis specified as an integer, explicit list of\u001b[0m\n",
      "\u001b[1;34m                   tick locations or bokeh Ticker object. If set to None\u001b[0m\n",
      "\u001b[1;34m                   default bokeh ticking behavior is applied.\u001b[0m\n"
     ]
    }
   ],
   "source": [
    "hv.help(hv.Curve)"
   ]
  }
 ],
 "metadata": {
  "kernelspec": {
   "display_name": "Python 3",
   "language": "python",
   "name": "python3"
  },
  "language_info": {
   "codemirror_mode": {
    "name": "ipython",
    "version": 3
   },
   "file_extension": ".py",
   "mimetype": "text/x-python",
   "name": "python",
   "nbconvert_exporter": "python",
   "pygments_lexer": "ipython3",
   "version": "3.6.2"
  }
 },
 "nbformat": 4,
 "nbformat_minor": 2
}
